{
  "nbformat": 4,
  "nbformat_minor": 0,
  "metadata": {
    "accelerator": "GPU",
    "colab": {
      "name": "Colab-Train.ipynb",
      "provenance": [],
      "toc_visible": true,
      "include_colab_link": true
    },
    "kernelspec": {
      "display_name": "Python 3",
      "language": "python",
      "name": "python3"
    },
    "language_info": {
      "codemirror_mode": {
        "name": "ipython",
        "version": 3
      },
      "file_extension": ".py",
      "mimetype": "text/x-python",
      "name": "python",
      "nbconvert_exporter": "python",
      "pygments_lexer": "ipython3",
      "version": "3.6.6"
    }
  },
  "cells": [
    {
      "cell_type": "markdown",
      "metadata": {
        "id": "view-in-github",
        "colab_type": "text"
      },
      "source": [
        "<a href=\"https://colab.research.google.com/github/koukyo1994/kaggle-bengali-ai/blob/master/notebook/Colab-Train.ipynb\" target=\"_parent\"><img src=\"https://colab.research.google.com/assets/colab-badge.svg\" alt=\"Open In Colab\"/></a>"
      ]
    },
    {
      "cell_type": "markdown",
      "metadata": {
        "colab_type": "text",
        "id": "33NabMBXKwoL"
      },
      "source": [
        "## Dependencies"
      ]
    },
    {
      "cell_type": "code",
      "metadata": {
        "colab_type": "code",
        "id": "LmEhILX5KwoO",
        "colab": {}
      },
      "source": [
        "%%sh\n",
        "pip install albumentations==0.4.3 catalyst==20.1.1 easydict==1.9.0 >> /dev/null\n",
        "pip install efficientnet-pytorch==0.6.1 PyYAML==5.3 >> /dev/null\n",
        "pip install pretrainedmodels==0.7.4 >> /dev/null"
      ],
      "execution_count": 0,
      "outputs": []
    },
    {
      "cell_type": "markdown",
      "metadata": {
        "colab_type": "text",
        "id": "-V8VzSgVKwoT"
      },
      "source": [
        "## Integration with Google Drive"
      ]
    },
    {
      "cell_type": "code",
      "metadata": {
        "colab_type": "code",
        "id": "h-lXTjFHKwoU",
        "outputId": "8aacb729-22f4-43cd-f551-343a90f0c61e",
        "colab": {
          "base_uri": "https://localhost:8080/",
          "height": 122
        }
      },
      "source": [
        "from google.colab import drive\n",
        "drive.mount(\"/content/gdrive\")"
      ],
      "execution_count": 2,
      "outputs": [
        {
          "output_type": "stream",
          "text": [
            "Go to this URL in a browser: https://accounts.google.com/o/oauth2/auth?client_id=947318989803-6bn6qk8qdgf4n4g3pfee6491hc0brc4i.apps.googleusercontent.com&redirect_uri=urn%3aietf%3awg%3aoauth%3a2.0%3aoob&response_type=code&scope=email%20https%3a%2f%2fwww.googleapis.com%2fauth%2fdocs.test%20https%3a%2f%2fwww.googleapis.com%2fauth%2fdrive%20https%3a%2f%2fwww.googleapis.com%2fauth%2fdrive.photos.readonly%20https%3a%2f%2fwww.googleapis.com%2fauth%2fpeopleapi.readonly\n",
            "\n",
            "Enter your authorization code:\n",
            "··········\n",
            "Mounted at /content/gdrive\n"
          ],
          "name": "stdout"
        }
      ]
    },
    {
      "cell_type": "code",
      "metadata": {
        "colab_type": "code",
        "id": "zfI_vnU9KwoX",
        "colab": {}
      },
      "source": [
        "%%sh\n",
        "mkdir input\n",
        "cp -r /content/gdrive/My\\ Drive/kaggle-bengali ./input/bengaliai-cv19\n",
        "unzip -qq -d input/bengaliai-cv19/ input/bengaliai-cv19/train_images.zip\n",
        "unzip -qq -d input/bengaliai-cv19/ input/bengaliai-cv19/test_images.zip"
      ],
      "execution_count": 0,
      "outputs": []
    },
    {
      "cell_type": "markdown",
      "metadata": {
        "colab_type": "text",
        "id": "oHYxI6rdKwoa"
      },
      "source": [
        "## Libraries"
      ]
    },
    {
      "cell_type": "code",
      "metadata": {
        "colab_type": "code",
        "id": "1JJVr1fZKwob",
        "outputId": "106656dd-6fcf-49f0-f820-5253a10f302b",
        "colab": {
          "base_uri": "https://localhost:8080/",
          "height": 34
        }
      },
      "source": [
        "import albumentations as A\n",
        "import catalyst as ct\n",
        "import cv2\n",
        "import numpy as np\n",
        "import pandas as pd\n",
        "import pretrainedmodels\n",
        "import torch\n",
        "import torch.nn as nn\n",
        "import torch.utils.data as torchdata\n",
        "import yaml\n",
        "\n",
        "from pathlib import Path\n",
        "from typing import Tuple, Dict, Union, Optional, List\n",
        "\n",
        "from catalyst.dl import SupervisedRunner\n",
        "from catalyst.dl.core import Callback, CallbackOrder, RunnerState\n",
        "from easydict import EasyDict as edict\n",
        "from efficientnet_pytorch import EfficientNet\n",
        "from skimage.transform import AffineTransform, warp\n",
        "from sklearn.metrics import recall_score\n",
        "from sklearn.model_selection import KFold, train_test_split\n",
        "from torch.optim import Adam, SGD\n",
        "from torch.optim.lr_scheduler import (ReduceLROnPlateau, \n",
        "                                      CosineAnnealingLR,\n",
        "                                      CosineAnnealingWarmRestarts)\n"
      ],
      "execution_count": 4,
      "outputs": [
        {
          "output_type": "stream",
          "text": [
            "alchemy not available, to install alchemy, run `pip install alchemy-catalyst`.\n"
          ],
          "name": "stderr"
        }
      ]
    },
    {
      "cell_type": "markdown",
      "metadata": {
        "colab_type": "text",
        "id": "oB0aMP-X4qGe"
      },
      "source": [
        "## Settings"
      ]
    },
    {
      "cell_type": "code",
      "metadata": {
        "colab_type": "code",
        "id": "6HNqP0T_4pyV",
        "colab": {}
      },
      "source": [
        "i = 0\n",
        "trial = \"cross_entropy\""
      ],
      "execution_count": 0,
      "outputs": []
    },
    {
      "cell_type": "markdown",
      "metadata": {
        "colab_type": "text",
        "id": "USmf2YqUKwoe"
      },
      "source": [
        "## Config"
      ]
    },
    {
      "cell_type": "code",
      "metadata": {
        "colab_type": "code",
        "id": "mzqNckioKwof",
        "colab": {}
      },
      "source": [
        "conf_string = '''\n",
        "dataset:\n",
        "  train:\n",
        "    affine: True\n",
        "    morphology: True\n",
        "  val:\n",
        "    affine: False\n",
        "    morphology: False\n",
        "  test:\n",
        "    affine: False\n",
        "    morphology: False\n",
        "\n",
        "data:\n",
        "  train_df_path: input/bengaliai-cv19/train.csv\n",
        "  train_images_path: input/bengaliai-cv19/train_images\n",
        "  test_images_path: input/bengaliai-cv19/test_images\n",
        "  sample_submission_path: input/bengaliai-cv19/sample_submission.csv\n",
        "\n",
        "model:\n",
        "  model_name: se_resnext50_32x4d\n",
        "  pretrained: imagenet\n",
        "  num_classes: 186\n",
        "\n",
        "train:\n",
        "  batch_size: 32\n",
        "  num_epochs: 50\n",
        "\n",
        "test:\n",
        "  batch_size: 32\n",
        "\n",
        "loss:\n",
        "  name: cross_entropy\n",
        "  params:\n",
        "    n_grapheme: 168\n",
        "    n_vowel: 11\n",
        "    n_consonant: 7\n",
        "\n",
        "optimizer:\n",
        "  name: Adam\n",
        "  params:\n",
        "    lr: 0.001\n",
        "\n",
        "scheduler:\n",
        "  name: plateau\n",
        "\n",
        "transforms:\n",
        "  Noise: True\n",
        "  Contrast: True\n",
        "  Cutout:\n",
        "    num_holes: 0\n",
        "\n",
        "val:\n",
        "  name: kfold\n",
        "  params:\n",
        "    random_state: 42\n",
        "    n_splits: 5\n",
        "\n",
        "log_dir: log/\n",
        "num_workers: 2\n",
        "seed: 1213\n",
        "img_size: 64\n",
        "checkpoints: /content/gdrive/My Drive/kaggle-bengali/checkpoints/\n",
        "'''"
      ],
      "execution_count": 0,
      "outputs": []
    },
    {
      "cell_type": "code",
      "metadata": {
        "colab_type": "code",
        "id": "PB2wzOKGKwoj",
        "colab": {}
      },
      "source": [
        "def _get_default():\n",
        "    cfg = edict()\n",
        "\n",
        "    # dataset\n",
        "    cfg.dataset = edict()\n",
        "    cfg.dataset.train = edict()\n",
        "    cfg.dataset.val = edict()\n",
        "    cfg.dataset.test = edict()\n",
        "    cfg.dataset.train.affine = False\n",
        "    cfg.dataset.train.morphology = False\n",
        "    cfg.dataset.val.affine = False\n",
        "    cfg.dataset.val.morphology = False\n",
        "    cfg.dataset.test.affine = False\n",
        "    cfg.dataset.test.morphology = False\n",
        "\n",
        "    # dataset\n",
        "    cfg.data = edict()\n",
        "\n",
        "    # model\n",
        "    cfg.model = edict()\n",
        "\n",
        "    # train\n",
        "    cfg.train = edict()\n",
        "\n",
        "    # test\n",
        "    cfg.test = edict()\n",
        "\n",
        "    # loss\n",
        "    cfg.loss = edict()\n",
        "    cfg.loss.params = edict()\n",
        "\n",
        "    # optimizer\n",
        "    cfg.optimizer = edict()\n",
        "    cfg.optimizer.params = edict()\n",
        "\n",
        "    # scheduler\n",
        "    cfg.scheduler = edict()\n",
        "    cfg.scheduler.params = edict()\n",
        "\n",
        "    # transforms:\n",
        "    cfg.transforms = edict()\n",
        "    cfg.transforms.HorizontalFlip = False\n",
        "    cfg.transforms.VerticalFlip = False\n",
        "    cfg.transforms.Noise = False\n",
        "    cfg.transforms.Contrast = False\n",
        "    cfg.transforms.Cutout = edict()\n",
        "    cfg.transforms.Cutout.num_holes = 0\n",
        "    cfg.transforms.mean = [0.485, 0.456, 0.406]\n",
        "    cfg.transforms.std = [0.229, 0.224, 0.225]\n",
        "\n",
        "    # val\n",
        "    cfg.val = edict()\n",
        "    cfg.val.params = edict()\n",
        "\n",
        "    return cfg\n",
        "\n",
        "\n",
        "def _merge_config(src: edict, dst: edict):\n",
        "    if not isinstance(src, edict):\n",
        "        return\n",
        "    for k, v in src.items():\n",
        "        if isinstance(v, edict):\n",
        "            _merge_config(src[k], dst[k])\n",
        "        else:\n",
        "            dst[k] = v"
      ],
      "execution_count": 0,
      "outputs": []
    },
    {
      "cell_type": "code",
      "metadata": {
        "colab_type": "code",
        "id": "-eXzDYNKKwol",
        "colab": {}
      },
      "source": [
        "cfg = edict(yaml.load(conf_string, Loader=yaml.SafeLoader))\n",
        "config = _get_default()\n",
        "_merge_config(cfg, config)"
      ],
      "execution_count": 0,
      "outputs": []
    },
    {
      "cell_type": "markdown",
      "metadata": {
        "colab_type": "text",
        "id": "BDwtD7_qKwoo"
      },
      "source": [
        "## Environmental settings"
      ]
    },
    {
      "cell_type": "code",
      "metadata": {
        "colab_type": "code",
        "id": "MvltP9XNKwor",
        "outputId": "ff0c9e5d-29aa-41f4-8b07-46467951320d",
        "colab": {
          "base_uri": "https://localhost:8080/",
          "height": 63
        }
      },
      "source": [
        "ct.utils.set_global_seed(config.seed)\n",
        "ct.utils.prepare_cudnn(deterministic=True)"
      ],
      "execution_count": 10,
      "outputs": [
        {
          "output_type": "display_data",
          "data": {
            "text/html": [
              "<p style=\"color: red;\">\n",
              "The default version of TensorFlow in Colab will soon switch to TensorFlow 2.x.<br>\n",
              "We recommend you <a href=\"https://www.tensorflow.org/guide/migrate\" target=\"_blank\">upgrade</a> now \n",
              "or ensure your notebook will continue to use TensorFlow 1.x via the <code>%tensorflow_version 1.x</code> magic:\n",
              "<a href=\"https://colab.research.google.com/notebooks/tensorflow_version.ipynb\" target=\"_blank\">more info</a>.</p>\n"
            ],
            "text/plain": [
              "<IPython.core.display.HTML object>"
            ]
          },
          "metadata": {
            "tags": []
          }
        }
      ]
    },
    {
      "cell_type": "code",
      "metadata": {
        "colab_type": "code",
        "id": "NE-bSL4wKwou",
        "colab": {}
      },
      "source": [
        "output_base_dir = Path(\"output\")\n",
        "output_base_dir.mkdir(exist_ok=True, parents=True)\n",
        "\n",
        "train_images_path = Path(config.data.train_images_path)"
      ],
      "execution_count": 0,
      "outputs": []
    },
    {
      "cell_type": "markdown",
      "metadata": {
        "colab_type": "text",
        "id": "Izzn1pfQKwox"
      },
      "source": [
        "## Data and utilities preparation"
      ]
    },
    {
      "cell_type": "markdown",
      "metadata": {
        "colab_type": "text",
        "id": "s2g3_Wh2Kwoy"
      },
      "source": [
        "### validation utils"
      ]
    },
    {
      "cell_type": "code",
      "metadata": {
        "colab_type": "code",
        "id": "4p56BR9OKwoz",
        "colab": {}
      },
      "source": [
        "def no_fold(df: pd.DataFrame,\n",
        "            config: edict) -> List[Tuple[np.ndarray, np.ndarray]]:\n",
        "    params = config.val.params\n",
        "    idx = np.arange(len(df))\n",
        "    trn_idx, val_idx = train_test_split(idx, **params)\n",
        "    return [(trn_idx, val_idx)]\n",
        "\n",
        "\n",
        "def kfold(df: pd.DataFrame,\n",
        "          config: edict) -> List[Tuple[np.ndarray, np.ndarray]]:\n",
        "    params = config.val.params\n",
        "    kf = KFold(shuffle=True, **params)\n",
        "    splits = list(kf.split(df))\n",
        "    return splits\n",
        "\n",
        "\n",
        "def get_validation(df: pd.DataFrame,\n",
        "                   config: edict) -> List[Tuple[np.ndarray, np.ndarray]]:\n",
        "    name: str = config.val.name\n",
        "\n",
        "    func = globals().get(name)\n",
        "    if func is None:\n",
        "        raise NotImplementedError\n",
        "\n",
        "    return func(df, config)"
      ],
      "execution_count": 0,
      "outputs": []
    },
    {
      "cell_type": "markdown",
      "metadata": {
        "colab_type": "text",
        "id": "Df7OiqfkKwo1"
      },
      "source": [
        "### transforms"
      ]
    },
    {
      "cell_type": "code",
      "metadata": {
        "colab_type": "code",
        "id": "qer87L9pKwo2",
        "colab": {}
      },
      "source": [
        "def get_transforms(config: edict):\n",
        "    list_transforms = []\n",
        "    if config.transforms.HorizontalFlip:\n",
        "        list_transforms.append(A.HorizontalFrip())\n",
        "    if config.transforms.VerticalFlip:\n",
        "        list_transforms.append(A.VerticalFlip())\n",
        "    if config.transforms.Noise:\n",
        "        list_transforms.append(\n",
        "            A.OneOf(\n",
        "                [A.GaussNoise(), A.IAAAdditiveGaussianNoise()], p=0.5))\n",
        "    if config.transforms.Contrast:\n",
        "        list_transforms.append(\n",
        "            A.OneOf(\n",
        "                [A.RandomContrast(0.5),\n",
        "                 A.RandomGamma(),\n",
        "                 A.RandomBrightness()],\n",
        "                p=0.5))\n",
        "    if config.transforms.Cutout.num_holes > 0:\n",
        "        list_transforms.append(A.Cutout(**config.Cutout))\n",
        "\n",
        "    list_transforms.append(\n",
        "        A.Normalize(\n",
        "            mean=config.transforms.mean, std=config.transforms.std, p=1))\n",
        "\n",
        "    return A.Compose(list_transforms, p=1.0)"
      ],
      "execution_count": 0,
      "outputs": []
    },
    {
      "cell_type": "markdown",
      "metadata": {
        "colab_type": "text",
        "id": "muCpRi55Kwo4"
      },
      "source": [
        "### Data Loading"
      ]
    },
    {
      "cell_type": "code",
      "metadata": {
        "colab_type": "code",
        "id": "zEdk1aCZKwo5",
        "colab": {}
      },
      "source": [
        "df = pd.read_csv(config.data.train_df_path)\n",
        "splits = get_validation(df, config)\n",
        "transforms = get_transforms(config)\n",
        "\n",
        "cls_levels = {\n",
        "    \"grapheme\": df.grapheme_root.nunique(),\n",
        "    \"vowel\": df.vowel_diacritic.nunique(),\n",
        "    \"consonant\": df.consonant_diacritic.nunique()\n",
        "}"
      ],
      "execution_count": 0,
      "outputs": []
    },
    {
      "cell_type": "markdown",
      "metadata": {
        "colab_type": "text",
        "id": "Z7tkhAAjKwo8"
      },
      "source": [
        "## Dataset and DataLoader"
      ]
    },
    {
      "cell_type": "code",
      "metadata": {
        "colab_type": "code",
        "id": "IR70FZllKwo9",
        "colab": {}
      },
      "source": [
        "def crop_image(image: np.ndarray, threshold=5. / 255.) -> np.ndarray:\n",
        "    assert image.ndim == 2\n",
        "    is_black = image > threshold\n",
        "    is_black_vertical = np.sum(is_black, axis=0) > 0\n",
        "    is_black_horizontal = np.sum(is_black, axis=1) > 0\n",
        "\n",
        "    left = np.argmax(is_black_horizontal)\n",
        "    right = np.argmax(is_black_horizontal[::-1])\n",
        "    top = np.argmax(is_black_vertical)\n",
        "    bottom = np.argmax(is_black_vertical[::-1])\n",
        "    height, width = image.shape\n",
        "    cropped_image = image[left:height - right, top:width - bottom]\n",
        "    return cropped_image\n",
        "\n",
        "\n",
        "def resize(image, size=(128, 128)) -> np.ndarray:\n",
        "    return cv2.resize(image, size)\n",
        "\n",
        "\n",
        "def crop_and_embed(image: np.ndarray, size=(128, 128), threshold=20. / 255.):\n",
        "    cropped = crop_image(image, threshold)\n",
        "    height, width = cropped.shape\n",
        "    aspect_ratio = height / width\n",
        "    embedded = np.zeros(size)\n",
        "    if aspect_ratio > 1.0:\n",
        "        if height > size[0]:\n",
        "            new_height = size[0]\n",
        "            new_width = int(size[0] * 1 / aspect_ratio)\n",
        "            image = resize(cropped, size=(new_width, new_height))\n",
        "\n",
        "            margin = size[1] - new_width\n",
        "            head = margin // 2\n",
        "            embedded[:, head:head + new_width] = image\n",
        "        else:\n",
        "            margin = size[0] - height\n",
        "\n",
        "            new_height = height + np.random.randint(0, margin)\n",
        "            new_width = int(new_height * 1 / aspect_ratio)\n",
        "            image = resize(cropped, size=(new_width, new_height))\n",
        "\n",
        "            margin_height = size[0] - new_height\n",
        "            margin_width = size[1] - new_width\n",
        "\n",
        "            head_height = margin_height // 2\n",
        "            head_width = margin_width // 2\n",
        "            embedded[head_height:head_height +\n",
        "                     new_height, head_width:head_width + new_width] = image\n",
        "    else:\n",
        "        if width > size[1]:\n",
        "            new_width = size[1]\n",
        "            new_height = int(size[1] * aspect_ratio)\n",
        "            image = resize(cropped, size=(new_width, new_height))\n",
        "\n",
        "            margin = size[0] - new_height\n",
        "            head = margin // 2\n",
        "            embedded[head:head + new_height, :] = image\n",
        "        else:\n",
        "            margin = size[1] - width\n",
        "\n",
        "            new_width = width + np.random.randint(0, margin)\n",
        "            new_height = int(new_width * aspect_ratio)\n",
        "            image = resize(cropped, size=(new_width, new_height))\n",
        "\n",
        "            margin_height = size[0] - new_height\n",
        "            margin_width = size[1] - new_width\n",
        "\n",
        "            head_height = margin_height // 2\n",
        "            head_width = margin_width // 2\n",
        "            embedded[head_height:head_height +\n",
        "                     new_height, head_width:head_width + new_width] = image\n",
        "\n",
        "    return embedded\n",
        "\n",
        "\n",
        "def normalize(image: np.ndarray):\n",
        "    if image.ndim == 3:\n",
        "        image = image[:, :, 0]\n",
        "    image = (255 - image).astype(np.float32) / 255.0\n",
        "    return image\n",
        "\n",
        "\n",
        "def to_image(image: np.ndarray):\n",
        "    if image.ndim == 2:\n",
        "        image = np.stack([image, image, image])\n",
        "        image = np.moveaxis(image, 0, -1)\n",
        "    image = (255 - image * 255).astype(np.uint8)\n",
        "    return image\n",
        "\n",
        "\n",
        "def affine_image(image: np.ndarray):\n",
        "    assert image.ndim == 2\n",
        "    min_scale = 0.8\n",
        "    max_scale = 1.2\n",
        "    sx = np.random.uniform(min_scale, max_scale)\n",
        "    sy = np.random.uniform(min_scale, max_scale)\n",
        "\n",
        "    max_rot_angle = 10\n",
        "    rot_angle = np.random.uniform(-max_rot_angle, max_rot_angle) * np.pi / 180.\n",
        "\n",
        "    max_shear_angle = 10\n",
        "    shear_angle = np.random.uniform(-max_shear_angle,\n",
        "                                    max_shear_angle) * np.pi / 180.\n",
        "\n",
        "    max_translation = 4\n",
        "    tx = np.random.randint(-max_translation, max_translation)\n",
        "    ty = np.random.randint(-max_translation, max_translation)\n",
        "\n",
        "    tform = AffineTransform(\n",
        "        scale=(sx, sy),\n",
        "        rotation=rot_angle,\n",
        "        shear=shear_angle,\n",
        "        translation=(tx, ty))\n",
        "    transformed_image = warp(image, tform)\n",
        "    return transformed_image\n",
        "\n",
        "\n",
        "def random_erosion_or_dilation(image: np.ndarray):\n",
        "    dice = np.random.randint(0, 3)\n",
        "    if dice == 0:\n",
        "        return image\n",
        "    elif dice == 1:\n",
        "        kernel = np.ones((3, 3), dtype=np.uint8)\n",
        "        return cv2.erode(image, kernel, iterations=1)\n",
        "    else:\n",
        "        kernel = np.ones((3, 3), dtype=np.uint8)\n",
        "        return cv2.dilate(image, kernel, iterations=1)"
      ],
      "execution_count": 0,
      "outputs": []
    },
    {
      "cell_type": "code",
      "metadata": {
        "colab_type": "code",
        "id": "0xvp6ssDKwpA",
        "colab": {}
      },
      "source": [
        "class TrainDataset(torchdata.Dataset):\n",
        "    def __init__(self,\n",
        "                 image_dir: Path,\n",
        "                 df: pd.DataFrame,\n",
        "                 transforms,\n",
        "                 size: Tuple[int, int],\n",
        "                 cls_levels: Dict[str, int] = None,\n",
        "                 affine=True,\n",
        "                 morphology=True,\n",
        "                 onehot=True):\n",
        "        self.df = df\n",
        "        self.image_dir = image_dir\n",
        "        self.transforms = transforms\n",
        "        self.size = size\n",
        "        self.onehot = onehot\n",
        "        self.cls_levels = cls_levels\n",
        "        self.affine = affine\n",
        "        self.morphology = morphology\n",
        "\n",
        "    def __len__(self):\n",
        "        return len(self.df)\n",
        "\n",
        "    def __getitem__(self, idx):\n",
        "        image_id = self.df.loc[idx, \"image_id\"]\n",
        "        image_path = self.image_dir / f\"{image_id}.png\"\n",
        "\n",
        "        image = cv2.imread(str(image_path))\n",
        "        image = normalize(image)\n",
        "        image = crop_and_embed(image, size=self.size, threshold=5. / 255.)\n",
        "        if self.affine:\n",
        "            image = affine_image(image)\n",
        "        if self.morphology:\n",
        "            image = random_erosion_or_dilation(image)\n",
        "        image = to_image(image)\n",
        "        if self.transforms is not None:\n",
        "            image = self.transforms(image=image)[\"image\"]\n",
        "        if image.shape[2] == 3:\n",
        "            image = np.moveaxis(image, -1, 0)\n",
        "        grapheme = self.df.loc[idx, \"grapheme_root\"]\n",
        "        vowel = self.df.loc[idx, \"vowel_diacritic\"]\n",
        "        consonant = self.df.loc[idx, \"consonant_diacritic\"]\n",
        "\n",
        "        if self.onehot:\n",
        "            grapheme_levels = self.cls_levels[\"grapheme\"]\n",
        "            vowel_levels = self.cls_levels[\"vowel\"]\n",
        "            consonant_levels = self.cls_levels[\"consonant\"]\n",
        "            total_n_levels = grapheme_levels + vowel_levels + consonant_levels\n",
        "            label = np.zeros(total_n_levels, dtype=np.float32)\n",
        "            label[grapheme] = 1.0\n",
        "            label[grapheme_levels + vowel] = 1.0\n",
        "            label[grapheme_levels + vowel_levels + consonant] = 1.0\n",
        "\n",
        "        else:\n",
        "            label = np.zeros(3, dtype=int)\n",
        "            label[0] = grapheme\n",
        "            label[1] = vowel\n",
        "            label[2] = consonant\n",
        "        return {\"images\": image, \"targets\": label}\n",
        "\n",
        "\n",
        "class TestDataset(torchdata.Dataset):\n",
        "    def __init__(self,\n",
        "                 image_dir: Path,\n",
        "                 df: pd.DataFrame,\n",
        "                 transforms,\n",
        "                 size: Tuple[int, int],\n",
        "                 affine=True,\n",
        "                 morphology=True):\n",
        "        self.image_dir = image_dir\n",
        "        self.df = df\n",
        "        self.transforms = transforms\n",
        "        self.size = size\n",
        "        self.affine = affine\n",
        "        self.morphology = morphology\n",
        "\n",
        "    def __len__(self):\n",
        "        return len(self.df)\n",
        "\n",
        "    def __getitem__(self, idx):\n",
        "        image_id = self.df.loc[idx, \"image_id\"]\n",
        "        image_path = self.image_dir / f\"{image_id}.png\"\n",
        "\n",
        "        image = cv2.imread(image_path)\n",
        "        image = normalize(image)\n",
        "        image = crop_and_embed(image, size=self.size, threshold=5. / 255.)\n",
        "        if self.affine:\n",
        "            image = affine_image(image)\n",
        "        if self.morphology:\n",
        "            image = random_erosion_or_dilation(image)\n",
        "        image = to_image(image)\n",
        "        if self.transforms is not None:\n",
        "            image = self.transforms(image=image)[\"image\"]\n",
        "        if image.shape[2] == 3:\n",
        "            image = np.moveaxis(image, -1, 0)\n",
        "        return image\n",
        "\n",
        "\n",
        "def get_loader(df: pd.DataFrame,\n",
        "               image_dir: Path,\n",
        "               phase: str = \"train\",\n",
        "               size: Tuple[int, int] = (128, 128),\n",
        "               batch_size=256,\n",
        "               num_workers=2,\n",
        "               transforms=None,\n",
        "               cls_levels=None,\n",
        "               affine=True,\n",
        "               morphology=True,\n",
        "               onehot=None):\n",
        "    assert phase in [\"train\", \"valid\", \"test\"]\n",
        "    if phase == \"test\":\n",
        "        dataset = TestDataset(image_dir, df, transforms, size, affine,\n",
        "                              morphology)\n",
        "        is_shuffle = False\n",
        "        drop_last = False\n",
        "    else:\n",
        "        if phase == \"train\":\n",
        "            is_shuffle = True\n",
        "            drop_last = True\n",
        "        else:\n",
        "            is_shuffle = False\n",
        "            drop_last = False\n",
        "        if onehot is not None:\n",
        "            if cls_levels is None:\n",
        "                raise ValueError(\n",
        "                    \"if 'onehot' is set to None, cls_levels must be set\")\n",
        "            else:\n",
        "                dataset = TrainDataset(  # type: ignore\n",
        "                    image_dir,\n",
        "                    df,\n",
        "                    transforms,\n",
        "                    size,\n",
        "                    cls_levels,\n",
        "                    affine=affine,\n",
        "                    morphology=morphology,\n",
        "                    onehot=onehot)\n",
        "        else:\n",
        "            dataset = TrainDataset(  # type: ignore\n",
        "                image_dir,\n",
        "                df,\n",
        "                transforms,\n",
        "                size,\n",
        "                affine=affine,\n",
        "                morphology=morphology)\n",
        "    return torchdata.DataLoader(\n",
        "        dataset,\n",
        "        batch_size=batch_size,\n",
        "        shuffle=is_shuffle,\n",
        "        num_workers=num_workers,\n",
        "        pin_memory=True,\n",
        "        drop_last=drop_last)"
      ],
      "execution_count": 0,
      "outputs": []
    },
    {
      "cell_type": "markdown",
      "metadata": {
        "colab_type": "text",
        "id": "CRSPrkp_KwpD"
      },
      "source": [
        "## Model and Loss"
      ]
    },
    {
      "cell_type": "markdown",
      "metadata": {
        "colab_type": "text",
        "id": "qt8H0kDqKwpD"
      },
      "source": [
        "### Model"
      ]
    },
    {
      "cell_type": "code",
      "metadata": {
        "colab_type": "code",
        "id": "Ey32J5_BKwpE",
        "colab": {}
      },
      "source": [
        "class BengaliClassifier(nn.Module):\n",
        "    def __init__(self, model_name: str, num_classes: int, pretrained=True):\n",
        "        super().__init__()\n",
        "        self.model_name = model_name\n",
        "        self.num_classes = num_classes\n",
        "        self.pretrained = pretrained\n",
        "\n",
        "        if \"se_resnext\" in self.model_name:\n",
        "            self.base = getattr(pretrainedmodels,\n",
        "                                self.model_name)(pretrained=pretrained)\n",
        "            self.base.avg_pool = nn.AdaptiveAvgPool2d(1)\n",
        "            self.base.last_linear = nn.Linear(\n",
        "                self.base.last_linear.in_features, self.num_classes)\n",
        "        elif \"resnet\" in self.model_name:\n",
        "            self.base = getattr(pretrainedmodels,\n",
        "                                self.model_name)(pretrained=pretrained)\n",
        "            self.base.avg_pool = nn.AdaptiveAvgPool2d(1)\n",
        "            self.base.fc = nn.Linear(self.base.fc.in_features,\n",
        "                                     self.num_classes)\n",
        "        elif \"efficientnet\" in self.model_name:\n",
        "            if pretrained:\n",
        "                self.base = EfficientNet.from_pretrained(self.model_name)\n",
        "            else:\n",
        "                self.base = EfficientNet.from_name(self.model_name)\n",
        "            self.base._fc = nn.Linear(self.base._fc.in_features,\n",
        "                                      self.num_classes)\n",
        "        else:\n",
        "            raise NotImplementedError\n",
        "\n",
        "    def fresh_params(self):\n",
        "        if \"se_resnext\" in self.model_name:\n",
        "            return self.base.last_linear.parameters()\n",
        "        elif \"resnet\" in self.model_name:\n",
        "            return self.base.fc.parameters()\n",
        "        elif \"efficientnet\" in self.model_name:\n",
        "            return self.base._fc.parameters()\n",
        "        else:\n",
        "            raise NotImplementedError\n",
        "\n",
        "    def base_params(self):\n",
        "        params = []\n",
        "        if \"se_resnext\" in self.model_name:\n",
        "            fc_name = \"last_linear\"\n",
        "        elif \"resnet\" in self.model_name:\n",
        "            fc_name = \"fc\"\n",
        "        elif \"efficientnet\" in self.model_name:\n",
        "            fc_name = \"_fc\"\n",
        "        else:\n",
        "            raise NotImplementedError\n",
        "        for name, param in self.net.named_parameters():\n",
        "            if fc_name not in name:\n",
        "                params.append(param)\n",
        "        return params\n",
        "\n",
        "    def forward(self, x):\n",
        "        return self.base(x)"
      ],
      "execution_count": 0,
      "outputs": []
    },
    {
      "cell_type": "markdown",
      "metadata": {
        "colab_type": "text",
        "id": "7yGn8bXpKwpG"
      },
      "source": [
        "### Loss"
      ]
    },
    {
      "cell_type": "code",
      "metadata": {
        "colab_type": "code",
        "id": "fG4H1Z04KwpH",
        "colab": {}
      },
      "source": [
        "class BengaliCrossEntropyLoss(nn.Module):\n",
        "    def __init__(self, n_grapheme: int, n_vowel: int, n_consonant: int):\n",
        "        super().__init__()\n",
        "        self.n_grapheme = n_grapheme\n",
        "        self.n_vowel = n_vowel\n",
        "        self.n_consonant = n_consonant\n",
        "        self.cross_entropy = nn.CrossEntropyLoss()\n",
        "\n",
        "    def forward(self, pred, true):\n",
        "        head = 0\n",
        "        tail = self.n_grapheme\n",
        "        grapheme_pred = pred[:, head:tail]\n",
        "        grapheme_true = true[:, 0]\n",
        "\n",
        "        head = tail\n",
        "        tail = head + self.n_vowel\n",
        "        vowel_pred = pred[:, head:tail]\n",
        "        vowel_true = true[:, 1]\n",
        "\n",
        "        head = tail\n",
        "        tail = head + self.n_consonant\n",
        "        consonant_pred = pred[:, head:tail]\n",
        "        consonant_true = true[:, 2]\n",
        "\n",
        "        return self.cross_entropy(grapheme_pred, grapheme_true) + \\\n",
        "            self.cross_entropy(vowel_pred, vowel_true) + \\\n",
        "            self.cross_entropy(consonant_pred, consonant_true)\n",
        "\n",
        "\n",
        "class BengaliBCELoss(nn.Module):\n",
        "    def __init__(self, n_grapheme: int, n_vowel: int, n_consonant: int):\n",
        "        super().__init__()\n",
        "        self.n_grapheme = n_grapheme\n",
        "        self.n_vowel = n_vowel\n",
        "        self.n_consonant = n_consonant\n",
        "        self.bce = nn.BCEWithLogitsLoss()\n",
        "\n",
        "    def forward(self, pred, true):\n",
        "        head = 0\n",
        "        tail = self.n_grapheme\n",
        "        grapheme_pred = pred[:, head:tail]\n",
        "        grapheme_true = true[:, head:tail]\n",
        "\n",
        "        head = tail\n",
        "        tail = head + self.n_vowel\n",
        "        vowel_pred = pred[:, head:tail]\n",
        "        vowel_true = true[:, head:tail]\n",
        "\n",
        "        head = tail\n",
        "        tail = head + self.n_consonant\n",
        "        consonant_pred = pred[:, head:tail]\n",
        "        consonant_true = true[:, head:tail]\n",
        "\n",
        "        return self.bce(grapheme_pred, grapheme_true) + \\\n",
        "            self.bce(vowel_pred, vowel_true) + \\\n",
        "            self.bce(consonant_pred, consonant_true)\n",
        "\n",
        "\n",
        "def get_loss(config: edict):\n",
        "    name = config.loss.name\n",
        "    params = config.loss.params\n",
        "    if name == \"bce\":\n",
        "        criterion = BengaliBCELoss(**params)\n",
        "    elif name == \"cross_entropy\":\n",
        "        criterion = BengaliCrossEntropyLoss(**params)  # type: ignore\n",
        "    else:\n",
        "        raise NotImplementedError\n",
        "    return criterion"
      ],
      "execution_count": 0,
      "outputs": []
    },
    {
      "cell_type": "markdown",
      "metadata": {
        "colab_type": "text",
        "id": "6VRL8e21KwpK"
      },
      "source": [
        "## Optimizer and Scheduler"
      ]
    },
    {
      "cell_type": "markdown",
      "metadata": {
        "colab_type": "text",
        "id": "cJiWlNg5KwpK"
      },
      "source": [
        "### Optimizer"
      ]
    },
    {
      "cell_type": "code",
      "metadata": {
        "colab_type": "code",
        "id": "BmBA7SsEKwpL",
        "colab": {}
      },
      "source": [
        "Optimizer = Union[Adam, SGD]\n",
        "\n",
        "\n",
        "def get_optimizer(model, config: edict) -> Optimizer:\n",
        "    name = config.optimizer.name\n",
        "    params = config.optimizer.params\n",
        "    if name == \"Adam\":\n",
        "        optimizer = Adam(model.parameters(), **params)\n",
        "    elif name == \"SGD\":\n",
        "        optimizer = Adam(model.parameters(), **params)\n",
        "    else:\n",
        "        raise NotImplementedError\n",
        "    return optimizer"
      ],
      "execution_count": 0,
      "outputs": []
    },
    {
      "cell_type": "markdown",
      "metadata": {
        "colab_type": "text",
        "id": "F6UsyO8GKwpO"
      },
      "source": [
        "### Scheduler"
      ]
    },
    {
      "cell_type": "code",
      "metadata": {
        "colab_type": "code",
        "id": "qjotHZyDKwpP",
        "colab": {}
      },
      "source": [
        "Scheduler = Optional[\n",
        "    Union[ReduceLROnPlateau, CosineAnnealingLR, CosineAnnealingWarmRestarts]]\n",
        "\n",
        "\n",
        "def get_scheduler(optimizer, config: edict) -> Scheduler:\n",
        "    params = config.scheduler.params\n",
        "    name = config.scheduler.name\n",
        "    scheduler: Scheduler = None\n",
        "    if name == \"plateau\":\n",
        "        scheduler = ReduceLROnPlateau(optimizer, **params)\n",
        "    elif name == \"cosine\":\n",
        "        scheduler = CosineAnnealingLR(optimizer, **params)\n",
        "    elif name == \"cosine_warmup\":\n",
        "        scheduler = CosineAnnealingWarmRestarts(optimizer, **params)\n",
        "\n",
        "    return scheduler"
      ],
      "execution_count": 0,
      "outputs": []
    },
    {
      "cell_type": "markdown",
      "metadata": {
        "colab_type": "text",
        "id": "ZN_KIlxPKwpR"
      },
      "source": [
        "## Callbacks"
      ]
    },
    {
      "cell_type": "code",
      "metadata": {
        "colab_type": "code",
        "id": "NW3x-uJ6KwpS",
        "colab": {}
      },
      "source": [
        "class MacroAverageRecall(Callback):\n",
        "    def __init__(self,\n",
        "                 n_grapheme=168,\n",
        "                 n_vowel=11,\n",
        "                 n_consonant=7,\n",
        "                 loss_type: str = \"bce\",\n",
        "                 prefix: str = \"mar\",\n",
        "                 output_key: str = \"logits\",\n",
        "                 target_key: str = \"targets\"):\n",
        "        self.prefix = prefix\n",
        "        self.output_key = output_key\n",
        "        self.target_key = target_key\n",
        "        self.n_grapheme = n_grapheme\n",
        "        self.n_vowel = n_vowel\n",
        "        self.n_consonant = n_consonant\n",
        "        self.loss_type = loss_type\n",
        "        super().__init__(CallbackOrder.Metric)\n",
        "\n",
        "    def on_batch_end(self, state: RunnerState):\n",
        "        targ = state.input[self.target_key].detach()\n",
        "        out = state.output[self.output_key]\n",
        "        head = 0\n",
        "        tail = self.n_grapheme\n",
        "        grapheme = torch.sigmoid(out[:, head:tail])\n",
        "        grapheme_np = torch.argmax(grapheme, dim=1).detach().cpu().numpy()\n",
        "        if self.loss_type == \"bce\":\n",
        "            grapheme_target = torch.argmax(\n",
        "                targ[:, head:tail], dim=1).cpu().numpy()\n",
        "        else:\n",
        "            grapheme_target = targ[:, 0].cpu().numpy()\n",
        "\n",
        "        head = tail\n",
        "        tail = head + self.n_vowel\n",
        "        vowel = torch.sigmoid(out[:, head:tail])\n",
        "        vowel_np = torch.argmax(vowel, dim=1).detach().cpu().numpy()\n",
        "        if self.loss_type == \"bce\":\n",
        "            vowel_target = torch.argmax(\n",
        "                targ[:, head:tail], dim=1).cpu().numpy()\n",
        "        else:\n",
        "            vowel_target = targ[:, 1].cpu().numpy()\n",
        "\n",
        "        head = tail\n",
        "        tail = head + self.n_consonant\n",
        "        consonant = torch.sigmoid(out[:, head:tail])\n",
        "        consonant_np = torch.argmax(consonant, dim=1).detach().cpu().numpy()\n",
        "        if self.loss_type == \"bce\":\n",
        "            consonant_target = torch.argmax(\n",
        "                targ[:, head:tail], dim=1).cpu().numpy()\n",
        "        else:\n",
        "            consonant_target = targ[:, 2].cpu().numpy()\n",
        "\n",
        "        scores = []\n",
        "        scores.append(\n",
        "            recall_score(\n",
        "                grapheme_target, grapheme_np, average=\"macro\",\n",
        "                zero_division=0))\n",
        "        scores.append(\n",
        "            recall_score(\n",
        "                vowel_target, vowel_np, average=\"macro\", zero_division=0))\n",
        "        scores.append(\n",
        "            recall_score(\n",
        "                consonant_target,\n",
        "                consonant_np,\n",
        "                average=\"macro\",\n",
        "                zero_division=0))\n",
        "        final_score = np.average(scores, weights=[2, 1, 1])\n",
        "        state.metrics.add_batch_value(name=self.prefix, value=final_score)\n",
        "\n",
        "\n",
        "class SaveWeightsCallback(Callback):\n",
        "    def __init__(self, to: Optional[Path] = None, name: str=\"\"):\n",
        "        self.to = to\n",
        "        self.name = name\n",
        "        super().__init__(CallbackOrder.External)\n",
        "\n",
        "    def on_epoch_end(self, state: RunnerState):\n",
        "        weights = state.model.state_dict()\n",
        "        logdir = state.logdir / \"checkpoints\"\n",
        "        logdir.mkdir(exist_ok=True, parents=True)\n",
        "        if self.name == \"\":\n",
        "            torch.save(weights, logdir / \"temp.pth\")\n",
        "        else:\n",
        "            torch.save(weights, logdir / f\"{self.name}.pth\")\n",
        "\n",
        "        if self.to is not None:\n",
        "            if self.name == \"\":\n",
        "                torch.save(weights, self.to / \"temp.pth\")\n",
        "            else:\n",
        "                torch.save(weights, self.to / f\"{self.name}.pth\")"
      ],
      "execution_count": 0,
      "outputs": []
    },
    {
      "cell_type": "markdown",
      "metadata": {
        "colab_type": "text",
        "id": "-HN1iGwXKwpU"
      },
      "source": [
        "## KFold Training"
      ]
    },
    {
      "cell_type": "code",
      "metadata": {
        "colab_type": "code",
        "id": "osNWYzH_KwpV",
        "outputId": "b6a2de46-2159-45be-847d-3625a37aaa11",
        "colab": {
          "base_uri": "https://localhost:8080/",
          "height": 462
        }
      },
      "source": [
        "trn_idx, val_idx = splits[i]\n",
        "\n",
        "print(f\"Fold: {i}\")\n",
        "\n",
        "output_dir = output_base_dir / f\"fold{i}\"\n",
        "output_dir.mkdir(exist_ok=True, parents=True)\n",
        "\n",
        "trn_df = df.loc[trn_idx, :].reset_index(drop=True)\n",
        "val_df = df.loc[val_idx, :].reset_index(drop=True)\n",
        "data_loaders = {\n",
        "    phase: get_loader(\n",
        "        df,\n",
        "        train_images_path,\n",
        "        phase=phase,\n",
        "        size=(config.img_size, config.img_size),\n",
        "        batch_size=config.train.batch_size,\n",
        "        num_workers=config.num_workers,\n",
        "        transforms=transforms,\n",
        "        cls_levels=cls_levels,\n",
        "        affine=config.dataset.train.affine\n",
        "        if phase == \"train\" else config.dataset.val.affine,\n",
        "        morphology=config.dataset.train.morphology\n",
        "        if phase == \"train\" else config.dataset.val.morphology,\n",
        "        onehot=config.loss.name == \"bce\")\n",
        "    for phase, df in zip([\"train\", \"valid\"], [trn_df, val_df])\n",
        "}\n",
        "model = BengaliClassifier(**config.model)\n",
        "criterion = get_loss(config)\n",
        "optimizer = get_optimizer(model, config)\n",
        "scheduler = get_scheduler(optimizer, config)\n",
        "callbacks = [\n",
        "    MacroAverageRecall(\n",
        "        n_grapheme=cls_levels[\"grapheme\"],\n",
        "        n_vowel=cls_levels[\"vowel\"],\n",
        "        n_consonant=cls_levels[\"consonant\"],\n",
        "        loss_type=config.loss.name),\n",
        "    SaveWeightsCallback(\n",
        "        to=Path(config.checkpoints\n",
        "                ) if config.checkpoints is not None else None,\n",
        "        name=trial)\n",
        "]\n",
        "\n",
        "runner = SupervisedRunner(\n",
        "    device=ct.utils.get_device(),\n",
        "    input_key=\"images\",\n",
        "    input_target_key=\"targets\",\n",
        "    output_key=\"logits\")\n",
        "runner.train(\n",
        "    model=model,\n",
        "    criterion=criterion,\n",
        "    optimizer=optimizer,\n",
        "    loaders=data_loaders,\n",
        "    logdir=output_dir,\n",
        "    scheduler=scheduler,\n",
        "    num_epochs=config.train.num_epochs,\n",
        "    callbacks=callbacks,\n",
        "    main_metric=\"mar\",\n",
        "    minimize_metric=False,\n",
        "    monitoring_params=None,\n",
        "    verbose=False)"
      ],
      "execution_count": 0,
      "outputs": [
        {
          "output_type": "stream",
          "text": [
            "Fold: 0\n",
            "[2020-01-27 16:30:41,520] \n",
            "1/50 * Epoch 1 (train): _base/lr=0.0010 | _base/momentum=0.9000 | _timers/_fps=982.7494 | _timers/batch_time=0.0330 | _timers/data_time=0.0010 | _timers/model_time=0.0319 | loss=4.1251 | mar=0.4379\n",
            "1/50 * Epoch 1 (valid): _base/lr=0.0010 | _base/momentum=0.9000 | _timers/_fps=649.4201 | _timers/batch_time=0.0576 | _timers/data_time=0.0133 | _timers/model_time=0.0442 | loss=1.6391 | mar=0.6934\n",
            "[2020-01-27 16:30:41,520] \n",
            "1/50 * Epoch 1 (train): _base/lr=0.0010 | _base/momentum=0.9000 | _timers/_fps=982.7494 | _timers/batch_time=0.0330 | _timers/data_time=0.0010 | _timers/model_time=0.0319 | loss=4.1251 | mar=0.4379\n",
            "1/50 * Epoch 1 (valid): _base/lr=0.0010 | _base/momentum=0.9000 | _timers/_fps=649.4201 | _timers/batch_time=0.0576 | _timers/data_time=0.0133 | _timers/model_time=0.0442 | loss=1.6391 | mar=0.6934\n",
            "[2020-01-27 16:42:59,981] \n",
            "2/50 * Epoch 2 (train): _base/lr=0.0010 | _base/momentum=0.9000 | _timers/_fps=1004.0703 | _timers/batch_time=0.0324 | _timers/data_time=0.0009 | _timers/model_time=0.0314 | loss=2.6266 | mar=0.5864\n",
            "2/50 * Epoch 2 (valid): _base/lr=0.0010 | _base/momentum=0.9000 | _timers/_fps=698.9209 | _timers/batch_time=0.0528 | _timers/data_time=0.0120 | _timers/model_time=0.0407 | loss=1.1472 | mar=0.7802\n",
            "[2020-01-27 16:42:59,981] \n",
            "2/50 * Epoch 2 (train): _base/lr=0.0010 | _base/momentum=0.9000 | _timers/_fps=1004.0703 | _timers/batch_time=0.0324 | _timers/data_time=0.0009 | _timers/model_time=0.0314 | loss=2.6266 | mar=0.5864\n",
            "2/50 * Epoch 2 (valid): _base/lr=0.0010 | _base/momentum=0.9000 | _timers/_fps=698.9209 | _timers/batch_time=0.0528 | _timers/data_time=0.0120 | _timers/model_time=0.0407 | loss=1.1472 | mar=0.7802\n",
            "[2020-01-27 16:54:50,243] \n",
            "3/50 * Epoch 3 (train): _base/lr=0.0010 | _base/momentum=0.9000 | _timers/_fps=1053.5321 | _timers/batch_time=0.0308 | _timers/data_time=0.0009 | _timers/model_time=0.0299 | loss=2.2700 | mar=0.6311\n",
            "3/50 * Epoch 3 (valid): _base/lr=0.0010 | _base/momentum=0.9000 | _timers/_fps=708.3292 | _timers/batch_time=0.0520 | _timers/data_time=0.0118 | _timers/model_time=0.0402 | loss=0.9129 | mar=0.8207\n",
            "[2020-01-27 16:54:50,243] \n",
            "3/50 * Epoch 3 (train): _base/lr=0.0010 | _base/momentum=0.9000 | _timers/_fps=1053.5321 | _timers/batch_time=0.0308 | _timers/data_time=0.0009 | _timers/model_time=0.0299 | loss=2.2700 | mar=0.6311\n",
            "3/50 * Epoch 3 (valid): _base/lr=0.0010 | _base/momentum=0.9000 | _timers/_fps=708.3292 | _timers/batch_time=0.0520 | _timers/data_time=0.0118 | _timers/model_time=0.0402 | loss=0.9129 | mar=0.8207\n",
            "[2020-01-27 17:06:52,762] \n",
            "4/50 * Epoch 4 (train): _base/lr=0.0010 | _base/momentum=0.9000 | _timers/_fps=1037.8648 | _timers/batch_time=0.0313 | _timers/data_time=0.0009 | _timers/model_time=0.0304 | loss=2.0704 | mar=0.6572\n",
            "4/50 * Epoch 4 (valid): _base/lr=0.0010 | _base/momentum=0.9000 | _timers/_fps=692.2347 | _timers/batch_time=0.0543 | _timers/data_time=0.0136 | _timers/model_time=0.0407 | loss=0.8694 | mar=0.8256\n",
            "[2020-01-27 17:06:52,762] \n",
            "4/50 * Epoch 4 (train): _base/lr=0.0010 | _base/momentum=0.9000 | _timers/_fps=1037.8648 | _timers/batch_time=0.0313 | _timers/data_time=0.0009 | _timers/model_time=0.0304 | loss=2.0704 | mar=0.6572\n",
            "4/50 * Epoch 4 (valid): _base/lr=0.0010 | _base/momentum=0.9000 | _timers/_fps=692.2347 | _timers/batch_time=0.0543 | _timers/data_time=0.0136 | _timers/model_time=0.0407 | loss=0.8694 | mar=0.8256\n"
          ],
          "name": "stdout"
        }
      ]
    },
    {
      "cell_type": "code",
      "metadata": {
        "colab_type": "code",
        "id": "tTukaQrzNW8T",
        "colab": {}
      },
      "source": [
        ""
      ],
      "execution_count": 0,
      "outputs": []
    }
  ]
}