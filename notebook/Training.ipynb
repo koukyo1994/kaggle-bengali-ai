{
  "nbformat": 4,
  "nbformat_minor": 0,
  "metadata": {
    "accelerator": "GPU",
    "colab": {
      "name": "Resnet.ipynb",
      "provenance": [],
      "toc_visible": true,
      "include_colab_link": true
    },
    "kernelspec": {
      "display_name": "Python 3",
      "language": "python",
      "name": "python3"
    },
    "language_info": {
      "codemirror_mode": {
        "name": "ipython",
        "version": 3
      },
      "file_extension": ".py",
      "mimetype": "text/x-python",
      "name": "python",
      "nbconvert_exporter": "python",
      "pygments_lexer": "ipython3",
      "version": "3.6.6"
    }
  },
  "cells": [
    {
      "cell_type": "markdown",
      "metadata": {
        "id": "view-in-github",
        "colab_type": "text"
      },
      "source": [
        "<a href=\"https://colab.research.google.com/github/koukyo1994/kaggle-bengali-ai/blob/master/notebook/Training.ipynb\" target=\"_parent\"><img src=\"https://colab.research.google.com/assets/colab-badge.svg\" alt=\"Open In Colab\"/></a>"
      ]
    },
    {
      "cell_type": "markdown",
      "metadata": {
        "colab_type": "text",
        "id": "H-LYW6ekKQ-x"
      },
      "source": [
        "## Dependencies"
      ]
    },
    {
      "cell_type": "code",
      "metadata": {
        "colab_type": "code",
        "id": "QyICnC_QKQ-0",
        "colab": {}
      },
      "source": [
        "%%sh\n",
        "pip install albumentations==0.4.3 catalyst==20.1.1 easydict==1.9.0 >> /dev/null\n",
        "pip install efficientnet-pytorch==0.6.1 PyYAML==5.3 >> /dev/null\n",
        "pip install pretrainedmodels==0.7.4 >> /dev/null"
      ],
      "execution_count": 0,
      "outputs": []
    },
    {
      "cell_type": "markdown",
      "metadata": {
        "colab_type": "text",
        "id": "b2m_PlwpKQ-5"
      },
      "source": [
        "## Integration with Google Drive"
      ]
    },
    {
      "cell_type": "code",
      "metadata": {
        "colab_type": "code",
        "id": "jsPLSeVuKQ-6",
        "outputId": "5faa805f-db35-4ef8-defd-1ca294345146",
        "colab": {
          "base_uri": "https://localhost:8080/",
          "height": 122
        }
      },
      "source": [
        "from google.colab import drive\n",
        "drive.mount(\"/content/gdrive\")"
      ],
      "execution_count": 2,
      "outputs": [
        {
          "output_type": "stream",
          "text": [
            "Go to this URL in a browser: https://accounts.google.com/o/oauth2/auth?client_id=947318989803-6bn6qk8qdgf4n4g3pfee6491hc0brc4i.apps.googleusercontent.com&redirect_uri=urn%3aietf%3awg%3aoauth%3a2.0%3aoob&response_type=code&scope=email%20https%3a%2f%2fwww.googleapis.com%2fauth%2fdocs.test%20https%3a%2f%2fwww.googleapis.com%2fauth%2fdrive%20https%3a%2f%2fwww.googleapis.com%2fauth%2fdrive.photos.readonly%20https%3a%2f%2fwww.googleapis.com%2fauth%2fpeopleapi.readonly\n",
            "\n",
            "Enter your authorization code:\n",
            "··········\n",
            "Mounted at /content/gdrive\n"
          ],
          "name": "stdout"
        }
      ]
    },
    {
      "cell_type": "code",
      "metadata": {
        "colab_type": "code",
        "id": "a3FN8jiWKQ--",
        "outputId": "3bf370f8-ba96-4201-952d-e9f2c19302a5",
        "colab": {
          "base_uri": "https://localhost:8080/",
          "height": 34
        }
      },
      "source": [
        "%%sh\n",
        "mkdir input\n",
        "cp -r /content/gdrive/My\\ Drive/kaggle-bengali ./input/bengaliai-cv19\n",
        "unzip -qq -d input/bengaliai-cv19/ input/bengaliai-cv19/train_images.zip"
      ],
      "execution_count": 4,
      "outputs": [
        {
          "output_type": "stream",
          "text": [
            "cp: cannot open '/content/gdrive/My Drive/kaggle-bengali/Kaggle bengaliai-cv19.gsheet' for reading: Operation not supported\n"
          ],
          "name": "stderr"
        }
      ]
    },
    {
      "cell_type": "code",
      "metadata": {
        "colab_type": "code",
        "id": "ZVnqhXOURLIl",
        "outputId": "a239b89a-6a1f-4cec-a65a-037153c4ca77",
        "colab": {
          "base_uri": "https://localhost:8080/",
          "height": 306
        }
      },
      "source": [
        "!nvidia-smi"
      ],
      "execution_count": 1,
      "outputs": [
        {
          "output_type": "stream",
          "text": [
            "Mon Feb 24 17:12:29 2020       \n",
            "+-----------------------------------------------------------------------------+\n",
            "| NVIDIA-SMI 440.48.02    Driver Version: 418.67       CUDA Version: 10.1     |\n",
            "|-------------------------------+----------------------+----------------------+\n",
            "| GPU  Name        Persistence-M| Bus-Id        Disp.A | Volatile Uncorr. ECC |\n",
            "| Fan  Temp  Perf  Pwr:Usage/Cap|         Memory-Usage | GPU-Util  Compute M. |\n",
            "|===============================+======================+======================|\n",
            "|   0  Tesla P100-PCIE...  Off  | 00000000:00:04.0 Off |                    0 |\n",
            "| N/A   44C    P0    29W / 250W |      0MiB / 16280MiB |      0%      Default |\n",
            "+-------------------------------+----------------------+----------------------+\n",
            "                                                                               \n",
            "+-----------------------------------------------------------------------------+\n",
            "| Processes:                                                       GPU Memory |\n",
            "|  GPU       PID   Type   Process name                             Usage      |\n",
            "|=============================================================================|\n",
            "|  No running processes found                                                 |\n",
            "+-----------------------------------------------------------------------------+\n"
          ],
          "name": "stdout"
        }
      ]
    },
    {
      "cell_type": "markdown",
      "metadata": {
        "colab_type": "text",
        "id": "24Iv5BnEKQ_B"
      },
      "source": [
        "## Libraries"
      ]
    },
    {
      "cell_type": "code",
      "metadata": {
        "colab_type": "code",
        "id": "qYrCK0t6KQ_C",
        "outputId": "2cac9a7b-cf27-420e-b98d-36bb81c66cba",
        "colab": {
          "base_uri": "https://localhost:8080/",
          "height": 34
        }
      },
      "source": [
        "import albumentations as A\n",
        "import catalyst as ct\n",
        "import cv2\n",
        "import numpy as np\n",
        "import pandas as pd\n",
        "import pretrainedmodels\n",
        "import torch\n",
        "import torch.nn as nn\n",
        "import torch.nn.functional as F\n",
        "import torch.utils.data as torchdata\n",
        "import torchvision.models as models\n",
        "import yaml\n",
        "\n",
        "from pathlib import Path\n",
        "from typing import Tuple, Dict, Union, Optional, List\n",
        "\n",
        "from catalyst.dl import SupervisedRunner\n",
        "from catalyst.dl.core import Callback, CallbackOrder, RunnerState\n",
        "from catalyst.dl.callbacks import CriterionCallback, OptimizerCallback\n",
        "from catalyst.utils import get_device\n",
        "from easydict import EasyDict as edict\n",
        "from efficientnet_pytorch import EfficientNet\n",
        "from fastprogress import progress_bar\n",
        "from skimage.transform import AffineTransform, warp\n",
        "from sklearn.metrics import recall_score, confusion_matrix\n",
        "from sklearn.model_selection import KFold, train_test_split\n",
        "from torch.nn.parameter import Parameter\n",
        "from torch.optim import Adam, SGD\n",
        "from torch.optim.lr_scheduler import (ReduceLROnPlateau, \n",
        "                                      CosineAnnealingLR,\n",
        "                                      CosineAnnealingWarmRestarts)"
      ],
      "execution_count": 5,
      "outputs": [
        {
          "output_type": "stream",
          "text": [
            "alchemy not available, to install alchemy, run `pip install alchemy-catalyst`.\n"
          ],
          "name": "stderr"
        }
      ]
    },
    {
      "cell_type": "markdown",
      "metadata": {
        "colab_type": "text",
        "id": "tszhN7oGKQ_H"
      },
      "source": [
        "## Settings"
      ]
    },
    {
      "cell_type": "code",
      "metadata": {
        "colab_type": "code",
        "id": "dqfUxJd6KQ_I",
        "colab": {}
      },
      "source": [
        "i = 0\n",
        "stage = 0\n",
        "trial = \"seresnext_size128_50epoch_cutout\""
      ],
      "execution_count": 0,
      "outputs": []
    },
    {
      "cell_type": "markdown",
      "metadata": {
        "colab_type": "text",
        "id": "dXUZcRAGKQ_L"
      },
      "source": [
        "## Config"
      ]
    },
    {
      "cell_type": "code",
      "metadata": {
        "colab_type": "code",
        "id": "S16TliO4KQ_M",
        "colab": {}
      },
      "source": [
        "conf_string = '''\n",
        "dataset:\n",
        "  train:\n",
        "    affine: False\n",
        "    morphology: False\n",
        "    binarization: False\n",
        "  val:\n",
        "    affine: False\n",
        "    morphology: False\n",
        "    binarization: False\n",
        "  test:\n",
        "    affine: False\n",
        "    morphology: False\n",
        "\n",
        "data:\n",
        "  train_df_path: input/bengaliai-cv19/train.csv\n",
        "  train_images_path: input/bengaliai-cv19/train_images\n",
        "  test_images_path: input/bengaliai-cv19/test_images\n",
        "  sample_submission_path: input/bengaliai-cv19/sample_submission.csv\n",
        "\n",
        "model:\n",
        "  model_name: se_resnext50_32x4d\n",
        "  pretrained: imagenet\n",
        "  num_classes: 186\n",
        "  head: custom\n",
        "  in_channels: 3\n",
        "\n",
        "train:\n",
        "  batch_size: 128\n",
        "  num_epochs: 30\n",
        "\n",
        "test:\n",
        "  batch_size: 128\n",
        "\n",
        "loss:\n",
        "  name: ohem\n",
        "  params:\n",
        "    n_grapheme: 168\n",
        "    n_vowel: 11\n",
        "    n_consonant: 7\n",
        "    weights:\n",
        "      - 2.0\n",
        "      - 1.0\n",
        "      - 1.0\n",
        "\n",
        "optimizer:\n",
        "  name: Adam\n",
        "  params:\n",
        "    lr: 0.0001\n",
        "\n",
        "scheduler:\n",
        "  name: cosine\n",
        "  params:\n",
        "    T_max: 10\n",
        "\n",
        "transforms:\n",
        "  train:\n",
        "    Noise: False\n",
        "    Contrast: False\n",
        "    Rotate: True\n",
        "    RandomScale: True\n",
        "    Cutout:\n",
        "      num_holes: 1\n",
        "      max_h_size: 50\n",
        "      max_w_size: 75\n",
        "      fill_value: 255\n",
        "      always_apply: True\n",
        "    ShiftScaleRotate: False\n",
        "    RandomResizedCrop: False\n",
        "    CoarseDropout: False\n",
        "    GridDistortion: False\n",
        "  val:\n",
        "    Noise: False\n",
        "    Contrast: False\n",
        "    Rotate: False\n",
        "    RandomScale: False\n",
        "    Cutout:\n",
        "      num_holes: 0\n",
        "  test:\n",
        "    Noise: False\n",
        "    Contrast: False\n",
        "    Rotate: False\n",
        "    RandomScale: False\n",
        "    Cutout:\n",
        "      num_holes: 0\n",
        "\n",
        "val:\n",
        "  name: kfold\n",
        "  params:\n",
        "    random_state: 42\n",
        "    n_splits: 5\n",
        "\n",
        "callbacks:\n",
        "  - AverageRecall:\n",
        "      index: 0\n",
        "      offset: 0\n",
        "      n_classes: 168\n",
        "      prefix: grapheme_recall\n",
        "      loss_type: cross_entroy\n",
        "  - AverageRecall:\n",
        "      index: 1\n",
        "      offset: 168\n",
        "      n_classes: 11\n",
        "      prefix: vowel_recall\n",
        "      loss_type: cross_entropy\n",
        "  - AverageRecall:\n",
        "      index: 2\n",
        "      offset: 179\n",
        "      n_classes: 7\n",
        "      prefix: consonant_recall\n",
        "      loss_type: cross_entropy\n",
        "  - TotalAverageRecall:\n",
        "      loss_type: cross_entropy\n",
        "  - SaveWeightsCallback:\n",
        "      to: /content/gdrive/My Drive/kaggle-bengali/checkpoints/fold{}/\n",
        "      name: {}\n",
        "      is_larger_better: True\n",
        "      main_metric: tar\n",
        "      save_optimizer_state: True\n",
        "  - SaveWeightsCallback:\n",
        "      to: /content/gdrive/My Drive/kaggle-bengali/checkpoints/fold{}/\n",
        "      name: {}\n",
        "      is_larger_better: True\n",
        "      main_metric: grapheme_recall\n",
        "      save_optimizer_state: False\n",
        "      suffix: _grapheme\n",
        "  - SaveWeightsCallback:\n",
        "      to: /content/gdrive/My Drive/kaggle-bengali/checkpoints/fold{}/\n",
        "      name: {}\n",
        "      is_larger_better: True\n",
        "      main_metric: vowel_recall\n",
        "      save_optimizer_state: False\n",
        "      suffix: _vowel\n",
        "  - SaveWeightsCallback:\n",
        "      to: /content/gdrive/My Drive/kaggle-bengali/checkpoints/fold{}/\n",
        "      name: {}\n",
        "      is_larger_better: True\n",
        "      main_metric: consonant_recall\n",
        "      save_optimizer_state: False\n",
        "      suffix: _consonant\n",
        "  - MixupOrCutmixCallback:\n",
        "      mixup_prob: 0.5\n",
        "      cutmix_prob: 0.0\n",
        "      no_aug_epochs: 5\n",
        "\n",
        "log_dir: log/\n",
        "num_workers: 2\n",
        "seed: 1213\n",
        "img_size: 128\n",
        "weights:\n",
        "'''.format(i, trial, i, trial, i, trial, i, trial)"
      ],
      "execution_count": 0,
      "outputs": []
    },
    {
      "cell_type": "code",
      "metadata": {
        "colab_type": "code",
        "id": "piePmxjjKQ_P",
        "colab": {}
      },
      "source": [
        "def _get_default():\n",
        "    cfg = edict()\n",
        "\n",
        "    # dataset\n",
        "    cfg.dataset = edict()\n",
        "    cfg.dataset.train = edict()\n",
        "    cfg.dataset.val = edict()\n",
        "    cfg.dataset.test = edict()\n",
        "    cfg.dataset.train.affine = False\n",
        "    cfg.dataset.train.morphology = False\n",
        "    cfg.dataset.train.binarization = False\n",
        "    cfg.dataset.val.affine = False\n",
        "    cfg.dataset.val.morphology = False\n",
        "    cfg.dataset.val.binarization = False\n",
        "    cfg.dataset.test.affine = False\n",
        "    cfg.dataset.test.morphology = False\n",
        "    cfg.dataset.test.binarization = False\n",
        "\n",
        "    # dataset\n",
        "    cfg.data = edict()\n",
        "\n",
        "    # model\n",
        "    cfg.model = edict()\n",
        "    cfg.model.model_name = \"resnet18\"\n",
        "    cfg.model.num_classes = 186\n",
        "    cfg.model.pretrained = True\n",
        "    cfg.model.head = \"linear\"\n",
        "    cfg.model.in_channels = 3\n",
        "    # cfg.model.outputs = [\"grapheme\", \"vowel\", \"consonant\"]\n",
        "\n",
        "    # train\n",
        "    cfg.train = edict()\n",
        "\n",
        "    # test\n",
        "    cfg.test = edict()\n",
        "\n",
        "    # loss\n",
        "    cfg.loss = edict()\n",
        "    cfg.loss.params = edict()\n",
        "\n",
        "    # optimizer\n",
        "    cfg.optimizer = edict()\n",
        "    cfg.optimizer.params = edict()\n",
        "\n",
        "    # scheduler\n",
        "    cfg.scheduler = edict()\n",
        "    cfg.scheduler.params = edict()\n",
        "\n",
        "    # transforms:\n",
        "    cfg.transforms = edict()\n",
        "    cfg.transforms.train = edict()\n",
        "    cfg.transforms.train.HorizontalFlip = False\n",
        "    cfg.transforms.train.VerticalFlip = False\n",
        "    cfg.transforms.train.Noise = False\n",
        "    cfg.transforms.train.Contrast = False\n",
        "    cfg.transforms.train.Rotate = False\n",
        "    cfg.transforms.train.RandomScale = False\n",
        "    cfg.transforms.train.Cutout = edict()\n",
        "    cfg.transforms.train.Cutout.num_holes = 0\n",
        "    cfg.transforms.train.ShiftScaleRotate = False\n",
        "    cfg.transforms.train.RandomResizedCrop = False\n",
        "    cfg.transforms.train.CoarseDropout = False\n",
        "    cfg.transforms.train.GridDistortion = False\n",
        "    cfg.transforms.val = edict()\n",
        "    cfg.transforms.val.HorizontalFlip = False\n",
        "    cfg.transforms.val.VerticalFlip = False\n",
        "    cfg.transforms.val.Noise = False\n",
        "    cfg.transforms.val.Contrast = False\n",
        "    cfg.transforms.val.Rotate = False\n",
        "    cfg.transforms.val.RandomScale = False\n",
        "    cfg.transforms.val.Cutout = edict()\n",
        "    cfg.transforms.val.Cutout.num_holes = 0\n",
        "    cfg.transforms.val.ShiftScaleRotate = False\n",
        "    cfg.transforms.val.RandomResizedCrop = False\n",
        "    cfg.transforms.val.CoarseDropout = False\n",
        "    cfg.transforms.val.GridDistortion = False\n",
        "    cfg.transforms.test = edict()\n",
        "    cfg.transforms.test.HorizontalFlip = False\n",
        "    cfg.transforms.test.VerticalFlip = False\n",
        "    cfg.transforms.test.Noise = False\n",
        "    cfg.transforms.test.Contrast = False\n",
        "    cfg.transforms.test.Rotate = False\n",
        "    cfg.transforms.test.RandomScale = False\n",
        "    cfg.transforms.test.Cutout = edict()\n",
        "    cfg.transforms.test.Cutout.num_holes = 0\n",
        "    cfg.transforms.test.ShiftScaleRotate = False\n",
        "    cfg.transforms.test.RandomResizedCrop = False\n",
        "    cfg.transforms.test.CoarseDropout = False\n",
        "    cfg.transforms.test.GridDistortion = False\n",
        "    cfg.transforms.mean = [0.485, 0.456, 0.406]\n",
        "    cfg.transforms.std = [0.229, 0.224, 0.225]\n",
        "\n",
        "    # val\n",
        "    cfg.val = edict()\n",
        "    cfg.val.params = edict()\n",
        "\n",
        "    cfg.callbacks = []\n",
        "\n",
        "    return cfg\n",
        "\n",
        "\n",
        "def _merge_config(src: edict, dst: edict):\n",
        "    if not isinstance(src, edict):\n",
        "        return\n",
        "    for k, v in src.items():\n",
        "        if isinstance(v, edict):\n",
        "            _merge_config(src[k], dst[k])\n",
        "        else:\n",
        "            dst[k] = v"
      ],
      "execution_count": 0,
      "outputs": []
    },
    {
      "cell_type": "code",
      "metadata": {
        "colab_type": "code",
        "id": "DOq2Hol4KQ_S",
        "colab": {}
      },
      "source": [
        "cfg = edict(yaml.load(conf_string, Loader=yaml.SafeLoader))\n",
        "config = _get_default()\n",
        "_merge_config(cfg, config)"
      ],
      "execution_count": 0,
      "outputs": []
    },
    {
      "cell_type": "markdown",
      "metadata": {
        "colab_type": "text",
        "id": "iinSUuVEKQ_V"
      },
      "source": [
        "## Environmental settings"
      ]
    },
    {
      "cell_type": "code",
      "metadata": {
        "colab_type": "code",
        "id": "Mo5V5VT5KQ_W",
        "colab": {}
      },
      "source": [
        "ct.utils.set_global_seed(config.seed + stage)\n",
        "ct.utils.prepare_cudnn(deterministic=True)"
      ],
      "execution_count": 0,
      "outputs": []
    },
    {
      "cell_type": "code",
      "metadata": {
        "colab_type": "code",
        "id": "EHv73-KuKQ_Y",
        "colab": {}
      },
      "source": [
        "output_base_dir = Path(\"output\")\n",
        "output_base_dir.mkdir(exist_ok=True, parents=True)\n",
        "\n",
        "train_images_path = Path(config.data.train_images_path)"
      ],
      "execution_count": 0,
      "outputs": []
    },
    {
      "cell_type": "markdown",
      "metadata": {
        "colab_type": "text",
        "id": "nowCCU9GKQ_b",
        "toc-hr-collapsed": true
      },
      "source": [
        "## Data and utilities preparation"
      ]
    },
    {
      "cell_type": "markdown",
      "metadata": {
        "colab_type": "text",
        "id": "hAy9mKC1KQ_c"
      },
      "source": [
        "### validation utils"
      ]
    },
    {
      "cell_type": "code",
      "metadata": {
        "colab_type": "code",
        "id": "38wcJQJEKQ_c",
        "colab": {}
      },
      "source": [
        "def no_fold(df: pd.DataFrame,\n",
        "            config: edict) -> List[Tuple[np.ndarray, np.ndarray]]:\n",
        "    params = config.val.params\n",
        "    idx = np.arange(len(df))\n",
        "    trn_idx, val_idx = train_test_split(idx, **params)\n",
        "    return [(trn_idx, val_idx)]\n",
        "\n",
        "\n",
        "def kfold(df: pd.DataFrame,\n",
        "          config: edict) -> List[Tuple[np.ndarray, np.ndarray]]:\n",
        "    params = config.val.params\n",
        "    kf = KFold(shuffle=True, **params)\n",
        "    splits = list(kf.split(df))\n",
        "    return splits\n",
        "\n",
        "\n",
        "def get_validation(df: pd.DataFrame,\n",
        "                   config: edict) -> List[Tuple[np.ndarray, np.ndarray]]:\n",
        "    name: str = config.val.name\n",
        "\n",
        "    func = globals().get(name)\n",
        "    if func is None:\n",
        "        raise NotImplementedError\n",
        "\n",
        "    return func(df, config)"
      ],
      "execution_count": 0,
      "outputs": []
    },
    {
      "cell_type": "markdown",
      "metadata": {
        "colab_type": "text",
        "id": "xE5iD2HAKQ_f"
      },
      "source": [
        "### transforms"
      ]
    },
    {
      "cell_type": "code",
      "metadata": {
        "colab_type": "code",
        "id": "qvCvJ5ScKQ_f",
        "colab": {}
      },
      "source": [
        "def get_transforms(config: edict, phase: str = \"train\"):\n",
        "    assert phase in [\"train\", \"valid\", \"test\"]\n",
        "    if phase == \"train\":\n",
        "        cfg = config.transforms.train\n",
        "    elif phase == \"valid\":\n",
        "        cfg = config.transforms.val\n",
        "    elif phase == \"test\":\n",
        "        cfg = config.transforms.test\n",
        "    list_transforms = []\n",
        "    if cfg.HorizontalFlip:\n",
        "        list_transforms.append(A.HorizontalFrip())\n",
        "    if cfg.VerticalFlip:\n",
        "        list_transforms.append(A.VerticalFlip())\n",
        "    if cfg.Rotate:\n",
        "        list_transforms.append(A.Rotate(limit=15))\n",
        "    if cfg.RandomScale:\n",
        "        list_transforms.append(A.RandomScale())\n",
        "    if cfg.Noise:\n",
        "        list_transforms.append(\n",
        "            A.OneOf(\n",
        "                [A.GaussNoise(), A.IAAAdditiveGaussianNoise()], p=0.5))\n",
        "    if cfg.Contrast:\n",
        "        list_transforms.append(\n",
        "            A.OneOf(\n",
        "                [A.RandomContrast(0.5),\n",
        "                 A.RandomGamma(),\n",
        "                 A.RandomBrightness()],\n",
        "                p=0.5))\n",
        "    if cfg.Cutout.num_holes > 0:\n",
        "        list_transforms.append(A.Cutout(**cfg.Cutout))\n",
        "    if cfg.ShiftScaleRotate:\n",
        "        list_transforms.append(\n",
        "            A.ShiftScaleRotate(\n",
        "                shift_limit=0.0625, scale_limit=0, rotate_limit=7, p=0.5))\n",
        "    if cfg.RandomResizedCrop:\n",
        "        list_transforms.append(\n",
        "            A.RandomResizedCrop(128, 128, scale=(0.8, 1), p=0.5))\n",
        "    if cfg.CoarseDropout:\n",
        "        list_transforms.append(\n",
        "            A.CoarseDropout(max_holes=8, max_height=8, max_width=8, p=0.2))\n",
        "    if cfg.GridDistortion:\n",
        "        list_transforms.append(A.GridDistortion(p=0.2))\n",
        "\n",
        "    list_transforms.append(\n",
        "        A.Normalize(\n",
        "            mean=config.transforms.mean,\n",
        "            std=config.transforms.std,\n",
        "            p=1,\n",
        "            always_apply=True))\n",
        "\n",
        "    return A.Compose(list_transforms, p=1.0)"
      ],
      "execution_count": 0,
      "outputs": []
    },
    {
      "cell_type": "markdown",
      "metadata": {
        "colab_type": "text",
        "id": "5mQCOAtuLtV3"
      },
      "source": [
        "### Data Loading"
      ]
    },
    {
      "cell_type": "code",
      "metadata": {
        "colab_type": "code",
        "id": "GdTnGd0aLu-8",
        "colab": {}
      },
      "source": [
        "df = pd.read_csv(config.data.train_df_path)\n",
        "splits = get_validation(df, config)\n",
        "\n",
        "transforms_dict = {\n",
        "    phase: get_transforms(config, phase)\n",
        "    for phase in [\"train\", \"valid\"]\n",
        "}\n",
        "\n",
        "cls_levels = {\n",
        "    \"grapheme\": df.grapheme_root.nunique(),\n",
        "    \"vowel\": df.vowel_diacritic.nunique(),\n",
        "    \"consonant\": df.consonant_diacritic.nunique()\n",
        "}"
      ],
      "execution_count": 0,
      "outputs": []
    },
    {
      "cell_type": "markdown",
      "metadata": {
        "colab_type": "text",
        "id": "k3X2245OKQ_j"
      },
      "source": [
        "## Dataset and DataLoader"
      ]
    },
    {
      "cell_type": "code",
      "metadata": {
        "colab_type": "code",
        "id": "Hj6MHrqXKQ_j",
        "colab": {}
      },
      "source": [
        "class BaseDataset(torchdata.Dataset):\n",
        "    def __init__(self,\n",
        "                 image_dir: Path,\n",
        "                 df: pd.DataFrame,\n",
        "                 transforms,\n",
        "                 size: Tuple[int, int],\n",
        "                 binarization=False):\n",
        "        self.df = df\n",
        "        self.image_dir = image_dir\n",
        "        self.transforms = transforms\n",
        "        self.size = size\n",
        "        self.binarization = binarization\n",
        "\n",
        "    def __len__(self):\n",
        "        return len(self.df)\n",
        "\n",
        "    def __getitem__(self, idx):\n",
        "        image_id = self.df.loc[idx, \"image_id\"]\n",
        "        image_path = self.image_dir / f\"{image_id}.png\"\n",
        "\n",
        "        image = cv2.imread(str(image_path))\n",
        "        if self.binarization:\n",
        "            image = binarization_and_opening(image)\n",
        "        longer_side = image.shape[1]\n",
        "        if image.ndim == 2:\n",
        "            new_image = np.ones(\n",
        "                (longer_side, longer_side), dtype=np.uint8) * 255\n",
        "        else:\n",
        "            new_image = np.ones(\n",
        "                (longer_side, longer_side, 3), dtype=np.uint8) * 255\n",
        "        offset = np.random.randint(0, longer_side - image.shape[0])\n",
        "        new_image[offset:offset + image.shape[0], :] = image\n",
        "\n",
        "        if self.transforms is not None:\n",
        "            image = self.transforms(image=new_image)[\"image\"]\n",
        "        image = cv2.resize(image, self.size)\n",
        "        if image.shape[2] == 3:\n",
        "            image = np.moveaxis(image, -1, 0)\n",
        "        grapheme = self.df.loc[idx, \"grapheme_root\"]\n",
        "        vowel = self.df.loc[idx, \"vowel_diacritic\"]\n",
        "        consonant = self.df.loc[idx, \"consonant_diacritic\"]\n",
        "        label = np.zeros(3, dtype=int)\n",
        "        label[0] = grapheme\n",
        "        label[1] = vowel\n",
        "        label[2] = consonant\n",
        "        return {\"images\": image, \"targets\": label}\n",
        "    \n",
        "    \n",
        "def get_base_loader(df: pd.DataFrame,\n",
        "                    image_dir: Path,\n",
        "                    phase: str = \"train\",\n",
        "                    size: Tuple[int, int] = (128, 128),\n",
        "                    batch_size=256,\n",
        "                    num_workers=2,\n",
        "                    transforms=None,\n",
        "                    binarization=False):\n",
        "    assert phase in [\"train\", \"valid\"]\n",
        "    if phase == \"train\":\n",
        "        is_shuffle = True\n",
        "        drop_last = True\n",
        "    else:\n",
        "        is_shuffle = False\n",
        "        drop_last = False\n",
        "\n",
        "    dataset = BaseDataset(  # type: ignore\n",
        "        image_dir, df, transforms, size, binarization)\n",
        "    return torchdata.DataLoader(\n",
        "        dataset,\n",
        "        batch_size=batch_size,\n",
        "        shuffle=is_shuffle,\n",
        "        num_workers=num_workers,\n",
        "        pin_memory=True,\n",
        "        drop_last=drop_last)"
      ],
      "execution_count": 0,
      "outputs": []
    },
    {
      "cell_type": "markdown",
      "metadata": {
        "colab_type": "text",
        "id": "yc6F3Pu5KQ_m",
        "toc-hr-collapsed": true
      },
      "source": [
        "## Model and Loss"
      ]
    },
    {
      "cell_type": "markdown",
      "metadata": {
        "colab_type": "text",
        "id": "PjBhyu98KQ_n"
      },
      "source": [
        "### Model"
      ]
    },
    {
      "cell_type": "code",
      "metadata": {
        "colab_type": "code",
        "id": "wABhZZ9LKQ_o",
        "colab": {}
      },
      "source": [
        "def gem(x: torch.Tensor, p=3, eps=1e-6):\n",
        "    return F.avg_pool2d(x.clamp(min=eps).pow(p),\n",
        "                        (x.size(-2), x.size(-1))).pow(1. / p)\n",
        "\n",
        "\n",
        "def mish(input):\n",
        "    '''\n",
        "    Applies the mish function element-wise:\n",
        "    mish(x) = x * tanh(softplus(x)) = x * tanh(ln(1 + exp(x)))\n",
        "    See additional documentation for mish class.\n",
        "    '''\n",
        "    return input * torch.tanh(F.softplus(input))\n",
        "\n",
        "\n",
        "class Mish(nn.Module):\n",
        "    '''\n",
        "    Applies the mish function element-wise:\n",
        "    mish(x) = x * tanh(softplus(x)) = x * tanh(ln(1 + exp(x)))\n",
        "    Shape:\n",
        "        - Input: (N, *) where * means, any number of additional\n",
        "          dimensions\n",
        "        - Output: (N, *), same shape as the input\n",
        "    Examples:\n",
        "        >>> m = Mish()\n",
        "        >>> input = torch.randn(2)\n",
        "        >>> output = m(input)\n",
        "    '''\n",
        "\n",
        "    def __init__(self):\n",
        "        '''\n",
        "        Init method.\n",
        "        '''\n",
        "        super().__init__()\n",
        "\n",
        "    def forward(self, input):\n",
        "        '''\n",
        "        Forward pass of the function.\n",
        "        '''\n",
        "        return mish(input)\n",
        "\n",
        "\n",
        "class GeM(nn.Module):\n",
        "    def __init__(self, p=3, eps=1e-6):\n",
        "        super(GeM, self).__init__()\n",
        "        self.p = Parameter(torch.ones(1) * p)\n",
        "        self.eps = eps\n",
        "\n",
        "    def forward(self, x):\n",
        "        return gem(x, p=self.p, eps=self.eps).squeeze(-1).squeeze(-1)\n",
        "\n",
        "    def __repr__(self):\n",
        "        return self.__class__.__name__ + '(' + 'p=' + '{:.4f}'.format(\n",
        "            self.p.data.tolist()[0]) + ', ' + 'eps=' + str(self.eps) + ')'\n",
        "\n",
        "\n",
        "class SpatialAttention2d(nn.Module):\n",
        "    def __init__(self, channel):\n",
        "        super(SpatialAttention2d, self).__init__()\n",
        "        self.squeeze = nn.Conv2d(channel, 1, kernel_size=1, bias=False)\n",
        "        self.sigmoid = nn.Sigmoid()\n",
        "\n",
        "    def forward(self, x):\n",
        "        z = self.squeeze(x)\n",
        "        z = self.sigmoid(z)\n",
        "        return x * z\n",
        "\n",
        "\n",
        "class GAB(nn.Module):\n",
        "    def __init__(self, input_dim, reduction=4):\n",
        "        super(GAB, self).__init__()\n",
        "        self.global_avgpool = nn.AdaptiveAvgPool2d(1)\n",
        "        self.conv1 = nn.Conv2d(\n",
        "            input_dim, input_dim // reduction, kernel_size=1, stride=1)\n",
        "        self.conv2 = nn.Conv2d(\n",
        "            input_dim // reduction, input_dim, kernel_size=1, stride=1)\n",
        "        self.relu = nn.ReLU(inplace=True)\n",
        "        self.sigmoid = nn.Sigmoid()\n",
        "\n",
        "    def forward(self, x):\n",
        "        z = self.global_avgpool(x)\n",
        "        z = self.relu(self.conv1(z))\n",
        "        z = self.sigmoid(self.conv2(z))\n",
        "        return x * z\n",
        "\n",
        "\n",
        "class SCse(nn.Module):\n",
        "    def __init__(self, dim):\n",
        "        super(SCse, self).__init__()\n",
        "        self.satt = SpatialAttention2d(dim)\n",
        "        self.catt = GAB(dim)\n",
        "\n",
        "    def forward(self, x):\n",
        "        return self.satt(x) + self.catt(x)\n",
        "    \n",
        "    \n",
        "class SEResNext(nn.Module):\n",
        "    def __init__(self,\n",
        "                 model_name: str,\n",
        "                 num_classes: int,\n",
        "                 pretrained=None,\n",
        "                 head=\"linear\",\n",
        "                 in_channels=3):\n",
        "        super().__init__()\n",
        "        self.num_classes = num_classes\n",
        "        self.base = getattr(pretrainedmodels.models,\n",
        "                            model_name)(pretrained=pretrained)\n",
        "        self.head = head\n",
        "        assert in_channels in [1, 3]\n",
        "        assert head in [\"linear\", \"custom\", \"scse\"]\n",
        "        if in_channels == 1:\n",
        "            if pretrained == \"imagenet\":\n",
        "                weight = self.base.layer0.conv1.weight\n",
        "                self.base.layer0.conv1 = nn.Conv2d(\n",
        "                    1, 64, kernel_size=7, stride=2, padding=3, bias=False)\n",
        "                self.base.layer0.conv1.weight = nn.Parameter(\n",
        "                    data=torch.mean(weight, dim=1, keepdim=True),\n",
        "                    requires_grad=True)\n",
        "            else:\n",
        "                self.base.layer0.conv1 = nn.Conv2d(\n",
        "                    1, 64, kernel_size=7, stride=2, padding=3, bias=False)\n",
        "        if head == \"linear\":\n",
        "            n_in_features = self.base.last_linear.in_features\n",
        "            self.base.last_linear = nn.Linear(n_in_features, self.num_classes)\n",
        "        elif head == \"custom\":\n",
        "            n_in_features = self.base.last_linear.in_features\n",
        "            arch = list(self.base.children())\n",
        "            for _ in range(2):\n",
        "                arch.pop()\n",
        "            self.base = nn.Sequential(*arch)\n",
        "            self.grapheme_head = nn.Sequential(\n",
        "                Mish(), nn.Conv2d(n_in_features, 512, kernel_size=3),\n",
        "                nn.BatchNorm2d(512), GeM(), nn.Linear(\n",
        "                    512, 168))\n",
        "            self.vowel_head = nn.Sequential(\n",
        "                Mish(), nn.Conv2d(n_in_features, 512, kernel_size=3),\n",
        "                nn.BatchNorm2d(512), GeM(), nn.Linear(\n",
        "                    512, 11))\n",
        "            self.consonant_head = nn.Sequential(\n",
        "                Mish(), nn.Conv2d(n_in_features, 512, kernel_size=3),\n",
        "                nn.BatchNorm2d(512), GeM(), nn.Linear(512, 7))\n",
        "        elif head == \"scse\":\n",
        "            n_in_features = self.base.last_linear.in_features\n",
        "            arch = list(self.base.children())\n",
        "            for _ in range(2):\n",
        "                arch.pop()\n",
        "            self.base = nn.Sequential(*arch)\n",
        "            self.grapheme_head = nn.Sequential(\n",
        "                SCse(n_in_features), Mish(), nn.BatchNorm2d(512), GeM(),\n",
        "                nn.Dropout(0.3), nn.Linear(512, 168))\n",
        "            self.vowel_head = nn.Sequential(\n",
        "                SCse(n_in_features), Mish(), nn.BatchNorm2d(512), GeM(),\n",
        "                nn.Dropout(0.3), nn.Linear(512, 11))\n",
        "            self.consonant_head = nn.Sequential(\n",
        "                SCse(n_in_features), Mish(), nn.BatchNorm2d(512), GeM(),\n",
        "                nn.Dropout(0.3), nn.Linear(512, 7))\n",
        "        else:\n",
        "            raise NotImplementedError\n",
        "\n",
        "    def forward(self, x):\n",
        "        if self.head == \"linear\":\n",
        "            return self.base(x)\n",
        "        elif self.head == \"custom\":\n",
        "            x = self.base(x)\n",
        "            grapheme = self.grapheme_head(x)\n",
        "            vowel = self.vowel_head(x)\n",
        "            consonant = self.consonant_head(x)\n",
        "            return torch.cat([grapheme, vowel, consonant], dim=1)\n",
        "        elif self.head == \"scse\":\n",
        "            x = self.base(x)\n",
        "            grapheme = self.grapheme_head(x)\n",
        "            vowel = self.vowel_head(x)\n",
        "            consonant = self.consonant_head(x)\n",
        "            return torch.cat([grapheme, vowel, consonant], dim=1)\n",
        "        else:\n",
        "            raise NotImplementedError\n",
        "\n",
        "\n",
        "class Resnet(nn.Module):\n",
        "    def __init__(self,\n",
        "                 model_name: str,\n",
        "                 num_classes: int,\n",
        "                 pretrained=False,\n",
        "                 head=\"linear\",\n",
        "                 in_channels=3):\n",
        "        super().__init__()\n",
        "        self.num_classes = num_classes\n",
        "        self.base = getattr(models, model_name)(pretrained=pretrained)\n",
        "        self.head = head\n",
        "        assert in_channels in [1, 3]\n",
        "        assert head in [\"linear\", \"custom\", \"scse\"]\n",
        "        if in_channels == 1:\n",
        "            if pretrained:\n",
        "                weight = self.base.conv1.weight\n",
        "                self.base.conv1 = nn.Conv2d(\n",
        "                    1, 64, kernel_size=7, stride=2, padding=3, bias=False)\n",
        "                self.base.conv1.weight = nn.Parameter(\n",
        "                    data=torch.mean(weight, dim=1, keepdim=True),\n",
        "                    requires_grad=True)\n",
        "            else:\n",
        "                self.base.conv1 = nn.Conv2d(\n",
        "                    1, 64, kernel_size=7, stride=2, padding=3, bias=False)\n",
        "        if head == \"linear\":\n",
        "            n_in_features = self.base.fc.in_features\n",
        "            self.base.fc = nn.Linear(n_in_features, self.num_classes)\n",
        "        elif head == \"custom\":\n",
        "            n_in_features = self.base.fc.in_features\n",
        "            arch = list(self.base.children())\n",
        "            for _ in range(2):\n",
        "                arch.pop()\n",
        "            self.base = nn.Sequential(*arch)\n",
        "            self.grapheme_head = nn.Sequential(\n",
        "                Mish(), nn.Conv2d(n_in_features, 512, kernel_size=3),\n",
        "                nn.BatchNorm2d(512), GeM(), nn.Linear(512, 168))\n",
        "            self.vowel_head = nn.Sequential(\n",
        "                Mish(), nn.Conv2d(n_in_features, 512, kernel_size=3),\n",
        "                nn.BatchNorm2d(512), GeM(), nn.Linear(512, 11))\n",
        "            self.consonant_head = nn.Sequential(\n",
        "                Mish(), nn.Conv2d(n_in_features, 512, kernel_size=3),\n",
        "                nn.BatchNorm2d(512), GeM(), nn.Linear(512, 7))\n",
        "        elif head == \"scse\":\n",
        "            n_in_features = self.base.fc.in_features\n",
        "            arch = list(self.base.children())\n",
        "            for _ in range(2):\n",
        "                arch.pop()\n",
        "            self.base = nn.Sequential(*arch)\n",
        "            self.grapheme_head = nn.Sequential(\n",
        "                SCse(n_in_features), Mish(), nn.BatchNorm2d(512), GeM(),\n",
        "                nn.Dropout(0.3), nn.Linear(512, 168))\n",
        "            self.vowel_head = nn.Sequential(\n",
        "                SCse(n_in_features), Mish(), nn.BatchNorm2d(512), GeM(),\n",
        "                nn.Dropout(0.3), nn.Linear(512, 11))\n",
        "            self.consonant_head = nn.Sequential(\n",
        "                SCse(n_in_features), Mish(), nn.BatchNorm2d(512), GeM(),\n",
        "                nn.Dropout(0.3), nn.Linear(512, 7))\n",
        "        else:\n",
        "            raise NotImplementedError\n",
        "\n",
        "    def forward(self, x):\n",
        "        if self.head == \"linear\":\n",
        "            return self.base(x)\n",
        "        elif self.head == \"custom\":\n",
        "            x = self.base(x)\n",
        "            grapheme = self.grapheme_head(x)\n",
        "            vowel = self.vowel_head(x)\n",
        "            consonant = self.consonant_head(x)\n",
        "            return torch.cat([grapheme, vowel, consonant], dim=1)\n",
        "        elif self.head == \"scse\":\n",
        "            x = self.base(x)\n",
        "            grapheme = self.grapheme_head(x)\n",
        "            vowel = self.vowel_head(x)\n",
        "            consonant = self.consonant_head(x)\n",
        "            return torch.cat([grapheme, vowel, consonant], dim=1)\n",
        "        else:\n",
        "            raise NotImplementedError\n",
        "\n",
        "\n",
        "def get_model(config: edict):\n",
        "    params = config.model\n",
        "    if \"resnet\" in params.model_name:\n",
        "        return Resnet(**params)\n",
        "    elif \"se_resnext\" in params.model_name:\n",
        "        return SEResNext(**params)\n",
        "    else:\n",
        "        raise NotImplementedError"
      ],
      "execution_count": 0,
      "outputs": []
    },
    {
      "cell_type": "markdown",
      "metadata": {
        "colab_type": "text",
        "id": "-IPNqFE5KQ_q"
      },
      "source": [
        "### Loss"
      ]
    },
    {
      "cell_type": "code",
      "metadata": {
        "colab_type": "code",
        "id": "lXKZUtQdKQ_r",
        "colab": {}
      },
      "source": [
        "class BengaliCrossEntropyLoss(nn.Module):\n",
        "    def __init__(self, n_grapheme: int, n_vowel: int, n_consonant: int, weights=[1.0, 1.0, 1.0]):\n",
        "        super().__init__()\n",
        "        self.n_grapheme = n_grapheme\n",
        "        self.n_vowel = n_vowel\n",
        "        self.n_consonant = n_consonant\n",
        "        self.cross_entropy = nn.CrossEntropyLoss()\n",
        "        self.weights = weights\n",
        "\n",
        "    def forward(self, pred, true):\n",
        "        head = 0\n",
        "        tail = self.n_grapheme\n",
        "        grapheme_pred = pred[:, head:tail]\n",
        "        grapheme_true = true[:, 0]\n",
        "\n",
        "        head = tail\n",
        "        tail = head + self.n_vowel\n",
        "        vowel_pred = pred[:, head:tail]\n",
        "        vowel_true = true[:, 1]\n",
        "\n",
        "        head = tail\n",
        "        tail = head + self.n_consonant\n",
        "        consonant_pred = pred[:, head:tail]\n",
        "        consonant_true = true[:, 2]\n",
        "\n",
        "        return self.weights[0] * self.cross_entropy(grapheme_pred, grapheme_true) + \\\n",
        "            self.weights[1] * self.cross_entropy(vowel_pred, vowel_true) + \\\n",
        "            self.weights[2] * self.cross_entropy(consonant_pred, consonant_true)\n",
        "\n",
        "\n",
        "class BengaliBCELoss(nn.Module):\n",
        "    def __init__(self, n_grapheme: int, n_vowel: int, n_consonant: int):\n",
        "        super().__init__()\n",
        "        self.n_grapheme = n_grapheme\n",
        "        self.n_vowel = n_vowel\n",
        "        self.n_consonant = n_consonant\n",
        "        self.bce = nn.BCEWithLogitsLoss()\n",
        "\n",
        "    def forward(self, pred, true):\n",
        "        head = 0\n",
        "        tail = self.n_grapheme\n",
        "        grapheme_pred = pred[:, head:tail]\n",
        "        grapheme_true = true[:, head:tail]\n",
        "\n",
        "        head = tail\n",
        "        tail = head + self.n_vowel\n",
        "        vowel_pred = pred[:, head:tail]\n",
        "        vowel_true = true[:, head:tail]\n",
        "\n",
        "        head = tail\n",
        "        tail = head + self.n_consonant\n",
        "        consonant_pred = pred[:, head:tail]\n",
        "        consonant_true = true[:, head:tail]\n",
        "\n",
        "        return self.bce(grapheme_pred, grapheme_true) + \\\n",
        "            self.bce(vowel_pred, vowel_true) + \\\n",
        "            self.bce(consonant_pred, consonant_true)\n",
        "    \n",
        "    \n",
        "class BengaliFocalLoss(nn.Module):\n",
        "    def __init__(self,\n",
        "                 n_grapheme: int,\n",
        "                 n_vowel: int,\n",
        "                 n_consonant: int,\n",
        "                 weights=(1.0, 1.0, 1.0)):\n",
        "        super().__init__()\n",
        "        self.n_grapheme = n_grapheme\n",
        "        self.n_vowel = n_vowel\n",
        "        self.n_consonant = n_consonant\n",
        "        self.grapheme_focal = FocalLoss(logits=True, n_class=n_grapheme)\n",
        "        self.vowel_focal = FocalLoss(logits=True, n_class=n_vowel)\n",
        "        self.consonant_focal = FocalLoss(logits=True, n_class=n_consonant)\n",
        "        self.weights = weights\n",
        "\n",
        "    def forward(self, pred, true):\n",
        "        head = 0\n",
        "        tail = self.n_grapheme\n",
        "        grapheme_pred = pred[:, head:tail]\n",
        "        grapheme_true = true[:, 0]\n",
        "\n",
        "        head = tail\n",
        "        tail = head + self.n_vowel\n",
        "        vowel_pred = pred[:, head:tail]\n",
        "        vowel_true = true[:, 1]\n",
        "\n",
        "        head = tail\n",
        "        tail = head + self.n_consonant\n",
        "        consonant_pred = pred[:, head:tail]\n",
        "        consonant_true = true[:, 2]\n",
        "\n",
        "        return self.weights[0] * self.grapheme_focal(\n",
        "            grapheme_pred, grapheme_true) + \\\n",
        "            self.weights[1] * self.vowel_focal(vowel_pred, vowel_true) + \\\n",
        "            self.weights[2] * self.consonant_focal(\n",
        "                consonant_pred, consonant_true)\n",
        "            \n",
        "\n",
        "class FocalLoss(nn.Module):\n",
        "    def __init__(self,\n",
        "                 alpha=1,\n",
        "                 gamma=2,\n",
        "                 logits=False,\n",
        "                 n_class=168,\n",
        "                 reduction='elementwise_mean'):\n",
        "        super(FocalLoss, self).__init__()\n",
        "        self.alpha = alpha\n",
        "        self.gamma = gamma\n",
        "        self.logits = logits\n",
        "        self.reduction = reduction\n",
        "        self.eye = torch.eye(n_class).to(get_device())\n",
        "\n",
        "    def forward(self, inputs, targets):\n",
        "        one_hot = self.eye[targets]\n",
        "        if self.logits:\n",
        "            BCE_loss = F.binary_cross_entropy_with_logits(\n",
        "                inputs, one_hot, reduction='none')\n",
        "        else:\n",
        "            BCE_loss = F.binary_cross_entropy(\n",
        "                inputs, one_hot, reduction='none')\n",
        "        pt = torch.exp(-BCE_loss)\n",
        "        F_loss = self.alpha * (1 - pt)**self.gamma * BCE_loss\n",
        "\n",
        "        if self.reduction is None:\n",
        "            return F_loss\n",
        "        else:\n",
        "            return torch.mean(F_loss)\n",
        "    \n",
        "    \n",
        "class BengaliMultiMarginLoss(nn.Module):\n",
        "    def __init__(self,\n",
        "                 n_grapheme: int,\n",
        "                 n_vowel: int,\n",
        "                 n_consonant: int,\n",
        "                 weights=(1.0, 1.0, 1.0)):\n",
        "        super().__init__()\n",
        "        self.n_grapheme = n_grapheme\n",
        "        self.n_vowel = n_vowel\n",
        "        self.n_consonant = n_consonant\n",
        "        self.margin = nn.MultiMarginLoss()\n",
        "        self.weights = weights\n",
        "\n",
        "    def forward(self, pred, true):\n",
        "        head = 0\n",
        "        tail = self.n_grapheme\n",
        "        grapheme_pred = pred[:, head:tail]\n",
        "        grapheme_true = true[:, 0]\n",
        "\n",
        "        head = tail\n",
        "        tail = head + self.n_vowel\n",
        "        vowel_pred = pred[:, head:tail]\n",
        "        vowel_true = true[:, 1]\n",
        "\n",
        "        head = tail\n",
        "        tail = head + self.n_consonant\n",
        "        consonant_pred = pred[:, head:tail]\n",
        "        consonant_true = true[:, 2]\n",
        "\n",
        "        return self.weights[0] * self.margin(\n",
        "            grapheme_pred, grapheme_true) + \\\n",
        "            self.weights[1] * self.margin(vowel_pred, vowel_true) + \\\n",
        "            self.weights[2] * self.margin(\n",
        "                consonant_pred, consonant_true)\n",
        "    \n",
        "    \n",
        "class OHEMLoss(nn.Module):\n",
        "    def __init__(self, rate=0.7):\n",
        "        super().__init__()\n",
        "        self.rate = rate\n",
        "\n",
        "    def forward(self, pred, target):\n",
        "        batch_size = pred.size(0)\n",
        "        ohem_cls_loss = F.cross_entropy(\n",
        "            pred, target, reduction=\"none\", ignore_index=-1)\n",
        "\n",
        "        sorted_ohem_loss, idx = torch.sort(ohem_cls_loss, descending=True)\n",
        "        keep_num = min(sorted_ohem_loss.size(0), int(batch_size * self.rate))\n",
        "        if keep_num < sorted_ohem_loss.size(0):\n",
        "            keep_idx_cuda = idx[:keep_num]\n",
        "            ohem_cls_loss = ohem_cls_loss[keep_idx_cuda]\n",
        "        cls_loss = ohem_cls_loss.sum() / keep_num\n",
        "        return cls_loss\n",
        "\n",
        "\n",
        "class BengaliOHEMLoss(nn.Module):\n",
        "    def __init__(self,\n",
        "                 n_grapheme: int,\n",
        "                 n_vowel: int,\n",
        "                 n_consonant: int,\n",
        "                 weights=(1.0, 1.0, 1.0),\n",
        "                 rate=0.7):\n",
        "        super().__init__()\n",
        "        self.n_grapheme = n_grapheme\n",
        "        self.n_vowel = n_vowel\n",
        "        self.n_consonant = n_consonant\n",
        "        self.ohem = OHEMLoss(rate=rate)\n",
        "        self.weights = weights\n",
        "\n",
        "    def forward(self, pred, true):\n",
        "        head = 0\n",
        "        tail = self.n_grapheme\n",
        "        grapheme_pred = pred[:, head:tail]\n",
        "        grapheme_true = true[:, 0]\n",
        "\n",
        "        head = tail\n",
        "        tail = head + self.n_vowel\n",
        "        vowel_pred = pred[:, head:tail]\n",
        "        vowel_true = true[:, 1]\n",
        "\n",
        "        head = tail\n",
        "        tail = head + self.n_consonant\n",
        "        consonant_pred = pred[:, head:tail]\n",
        "        consonant_true = true[:, 2]\n",
        "\n",
        "        return self.weights[0] * self.ohem(\n",
        "            grapheme_pred, grapheme_true) + \\\n",
        "            self.weights[1] * self.ohem(vowel_pred, vowel_true) + \\\n",
        "            self.weights[2] * self.ohem(\n",
        "                consonant_pred, consonant_true)\n",
        "\n",
        "\n",
        "def get_loss(config: edict):\n",
        "    name = config.loss.name\n",
        "    params = config.loss.params\n",
        "    if name == \"bce\":\n",
        "        criterion = BengaliBCELoss(**params)\n",
        "    elif name == \"cross_entropy\":\n",
        "        criterion = BengaliCrossEntropyLoss(**params)  # type: ignore\n",
        "    elif name == \"margin\":\n",
        "        criterion = BengaliMultiMarginLoss()  # type: ignore\n",
        "    elif name == \"focal\":\n",
        "        criterion = BengaliFocalLoss(**params)  # type: ignore\n",
        "    elif name == \"ohem\":\n",
        "        criterion = BengaliOHEMLoss(**params)  # type: ignore\n",
        "    else:\n",
        "        raise NotImplementedError\n",
        "    return criterion"
      ],
      "execution_count": 0,
      "outputs": []
    },
    {
      "cell_type": "markdown",
      "metadata": {
        "colab_type": "text",
        "id": "W4aJX5V_KQ_t",
        "toc-hr-collapsed": true
      },
      "source": [
        "## Optimizer and Scheduler"
      ]
    },
    {
      "cell_type": "markdown",
      "metadata": {
        "colab_type": "text",
        "id": "thU1KR2NKQ_u"
      },
      "source": [
        "### Optimizer"
      ]
    },
    {
      "cell_type": "code",
      "metadata": {
        "colab_type": "code",
        "id": "fWo_pBvzKQ_u",
        "colab": {}
      },
      "source": [
        "Optimizer = Union[Adam, SGD]\n",
        "\n",
        "\n",
        "def get_optimizer(model, config: edict) -> Optimizer:\n",
        "    name = config.optimizer.name\n",
        "    params = config.optimizer.params\n",
        "    if name == \"Adam\":\n",
        "        optimizer = Adam(model.parameters(), **params)\n",
        "    elif name == \"SGD\":\n",
        "        optimizer = Adam(model.parameters(), **params)\n",
        "    else:\n",
        "        raise NotImplementedError\n",
        "    return optimizer"
      ],
      "execution_count": 0,
      "outputs": []
    },
    {
      "cell_type": "markdown",
      "metadata": {
        "colab_type": "text",
        "id": "FmA47o80KQ_z"
      },
      "source": [
        "### Scheduler"
      ]
    },
    {
      "cell_type": "code",
      "metadata": {
        "colab_type": "code",
        "id": "DA7gtPiyKQ_0",
        "colab": {}
      },
      "source": [
        "Scheduler = Optional[\n",
        "    Union[ReduceLROnPlateau, CosineAnnealingLR, CosineAnnealingWarmRestarts]]\n",
        "\n",
        "\n",
        "def get_scheduler(optimizer, config: edict) -> Scheduler:\n",
        "    params = config.scheduler.params\n",
        "    name = config.scheduler.name\n",
        "    scheduler: Scheduler = None\n",
        "    if name == \"plateau\":\n",
        "        scheduler = ReduceLROnPlateau(optimizer, **params)\n",
        "    elif name == \"cosine\":\n",
        "        scheduler = CosineAnnealingLR(optimizer, **params)\n",
        "    elif name == \"cosine_warmup\":\n",
        "        scheduler = CosineAnnealingWarmRestarts(optimizer, **params)\n",
        "\n",
        "    return scheduler"
      ],
      "execution_count": 0,
      "outputs": []
    },
    {
      "cell_type": "markdown",
      "metadata": {
        "colab_type": "text",
        "id": "YB5qDnQIKQ_2"
      },
      "source": [
        "## Callbacks"
      ]
    },
    {
      "cell_type": "code",
      "metadata": {
        "colab_type": "code",
        "id": "9IwyscXBKQ_3",
        "colab": {}
      },
      "source": [
        "class AverageRecall(Callback):\n",
        "    def __init__(self,\n",
        "                 index: int,\n",
        "                 offset: int,\n",
        "                 n_classes: int,\n",
        "                 prefix: str,\n",
        "                 loss_type: str = \"bce\",\n",
        "                 output_key: str = \"logits\",\n",
        "                 target_key: str = \"targets\"):\n",
        "        self.index = index\n",
        "        self.offset = offset\n",
        "        self.n_classes = n_classes\n",
        "        self.prefix = prefix\n",
        "        self.loss_type = loss_type\n",
        "        self.output_key = output_key\n",
        "        self.target_key = target_key\n",
        "        self.recall = 0.0\n",
        "        super().__init__(CallbackOrder.Metric)\n",
        "\n",
        "    def on_loader_start(self, state: RunnerState):\n",
        "        self.prediction: List[int] = []\n",
        "        self.target: List[int] = []\n",
        "\n",
        "    def on_batch_end(self, state: RunnerState):\n",
        "        targ = state.input[self.target_key].detach()\n",
        "        out = state.output[self.output_key].detach()\n",
        "        head = self.offset\n",
        "        tail = self.offset + self.n_classes\n",
        "        if self.loss_type == \"bce\":\n",
        "            pred_np = torch.argmax(\n",
        "                torch.sigmoid(out[:, head:tail]), dim=1).cpu().numpy()\n",
        "            target_np = torch.argmax(targ[:, head:tail], dim=1).cpu().numpy()\n",
        "        else:\n",
        "            pred_np = torch.argmax(out[:, head:tail], dim=1).cpu().numpy()\n",
        "            target_np = targ[:, self.index].cpu().numpy()\n",
        "        self.prediction.extend(pred_np)\n",
        "        self.target.extend(target_np)\n",
        "        score = recall_score(\n",
        "            target_np, pred_np, average=\"macro\", zero_division=0)\n",
        "        state.metrics.add_batch_value(name=\"batch_\" + self.prefix, value=score)\n",
        "\n",
        "    def on_loader_end(self, state: RunnerState):\n",
        "        metric_name = self.prefix\n",
        "        y_true = np.asarray(self.target)\n",
        "        y_pred = np.asarray(self.prediction)\n",
        "\n",
        "        metric = recall_score(y_true, y_pred, average=\"macro\")\n",
        "        state.metrics.epoch_values[state.loader_name][metric_name] = float(\n",
        "            metric)\n",
        "        self.recall = metric\n",
        "\n",
        "\n",
        "class TotalAverageRecall(Callback):\n",
        "    def __init__(self,\n",
        "                 n_grapheme=168,\n",
        "                 n_vowel=11,\n",
        "                 n_consonant=7,\n",
        "                 loss_type: str = \"bce\",\n",
        "                 prefix: str = \"tar\",\n",
        "                 output_key: str = \"logits\",\n",
        "                 target_key: str = \"targets\"):\n",
        "        self.prefix = prefix\n",
        "        self.grapheme_callback = AverageRecall(\n",
        "            index=0,\n",
        "            offset=0,\n",
        "            n_classes=n_grapheme,\n",
        "            prefix=\"grapheme_recall\",\n",
        "            loss_type=loss_type,\n",
        "            output_key=output_key,\n",
        "            target_key=target_key)\n",
        "        self.vowel_callback = AverageRecall(\n",
        "            index=1,\n",
        "            offset=n_grapheme,\n",
        "            n_classes=n_vowel,\n",
        "            prefix=\"vowel_recall\",\n",
        "            loss_type=loss_type,\n",
        "            output_key=output_key,\n",
        "            target_key=target_key)\n",
        "        self.consonant_callback = AverageRecall(\n",
        "            index=2,\n",
        "            offset=n_grapheme + n_vowel,\n",
        "            n_classes=n_consonant,\n",
        "            prefix=\"consonant_recall\",\n",
        "            loss_type=loss_type,\n",
        "            output_key=output_key,\n",
        "            target_key=target_key)\n",
        "        super().__init__(CallbackOrder.Metric)\n",
        "\n",
        "    def on_loader_start(self, state):\n",
        "        self.grapheme_callback.on_loader_start(state)\n",
        "        self.vowel_callback.on_loader_start(state)\n",
        "        self.consonant_callback.on_loader_start(state)\n",
        "\n",
        "    def on_batch_end(self, state: RunnerState):\n",
        "        self.grapheme_callback.on_batch_end(state)\n",
        "        self.vowel_callback.on_batch_end(state)\n",
        "        self.consonant_callback.on_batch_end(state)\n",
        "\n",
        "    def on_loader_end(self, state: RunnerState):\n",
        "        self.grapheme_callback.on_loader_end(state)\n",
        "        self.vowel_callback.on_loader_end(state)\n",
        "        self.consonant_callback.on_loader_end(state)\n",
        "\n",
        "        grapheme_recall = self.grapheme_callback.recall\n",
        "        vowel_recall = self.vowel_callback.recall\n",
        "        consonant_recall = self.consonant_callback.recall\n",
        "        final_score = np.average(\n",
        "            [grapheme_recall, vowel_recall, consonant_recall],\n",
        "            weights=[2, 1, 1])\n",
        "        state.metrics.epoch_values[state.loader_name][self.\n",
        "                                                      prefix] = final_score\n",
        "\n",
        "\n",
        "\n",
        "class SaveWeightsCallback(Callback):\n",
        "    def __init__(self,\n",
        "                 to: Optional[Union[Path, str]] = None,\n",
        "                 name: str = \"\",\n",
        "                 is_larger_better=True,\n",
        "                 main_metric=\"tar\",\n",
        "                 save_optimizer_state=True,\n",
        "                 suffix=\"\"):\n",
        "        self.to = to\n",
        "        if isinstance(self.to, str):\n",
        "            self.to = Path(self.to)\n",
        "        self.name = name\n",
        "        self.best = -np.inf if is_larger_better else np.inf\n",
        "        self.is_larger_better = is_larger_better\n",
        "        self.main_metric = main_metric\n",
        "        self.save_optimizer_state = save_optimizer_state\n",
        "        self.suffix = suffix\n",
        "        super().__init__(CallbackOrder.External)\n",
        "\n",
        "    def on_epoch_end(self, state: RunnerState):\n",
        "        val_metric = state.metrics.epoch_values[\"valid\"][self.main_metric]\n",
        "        to_save = False\n",
        "        if self.is_larger_better and self.best < val_metric:\n",
        "            to_save = True\n",
        "            self.best = val_metric\n",
        "        elif not self.is_larger_better and self.best > val_metric:\n",
        "            to_save = True\n",
        "            self.best = val_metric\n",
        "        if to_save:\n",
        "            weights = state.model.state_dict()\n",
        "            epoch = state.epoch\n",
        "            state_dict = {\n",
        "                \"model_state_dict\": weights,\n",
        "                \"epoch\": epoch\n",
        "            }\n",
        "\n",
        "            if self.save_optimizer_state:\n",
        "                optimizer_state = state.optimizer.state_dict()\n",
        "                scheduler_state = state.scheduler.state_dict()\n",
        "                state_dict[\"optimizer_state\"] = optimizer_state\n",
        "                state_dict[\"scheduler_state\"] = scheduler_state\n",
        "\n",
        "            logdir = state.logdir / \"checkpoints\"\n",
        "            logdir.mkdir(exist_ok=True, parents=True)\n",
        "\n",
        "            if self.name == \"\":\n",
        "                torch.save(state_dict, logdir / \"temp.pth\")\n",
        "            else:\n",
        "                torch.save(state_dict, logdir / f\"{self.name + self.suffix}.pth\")\n",
        "\n",
        "            if self.to is not None:\n",
        "                if self.name == \"\":\n",
        "                    torch.save(state_dict, self.to / \"temp.pth\")\n",
        "                else:\n",
        "                    torch.save(state_dict, self.to / f\"{self.name + self.suffix}.pth\")\n",
        "\n",
        "                    \n",
        "def rand_bbox(size, lam):\n",
        "    W = size[2]\n",
        "    H = size[3]\n",
        "    cut_rat = np.sqrt(1. - lam)\n",
        "    cut_w = np.int(W * cut_rat)\n",
        "    cut_h = np.int(H * cut_rat)\n",
        "\n",
        "    # uniform\n",
        "    cx = np.random.randint(W)\n",
        "    cy = np.random.randint(H)\n",
        "\n",
        "    bbx1 = np.clip(cx - cut_w // 2, 0, W)\n",
        "    bby1 = np.clip(cy - cut_h // 2, 0, H)\n",
        "    bbx2 = np.clip(cx + cut_w // 2, 0, W)\n",
        "    bby2 = np.clip(cy + cut_h // 2, 0, H)\n",
        "\n",
        "    return bbx1, bby1, bbx2, bby2\n",
        "\n",
        "\n",
        "class MixupOrCutmixCallback(CriterionCallback):\n",
        "    def __init__(self,\n",
        "                 fields: List[str] = [\n",
        "                     \"images\",\n",
        "                 ],\n",
        "                 alpha=1.0,\n",
        "                 on_train_only=True,\n",
        "                 mixup_prob=0.5,\n",
        "                 cutmix_prob=0.5,\n",
        "                 no_aug_epochs=0,\n",
        "                 **kwargs):\n",
        "        assert len(fields) > 0, \\\n",
        "            \"At least one field is required\"\n",
        "        assert alpha >= 0, \"alpha must be>=0\"\n",
        "        assert 1 >= mixup_prob >= 0, \"mixup_prob must be within 1 and 0\"\n",
        "        assert 1 >= cutmix_prob >= 0, \"cutmix_prob must be within 1 and 0\"\n",
        "        assert 1 >= mixup_prob + cutmix_prob, \\\n",
        "            \"sum of mixup_prob and cutmix_prob must be lower than 1\"\n",
        "\n",
        "        super().__init__(**kwargs)\n",
        "\n",
        "        self.on_train_only = on_train_only\n",
        "        self.fields = fields\n",
        "        self.alpha = alpha\n",
        "        self.lam = 1\n",
        "        self.index = None\n",
        "        self.is_needed = True\n",
        "        self.mixup_prob = mixup_prob\n",
        "        self.cutmix_prob = cutmix_prob\n",
        "        self.no_action_prob = 1 - (mixup_prob + cutmix_prob)\n",
        "        self.no_aug_epochs = no_aug_epochs\n",
        "\n",
        "    def on_loader_start(self, state: RunnerState):\n",
        "        self.is_needed = not self.on_train_only or \\\n",
        "            state.loader_name.startswith(\"train\")\n",
        "\n",
        "        if state.num_epochs - state.epoch < self.no_aug_epochs:\n",
        "            self.is_needed = False\n",
        "\n",
        "    def on_batch_start(self, state: RunnerState):\n",
        "        if not self.is_needed:\n",
        "            return\n",
        "\n",
        "        dice = np.random.choice(\n",
        "            [0, 1, 2],\n",
        "            p=[self.mixup_prob, self.cutmix_prob, self.no_action_prob])\n",
        "        self.dice = dice\n",
        "        if dice == 0:\n",
        "            if self.alpha > 0:\n",
        "                self.lam = np.random.beta(self.alpha, self.alpha)\n",
        "            else:\n",
        "                self.lam = 1\n",
        "            self.index = torch.randperm(state.input[self.fields[0]].shape[0])\n",
        "            self.index.to(state.device)\n",
        "\n",
        "            for f in self.fields:\n",
        "                state.input[f] = self.lam * state.input[f] + \\\n",
        "                    (1 - self.lam) * state.input[f][self.index]\n",
        "        elif dice == 1:\n",
        "            self.index = torch.randperm(state.input[self.fields[0]].shape[0])\n",
        "            self.index.to(state.device)\n",
        "\n",
        "            if self.alpha > 0:\n",
        "                lam = np.random.beta(self.alpha, self.alpha)\n",
        "            else:\n",
        "                lam = 1\n",
        "                bbx1, bby1, bbx2, bby2 = rand_bbox(\n",
        "                    state.input[self.fields[0]].size(), lam)\n",
        "                for f in self.fields:\n",
        "                    state.input[f][:, :, bbx1:bbx2, bby1:bby2] = \\\n",
        "                        state.input[f][self.index, :, bbx1:bbx2, bby1:bby2]\n",
        "                self.lam = 1 - ((bbx2 - bbx1) * (bby2 - bby1) /\n",
        "                                (state.input[self.fields[0]].size()[-1] *\n",
        "                                 state.input[self.fields[0]].size()[-2]))\n",
        "        else:\n",
        "            pass\n",
        "\n",
        "    def _compute_loss(self, state: RunnerState, criterion):\n",
        "        if not self.is_needed:\n",
        "            return super()._compute_loss(state, criterion)\n",
        "\n",
        "        if self.dice == 0 or self.dice == 1:\n",
        "            pred = state.output[self.output_key]\n",
        "            y_a = state.input[self.input_key]\n",
        "            y_b = state.input[self.input_key][self.index]\n",
        "            loss = self.lam * criterion(pred, y_a) + \\\n",
        "                (1 - self.lam) * criterion(pred, y_b)\n",
        "            return loss\n",
        "        else:\n",
        "            return super()._compute_loss(state, criterion)"
      ],
      "execution_count": 0,
      "outputs": []
    },
    {
      "cell_type": "code",
      "metadata": {
        "colab_type": "code",
        "id": "kHvFfq-C3NGk",
        "colab": {}
      },
      "source": [
        "def get_callbacks(config: edict):\n",
        "    callbacks = []\n",
        "    for callback in config.callbacks:\n",
        "        name = list(callback.keys())[0]\n",
        "        params = callback[name]\n",
        "        if globals().get(name) is not None:\n",
        "            if params is not None:\n",
        "                callbacks.append(globals().get(name)(**params))  # type: ignore\n",
        "            else:\n",
        "                callbacks.append(globals().get(name)())  # type: ignore\n",
        "    return callbacks"
      ],
      "execution_count": 0,
      "outputs": []
    },
    {
      "cell_type": "markdown",
      "metadata": {
        "colab_type": "text",
        "id": "ChYS5rgoKQ_5"
      },
      "source": [
        "## Training"
      ]
    },
    {
      "cell_type": "code",
      "metadata": {
        "colab_type": "code",
        "id": "XhltOMvEQrp9",
        "colab": {}
      },
      "source": [
        "%%sh\n",
        "mkdir -p /root/.cache/torch/checkpoints\n",
        "cp /content/gdrive/My\\ Drive/kaggle-bengali/se_resnext50_32x4d-a260b3a4.pth /root/.cache/torch/checkpoints/se_resnext50_32x4d-a260b3a4.pth"
      ],
      "execution_count": 0,
      "outputs": []
    },
    {
      "cell_type": "code",
      "metadata": {
        "colab_type": "code",
        "id": "M-QhaJoMKQ_6",
        "outputId": "728171bf-2874-4efb-9446-5d0309d654e4",
        "colab": {
          "base_uri": "https://localhost:8080/",
          "height": 1000
        }
      },
      "source": [
        "trn_idx, val_idx = splits[i]\n",
        "\n",
        "print(f\"Fold: {i}\")\n",
        "\n",
        "output_dir = output_base_dir / f\"fold{i}\"\n",
        "output_dir.mkdir(exist_ok=True, parents=True)\n",
        "\n",
        "trn_df = df.loc[trn_idx, :].reset_index(drop=True)\n",
        "val_df = df.loc[val_idx, :].reset_index(drop=True)\n",
        "data_loaders = {\n",
        "    phase: get_base_loader(\n",
        "        df,\n",
        "        train_images_path,\n",
        "        phase=phase,\n",
        "        size=(config.img_size, config.img_size),\n",
        "        batch_size=config.train.batch_size,\n",
        "        num_workers=config.num_workers,\n",
        "        transforms=transforms_dict[phase])\n",
        "    for phase, df in zip([\"train\", \"valid\"], [trn_df, val_df])\n",
        "}\n",
        "\n",
        "load_weights = False\n",
        "\n",
        "if config.weights is not None:\n",
        "    state_dict = torch.load(config.weights)\n",
        "    load_weights = True\n",
        "\n",
        "model = get_model(config)\n",
        "\n",
        "if load_weights:\n",
        "    if \"model_state_dict\" in state_dict.keys():\n",
        "        model.load_state_dict(state_dict[\"model_state_dict\"])\n",
        "        model.to(get_device())\n",
        "    else:\n",
        "        model.load_state_dict(state_dict)\n",
        "        model.to(get_device())\n",
        "\n",
        "criterion = get_loss(config).to(get_device())\n",
        "optimizer = get_optimizer(model, config)\n",
        "scheduler = get_scheduler(optimizer, config)\n",
        "callbacks = get_callbacks(config)\n",
        "\n",
        "if load_weights:\n",
        "    if \"optimizer_state_dict\" in state_dict.keys():\n",
        "        optimizer.load_state_dict(state_dict[\"optimizer_state_dict\"])\n",
        "    if \"scheduler_state_dict\" in state_dict.keys():\n",
        "        scheduler.load_state_dict(state_dict[\"scheduler_state_dict\"])\n",
        "\n",
        "runner = SupervisedRunner(\n",
        "    device=ct.utils.get_device(),\n",
        "    input_key=\"images\",\n",
        "    input_target_key=\"targets\",\n",
        "    output_key=\"logits\")\n",
        "runner.train(\n",
        "    model=model,\n",
        "    criterion=criterion,\n",
        "    optimizer=optimizer,\n",
        "    loaders=data_loaders,\n",
        "    logdir=output_dir,\n",
        "    scheduler=scheduler,\n",
        "    num_epochs=config.train.num_epochs,\n",
        "    callbacks=callbacks,\n",
        "    main_metric=\"tar\",\n",
        "    minimize_metric=False,\n",
        "    monitoring_params=None,\n",
        "    verbose=False)"
      ],
      "execution_count": 33,
      "outputs": [
        {
          "output_type": "stream",
          "text": [
            "Fold: 0\n",
            "[2020-02-24 17:39:06,465] \n",
            "1/30 * Epoch 1 (train): _base/lr=0.0001 | _base/momentum=0.9000 | _timers/_fps=2038.1776 | _timers/batch_time=0.0688 | _timers/data_time=0.0038 | _timers/model_time=0.0635 | batch_consonant_recall=0.5560 | batch_grapheme_recall=0.2763 | batch_vowel_recall=0.5584 | consonant_recall=0.4986 | grapheme_recall=0.2495 | loss=9.8657 | tar=0.3887 | vowel_recall=0.5571\n",
            "1/30 * Epoch 1 (valid): _base/lr=0.0001 | _base/momentum=0.9000 | _timers/_fps=1341.1839 | _timers/batch_time=0.2045 | _timers/data_time=0.1422 | _timers/model_time=0.0622 | batch_consonant_recall=0.4787 | batch_grapheme_recall=0.6950 | batch_vowel_recall=0.7848 | consonant_recall=0.4065 | grapheme_recall=0.6876 | loss=5.9682 | tar=0.6414 | vowel_recall=0.7841\n"
          ],
          "name": "stdout"
        },
        {
          "output_type": "stream",
          "text": [
            "INFO:metrics_logger:\n",
            "1/30 * Epoch 1 (train): _base/lr=0.0001 | _base/momentum=0.9000 | _timers/_fps=2038.1776 | _timers/batch_time=0.0688 | _timers/data_time=0.0038 | _timers/model_time=0.0635 | batch_consonant_recall=0.5560 | batch_grapheme_recall=0.2763 | batch_vowel_recall=0.5584 | consonant_recall=0.4986 | grapheme_recall=0.2495 | loss=9.8657 | tar=0.3887 | vowel_recall=0.5571\n",
            "1/30 * Epoch 1 (valid): _base/lr=0.0001 | _base/momentum=0.9000 | _timers/_fps=1341.1839 | _timers/batch_time=0.2045 | _timers/data_time=0.1422 | _timers/model_time=0.0622 | batch_consonant_recall=0.4787 | batch_grapheme_recall=0.6950 | batch_vowel_recall=0.7848 | consonant_recall=0.4065 | grapheme_recall=0.6876 | loss=5.9682 | tar=0.6414 | vowel_recall=0.7841\n"
          ],
          "name": "stderr"
        },
        {
          "output_type": "stream",
          "text": [
            "[2020-02-24 17:53:21,637] \n",
            "2/30 * Epoch 2 (train): _base/lr=9.517e-05 | _base/momentum=0.9000 | _timers/_fps=1869.4605 | _timers/batch_time=0.0932 | _timers/data_time=0.0337 | _timers/model_time=0.0581 | batch_consonant_recall=0.6624 | batch_grapheme_recall=0.4960 | batch_vowel_recall=0.6740 | consonant_recall=0.6288 | grapheme_recall=0.5110 | loss=6.7438 | tar=0.5806 | vowel_recall=0.6718\n",
            "2/30 * Epoch 2 (valid): _base/lr=9.517e-05 | _base/momentum=0.9000 | _timers/_fps=1390.5203 | _timers/batch_time=0.2031 | _timers/data_time=0.1500 | _timers/model_time=0.0531 | batch_consonant_recall=0.8947 | batch_grapheme_recall=0.8391 | batch_vowel_recall=0.9411 | consonant_recall=0.8851 | grapheme_recall=0.8714 | loss=3.1705 | tar=0.8924 | vowel_recall=0.9416\n"
          ],
          "name": "stdout"
        },
        {
          "output_type": "stream",
          "text": [
            "INFO:metrics_logger:\n",
            "2/30 * Epoch 2 (train): _base/lr=9.517e-05 | _base/momentum=0.9000 | _timers/_fps=1869.4605 | _timers/batch_time=0.0932 | _timers/data_time=0.0337 | _timers/model_time=0.0581 | batch_consonant_recall=0.6624 | batch_grapheme_recall=0.4960 | batch_vowel_recall=0.6740 | consonant_recall=0.6288 | grapheme_recall=0.5110 | loss=6.7438 | tar=0.5806 | vowel_recall=0.6718\n",
            "2/30 * Epoch 2 (valid): _base/lr=9.517e-05 | _base/momentum=0.9000 | _timers/_fps=1390.5203 | _timers/batch_time=0.2031 | _timers/data_time=0.1500 | _timers/model_time=0.0531 | batch_consonant_recall=0.8947 | batch_grapheme_recall=0.8391 | batch_vowel_recall=0.9411 | consonant_recall=0.8851 | grapheme_recall=0.8714 | loss=3.1705 | tar=0.8924 | vowel_recall=0.9416\n"
          ],
          "name": "stderr"
        },
        {
          "output_type": "stream",
          "text": [
            "[2020-02-24 18:07:15,261] \n",
            "3/30 * Epoch 3 (train): _base/lr=8.387e-05 | _base/momentum=0.9000 | _timers/_fps=1936.1908 | _timers/batch_time=0.0730 | _timers/data_time=0.0139 | _timers/model_time=0.0577 | batch_consonant_recall=0.6873 | batch_grapheme_recall=0.5377 | batch_vowel_recall=0.6962 | consonant_recall=0.6556 | grapheme_recall=0.5632 | loss=6.0000 | tar=0.6196 | vowel_recall=0.6965\n",
            "3/30 * Epoch 3 (valid): _base/lr=8.387e-05 | _base/momentum=0.9000 | _timers/_fps=1461.4978 | _timers/batch_time=0.2066 | _timers/data_time=0.1558 | _timers/model_time=0.0507 | batch_consonant_recall=0.9486 | batch_grapheme_recall=0.8681 | batch_vowel_recall=0.9581 | consonant_recall=0.9470 | grapheme_recall=0.8973 | loss=1.9353 | tar=0.9254 | vowel_recall=0.9600\n"
          ],
          "name": "stdout"
        },
        {
          "output_type": "stream",
          "text": [
            "INFO:metrics_logger:\n",
            "3/30 * Epoch 3 (train): _base/lr=8.387e-05 | _base/momentum=0.9000 | _timers/_fps=1936.1908 | _timers/batch_time=0.0730 | _timers/data_time=0.0139 | _timers/model_time=0.0577 | batch_consonant_recall=0.6873 | batch_grapheme_recall=0.5377 | batch_vowel_recall=0.6962 | consonant_recall=0.6556 | grapheme_recall=0.5632 | loss=6.0000 | tar=0.6196 | vowel_recall=0.6965\n",
            "3/30 * Epoch 3 (valid): _base/lr=8.387e-05 | _base/momentum=0.9000 | _timers/_fps=1461.4978 | _timers/batch_time=0.2066 | _timers/data_time=0.1558 | _timers/model_time=0.0507 | batch_consonant_recall=0.9486 | batch_grapheme_recall=0.8681 | batch_vowel_recall=0.9581 | consonant_recall=0.9470 | grapheme_recall=0.8973 | loss=1.9353 | tar=0.9254 | vowel_recall=0.9600\n"
          ],
          "name": "stderr"
        },
        {
          "output_type": "stream",
          "text": [
            "[2020-02-24 18:21:19,563] \n",
            "4/30 * Epoch 4 (train): _base/lr=6.968e-05 | _base/momentum=0.9000 | _timers/_fps=1830.8798 | _timers/batch_time=0.0780 | _timers/data_time=0.0177 | _timers/model_time=0.0588 | batch_consonant_recall=0.6965 | batch_grapheme_recall=0.5654 | batch_vowel_recall=0.7082 | consonant_recall=0.6615 | grapheme_recall=0.5916 | loss=5.6214 | tar=0.6374 | vowel_recall=0.7051\n",
            "4/30 * Epoch 4 (valid): _base/lr=6.968e-05 | _base/momentum=0.9000 | _timers/_fps=1512.4740 | _timers/batch_time=0.2090 | _timers/data_time=0.1592 | _timers/model_time=0.0497 | batch_consonant_recall=0.9561 | batch_grapheme_recall=0.8850 | batch_vowel_recall=0.9662 | consonant_recall=0.9588 | grapheme_recall=0.9101 | loss=1.5940 | tar=0.9369 | vowel_recall=0.9686\n"
          ],
          "name": "stdout"
        },
        {
          "output_type": "stream",
          "text": [
            "INFO:metrics_logger:\n",
            "4/30 * Epoch 4 (train): _base/lr=6.968e-05 | _base/momentum=0.9000 | _timers/_fps=1830.8798 | _timers/batch_time=0.0780 | _timers/data_time=0.0177 | _timers/model_time=0.0588 | batch_consonant_recall=0.6965 | batch_grapheme_recall=0.5654 | batch_vowel_recall=0.7082 | consonant_recall=0.6615 | grapheme_recall=0.5916 | loss=5.6214 | tar=0.6374 | vowel_recall=0.7051\n",
            "4/30 * Epoch 4 (valid): _base/lr=6.968e-05 | _base/momentum=0.9000 | _timers/_fps=1512.4740 | _timers/batch_time=0.2090 | _timers/data_time=0.1592 | _timers/model_time=0.0497 | batch_consonant_recall=0.9561 | batch_grapheme_recall=0.8850 | batch_vowel_recall=0.9662 | consonant_recall=0.9588 | grapheme_recall=0.9101 | loss=1.5940 | tar=0.9369 | vowel_recall=0.9686\n"
          ],
          "name": "stderr"
        },
        {
          "output_type": "stream",
          "text": [
            "[2020-02-24 18:35:14,135] \n",
            "5/30 * Epoch 5 (train): _base/lr=5.396e-05 | _base/momentum=0.9000 | _timers/_fps=1808.4992 | _timers/batch_time=0.0807 | _timers/data_time=0.0209 | _timers/model_time=0.0584 | batch_consonant_recall=0.7197 | batch_grapheme_recall=0.5949 | batch_vowel_recall=0.7260 | consonant_recall=0.6907 | grapheme_recall=0.6231 | loss=5.1591 | tar=0.6649 | vowel_recall=0.7226\n",
            "5/30 * Epoch 5 (valid): _base/lr=5.396e-05 | _base/momentum=0.9000 | _timers/_fps=1549.8149 | _timers/batch_time=0.2049 | _timers/data_time=0.1562 | _timers/model_time=0.0486 | batch_consonant_recall=0.9600 | batch_grapheme_recall=0.8863 | batch_vowel_recall=0.9651 | consonant_recall=0.9629 | grapheme_recall=0.9119 | loss=1.7165 | tar=0.9384 | vowel_recall=0.9670\n"
          ],
          "name": "stdout"
        },
        {
          "output_type": "stream",
          "text": [
            "INFO:metrics_logger:\n",
            "5/30 * Epoch 5 (train): _base/lr=5.396e-05 | _base/momentum=0.9000 | _timers/_fps=1808.4992 | _timers/batch_time=0.0807 | _timers/data_time=0.0209 | _timers/model_time=0.0584 | batch_consonant_recall=0.7197 | batch_grapheme_recall=0.5949 | batch_vowel_recall=0.7260 | consonant_recall=0.6907 | grapheme_recall=0.6231 | loss=5.1591 | tar=0.6649 | vowel_recall=0.7226\n",
            "5/30 * Epoch 5 (valid): _base/lr=5.396e-05 | _base/momentum=0.9000 | _timers/_fps=1549.8149 | _timers/batch_time=0.2049 | _timers/data_time=0.1562 | _timers/model_time=0.0486 | batch_consonant_recall=0.9600 | batch_grapheme_recall=0.8863 | batch_vowel_recall=0.9651 | consonant_recall=0.9629 | grapheme_recall=0.9119 | loss=1.7165 | tar=0.9384 | vowel_recall=0.9670\n"
          ],
          "name": "stderr"
        },
        {
          "output_type": "stream",
          "text": [
            "[2020-02-24 18:49:01,391] \n",
            "6/30 * Epoch 6 (train): _base/lr=3.820e-05 | _base/momentum=0.9000 | _timers/_fps=1849.1324 | _timers/batch_time=0.0767 | _timers/data_time=0.0163 | _timers/model_time=0.0589 | batch_consonant_recall=0.7225 | batch_grapheme_recall=0.5959 | batch_vowel_recall=0.7203 | consonant_recall=0.6975 | grapheme_recall=0.6247 | loss=5.0758 | tar=0.6661 | vowel_recall=0.7177\n",
            "6/30 * Epoch 6 (valid): _base/lr=3.820e-05 | _base/momentum=0.9000 | _timers/_fps=1112.3010 | _timers/batch_time=0.2052 | _timers/data_time=0.1579 | _timers/model_time=0.0472 | batch_consonant_recall=0.9542 | batch_grapheme_recall=0.8996 | batch_vowel_recall=0.9698 | consonant_recall=0.9560 | grapheme_recall=0.9227 | loss=2.0879 | tar=0.9432 | vowel_recall=0.9712\n"
          ],
          "name": "stdout"
        },
        {
          "output_type": "stream",
          "text": [
            "INFO:metrics_logger:\n",
            "6/30 * Epoch 6 (train): _base/lr=3.820e-05 | _base/momentum=0.9000 | _timers/_fps=1849.1324 | _timers/batch_time=0.0767 | _timers/data_time=0.0163 | _timers/model_time=0.0589 | batch_consonant_recall=0.7225 | batch_grapheme_recall=0.5959 | batch_vowel_recall=0.7203 | consonant_recall=0.6975 | grapheme_recall=0.6247 | loss=5.0758 | tar=0.6661 | vowel_recall=0.7177\n",
            "6/30 * Epoch 6 (valid): _base/lr=3.820e-05 | _base/momentum=0.9000 | _timers/_fps=1112.3010 | _timers/batch_time=0.2052 | _timers/data_time=0.1579 | _timers/model_time=0.0472 | batch_consonant_recall=0.9542 | batch_grapheme_recall=0.8996 | batch_vowel_recall=0.9698 | consonant_recall=0.9560 | grapheme_recall=0.9227 | loss=2.0879 | tar=0.9432 | vowel_recall=0.9712\n"
          ],
          "name": "stderr"
        },
        {
          "output_type": "stream",
          "text": [
            "[2020-02-24 19:03:09,635] \n",
            "7/30 * Epoch 7 (train): _base/lr=2.387e-05 | _base/momentum=0.9000 | _timers/_fps=1763.6947 | _timers/batch_time=0.0844 | _timers/data_time=0.0245 | _timers/model_time=0.0585 | batch_consonant_recall=0.7277 | batch_grapheme_recall=0.6091 | batch_vowel_recall=0.7267 | consonant_recall=0.7056 | grapheme_recall=0.6379 | loss=4.8594 | tar=0.6762 | vowel_recall=0.7235\n",
            "7/30 * Epoch 7 (valid): _base/lr=2.387e-05 | _base/momentum=0.9000 | _timers/_fps=1543.4464 | _timers/batch_time=0.2072 | _timers/data_time=0.1597 | _timers/model_time=0.0474 | batch_consonant_recall=0.9688 | batch_grapheme_recall=0.9122 | batch_vowel_recall=0.9759 | consonant_recall=0.9719 | grapheme_recall=0.9370 | loss=1.2591 | tar=0.9557 | vowel_recall=0.9770\n"
          ],
          "name": "stdout"
        },
        {
          "output_type": "stream",
          "text": [
            "INFO:metrics_logger:\n",
            "7/30 * Epoch 7 (train): _base/lr=2.387e-05 | _base/momentum=0.9000 | _timers/_fps=1763.6947 | _timers/batch_time=0.0844 | _timers/data_time=0.0245 | _timers/model_time=0.0585 | batch_consonant_recall=0.7277 | batch_grapheme_recall=0.6091 | batch_vowel_recall=0.7267 | consonant_recall=0.7056 | grapheme_recall=0.6379 | loss=4.8594 | tar=0.6762 | vowel_recall=0.7235\n",
            "7/30 * Epoch 7 (valid): _base/lr=2.387e-05 | _base/momentum=0.9000 | _timers/_fps=1543.4464 | _timers/batch_time=0.2072 | _timers/data_time=0.1597 | _timers/model_time=0.0474 | batch_consonant_recall=0.9688 | batch_grapheme_recall=0.9122 | batch_vowel_recall=0.9759 | consonant_recall=0.9719 | grapheme_recall=0.9370 | loss=1.2591 | tar=0.9557 | vowel_recall=0.9770\n"
          ],
          "name": "stderr"
        },
        {
          "output_type": "stream",
          "text": [
            "[2020-02-24 19:16:07,996] \n",
            "8/30 * Epoch 8 (train): _base/lr=1.230e-05 | _base/momentum=0.9000 | _timers/_fps=1683.1214 | _timers/batch_time=0.0904 | _timers/data_time=0.0293 | _timers/model_time=0.0596 | batch_consonant_recall=0.7295 | batch_grapheme_recall=0.6143 | batch_vowel_recall=0.7296 | consonant_recall=0.7082 | grapheme_recall=0.6420 | loss=4.6882 | tar=0.6801 | vowel_recall=0.7283\n",
            "8/30 * Epoch 8 (valid): _base/lr=1.230e-05 | _base/momentum=0.9000 | _timers/_fps=1487.5115 | _timers/batch_time=0.2083 | _timers/data_time=0.1577 | _timers/model_time=0.0506 | batch_consonant_recall=0.9661 | batch_grapheme_recall=0.9138 | batch_vowel_recall=0.9779 | consonant_recall=0.9691 | grapheme_recall=0.9368 | loss=1.3759 | tar=0.9555 | vowel_recall=0.9792\n"
          ],
          "name": "stdout"
        },
        {
          "output_type": "stream",
          "text": [
            "INFO:metrics_logger:\n",
            "8/30 * Epoch 8 (train): _base/lr=1.230e-05 | _base/momentum=0.9000 | _timers/_fps=1683.1214 | _timers/batch_time=0.0904 | _timers/data_time=0.0293 | _timers/model_time=0.0596 | batch_consonant_recall=0.7295 | batch_grapheme_recall=0.6143 | batch_vowel_recall=0.7296 | consonant_recall=0.7082 | grapheme_recall=0.6420 | loss=4.6882 | tar=0.6801 | vowel_recall=0.7283\n",
            "8/30 * Epoch 8 (valid): _base/lr=1.230e-05 | _base/momentum=0.9000 | _timers/_fps=1487.5115 | _timers/batch_time=0.2083 | _timers/data_time=0.1577 | _timers/model_time=0.0506 | batch_consonant_recall=0.9661 | batch_grapheme_recall=0.9138 | batch_vowel_recall=0.9779 | consonant_recall=0.9691 | grapheme_recall=0.9368 | loss=1.3759 | tar=0.9555 | vowel_recall=0.9792\n"
          ],
          "name": "stderr"
        },
        {
          "output_type": "stream",
          "text": [
            "[2020-02-24 19:28:07,197] \n",
            "9/30 * Epoch 9 (train): _base/lr=4.424e-06 | _base/momentum=0.9000 | _timers/_fps=1850.0199 | _timers/batch_time=0.0760 | _timers/data_time=0.0046 | _timers/model_time=0.0700 | batch_consonant_recall=0.7230 | batch_grapheme_recall=0.6164 | batch_vowel_recall=0.7233 | consonant_recall=0.7016 | grapheme_recall=0.6402 | loss=4.7364 | tar=0.6760 | vowel_recall=0.7220\n",
            "9/30 * Epoch 9 (valid): _base/lr=4.424e-06 | _base/momentum=0.9000 | _timers/_fps=1110.6228 | _timers/batch_time=0.1941 | _timers/data_time=0.1206 | _timers/model_time=0.0733 | batch_consonant_recall=0.9580 | batch_grapheme_recall=0.9144 | batch_vowel_recall=0.9721 | consonant_recall=0.9581 | grapheme_recall=0.9360 | loss=2.2598 | tar=0.9507 | vowel_recall=0.9728\n"
          ],
          "name": "stdout"
        },
        {
          "output_type": "stream",
          "text": [
            "INFO:metrics_logger:\n",
            "9/30 * Epoch 9 (train): _base/lr=4.424e-06 | _base/momentum=0.9000 | _timers/_fps=1850.0199 | _timers/batch_time=0.0760 | _timers/data_time=0.0046 | _timers/model_time=0.0700 | batch_consonant_recall=0.7230 | batch_grapheme_recall=0.6164 | batch_vowel_recall=0.7233 | consonant_recall=0.7016 | grapheme_recall=0.6402 | loss=4.7364 | tar=0.6760 | vowel_recall=0.7220\n",
            "9/30 * Epoch 9 (valid): _base/lr=4.424e-06 | _base/momentum=0.9000 | _timers/_fps=1110.6228 | _timers/batch_time=0.1941 | _timers/data_time=0.1206 | _timers/model_time=0.0733 | batch_consonant_recall=0.9580 | batch_grapheme_recall=0.9144 | batch_vowel_recall=0.9721 | consonant_recall=0.9581 | grapheme_recall=0.9360 | loss=2.2598 | tar=0.9507 | vowel_recall=0.9728\n"
          ],
          "name": "stderr"
        },
        {
          "output_type": "stream",
          "text": [
            "[2020-02-24 19:41:33,659] \n",
            "10/30 * Epoch 10 (train): _base/lr=6.271e-07 | _base/momentum=0.9000 | _timers/_fps=1741.2731 | _timers/batch_time=0.0833 | _timers/data_time=0.0053 | _timers/model_time=0.0768 | batch_consonant_recall=0.7447 | batch_grapheme_recall=0.6431 | batch_vowel_recall=0.7411 | consonant_recall=0.7252 | grapheme_recall=0.6701 | loss=4.3680 | tar=0.7008 | vowel_recall=0.7380\n",
            "10/30 * Epoch 10 (valid): _base/lr=6.271e-07 | _base/momentum=0.9000 | _timers/_fps=1021.6040 | _timers/batch_time=0.1943 | _timers/data_time=0.1191 | _timers/model_time=0.0752 | batch_consonant_recall=0.9701 | batch_grapheme_recall=0.9201 | batch_vowel_recall=0.9792 | consonant_recall=0.9727 | grapheme_recall=0.9421 | loss=1.3699 | tar=0.9592 | vowel_recall=0.9798\n"
          ],
          "name": "stdout"
        },
        {
          "output_type": "stream",
          "text": [
            "INFO:metrics_logger:\n",
            "10/30 * Epoch 10 (train): _base/lr=6.271e-07 | _base/momentum=0.9000 | _timers/_fps=1741.2731 | _timers/batch_time=0.0833 | _timers/data_time=0.0053 | _timers/model_time=0.0768 | batch_consonant_recall=0.7447 | batch_grapheme_recall=0.6431 | batch_vowel_recall=0.7411 | consonant_recall=0.7252 | grapheme_recall=0.6701 | loss=4.3680 | tar=0.7008 | vowel_recall=0.7380\n",
            "10/30 * Epoch 10 (valid): _base/lr=6.271e-07 | _base/momentum=0.9000 | _timers/_fps=1021.6040 | _timers/batch_time=0.1943 | _timers/data_time=0.1191 | _timers/model_time=0.0752 | batch_consonant_recall=0.9701 | batch_grapheme_recall=0.9201 | batch_vowel_recall=0.9792 | consonant_recall=0.9727 | grapheme_recall=0.9421 | loss=1.3699 | tar=0.9592 | vowel_recall=0.9798\n"
          ],
          "name": "stderr"
        },
        {
          "output_type": "stream",
          "text": [
            "[2020-02-24 19:53:53,606] \n",
            "11/30 * Epoch 11 (train): _base/lr=0.000e+00 | _base/momentum=0.9000 | _timers/_fps=1836.4575 | _timers/batch_time=0.0770 | _timers/data_time=0.0056 | _timers/model_time=0.0701 | batch_consonant_recall=0.7436 | batch_grapheme_recall=0.6396 | batch_vowel_recall=0.7416 | consonant_recall=0.7252 | grapheme_recall=0.6618 | loss=4.3997 | tar=0.6968 | vowel_recall=0.7384\n",
            "11/30 * Epoch 11 (valid): _base/lr=0.000e+00 | _base/momentum=0.9000 | _timers/_fps=919.1515 | _timers/batch_time=0.2127 | _timers/data_time=0.1493 | _timers/model_time=0.0633 | batch_consonant_recall=0.9697 | batch_grapheme_recall=0.9206 | batch_vowel_recall=0.9774 | consonant_recall=0.9710 | grapheme_recall=0.9422 | loss=1.2285 | tar=0.9585 | vowel_recall=0.9785\n"
          ],
          "name": "stdout"
        },
        {
          "output_type": "stream",
          "text": [
            "INFO:metrics_logger:\n",
            "11/30 * Epoch 11 (train): _base/lr=0.000e+00 | _base/momentum=0.9000 | _timers/_fps=1836.4575 | _timers/batch_time=0.0770 | _timers/data_time=0.0056 | _timers/model_time=0.0701 | batch_consonant_recall=0.7436 | batch_grapheme_recall=0.6396 | batch_vowel_recall=0.7416 | consonant_recall=0.7252 | grapheme_recall=0.6618 | loss=4.3997 | tar=0.6968 | vowel_recall=0.7384\n",
            "11/30 * Epoch 11 (valid): _base/lr=0.000e+00 | _base/momentum=0.9000 | _timers/_fps=919.1515 | _timers/batch_time=0.2127 | _timers/data_time=0.1493 | _timers/model_time=0.0633 | batch_consonant_recall=0.9697 | batch_grapheme_recall=0.9206 | batch_vowel_recall=0.9774 | consonant_recall=0.9710 | grapheme_recall=0.9422 | loss=1.2285 | tar=0.9585 | vowel_recall=0.9785\n"
          ],
          "name": "stderr"
        },
        {
          "output_type": "stream",
          "text": [
            "[2020-02-24 20:07:10,217] \n",
            "12/30 * Epoch 12 (train): _base/lr=4.894e-06 | _base/momentum=0.9000 | _timers/_fps=1830.3596 | _timers/batch_time=0.0793 | _timers/data_time=0.0053 | _timers/model_time=0.0729 | batch_consonant_recall=0.7422 | batch_grapheme_recall=0.6350 | batch_vowel_recall=0.7376 | consonant_recall=0.7193 | grapheme_recall=0.6590 | loss=4.4510 | tar=0.6932 | vowel_recall=0.7355\n",
            "12/30 * Epoch 12 (valid): _base/lr=4.894e-06 | _base/momentum=0.9000 | _timers/_fps=1210.6590 | _timers/batch_time=0.1793 | _timers/data_time=0.1111 | _timers/model_time=0.0681 | batch_consonant_recall=0.9725 | batch_grapheme_recall=0.9208 | batch_vowel_recall=0.9788 | consonant_recall=0.9747 | grapheme_recall=0.9437 | loss=1.0728 | tar=0.9606 | vowel_recall=0.9802\n"
          ],
          "name": "stdout"
        },
        {
          "output_type": "stream",
          "text": [
            "INFO:metrics_logger:\n",
            "12/30 * Epoch 12 (train): _base/lr=4.894e-06 | _base/momentum=0.9000 | _timers/_fps=1830.3596 | _timers/batch_time=0.0793 | _timers/data_time=0.0053 | _timers/model_time=0.0729 | batch_consonant_recall=0.7422 | batch_grapheme_recall=0.6350 | batch_vowel_recall=0.7376 | consonant_recall=0.7193 | grapheme_recall=0.6590 | loss=4.4510 | tar=0.6932 | vowel_recall=0.7355\n",
            "12/30 * Epoch 12 (valid): _base/lr=4.894e-06 | _base/momentum=0.9000 | _timers/_fps=1210.6590 | _timers/batch_time=0.1793 | _timers/data_time=0.1111 | _timers/model_time=0.0681 | batch_consonant_recall=0.9725 | batch_grapheme_recall=0.9208 | batch_vowel_recall=0.9788 | consonant_recall=0.9747 | grapheme_recall=0.9437 | loss=1.0728 | tar=0.9606 | vowel_recall=0.9802\n"
          ],
          "name": "stderr"
        },
        {
          "output_type": "stream",
          "text": [
            "[2020-02-24 20:20:10,413] \n",
            "13/30 * Epoch 13 (train): _base/lr=3.726e-05 | _base/momentum=0.9000 | _timers/_fps=2039.2946 | _timers/batch_time=0.0674 | _timers/data_time=0.0042 | _timers/model_time=0.0618 | batch_consonant_recall=0.7423 | batch_grapheme_recall=0.6431 | batch_vowel_recall=0.7445 | consonant_recall=0.7282 | grapheme_recall=0.6689 | loss=4.3861 | tar=0.7021 | vowel_recall=0.7422\n",
            "13/30 * Epoch 13 (valid): _base/lr=3.726e-05 | _base/momentum=0.9000 | _timers/_fps=1116.1033 | _timers/batch_time=0.1749 | _timers/data_time=0.1046 | _timers/model_time=0.0702 | batch_consonant_recall=0.9740 | batch_grapheme_recall=0.9220 | batch_vowel_recall=0.9774 | consonant_recall=0.9759 | grapheme_recall=0.9444 | loss=1.1436 | tar=0.9611 | vowel_recall=0.9795\n"
          ],
          "name": "stdout"
        },
        {
          "output_type": "stream",
          "text": [
            "INFO:metrics_logger:\n",
            "13/30 * Epoch 13 (train): _base/lr=3.726e-05 | _base/momentum=0.9000 | _timers/_fps=2039.2946 | _timers/batch_time=0.0674 | _timers/data_time=0.0042 | _timers/model_time=0.0618 | batch_consonant_recall=0.7423 | batch_grapheme_recall=0.6431 | batch_vowel_recall=0.7445 | consonant_recall=0.7282 | grapheme_recall=0.6689 | loss=4.3861 | tar=0.7021 | vowel_recall=0.7422\n",
            "13/30 * Epoch 13 (valid): _base/lr=3.726e-05 | _base/momentum=0.9000 | _timers/_fps=1116.1033 | _timers/batch_time=0.1749 | _timers/data_time=0.1046 | _timers/model_time=0.0702 | batch_consonant_recall=0.9740 | batch_grapheme_recall=0.9220 | batch_vowel_recall=0.9774 | consonant_recall=0.9759 | grapheme_recall=0.9444 | loss=1.1436 | tar=0.9611 | vowel_recall=0.9795\n"
          ],
          "name": "stderr"
        },
        {
          "output_type": "stream",
          "text": [
            "[2020-02-24 20:32:01,411] \n",
            "14/30 * Epoch 14 (train): _base/lr=4.449e-05 | _base/momentum=0.9000 | _timers/_fps=2041.9282 | _timers/batch_time=0.0709 | _timers/data_time=0.0075 | _timers/model_time=0.0620 | batch_consonant_recall=0.7394 | batch_grapheme_recall=0.6322 | batch_vowel_recall=0.7359 | consonant_recall=0.7194 | grapheme_recall=0.6582 | loss=4.4640 | tar=0.6925 | vowel_recall=0.7342\n",
            "14/30 * Epoch 14 (valid): _base/lr=4.449e-05 | _base/momentum=0.9000 | _timers/_fps=1160.1762 | _timers/batch_time=0.1744 | _timers/data_time=0.1051 | _timers/model_time=0.0693 | batch_consonant_recall=0.9702 | batch_grapheme_recall=0.9200 | batch_vowel_recall=0.9788 | consonant_recall=0.9724 | grapheme_recall=0.9421 | loss=1.1983 | tar=0.9590 | vowel_recall=0.9795\n"
          ],
          "name": "stdout"
        },
        {
          "output_type": "stream",
          "text": [
            "INFO:metrics_logger:\n",
            "14/30 * Epoch 14 (train): _base/lr=4.449e-05 | _base/momentum=0.9000 | _timers/_fps=2041.9282 | _timers/batch_time=0.0709 | _timers/data_time=0.0075 | _timers/model_time=0.0620 | batch_consonant_recall=0.7394 | batch_grapheme_recall=0.6322 | batch_vowel_recall=0.7359 | consonant_recall=0.7194 | grapheme_recall=0.6582 | loss=4.4640 | tar=0.6925 | vowel_recall=0.7342\n",
            "14/30 * Epoch 14 (valid): _base/lr=4.449e-05 | _base/momentum=0.9000 | _timers/_fps=1160.1762 | _timers/batch_time=0.1744 | _timers/data_time=0.1051 | _timers/model_time=0.0693 | batch_consonant_recall=0.9702 | batch_grapheme_recall=0.9200 | batch_vowel_recall=0.9788 | consonant_recall=0.9724 | grapheme_recall=0.9421 | loss=1.1983 | tar=0.9590 | vowel_recall=0.9795\n"
          ],
          "name": "stderr"
        },
        {
          "output_type": "stream",
          "text": [
            "[2020-02-24 20:43:46,926] \n",
            "15/30 * Epoch 15 (train): _base/lr=5.791e-05 | _base/momentum=0.9000 | _timers/_fps=1958.8071 | _timers/batch_time=0.0738 | _timers/data_time=0.0048 | _timers/model_time=0.0679 | batch_consonant_recall=0.7343 | batch_grapheme_recall=0.6217 | batch_vowel_recall=0.7313 | consonant_recall=0.7136 | grapheme_recall=0.6444 | loss=4.5472 | tar=0.6829 | vowel_recall=0.7291\n",
            "15/30 * Epoch 15 (valid): _base/lr=5.791e-05 | _base/momentum=0.9000 | _timers/_fps=1167.9972 | _timers/batch_time=0.1725 | _timers/data_time=0.1014 | _timers/model_time=0.0710 | batch_consonant_recall=0.9715 | batch_grapheme_recall=0.9163 | batch_vowel_recall=0.9783 | consonant_recall=0.9750 | grapheme_recall=0.9378 | loss=1.2092 | tar=0.9575 | vowel_recall=0.9796\n"
          ],
          "name": "stdout"
        },
        {
          "output_type": "stream",
          "text": [
            "INFO:metrics_logger:\n",
            "15/30 * Epoch 15 (train): _base/lr=5.791e-05 | _base/momentum=0.9000 | _timers/_fps=1958.8071 | _timers/batch_time=0.0738 | _timers/data_time=0.0048 | _timers/model_time=0.0679 | batch_consonant_recall=0.7343 | batch_grapheme_recall=0.6217 | batch_vowel_recall=0.7313 | consonant_recall=0.7136 | grapheme_recall=0.6444 | loss=4.5472 | tar=0.6829 | vowel_recall=0.7291\n",
            "15/30 * Epoch 15 (valid): _base/lr=5.791e-05 | _base/momentum=0.9000 | _timers/_fps=1167.9972 | _timers/batch_time=0.1725 | _timers/data_time=0.1014 | _timers/model_time=0.0710 | batch_consonant_recall=0.9715 | batch_grapheme_recall=0.9163 | batch_vowel_recall=0.9783 | consonant_recall=0.9750 | grapheme_recall=0.9378 | loss=1.2092 | tar=0.9575 | vowel_recall=0.9796\n"
          ],
          "name": "stderr"
        },
        {
          "output_type": "stream",
          "text": [
            "[2020-02-24 20:55:30,978] \n",
            "16/30 * Epoch 16 (train): _base/lr=7.236e-05 | _base/momentum=0.9000 | _timers/_fps=1991.1721 | _timers/batch_time=0.0727 | _timers/data_time=0.0045 | _timers/model_time=0.0671 | batch_consonant_recall=0.7437 | batch_grapheme_recall=0.6368 | batch_vowel_recall=0.7410 | consonant_recall=0.7202 | grapheme_recall=0.6615 | loss=4.4058 | tar=0.6959 | vowel_recall=0.7402\n",
            "16/30 * Epoch 16 (valid): _base/lr=7.236e-05 | _base/momentum=0.9000 | _timers/_fps=1175.4059 | _timers/batch_time=0.1695 | _timers/data_time=0.1008 | _timers/model_time=0.0687 | batch_consonant_recall=0.9679 | batch_grapheme_recall=0.9150 | batch_vowel_recall=0.9798 | consonant_recall=0.9676 | grapheme_recall=0.9388 | loss=1.3072 | tar=0.9563 | vowel_recall=0.9799\n"
          ],
          "name": "stdout"
        },
        {
          "output_type": "stream",
          "text": [
            "INFO:metrics_logger:\n",
            "16/30 * Epoch 16 (train): _base/lr=7.236e-05 | _base/momentum=0.9000 | _timers/_fps=1991.1721 | _timers/batch_time=0.0727 | _timers/data_time=0.0045 | _timers/model_time=0.0671 | batch_consonant_recall=0.7437 | batch_grapheme_recall=0.6368 | batch_vowel_recall=0.7410 | consonant_recall=0.7202 | grapheme_recall=0.6615 | loss=4.4058 | tar=0.6959 | vowel_recall=0.7402\n",
            "16/30 * Epoch 16 (valid): _base/lr=7.236e-05 | _base/momentum=0.9000 | _timers/_fps=1175.4059 | _timers/batch_time=0.1695 | _timers/data_time=0.1008 | _timers/model_time=0.0687 | batch_consonant_recall=0.9679 | batch_grapheme_recall=0.9150 | batch_vowel_recall=0.9798 | consonant_recall=0.9676 | grapheme_recall=0.9388 | loss=1.3072 | tar=0.9563 | vowel_recall=0.9799\n"
          ],
          "name": "stderr"
        },
        {
          "output_type": "stream",
          "text": [
            "[2020-02-24 21:07:14,882] \n",
            "17/30 * Epoch 17 (train): _base/lr=8.568e-05 | _base/momentum=0.9000 | _timers/_fps=1990.9344 | _timers/batch_time=0.0724 | _timers/data_time=0.0046 | _timers/model_time=0.0666 | batch_consonant_recall=0.7318 | batch_grapheme_recall=0.6260 | batch_vowel_recall=0.7322 | consonant_recall=0.7133 | grapheme_recall=0.6513 | loss=4.5580 | tar=0.6866 | vowel_recall=0.7305\n",
            "17/30 * Epoch 17 (valid): _base/lr=8.568e-05 | _base/momentum=0.9000 | _timers/_fps=1156.1663 | _timers/batch_time=0.1704 | _timers/data_time=0.0998 | _timers/model_time=0.0706 | batch_consonant_recall=0.9666 | batch_grapheme_recall=0.9087 | batch_vowel_recall=0.9734 | consonant_recall=0.9645 | grapheme_recall=0.9330 | loss=1.8131 | tar=0.9515 | vowel_recall=0.9755\n"
          ],
          "name": "stdout"
        },
        {
          "output_type": "stream",
          "text": [
            "INFO:metrics_logger:\n",
            "17/30 * Epoch 17 (train): _base/lr=8.568e-05 | _base/momentum=0.9000 | _timers/_fps=1990.9344 | _timers/batch_time=0.0724 | _timers/data_time=0.0046 | _timers/model_time=0.0666 | batch_consonant_recall=0.7318 | batch_grapheme_recall=0.6260 | batch_vowel_recall=0.7322 | consonant_recall=0.7133 | grapheme_recall=0.6513 | loss=4.5580 | tar=0.6866 | vowel_recall=0.7305\n",
            "17/30 * Epoch 17 (valid): _base/lr=8.568e-05 | _base/momentum=0.9000 | _timers/_fps=1156.1663 | _timers/batch_time=0.1704 | _timers/data_time=0.0998 | _timers/model_time=0.0706 | batch_consonant_recall=0.9666 | batch_grapheme_recall=0.9087 | batch_vowel_recall=0.9734 | consonant_recall=0.9645 | grapheme_recall=0.9330 | loss=1.8131 | tar=0.9515 | vowel_recall=0.9755\n"
          ],
          "name": "stderr"
        },
        {
          "output_type": "stream",
          "text": [
            "[2020-02-24 21:18:58,883] \n",
            "18/30 * Epoch 18 (train): _base/lr=9.630e-05 | _base/momentum=0.9000 | _timers/_fps=2020.5878 | _timers/batch_time=0.0714 | _timers/data_time=0.0041 | _timers/model_time=0.0660 | batch_consonant_recall=0.7240 | batch_grapheme_recall=0.6101 | batch_vowel_recall=0.7168 | consonant_recall=0.7074 | grapheme_recall=0.6353 | loss=4.7198 | tar=0.6733 | vowel_recall=0.7150\n",
            "18/30 * Epoch 18 (valid): _base/lr=9.630e-05 | _base/momentum=0.9000 | _timers/_fps=1113.7422 | _timers/batch_time=0.1690 | _timers/data_time=0.0991 | _timers/model_time=0.0698 | batch_consonant_recall=0.9689 | batch_grapheme_recall=0.9153 | batch_vowel_recall=0.9761 | consonant_recall=0.9711 | grapheme_recall=0.9376 | loss=1.2104 | tar=0.9561 | vowel_recall=0.9780\n"
          ],
          "name": "stdout"
        },
        {
          "output_type": "stream",
          "text": [
            "INFO:metrics_logger:\n",
            "18/30 * Epoch 18 (train): _base/lr=9.630e-05 | _base/momentum=0.9000 | _timers/_fps=2020.5878 | _timers/batch_time=0.0714 | _timers/data_time=0.0041 | _timers/model_time=0.0660 | batch_consonant_recall=0.7240 | batch_grapheme_recall=0.6101 | batch_vowel_recall=0.7168 | consonant_recall=0.7074 | grapheme_recall=0.6353 | loss=4.7198 | tar=0.6733 | vowel_recall=0.7150\n",
            "18/30 * Epoch 18 (valid): _base/lr=9.630e-05 | _base/momentum=0.9000 | _timers/_fps=1113.7422 | _timers/batch_time=0.1690 | _timers/data_time=0.0991 | _timers/model_time=0.0698 | batch_consonant_recall=0.9689 | batch_grapheme_recall=0.9153 | batch_vowel_recall=0.9761 | consonant_recall=0.9711 | grapheme_recall=0.9376 | loss=1.2104 | tar=0.9561 | vowel_recall=0.9780\n"
          ],
          "name": "stderr"
        },
        {
          "output_type": "stream",
          "text": [
            "[2020-02-24 21:30:47,351] \n",
            "19/30 * Epoch 19 (train): _base/lr=0.0001 | _base/momentum=0.9000 | _timers/_fps=2040.4070 | _timers/batch_time=0.0706 | _timers/data_time=0.0043 | _timers/model_time=0.0650 | batch_consonant_recall=0.7261 | batch_grapheme_recall=0.6159 | batch_vowel_recall=0.7203 | consonant_recall=0.7094 | grapheme_recall=0.6399 | loss=4.6758 | tar=0.6773 | vowel_recall=0.7199\n",
            "19/30 * Epoch 19 (valid): _base/lr=0.0001 | _base/momentum=0.9000 | _timers/_fps=1175.1707 | _timers/batch_time=0.1738 | _timers/data_time=0.1034 | _timers/model_time=0.0703 | batch_consonant_recall=0.9621 | batch_grapheme_recall=0.9150 | batch_vowel_recall=0.9781 | consonant_recall=0.9633 | grapheme_recall=0.9401 | loss=1.2023 | tar=0.9556 | vowel_recall=0.9789\n"
          ],
          "name": "stdout"
        },
        {
          "output_type": "stream",
          "text": [
            "INFO:metrics_logger:\n",
            "19/30 * Epoch 19 (train): _base/lr=0.0001 | _base/momentum=0.9000 | _timers/_fps=2040.4070 | _timers/batch_time=0.0706 | _timers/data_time=0.0043 | _timers/model_time=0.0650 | batch_consonant_recall=0.7261 | batch_grapheme_recall=0.6159 | batch_vowel_recall=0.7203 | consonant_recall=0.7094 | grapheme_recall=0.6399 | loss=4.6758 | tar=0.6773 | vowel_recall=0.7199\n",
            "19/30 * Epoch 19 (valid): _base/lr=0.0001 | _base/momentum=0.9000 | _timers/_fps=1175.1707 | _timers/batch_time=0.1738 | _timers/data_time=0.1034 | _timers/model_time=0.0703 | batch_consonant_recall=0.9621 | batch_grapheme_recall=0.9150 | batch_vowel_recall=0.9781 | consonant_recall=0.9633 | grapheme_recall=0.9401 | loss=1.2023 | tar=0.9556 | vowel_recall=0.9789\n"
          ],
          "name": "stderr"
        },
        {
          "output_type": "stream",
          "text": [
            "[2020-02-24 21:42:45,738] \n",
            "20/30 * Epoch 20 (train): _base/lr=0.0001 | _base/momentum=0.9000 | _timers/_fps=1950.6080 | _timers/batch_time=0.0742 | _timers/data_time=0.0050 | _timers/model_time=0.0681 | batch_consonant_recall=0.7439 | batch_grapheme_recall=0.6390 | batch_vowel_recall=0.7414 | consonant_recall=0.7249 | grapheme_recall=0.6648 | loss=4.4992 | tar=0.6980 | vowel_recall=0.7374\n",
            "20/30 * Epoch 20 (valid): _base/lr=0.0001 | _base/momentum=0.9000 | _timers/_fps=1183.8137 | _timers/batch_time=0.1746 | _timers/data_time=0.1057 | _timers/model_time=0.0688 | batch_consonant_recall=0.9729 | batch_grapheme_recall=0.9156 | batch_vowel_recall=0.9778 | consonant_recall=0.9758 | grapheme_recall=0.9393 | loss=1.0853 | tar=0.9587 | vowel_recall=0.9805\n"
          ],
          "name": "stdout"
        },
        {
          "output_type": "stream",
          "text": [
            "INFO:metrics_logger:\n",
            "20/30 * Epoch 20 (train): _base/lr=0.0001 | _base/momentum=0.9000 | _timers/_fps=1950.6080 | _timers/batch_time=0.0742 | _timers/data_time=0.0050 | _timers/model_time=0.0681 | batch_consonant_recall=0.7439 | batch_grapheme_recall=0.6390 | batch_vowel_recall=0.7414 | consonant_recall=0.7249 | grapheme_recall=0.6648 | loss=4.4992 | tar=0.6980 | vowel_recall=0.7374\n",
            "20/30 * Epoch 20 (valid): _base/lr=0.0001 | _base/momentum=0.9000 | _timers/_fps=1183.8137 | _timers/batch_time=0.1746 | _timers/data_time=0.1057 | _timers/model_time=0.0688 | batch_consonant_recall=0.9729 | batch_grapheme_recall=0.9156 | batch_vowel_recall=0.9778 | consonant_recall=0.9758 | grapheme_recall=0.9393 | loss=1.0853 | tar=0.9587 | vowel_recall=0.9805\n"
          ],
          "name": "stderr"
        },
        {
          "output_type": "stream",
          "text": [
            "[2020-02-24 21:54:32,500] \n",
            "21/30 * Epoch 21 (train): _base/lr=0.0001 | _base/momentum=0.9000 | _timers/_fps=1971.0706 | _timers/batch_time=0.0734 | _timers/data_time=0.0049 | _timers/model_time=0.0673 | batch_consonant_recall=0.7473 | batch_grapheme_recall=0.6401 | batch_vowel_recall=0.7428 | consonant_recall=0.7270 | grapheme_recall=0.6666 | loss=4.3387 | tar=0.7002 | vowel_recall=0.7407\n",
            "21/30 * Epoch 21 (valid): _base/lr=0.0001 | _base/momentum=0.9000 | _timers/_fps=1140.2698 | _timers/batch_time=0.1739 | _timers/data_time=0.1035 | _timers/model_time=0.0704 | batch_consonant_recall=0.9715 | batch_grapheme_recall=0.9173 | batch_vowel_recall=0.9763 | consonant_recall=0.9731 | grapheme_recall=0.9399 | loss=1.1443 | tar=0.9575 | vowel_recall=0.9772\n"
          ],
          "name": "stdout"
        },
        {
          "output_type": "stream",
          "text": [
            "INFO:metrics_logger:\n",
            "21/30 * Epoch 21 (train): _base/lr=0.0001 | _base/momentum=0.9000 | _timers/_fps=1971.0706 | _timers/batch_time=0.0734 | _timers/data_time=0.0049 | _timers/model_time=0.0673 | batch_consonant_recall=0.7473 | batch_grapheme_recall=0.6401 | batch_vowel_recall=0.7428 | consonant_recall=0.7270 | grapheme_recall=0.6666 | loss=4.3387 | tar=0.7002 | vowel_recall=0.7407\n",
            "21/30 * Epoch 21 (valid): _base/lr=0.0001 | _base/momentum=0.9000 | _timers/_fps=1140.2698 | _timers/batch_time=0.1739 | _timers/data_time=0.1035 | _timers/model_time=0.0704 | batch_consonant_recall=0.9715 | batch_grapheme_recall=0.9173 | batch_vowel_recall=0.9763 | consonant_recall=0.9731 | grapheme_recall=0.9399 | loss=1.1443 | tar=0.9575 | vowel_recall=0.9772\n"
          ],
          "name": "stderr"
        },
        {
          "output_type": "stream",
          "text": [
            "[2020-02-24 22:06:20,135] \n",
            "22/30 * Epoch 22 (train): _base/lr=9.517e-05 | _base/momentum=0.9000 | _timers/_fps=1938.8979 | _timers/batch_time=0.0748 | _timers/data_time=0.0050 | _timers/model_time=0.0687 | batch_consonant_recall=0.7423 | batch_grapheme_recall=0.6378 | batch_vowel_recall=0.7390 | consonant_recall=0.7278 | grapheme_recall=0.6644 | loss=4.2979 | tar=0.6980 | vowel_recall=0.7355\n",
            "22/30 * Epoch 22 (valid): _base/lr=9.517e-05 | _base/momentum=0.9000 | _timers/_fps=1144.8509 | _timers/batch_time=0.1751 | _timers/data_time=0.1035 | _timers/model_time=0.0716 | batch_consonant_recall=0.9712 | batch_grapheme_recall=0.9175 | batch_vowel_recall=0.9760 | consonant_recall=0.9718 | grapheme_recall=0.9396 | loss=1.1883 | tar=0.9574 | vowel_recall=0.9786\n"
          ],
          "name": "stdout"
        },
        {
          "output_type": "stream",
          "text": [
            "INFO:metrics_logger:\n",
            "22/30 * Epoch 22 (train): _base/lr=9.517e-05 | _base/momentum=0.9000 | _timers/_fps=1938.8979 | _timers/batch_time=0.0748 | _timers/data_time=0.0050 | _timers/model_time=0.0687 | batch_consonant_recall=0.7423 | batch_grapheme_recall=0.6378 | batch_vowel_recall=0.7390 | consonant_recall=0.7278 | grapheme_recall=0.6644 | loss=4.2979 | tar=0.6980 | vowel_recall=0.7355\n",
            "22/30 * Epoch 22 (valid): _base/lr=9.517e-05 | _base/momentum=0.9000 | _timers/_fps=1144.8509 | _timers/batch_time=0.1751 | _timers/data_time=0.1035 | _timers/model_time=0.0716 | batch_consonant_recall=0.9712 | batch_grapheme_recall=0.9175 | batch_vowel_recall=0.9760 | consonant_recall=0.9718 | grapheme_recall=0.9396 | loss=1.1883 | tar=0.9574 | vowel_recall=0.9786\n"
          ],
          "name": "stderr"
        },
        {
          "output_type": "stream",
          "text": [
            "[2020-02-24 22:19:19,448] \n",
            "23/30 * Epoch 23 (train): _base/lr=8.387e-05 | _base/momentum=0.9000 | _timers/_fps=1970.2198 | _timers/batch_time=0.0738 | _timers/data_time=0.0045 | _timers/model_time=0.0681 | batch_consonant_recall=0.7380 | batch_grapheme_recall=0.6313 | batch_vowel_recall=0.7289 | consonant_recall=0.7232 | grapheme_recall=0.6558 | loss=4.3652 | tar=0.6906 | vowel_recall=0.7276\n",
            "23/30 * Epoch 23 (valid): _base/lr=8.387e-05 | _base/momentum=0.9000 | _timers/_fps=1099.6660 | _timers/batch_time=0.1741 | _timers/data_time=0.1028 | _timers/model_time=0.0712 | batch_consonant_recall=0.9741 | batch_grapheme_recall=0.9226 | batch_vowel_recall=0.9796 | consonant_recall=0.9762 | grapheme_recall=0.9446 | loss=1.4131 | tar=0.9613 | vowel_recall=0.9797\n"
          ],
          "name": "stdout"
        },
        {
          "output_type": "stream",
          "text": [
            "INFO:metrics_logger:\n",
            "23/30 * Epoch 23 (train): _base/lr=8.387e-05 | _base/momentum=0.9000 | _timers/_fps=1970.2198 | _timers/batch_time=0.0738 | _timers/data_time=0.0045 | _timers/model_time=0.0681 | batch_consonant_recall=0.7380 | batch_grapheme_recall=0.6313 | batch_vowel_recall=0.7289 | consonant_recall=0.7232 | grapheme_recall=0.6558 | loss=4.3652 | tar=0.6906 | vowel_recall=0.7276\n",
            "23/30 * Epoch 23 (valid): _base/lr=8.387e-05 | _base/momentum=0.9000 | _timers/_fps=1099.6660 | _timers/batch_time=0.1741 | _timers/data_time=0.1028 | _timers/model_time=0.0712 | batch_consonant_recall=0.9741 | batch_grapheme_recall=0.9226 | batch_vowel_recall=0.9796 | consonant_recall=0.9762 | grapheme_recall=0.9446 | loss=1.4131 | tar=0.9613 | vowel_recall=0.9797\n"
          ],
          "name": "stderr"
        },
        {
          "output_type": "stream",
          "text": [
            "[2020-02-24 22:31:28,008] \n",
            "24/30 * Epoch 24 (train): _base/lr=6.968e-05 | _base/momentum=0.9000 | _timers/_fps=2088.4656 | _timers/batch_time=0.0670 | _timers/data_time=0.0060 | _timers/model_time=0.0595 | batch_consonant_recall=0.7558 | batch_grapheme_recall=0.6633 | batch_vowel_recall=0.7539 | consonant_recall=0.7419 | grapheme_recall=0.6865 | loss=4.0360 | tar=0.7166 | vowel_recall=0.7515\n",
            "24/30 * Epoch 24 (valid): _base/lr=6.968e-05 | _base/momentum=0.9000 | _timers/_fps=1126.7999 | _timers/batch_time=0.1796 | _timers/data_time=0.1116 | _timers/model_time=0.0680 | batch_consonant_recall=0.9680 | batch_grapheme_recall=0.9228 | batch_vowel_recall=0.9793 | consonant_recall=0.9668 | grapheme_recall=0.9451 | loss=1.9718 | tar=0.9592 | vowel_recall=0.9800\n"
          ],
          "name": "stdout"
        },
        {
          "output_type": "stream",
          "text": [
            "INFO:metrics_logger:\n",
            "24/30 * Epoch 24 (train): _base/lr=6.968e-05 | _base/momentum=0.9000 | _timers/_fps=2088.4656 | _timers/batch_time=0.0670 | _timers/data_time=0.0060 | _timers/model_time=0.0595 | batch_consonant_recall=0.7558 | batch_grapheme_recall=0.6633 | batch_vowel_recall=0.7539 | consonant_recall=0.7419 | grapheme_recall=0.6865 | loss=4.0360 | tar=0.7166 | vowel_recall=0.7515\n",
            "24/30 * Epoch 24 (valid): _base/lr=6.968e-05 | _base/momentum=0.9000 | _timers/_fps=1126.7999 | _timers/batch_time=0.1796 | _timers/data_time=0.1116 | _timers/model_time=0.0680 | batch_consonant_recall=0.9680 | batch_grapheme_recall=0.9228 | batch_vowel_recall=0.9793 | consonant_recall=0.9668 | grapheme_recall=0.9451 | loss=1.9718 | tar=0.9592 | vowel_recall=0.9800\n"
          ],
          "name": "stderr"
        },
        {
          "output_type": "stream",
          "text": [
            "[2020-02-24 22:44:30,496] \n",
            "25/30 * Epoch 25 (train): _base/lr=5.396e-05 | _base/momentum=0.9000 | _timers/_fps=1879.4619 | _timers/batch_time=0.0769 | _timers/data_time=0.0051 | _timers/model_time=0.0705 | batch_consonant_recall=0.7488 | batch_grapheme_recall=0.6506 | batch_vowel_recall=0.7396 | consonant_recall=0.7308 | grapheme_recall=0.6739 | loss=4.0369 | tar=0.7035 | vowel_recall=0.7354\n",
            "25/30 * Epoch 25 (valid): _base/lr=5.396e-05 | _base/momentum=0.9000 | _timers/_fps=1102.9159 | _timers/batch_time=0.1780 | _timers/data_time=0.1076 | _timers/model_time=0.0704 | batch_consonant_recall=0.9704 | batch_grapheme_recall=0.9323 | batch_vowel_recall=0.9795 | consonant_recall=0.9738 | grapheme_recall=0.9512 | loss=1.3399 | tar=0.9645 | vowel_recall=0.9817\n"
          ],
          "name": "stdout"
        },
        {
          "output_type": "stream",
          "text": [
            "INFO:metrics_logger:\n",
            "25/30 * Epoch 25 (train): _base/lr=5.396e-05 | _base/momentum=0.9000 | _timers/_fps=1879.4619 | _timers/batch_time=0.0769 | _timers/data_time=0.0051 | _timers/model_time=0.0705 | batch_consonant_recall=0.7488 | batch_grapheme_recall=0.6506 | batch_vowel_recall=0.7396 | consonant_recall=0.7308 | grapheme_recall=0.6739 | loss=4.0369 | tar=0.7035 | vowel_recall=0.7354\n",
            "25/30 * Epoch 25 (valid): _base/lr=5.396e-05 | _base/momentum=0.9000 | _timers/_fps=1102.9159 | _timers/batch_time=0.1780 | _timers/data_time=0.1076 | _timers/model_time=0.0704 | batch_consonant_recall=0.9704 | batch_grapheme_recall=0.9323 | batch_vowel_recall=0.9795 | consonant_recall=0.9738 | grapheme_recall=0.9512 | loss=1.3399 | tar=0.9645 | vowel_recall=0.9817\n"
          ],
          "name": "stderr"
        },
        {
          "output_type": "stream",
          "text": [
            "[2020-02-24 22:57:49,338] \n",
            "26/30 * Epoch 26 (train): _base/lr=3.820e-05 | _base/momentum=0.9000 | _timers/_fps=1985.8515 | _timers/batch_time=0.0731 | _timers/data_time=0.0073 | _timers/model_time=0.0643 | batch_consonant_recall=0.7460 | batch_grapheme_recall=0.6541 | batch_vowel_recall=0.7373 | consonant_recall=0.7335 | grapheme_recall=0.6745 | loss=4.0504 | tar=0.7045 | vowel_recall=0.7355\n",
            "26/30 * Epoch 26 (valid): _base/lr=3.820e-05 | _base/momentum=0.9000 | _timers/_fps=1134.2034 | _timers/batch_time=0.1779 | _timers/data_time=0.1079 | _timers/model_time=0.0699 | batch_consonant_recall=0.9770 | batch_grapheme_recall=0.9356 | batch_vowel_recall=0.9805 | consonant_recall=0.9823 | grapheme_recall=0.9522 | loss=0.9181 | tar=0.9674 | vowel_recall=0.9827\n"
          ],
          "name": "stdout"
        },
        {
          "output_type": "stream",
          "text": [
            "INFO:metrics_logger:\n",
            "26/30 * Epoch 26 (train): _base/lr=3.820e-05 | _base/momentum=0.9000 | _timers/_fps=1985.8515 | _timers/batch_time=0.0731 | _timers/data_time=0.0073 | _timers/model_time=0.0643 | batch_consonant_recall=0.7460 | batch_grapheme_recall=0.6541 | batch_vowel_recall=0.7373 | consonant_recall=0.7335 | grapheme_recall=0.6745 | loss=4.0504 | tar=0.7045 | vowel_recall=0.7355\n",
            "26/30 * Epoch 26 (valid): _base/lr=3.820e-05 | _base/momentum=0.9000 | _timers/_fps=1134.2034 | _timers/batch_time=0.1779 | _timers/data_time=0.1079 | _timers/model_time=0.0699 | batch_consonant_recall=0.9770 | batch_grapheme_recall=0.9356 | batch_vowel_recall=0.9805 | consonant_recall=0.9823 | grapheme_recall=0.9522 | loss=0.9181 | tar=0.9674 | vowel_recall=0.9827\n"
          ],
          "name": "stderr"
        },
        {
          "output_type": "stream",
          "text": [
            "[2020-02-24 23:11:03,082] \n",
            "27/30 * Epoch 27 (train): _base/lr=2.387e-05 | _base/momentum=0.9000 | _timers/_fps=2064.8045 | _timers/batch_time=0.0668 | _timers/data_time=0.0041 | _timers/model_time=0.0625 | batch_consonant_recall=0.9706 | batch_grapheme_recall=0.9242 | batch_vowel_recall=0.9770 | consonant_recall=0.9697 | grapheme_recall=0.9482 | loss=0.6408 | tar=0.9609 | vowel_recall=0.9776\n",
            "27/30 * Epoch 27 (valid): _base/lr=2.387e-05 | _base/momentum=0.9000 | _timers/_fps=1097.3084 | _timers/batch_time=0.1768 | _timers/data_time=0.1089 | _timers/model_time=0.0678 | batch_consonant_recall=0.9818 | batch_grapheme_recall=0.9438 | batch_vowel_recall=0.9852 | consonant_recall=0.9826 | grapheme_recall=0.9610 | loss=0.4627 | tar=0.9727 | vowel_recall=0.9863\n"
          ],
          "name": "stdout"
        },
        {
          "output_type": "stream",
          "text": [
            "INFO:metrics_logger:\n",
            "27/30 * Epoch 27 (train): _base/lr=2.387e-05 | _base/momentum=0.9000 | _timers/_fps=2064.8045 | _timers/batch_time=0.0668 | _timers/data_time=0.0041 | _timers/model_time=0.0625 | batch_consonant_recall=0.9706 | batch_grapheme_recall=0.9242 | batch_vowel_recall=0.9770 | consonant_recall=0.9697 | grapheme_recall=0.9482 | loss=0.6408 | tar=0.9609 | vowel_recall=0.9776\n",
            "27/30 * Epoch 27 (valid): _base/lr=2.387e-05 | _base/momentum=0.9000 | _timers/_fps=1097.3084 | _timers/batch_time=0.1768 | _timers/data_time=0.1089 | _timers/model_time=0.0678 | batch_consonant_recall=0.9818 | batch_grapheme_recall=0.9438 | batch_vowel_recall=0.9852 | consonant_recall=0.9826 | grapheme_recall=0.9610 | loss=0.4627 | tar=0.9727 | vowel_recall=0.9863\n"
          ],
          "name": "stderr"
        },
        {
          "output_type": "stream",
          "text": [
            "[2020-02-24 23:24:09,541] \n",
            "28/30 * Epoch 28 (train): _base/lr=1.230e-05 | _base/momentum=0.9000 | _timers/_fps=2062.6033 | _timers/batch_time=0.0685 | _timers/data_time=0.0057 | _timers/model_time=0.0627 | batch_consonant_recall=0.9726 | batch_grapheme_recall=0.9318 | batch_vowel_recall=0.9779 | consonant_recall=0.9713 | grapheme_recall=0.9543 | loss=0.5719 | tar=0.9647 | vowel_recall=0.9791\n",
            "28/30 * Epoch 28 (valid): _base/lr=1.230e-05 | _base/momentum=0.9000 | _timers/_fps=1075.5428 | _timers/batch_time=0.1764 | _timers/data_time=0.1070 | _timers/model_time=0.0694 | batch_consonant_recall=0.9838 | batch_grapheme_recall=0.9472 | batch_vowel_recall=0.9849 | consonant_recall=0.9870 | grapheme_recall=0.9635 | loss=0.4359 | tar=0.9748 | vowel_recall=0.9854\n"
          ],
          "name": "stdout"
        },
        {
          "output_type": "stream",
          "text": [
            "INFO:metrics_logger:\n",
            "28/30 * Epoch 28 (train): _base/lr=1.230e-05 | _base/momentum=0.9000 | _timers/_fps=2062.6033 | _timers/batch_time=0.0685 | _timers/data_time=0.0057 | _timers/model_time=0.0627 | batch_consonant_recall=0.9726 | batch_grapheme_recall=0.9318 | batch_vowel_recall=0.9779 | consonant_recall=0.9713 | grapheme_recall=0.9543 | loss=0.5719 | tar=0.9647 | vowel_recall=0.9791\n",
            "28/30 * Epoch 28 (valid): _base/lr=1.230e-05 | _base/momentum=0.9000 | _timers/_fps=1075.5428 | _timers/batch_time=0.1764 | _timers/data_time=0.1070 | _timers/model_time=0.0694 | batch_consonant_recall=0.9838 | batch_grapheme_recall=0.9472 | batch_vowel_recall=0.9849 | consonant_recall=0.9870 | grapheme_recall=0.9635 | loss=0.4359 | tar=0.9748 | vowel_recall=0.9854\n"
          ],
          "name": "stderr"
        },
        {
          "output_type": "stream",
          "text": [
            "[2020-02-24 23:37:04,891] \n",
            "29/30 * Epoch 29 (train): _base/lr=4.424e-06 | _base/momentum=0.9000 | _timers/_fps=2057.5784 | _timers/batch_time=0.0674 | _timers/data_time=0.0044 | _timers/model_time=0.0628 | batch_consonant_recall=0.9740 | batch_grapheme_recall=0.9376 | batch_vowel_recall=0.9814 | consonant_recall=0.9753 | grapheme_recall=0.9587 | loss=0.5171 | tar=0.9686 | vowel_recall=0.9816\n",
            "29/30 * Epoch 29 (valid): _base/lr=4.424e-06 | _base/momentum=0.9000 | _timers/_fps=1145.7349 | _timers/batch_time=0.1786 | _timers/data_time=0.1092 | _timers/model_time=0.0694 | batch_consonant_recall=0.9833 | batch_grapheme_recall=0.9489 | batch_vowel_recall=0.9852 | consonant_recall=0.9838 | grapheme_recall=0.9652 | loss=0.4265 | tar=0.9751 | vowel_recall=0.9862\n"
          ],
          "name": "stdout"
        },
        {
          "output_type": "stream",
          "text": [
            "INFO:metrics_logger:\n",
            "29/30 * Epoch 29 (train): _base/lr=4.424e-06 | _base/momentum=0.9000 | _timers/_fps=2057.5784 | _timers/batch_time=0.0674 | _timers/data_time=0.0044 | _timers/model_time=0.0628 | batch_consonant_recall=0.9740 | batch_grapheme_recall=0.9376 | batch_vowel_recall=0.9814 | consonant_recall=0.9753 | grapheme_recall=0.9587 | loss=0.5171 | tar=0.9686 | vowel_recall=0.9816\n",
            "29/30 * Epoch 29 (valid): _base/lr=4.424e-06 | _base/momentum=0.9000 | _timers/_fps=1145.7349 | _timers/batch_time=0.1786 | _timers/data_time=0.1092 | _timers/model_time=0.0694 | batch_consonant_recall=0.9833 | batch_grapheme_recall=0.9489 | batch_vowel_recall=0.9852 | consonant_recall=0.9838 | grapheme_recall=0.9652 | loss=0.4265 | tar=0.9751 | vowel_recall=0.9862\n"
          ],
          "name": "stderr"
        },
        {
          "output_type": "stream",
          "text": [
            "[2020-02-24 23:49:59,773] \n",
            "30/30 * Epoch 30 (train): _base/lr=6.271e-07 | _base/momentum=0.9000 | _timers/_fps=1991.6626 | _timers/batch_time=0.0714 | _timers/data_time=0.0056 | _timers/model_time=0.0657 | batch_consonant_recall=0.9763 | batch_grapheme_recall=0.9415 | batch_vowel_recall=0.9823 | consonant_recall=0.9761 | grapheme_recall=0.9612 | loss=0.4840 | tar=0.9703 | vowel_recall=0.9828\n",
            "30/30 * Epoch 30 (valid): _base/lr=6.271e-07 | _base/momentum=0.9000 | _timers/_fps=1169.7048 | _timers/batch_time=0.1799 | _timers/data_time=0.1092 | _timers/model_time=0.0706 | batch_consonant_recall=0.9836 | batch_grapheme_recall=0.9493 | batch_vowel_recall=0.9871 | consonant_recall=0.9839 | grapheme_recall=0.9651 | loss=0.4244 | tar=0.9753 | vowel_recall=0.9872\n"
          ],
          "name": "stdout"
        },
        {
          "output_type": "stream",
          "text": [
            "INFO:metrics_logger:\n",
            "30/30 * Epoch 30 (train): _base/lr=6.271e-07 | _base/momentum=0.9000 | _timers/_fps=1991.6626 | _timers/batch_time=0.0714 | _timers/data_time=0.0056 | _timers/model_time=0.0657 | batch_consonant_recall=0.9763 | batch_grapheme_recall=0.9415 | batch_vowel_recall=0.9823 | consonant_recall=0.9761 | grapheme_recall=0.9612 | loss=0.4840 | tar=0.9703 | vowel_recall=0.9828\n",
            "30/30 * Epoch 30 (valid): _base/lr=6.271e-07 | _base/momentum=0.9000 | _timers/_fps=1169.7048 | _timers/batch_time=0.1799 | _timers/data_time=0.1092 | _timers/model_time=0.0706 | batch_consonant_recall=0.9836 | batch_grapheme_recall=0.9493 | batch_vowel_recall=0.9871 | consonant_recall=0.9839 | grapheme_recall=0.9651 | loss=0.4244 | tar=0.9753 | vowel_recall=0.9872\n"
          ],
          "name": "stderr"
        },
        {
          "output_type": "stream",
          "text": [
            "Top best models:\n",
            "output/fold0/checkpoints/train.30.pth\t0.9753\n"
          ],
          "name": "stdout"
        }
      ]
    },
    {
      "cell_type": "markdown",
      "metadata": {
        "colab_type": "text",
        "id": "IhArTZXhDEdO"
      },
      "source": [
        "## Check performance"
      ]
    },
    {
      "cell_type": "code",
      "metadata": {
        "colab_type": "code",
        "id": "32PY32ziDEdP",
        "colab": {}
      },
      "source": [
        "def load_model(config: edict, bin_path: Union[str, Path]):\n",
        "    # config.model.pretrained = None\n",
        "    model = get_model(config)\n",
        "    state_dict = torch.load(bin_path, map_location=get_device())\n",
        "    if \"model_state_dict\" in state_dict.keys():\n",
        "        model.load_state_dict(state_dict[\"model_state_dict\"])\n",
        "    else:\n",
        "        model.load_state_dict(state_dict)\n",
        "    return model"
      ],
      "execution_count": 0,
      "outputs": []
    },
    {
      "cell_type": "code",
      "metadata": {
        "colab_type": "code",
        "id": "9_F9IDJdDEdS",
        "colab": {}
      },
      "source": [
        "def macro_average_recall(prediction: np.ndarray, df: pd.DataFrame):\n",
        "    grapheme = recall_score(\n",
        "        df[\"grapheme_root\"].values, prediction[:, 0], average=\"macro\")\n",
        "    vowel = recall_score(\n",
        "        df[\"vowel_diacritic\"].values, prediction[:, 1], average=\"macro\")\n",
        "    consonant = recall_score(\n",
        "        df[\"consonant_diacritic\"].values, prediction[:, 2], average=\"macro\")\n",
        "    return np.average([grapheme, vowel, consonant], weights=[2, 1, 1])"
      ],
      "execution_count": 0,
      "outputs": []
    },
    {
      "cell_type": "code",
      "metadata": {
        "colab_type": "code",
        "id": "XPVll_NsDEdV",
        "colab": {}
      },
      "source": [
        "def inference_loop(model: nn.Module,\n",
        "                   loader: torchdata.DataLoader,\n",
        "                   cls_levels: dict,\n",
        "                   loss_fn: Optional[nn.Module] = None,\n",
        "                   requires_soft=False):\n",
        "    n_grapheme = cls_levels[\"grapheme\"]\n",
        "    n_vowel = cls_levels[\"vowel\"]\n",
        "    n_consonant = cls_levels[\"consonant\"]\n",
        "\n",
        "    dataset_length = len(loader.dataset)\n",
        "    prediction = np.zeros((dataset_length, 3), dtype=np.uint8)\n",
        "    if requires_soft:\n",
        "        soft_prediction = np.zeros(\n",
        "            (dataset_length, n_grapheme + n_vowel + n_consonant),\n",
        "            dtype=np.float32)\n",
        "\n",
        "    batch_size = loader.batch_size\n",
        "    device = get_device()\n",
        "\n",
        "    avg_loss = 0.\n",
        "    model.eval()\n",
        "\n",
        "    targets: Optional[torch.Tensor] = None\n",
        "\n",
        "    for i, batch in enumerate(progress_bar(loader, leave=False)):\n",
        "        with torch.no_grad():\n",
        "            if isinstance(batch, dict):\n",
        "                images = batch[\"images\"].to(device)\n",
        "                targets = batch[\"targets\"].to(device)\n",
        "            else:\n",
        "                images = batch.to(device)\n",
        "                targets = None\n",
        "            pred = model(images).detach()\n",
        "            if loss_fn is not None and targets is not None:\n",
        "                avg_loss += loss_fn(\n",
        "                    pred, batch[\"targets\"].to(device)).item() / len(loader)\n",
        "            head = 0\n",
        "            tail = n_grapheme\n",
        "            pred_grapheme = torch.argmax(\n",
        "                pred[:, head:tail], dim=1).cpu().numpy()\n",
        "\n",
        "            head = tail\n",
        "            tail = head + n_vowel\n",
        "            pred_vowel = torch.argmax(pred[:, head:tail], dim=1).cpu().numpy()\n",
        "\n",
        "            head = tail\n",
        "            tail = head + n_consonant\n",
        "            pred_consonant = torch.argmax(\n",
        "                pred[:, head:tail], dim=1).cpu().numpy()\n",
        "\n",
        "            prediction[i * batch_size:(i + 1) * batch_size, 0] = pred_grapheme\n",
        "            prediction[i * batch_size:(i + 1) * batch_size, 1] = pred_vowel\n",
        "            prediction[i * batch_size:(i + 1) * batch_size, 2] = pred_consonant\n",
        "\n",
        "            if requires_soft:\n",
        "                head = 0\n",
        "                tail = n_grapheme\n",
        "                soft_prediction[i * batch_size:(i + 1) *\n",
        "                                batch_size, head:tail] = F.softmax(\n",
        "                                    pred[:, head:tail], dim=1).cpu().numpy()\n",
        "\n",
        "                head = tail\n",
        "                tail = head + n_vowel\n",
        "                soft_prediction[i * batch_size:(i + 1) *\n",
        "                                batch_size, head:tail] = F.softmax(\n",
        "                                    pred[:, head:tail], dim=1).cpu().numpy()\n",
        "\n",
        "                head = tail\n",
        "                tail = head + n_consonant\n",
        "                soft_prediction[i * batch_size:(i + 1) *\n",
        "                                batch_size, head:tail] = F.softmax(\n",
        "                                    pred[:, head:tail], dim=1).cpu().numpy()\n",
        "\n",
        "    return_dict = {\"prediction\": prediction, \"loss\": avg_loss}\n",
        "    if requires_soft:\n",
        "        return_dict[\"soft_prediction\"] = soft_prediction\n",
        "\n",
        "    return return_dict"
      ],
      "execution_count": 0,
      "outputs": []
    },
    {
      "cell_type": "code",
      "metadata": {
        "colab_type": "code",
        "id": "hPKIgJnMDEdY",
        "outputId": "016fd4b2-b3d4-4d2d-fbe0-917b7e52b3ad",
        "colab": {
          "base_uri": "https://localhost:8080/",
          "height": 34
        }
      },
      "source": [
        "checkpoint_path = f\"output/fold{i}/checkpoints/best.pth\"\n",
        "model = load_model(config, checkpoint_path)\n",
        "model.to(get_device())\n",
        "loader = data_loaders[\"valid\"]\n",
        "\n",
        "prediction = inference_loop(\n",
        "    model,\n",
        "    loader,\n",
        "    cls_levels,\n",
        "    criterion,\n",
        "    requires_soft=False)\n",
        "score = macro_average_recall(prediction[\"prediction\"], val_df)\n",
        "print(f\"Score: {score:.5f}\")"
      ],
      "execution_count": 0,
      "outputs": [
        {
          "output_type": "display_data",
          "data": {
            "text/html": [
              ""
            ],
            "text/plain": [
              "<IPython.core.display.HTML object>"
            ]
          },
          "metadata": {
            "tags": []
          }
        },
        {
          "output_type": "stream",
          "text": [
            "Score: 0.95977\n"
          ],
          "name": "stdout"
        }
      ]
    },
    {
      "cell_type": "code",
      "metadata": {
        "colab_type": "code",
        "id": "BF64LRYqK1l6",
        "outputId": "9056b19a-b150-46f9-81d3-3bc7ece64b46",
        "colab": {
          "base_uri": "https://localhost:8080/",
          "height": 34
        }
      },
      "source": [
        "!cp output/fold0/checkpoints/best.pth /content/gdrive/My\\ Drive/kaggle-bengali/checkpoints/fold0/seresnext_50epoch_size128_mixup_focal.pth"
      ],
      "execution_count": 0,
      "outputs": [
        {
          "output_type": "stream",
          "text": [
            "cp: cannot stat 'output/fold0/checkpoints/best.pth': No such file or directory\n"
          ],
          "name": "stdout"
        }
      ]
    },
    {
      "cell_type": "code",
      "metadata": {
        "colab_type": "code",
        "id": "Tf7pT23OU1X1",
        "colab": {}
      },
      "source": [
        ""
      ],
      "execution_count": 0,
      "outputs": []
    }
  ]
}