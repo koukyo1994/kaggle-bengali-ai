{
 "cells": [
  {
   "cell_type": "markdown",
   "metadata": {
    "colab_type": "text",
    "id": "view-in-github"
   },
   "source": [
    "<a href=\"https://colab.research.google.com/github/koukyo1994/kaggle-bengali-ai/blob/master/notebook/Resnet.ipynb\" target=\"_parent\"><img src=\"https://colab.research.google.com/assets/colab-badge.svg\" alt=\"Open In Colab\"/></a>"
   ]
  },
  {
   "cell_type": "markdown",
   "metadata": {
    "colab_type": "text",
    "id": "H-LYW6ekKQ-x"
   },
   "source": [
    "## Dependencies"
   ]
  },
  {
   "cell_type": "code",
   "execution_count": null,
   "metadata": {
    "colab": {},
    "colab_type": "code",
    "id": "QyICnC_QKQ-0"
   },
   "outputs": [],
   "source": [
    "%%sh\n",
    "pip install albumentations==0.4.3 catalyst==20.1.1 easydict==1.9.0 >> /dev/null\n",
    "pip install efficientnet-pytorch==0.6.1 PyYAML==5.3 >> /dev/null\n",
    "pip install pretrainedmodels==0.7.4 >> /dev/null"
   ]
  },
  {
   "cell_type": "markdown",
   "metadata": {
    "colab_type": "text",
    "id": "b2m_PlwpKQ-5"
   },
   "source": [
    "## Integration with Google Drive"
   ]
  },
  {
   "cell_type": "code",
   "execution_count": 2,
   "metadata": {
    "colab": {
     "base_uri": "https://localhost:8080/",
     "height": 122
    },
    "colab_type": "code",
    "id": "jsPLSeVuKQ-6",
    "outputId": "dbc976ba-8a42-4821-b080-957c8f14657e"
   },
   "outputs": [
    {
     "name": "stdout",
     "output_type": "stream",
     "text": [
      "Go to this URL in a browser: https://accounts.google.com/o/oauth2/auth?client_id=947318989803-6bn6qk8qdgf4n4g3pfee6491hc0brc4i.apps.googleusercontent.com&redirect_uri=urn%3aietf%3awg%3aoauth%3a2.0%3aoob&response_type=code&scope=email%20https%3a%2f%2fwww.googleapis.com%2fauth%2fdocs.test%20https%3a%2f%2fwww.googleapis.com%2fauth%2fdrive%20https%3a%2f%2fwww.googleapis.com%2fauth%2fdrive.photos.readonly%20https%3a%2f%2fwww.googleapis.com%2fauth%2fpeopleapi.readonly\n",
      "\n",
      "Enter your authorization code:\n",
      "··········\n",
      "Mounted at /content/gdrive\n"
     ]
    }
   ],
   "source": [
    "from google.colab import drive\n",
    "drive.mount(\"/content/gdrive\")"
   ]
  },
  {
   "cell_type": "code",
   "execution_count": null,
   "metadata": {
    "colab": {},
    "colab_type": "code",
    "id": "a3FN8jiWKQ--"
   },
   "outputs": [],
   "source": [
    "%%sh\n",
    "mkdir input\n",
    "cp -r /content/gdrive/My\\ Drive/kaggle-bengali ./input/bengaliai-cv19\n",
    "unzip -qq -d input/bengaliai-cv19/ input/bengaliai-cv19/train_images.zip\n",
    "unzip -qq -d input/bengaliai-cv19/ input/bengaliai-cv19/test_images.zip"
   ]
  },
  {
   "cell_type": "markdown",
   "metadata": {
    "colab_type": "text",
    "id": "24Iv5BnEKQ_B"
   },
   "source": [
    "## Libraries"
   ]
  },
  {
   "cell_type": "code",
   "execution_count": 4,
   "metadata": {
    "colab": {
     "base_uri": "https://localhost:8080/",
     "height": 34
    },
    "colab_type": "code",
    "id": "qYrCK0t6KQ_C",
    "outputId": "bdf30ff2-2366-4eb6-9c07-c2d6d8a141b3"
   },
   "outputs": [
    {
     "name": "stderr",
     "output_type": "stream",
     "text": [
      "alchemy not available, to install alchemy, run `pip install alchemy-catalyst`.\n"
     ]
    }
   ],
   "source": [
    "import albumentations as A\n",
    "import catalyst as ct\n",
    "import cv2\n",
    "import numpy as np\n",
    "import pandas as pd\n",
    "import pretrainedmodels\n",
    "import torch\n",
    "import torch.nn as nn\n",
    "import torch.nn.functional as F\n",
    "import torch.utils.data as torchdata\n",
    "import torchvision.models as models\n",
    "import yaml\n",
    "\n",
    "from pathlib import Path\n",
    "from typing import Tuple, Dict, Union, Optional, List\n",
    "\n",
    "from catalyst.dl import SupervisedRunner\n",
    "from catalyst.dl.core import Callback, CallbackOrder, RunnerState\n",
    "from catalyst.dl.callbacks import MixupCallback\n",
    "from catalyst.utils import get_device\n",
    "from easydict import EasyDict as edict\n",
    "from efficientnet_pytorch import EfficientNet\n",
    "from fastprogress import progress_bar\n",
    "from skimage.transform import AffineTransform, warp\n",
    "from sklearn.metrics import recall_score, confusion_matrix\n",
    "from sklearn.model_selection import KFold, train_test_split\n",
    "from torch.nn.parameter import Parameter\n",
    "from torch.optim import Adam, SGD\n",
    "from torch.optim.lr_scheduler import (ReduceLROnPlateau, \n",
    "                                      CosineAnnealingLR,\n",
    "                                      CosineAnnealingWarmRestarts)"
   ]
  },
  {
   "cell_type": "markdown",
   "metadata": {
    "colab_type": "text",
    "id": "tszhN7oGKQ_H"
   },
   "source": [
    "## Settings"
   ]
  },
  {
   "cell_type": "code",
   "execution_count": null,
   "metadata": {
    "colab": {},
    "colab_type": "code",
    "id": "dqfUxJd6KQ_I"
   },
   "outputs": [],
   "source": [
    "i = 0\n",
    "trial = \"resnet34_fourth\""
   ]
  },
  {
   "cell_type": "markdown",
   "metadata": {
    "colab_type": "text",
    "id": "dXUZcRAGKQ_L"
   },
   "source": [
    "## Config"
   ]
  },
  {
   "cell_type": "code",
   "execution_count": null,
   "metadata": {
    "colab": {},
    "colab_type": "code",
    "id": "S16TliO4KQ_M"
   },
   "outputs": [],
   "source": [
    "conf_string = '''\n",
    "dataset:\n",
    "  train:\n",
    "    affine: True\n",
    "    morphology: False\n",
    "  val:\n",
    "    affine: False\n",
    "    morphology: False\n",
    "  test:\n",
    "    affine: False\n",
    "    morphology: False\n",
    "\n",
    "data:\n",
    "  train_df_path: input/bengaliai-cv19/train.csv\n",
    "  train_images_path: input/bengaliai-cv19/train_images\n",
    "  test_images_path: input/bengaliai-cv19/test_images\n",
    "  sample_submission_path: input/bengaliai-cv19/sample_submission.csv\n",
    "\n",
    "model:\n",
    "  model_name: resnet34\n",
    "  pretrained: True\n",
    "  num_classes: 186\n",
    "  head: custom\n",
    "  in_channels: 3\n",
    "\n",
    "train:\n",
    "  batch_size: 128\n",
    "  num_epochs: 10\n",
    "\n",
    "test:\n",
    "  batch_size: 128\n",
    "\n",
    "loss:\n",
    "  name: cross_entropy\n",
    "  params:\n",
    "    n_grapheme: 168\n",
    "    n_vowel: 11\n",
    "    n_consonant: 7\n",
    "\n",
    "optimizer:\n",
    "  name: Adam\n",
    "  params:\n",
    "    lr: 0.0001\n",
    "\n",
    "scheduler:\n",
    "  name: cosine\n",
    "  params:\n",
    "    T_max: 10\n",
    "\n",
    "transforms:\n",
    "  train:\n",
    "    Noise: False\n",
    "    Contrast: False\n",
    "    Rotate: True\n",
    "    RandomScale: True\n",
    "    Cutout:\n",
    "      num_holes: 0\n",
    "  val:\n",
    "    Noise: False\n",
    "    Contrast: False\n",
    "    Rotate: False\n",
    "    RandomScale: False\n",
    "    Cutout:\n",
    "      num_holes: 0\n",
    "  test:\n",
    "    Noise: False\n",
    "    Contrast: False\n",
    "    Rotate: False\n",
    "    RandomScale: False\n",
    "    Cutout:\n",
    "      num_holes: 0\n",
    "\n",
    "val:\n",
    "  name: kfold\n",
    "  params:\n",
    "    random_state: 42\n",
    "    n_splits: 5\n",
    "\n",
    "callbacks:\n",
    "  - AverageRecall:\n",
    "      index: 0\n",
    "      offset: 0\n",
    "      n_classes: 168\n",
    "      prefix: grapheme_recall\n",
    "      loss_type: cross_entroy\n",
    "  - AverageRecall:\n",
    "      index: 1\n",
    "      offset: 168\n",
    "      n_classes: 11\n",
    "      prefix: vowel_recall\n",
    "      loss_type: cross_entropy\n",
    "  - AverageRecall:\n",
    "      index: 2\n",
    "      offset: 179\n",
    "      n_classes: 7\n",
    "      prefix: consonant_recall\n",
    "      loss_type: cross_entropy\n",
    "  - TotalAverageRecall:\n",
    "      loss_type: cross_entropy\n",
    "  - SaveWeightsCallback:\n",
    "      to: /content/gdrive/My Drive/kaggle-bengali/checkpoints\n",
    "\n",
    "log_dir: log/\n",
    "num_workers: 2\n",
    "seed: 1213\n",
    "img_size: 128\n",
    "mixup: False\n",
    "'''"
   ]
  },
  {
   "cell_type": "code",
   "execution_count": null,
   "metadata": {
    "colab": {},
    "colab_type": "code",
    "id": "piePmxjjKQ_P"
   },
   "outputs": [],
   "source": [
    "def _get_default():\n",
    "    cfg = edict()\n",
    "\n",
    "    # dataset\n",
    "    cfg.dataset = edict()\n",
    "    cfg.dataset.train = edict()\n",
    "    cfg.dataset.val = edict()\n",
    "    cfg.dataset.test = edict()\n",
    "    cfg.dataset.train.affine = False\n",
    "    cfg.dataset.train.morphology = False\n",
    "    cfg.dataset.val.affine = False\n",
    "    cfg.dataset.val.morphology = False\n",
    "    cfg.dataset.test.affine = False\n",
    "    cfg.dataset.test.morphology = False\n",
    "\n",
    "    # dataset\n",
    "    cfg.data = edict()\n",
    "\n",
    "    # model\n",
    "    cfg.model = edict()\n",
    "    cfg.model.model_name = \"resnet18\"\n",
    "    cfg.model.num_classes = 186\n",
    "    cfg.model.pretrained = True\n",
    "    cfg.model.head = \"linear\"\n",
    "    cfg.model.in_channels = 3\n",
    "\n",
    "    # train\n",
    "    cfg.train = edict()\n",
    "\n",
    "    # test\n",
    "    cfg.test = edict()\n",
    "\n",
    "    # loss\n",
    "    cfg.loss = edict()\n",
    "    cfg.loss.params = edict()\n",
    "\n",
    "    # optimizer\n",
    "    cfg.optimizer = edict()\n",
    "    cfg.optimizer.params = edict()\n",
    "\n",
    "    # scheduler\n",
    "    cfg.scheduler = edict()\n",
    "    cfg.scheduler.params = edict()\n",
    "\n",
    "    # transforms:\n",
    "    cfg.transforms = edict()\n",
    "    cfg.transforms.train = edict()\n",
    "    cfg.transforms.train.HorizontalFlip = False\n",
    "    cfg.transforms.train.VerticalFlip = False\n",
    "    cfg.transforms.train.Noise = False\n",
    "    cfg.transforms.train.Contrast = False\n",
    "    cfg.transforms.train.Rotate = False\n",
    "    cfg.transforms.train.RandomScale = False\n",
    "    cfg.transforms.train.Cutout = edict()\n",
    "    cfg.transforms.train.Cutout.num_holes = 0\n",
    "    cfg.transforms.val = edict()\n",
    "    cfg.transforms.val.HorizontalFlip = False\n",
    "    cfg.transforms.val.VerticalFlip = False\n",
    "    cfg.transforms.val.Noise = False\n",
    "    cfg.transforms.val.Contrast = False\n",
    "    cfg.transforms.val.Rotate = False\n",
    "    cfg.transforms.val.RandomScale = False\n",
    "    cfg.transforms.val.Cutout = edict()\n",
    "    cfg.transforms.val.Cutout.num_holes = 0\n",
    "    cfg.transforms.test = edict()\n",
    "    cfg.transforms.test.HorizontalFlip = False\n",
    "    cfg.transforms.test.VerticalFlip = False\n",
    "    cfg.transforms.test.Noise = False\n",
    "    cfg.transforms.test.Contrast = False\n",
    "    cfg.transforms.test.Rotate = False\n",
    "    cfg.transforms.test.RandomScale = False\n",
    "    cfg.transforms.test.Cutout = edict()\n",
    "    cfg.transforms.test.Cutout.num_holes = 0\n",
    "    cfg.transforms.mean = [0.485, 0.456, 0.406]\n",
    "    cfg.transforms.std = [0.229, 0.224, 0.225]\n",
    "\n",
    "    # val\n",
    "    cfg.val = edict()\n",
    "    cfg.val.params = edict()\n",
    "\n",
    "    cfg.callbacks = []\n",
    "\n",
    "    return cfg\n",
    "\n",
    "\n",
    "def _merge_config(src: edict, dst: edict):\n",
    "    if not isinstance(src, edict):\n",
    "        return\n",
    "    for k, v in src.items():\n",
    "        if isinstance(v, edict):\n",
    "            _merge_config(src[k], dst[k])\n",
    "        else:\n",
    "            dst[k] = v"
   ]
  },
  {
   "cell_type": "code",
   "execution_count": null,
   "metadata": {
    "colab": {},
    "colab_type": "code",
    "id": "DOq2Hol4KQ_S"
   },
   "outputs": [],
   "source": [
    "cfg = edict(yaml.load(conf_string, Loader=yaml.SafeLoader))\n",
    "config = _get_default()\n",
    "_merge_config(cfg, config)"
   ]
  },
  {
   "cell_type": "markdown",
   "metadata": {
    "colab_type": "text",
    "id": "iinSUuVEKQ_V"
   },
   "source": [
    "## Environmental settings"
   ]
  },
  {
   "cell_type": "code",
   "execution_count": 9,
   "metadata": {
    "colab": {
     "base_uri": "https://localhost:8080/",
     "height": 63
    },
    "colab_type": "code",
    "id": "Mo5V5VT5KQ_W",
    "outputId": "7f6a1db1-36e9-4db3-e9f8-99c6daf95427"
   },
   "outputs": [
    {
     "data": {
      "text/html": [
       "<p style=\"color: red;\">\n",
       "The default version of TensorFlow in Colab will soon switch to TensorFlow 2.x.<br>\n",
       "We recommend you <a href=\"https://www.tensorflow.org/guide/migrate\" target=\"_blank\">upgrade</a> now \n",
       "or ensure your notebook will continue to use TensorFlow 1.x via the <code>%tensorflow_version 1.x</code> magic:\n",
       "<a href=\"https://colab.research.google.com/notebooks/tensorflow_version.ipynb\" target=\"_blank\">more info</a>.</p>\n"
      ],
      "text/plain": [
       "<IPython.core.display.HTML object>"
      ]
     },
     "metadata": {
      "tags": []
     },
     "output_type": "display_data"
    }
   ],
   "source": [
    "ct.utils.set_global_seed(config.seed)\n",
    "ct.utils.prepare_cudnn(deterministic=True)"
   ]
  },
  {
   "cell_type": "code",
   "execution_count": null,
   "metadata": {
    "colab": {},
    "colab_type": "code",
    "id": "EHv73-KuKQ_Y"
   },
   "outputs": [],
   "source": [
    "output_base_dir = Path(\"output\")\n",
    "output_base_dir.mkdir(exist_ok=True, parents=True)\n",
    "\n",
    "train_images_path = Path(config.data.train_images_path)"
   ]
  },
  {
   "cell_type": "markdown",
   "metadata": {
    "colab_type": "text",
    "id": "nowCCU9GKQ_b",
    "toc-hr-collapsed": true
   },
   "source": [
    "## Data and utilities preparation"
   ]
  },
  {
   "cell_type": "markdown",
   "metadata": {
    "colab_type": "text",
    "id": "hAy9mKC1KQ_c"
   },
   "source": [
    "### validation utils"
   ]
  },
  {
   "cell_type": "code",
   "execution_count": null,
   "metadata": {
    "colab": {},
    "colab_type": "code",
    "id": "38wcJQJEKQ_c"
   },
   "outputs": [],
   "source": [
    "def no_fold(df: pd.DataFrame,\n",
    "            config: edict) -> List[Tuple[np.ndarray, np.ndarray]]:\n",
    "    params = config.val.params\n",
    "    idx = np.arange(len(df))\n",
    "    trn_idx, val_idx = train_test_split(idx, **params)\n",
    "    return [(trn_idx, val_idx)]\n",
    "\n",
    "\n",
    "def kfold(df: pd.DataFrame,\n",
    "          config: edict) -> List[Tuple[np.ndarray, np.ndarray]]:\n",
    "    params = config.val.params\n",
    "    kf = KFold(shuffle=True, **params)\n",
    "    splits = list(kf.split(df))\n",
    "    return splits\n",
    "\n",
    "\n",
    "def get_validation(df: pd.DataFrame,\n",
    "                   config: edict) -> List[Tuple[np.ndarray, np.ndarray]]:\n",
    "    name: str = config.val.name\n",
    "\n",
    "    func = globals().get(name)\n",
    "    if func is None:\n",
    "        raise NotImplementedError\n",
    "\n",
    "    return func(df, config)"
   ]
  },
  {
   "cell_type": "markdown",
   "metadata": {
    "colab_type": "text",
    "id": "xE5iD2HAKQ_f"
   },
   "source": [
    "### transforms"
   ]
  },
  {
   "cell_type": "code",
   "execution_count": null,
   "metadata": {
    "colab": {},
    "colab_type": "code",
    "id": "qvCvJ5ScKQ_f"
   },
   "outputs": [],
   "source": [
    "def get_transforms(config: edict, phase: str = \"train\"):\n",
    "    assert phase in [\"train\", \"valid\", \"test\"]\n",
    "    if phase == \"train\":\n",
    "        cfg = config.transforms.train\n",
    "    elif phase == \"valid\":\n",
    "        cfg = config.transforms.val\n",
    "    elif phase == \"test\":\n",
    "        cfg = config.transforms.test\n",
    "    list_transforms = []\n",
    "    if cfg.HorizontalFlip:\n",
    "        list_transforms.append(A.HorizontalFrip())\n",
    "    if cfg.VerticalFlip:\n",
    "        list_transforms.append(A.VerticalFlip())\n",
    "    if cfg.Rotate:\n",
    "        list_transforms.append(A.Rotate(limit=15))\n",
    "    if cfg.RandomScale:\n",
    "        list_transforms.append(A.RandomScale())\n",
    "    if cfg.Noise:\n",
    "        list_transforms.append(\n",
    "            A.OneOf(\n",
    "                [A.GaussNoise(), A.IAAAdditiveGaussianNoise()], p=0.5))\n",
    "    if cfg.Contrast:\n",
    "        list_transforms.append(\n",
    "            A.OneOf(\n",
    "                [A.RandomContrast(0.5),\n",
    "                 A.RandomGamma(),\n",
    "                 A.RandomBrightness()],\n",
    "                p=0.5))\n",
    "    if cfg.Cutout.num_holes > 0:\n",
    "        list_transforms.append(A.Cutout(**config.Cutout))\n",
    "\n",
    "    list_transforms.append(\n",
    "        A.Normalize(\n",
    "            mean=config.transforms.mean, std=config.transforms.std, p=1))\n",
    "\n",
    "    return A.Compose(list_transforms, p=1.0)"
   ]
  },
  {
   "cell_type": "markdown",
   "metadata": {
    "colab_type": "text",
    "id": "5mQCOAtuLtV3"
   },
   "source": [
    "### Data Loading"
   ]
  },
  {
   "cell_type": "code",
   "execution_count": null,
   "metadata": {
    "colab": {},
    "colab_type": "code",
    "id": "GdTnGd0aLu-8"
   },
   "outputs": [],
   "source": [
    "df = pd.read_csv(config.data.train_df_path)\n",
    "splits = get_validation(df, config)\n",
    "\n",
    "transforms_dict = {\n",
    "    phase: get_transforms(config, phase)\n",
    "    for phase in [\"train\", \"valid\"]\n",
    "}\n",
    "\n",
    "cls_levels = {\n",
    "    \"grapheme\": df.grapheme_root.nunique(),\n",
    "    \"vowel\": df.vowel_diacritic.nunique(),\n",
    "    \"consonant\": df.consonant_diacritic.nunique()\n",
    "}"
   ]
  },
  {
   "cell_type": "markdown",
   "metadata": {
    "colab_type": "text",
    "id": "k3X2245OKQ_j"
   },
   "source": [
    "## Dataset and DataLoader"
   ]
  },
  {
   "cell_type": "code",
   "execution_count": null,
   "metadata": {
    "colab": {},
    "colab_type": "code",
    "id": "Hj6MHrqXKQ_j"
   },
   "outputs": [],
   "source": [
    "class BaseDataset(torchdata.Dataset):\n",
    "    def __init__(self, image_dir: Path, df: pd.DataFrame, transforms,\n",
    "                 size: Tuple[int, int]):\n",
    "        self.df = df\n",
    "        self.image_dir = image_dir\n",
    "        self.transforms = transforms\n",
    "        self.size = size\n",
    "\n",
    "    def __len__(self):\n",
    "        return len(self.df)\n",
    "\n",
    "    def __getitem__(self, idx):\n",
    "        image_id = self.df.loc[idx, \"image_id\"]\n",
    "        image_path = self.image_dir / f\"{image_id}.png\"\n",
    "\n",
    "        image = cv2.imread(str(image_path))\n",
    "        longer_side = image.shape[1]\n",
    "        if image.ndim == 2:\n",
    "            new_image = np.ones(\n",
    "                (longer_side, longer_side), dtype=np.uint8) * 255\n",
    "        else:\n",
    "            new_image = np.ones(\n",
    "                (longer_side, longer_side, 3), dtype=np.uint8) * 255\n",
    "        offset = np.random.randint(0, longer_side - image.shape[0])\n",
    "        new_image[offset:offset + image.shape[0], :] = image\n",
    "\n",
    "        if self.transforms is not None:\n",
    "            image = self.transforms(image=new_image)[\"image\"]\n",
    "        image = cv2.resize(image, self.size)\n",
    "        if image.shape[2] == 3:\n",
    "            image = np.moveaxis(image, -1, 0)\n",
    "        grapheme = self.df.loc[idx, \"grapheme_root\"]\n",
    "        vowel = self.df.loc[idx, \"vowel_diacritic\"]\n",
    "        consonant = self.df.loc[idx, \"consonant_diacritic\"]\n",
    "        label = np.zeros(3, dtype=int)\n",
    "        label[0] = grapheme\n",
    "        label[1] = vowel\n",
    "        label[2] = consonant\n",
    "        return {\"images\": image, \"targets\": label}\n",
    "    \n",
    "    \n",
    "def get_base_loader(df: pd.DataFrame,\n",
    "                    image_dir: Path,\n",
    "                    phase: str = \"train\",\n",
    "                    size: Tuple[int, int] = (128, 128),\n",
    "                    batch_size=256,\n",
    "                    num_workers=2,\n",
    "                    transforms=None):\n",
    "    assert phase in [\"train\", \"valid\"]\n",
    "    if phase == \"train\":\n",
    "        is_shuffle = True\n",
    "        drop_last = True\n",
    "    else:\n",
    "        is_shuffle = False\n",
    "        drop_last = False\n",
    "\n",
    "    dataset = BaseDataset(  # type: ignore\n",
    "        image_dir, df, transforms, size)\n",
    "    return torchdata.DataLoader(\n",
    "        dataset,\n",
    "        batch_size=batch_size,\n",
    "        shuffle=is_shuffle,\n",
    "        num_workers=num_workers,\n",
    "        pin_memory=True,\n",
    "        drop_last=drop_last)"
   ]
  },
  {
   "cell_type": "markdown",
   "metadata": {
    "colab_type": "text",
    "id": "yc6F3Pu5KQ_m",
    "toc-hr-collapsed": true
   },
   "source": [
    "## Model and Loss"
   ]
  },
  {
   "cell_type": "markdown",
   "metadata": {
    "colab_type": "text",
    "id": "PjBhyu98KQ_n"
   },
   "source": [
    "### Model"
   ]
  },
  {
   "cell_type": "code",
   "execution_count": null,
   "metadata": {
    "colab": {},
    "colab_type": "code",
    "id": "wABhZZ9LKQ_o"
   },
   "outputs": [],
   "source": [
    "def gem(x: torch.Tensor, p=3, eps=1e-6):\n",
    "    return F.avg_pool2d(x.clamp(min=eps).pow(p),\n",
    "                        (x.size(-2), x.size(-1))).pow(1. / p)\n",
    "\n",
    "\n",
    "def mish(input):\n",
    "    '''\n",
    "    Applies the mish function element-wise:\n",
    "    mish(x) = x * tanh(softplus(x)) = x * tanh(ln(1 + exp(x)))\n",
    "    See additional documentation for mish class.\n",
    "    '''\n",
    "    return input * torch.tanh(F.softplus(input))\n",
    "\n",
    "\n",
    "class Mish(nn.Module):\n",
    "    '''\n",
    "    Applies the mish function element-wise:\n",
    "    mish(x) = x * tanh(softplus(x)) = x * tanh(ln(1 + exp(x)))\n",
    "    Shape:\n",
    "        - Input: (N, *) where * means, any number of additional\n",
    "          dimensions\n",
    "        - Output: (N, *), same shape as the input\n",
    "    Examples:\n",
    "        >>> m = Mish()\n",
    "        >>> input = torch.randn(2)\n",
    "        >>> output = m(input)\n",
    "    '''\n",
    "\n",
    "    def __init__(self):\n",
    "        '''\n",
    "        Init method.\n",
    "        '''\n",
    "        super().__init__()\n",
    "\n",
    "    def forward(self, input):\n",
    "        '''\n",
    "        Forward pass of the function.\n",
    "        '''\n",
    "        return mish(input)\n",
    "\n",
    "\n",
    "class GeM(nn.Module):\n",
    "    def __init__(self, p=3, eps=1e-6):\n",
    "        super(GeM, self).__init__()\n",
    "        self.p = Parameter(torch.ones(1) * p)\n",
    "        self.eps = eps\n",
    "\n",
    "    def forward(self, x):\n",
    "        return gem(x, p=self.p, eps=self.eps).squeeze(-1).squeeze(-1)\n",
    "\n",
    "    def __repr__(self):\n",
    "        return self.__class__.__name__ + '(' + 'p=' + '{:.4f}'.format(\n",
    "            self.p.data.tolist()[0]) + ', ' + 'eps=' + str(self.eps) + ')'\n",
    "\n",
    "\n",
    "class Resnet(nn.Module):\n",
    "    def __init__(self,\n",
    "                 model_name: str,\n",
    "                 num_classes: int,\n",
    "                 pretrained=False,\n",
    "                 head=\"linear\",\n",
    "                 in_channels=3):\n",
    "        super().__init__()\n",
    "        self.num_classes = num_classes\n",
    "        self.base = getattr(models, model_name)(pretrained=pretrained)\n",
    "        self.head = head\n",
    "        assert in_channels in [1, 3]\n",
    "        assert head in [\"linear\", \"custom\"]\n",
    "        if in_channels == 1:\n",
    "            if pretrained:\n",
    "                weight = self.base.conv1.weight\n",
    "                self.base.conv1 = nn.Conv2d(\n",
    "                    1, 64, kernel_size=7, stride=2, padding=3, bias=False)\n",
    "                self.base.conv1.weight = nn.Parameter(\n",
    "                    data=torch.mean(weight, dim=1, keepdim=True),\n",
    "                    requires_grad=True)\n",
    "            else:\n",
    "                self.base.conv1 = nn.Conv2d(\n",
    "                    1, 64, kernel_size=7, stride=2, padding=3, bias=False)\n",
    "        if head == \"linear\":\n",
    "            n_in_features = self.base.fc.in_features\n",
    "            self.base.fc = nn.Linear(n_in_features, self.num_classes)\n",
    "        elif head == \"custom\":\n",
    "            n_in_features = self.base.fc.in_features\n",
    "            arch = list(self.base.children())\n",
    "            for _ in range(2):\n",
    "                arch.pop()\n",
    "            self.base = nn.Sequential(*arch)\n",
    "            self.grapheme_head = nn.Sequential(\n",
    "                Mish(), nn.Conv2d(n_in_features, 512, kernel_size=3),\n",
    "                nn.BatchNorm2d(512), GeM(), nn.Linear(512, 168))\n",
    "            self.vowel_head = nn.Sequential(\n",
    "                Mish(), nn.Conv2d(n_in_features, 512, kernel_size=3),\n",
    "                nn.BatchNorm2d(512), GeM(), nn.Linear(512, 11))\n",
    "            self.consonant_head = nn.Sequential(\n",
    "                Mish(), nn.Conv2d(n_in_features, 512, kernel_size=3),\n",
    "                nn.BatchNorm2d(512), GeM(), nn.Linear(512, 7))\n",
    "        else:\n",
    "            raise NotImplementedError\n",
    "\n",
    "    def forward(self, x):\n",
    "        if self.head == \"linear\":\n",
    "            return self.base(x)\n",
    "        elif self.head == \"custom\":\n",
    "            x = self.base(x)\n",
    "            grapheme = self.grapheme_head(x)\n",
    "            vowel = self.vowel_head(x)\n",
    "            consonant = self.consonant_head(x)\n",
    "            return torch.cat([grapheme, vowel, consonant], dim=1)\n",
    "        else:\n",
    "            raise NotImplementedError\n",
    "\n",
    "\n",
    "def get_model(config: edict):\n",
    "    params = config.model\n",
    "    if \"resnet\" in params.model_name:\n",
    "        return Resnet(**params)\n",
    "    else:\n",
    "        raise NotImplementedError"
   ]
  },
  {
   "cell_type": "markdown",
   "metadata": {
    "colab_type": "text",
    "id": "-IPNqFE5KQ_q"
   },
   "source": [
    "### Loss"
   ]
  },
  {
   "cell_type": "code",
   "execution_count": null,
   "metadata": {
    "colab": {},
    "colab_type": "code",
    "id": "lXKZUtQdKQ_r"
   },
   "outputs": [],
   "source": [
    "class BengaliCrossEntropyLoss(nn.Module):\n",
    "    def __init__(self, n_grapheme: int, n_vowel: int, n_consonant: int):\n",
    "        super().__init__()\n",
    "        self.n_grapheme = n_grapheme\n",
    "        self.n_vowel = n_vowel\n",
    "        self.n_consonant = n_consonant\n",
    "        self.cross_entropy = nn.CrossEntropyLoss()\n",
    "\n",
    "    def forward(self, pred, true):\n",
    "        head = 0\n",
    "        tail = self.n_grapheme\n",
    "        grapheme_pred = pred[:, head:tail]\n",
    "        grapheme_true = true[:, 0]\n",
    "\n",
    "        head = tail\n",
    "        tail = head + self.n_vowel\n",
    "        vowel_pred = pred[:, head:tail]\n",
    "        vowel_true = true[:, 1]\n",
    "\n",
    "        head = tail\n",
    "        tail = head + self.n_consonant\n",
    "        consonant_pred = pred[:, head:tail]\n",
    "        consonant_true = true[:, 2]\n",
    "\n",
    "        return self.cross_entropy(grapheme_pred, grapheme_true) + \\\n",
    "            self.cross_entropy(vowel_pred, vowel_true) + \\\n",
    "            self.cross_entropy(consonant_pred, consonant_true)\n",
    "\n",
    "\n",
    "class BengaliBCELoss(nn.Module):\n",
    "    def __init__(self, n_grapheme: int, n_vowel: int, n_consonant: int):\n",
    "        super().__init__()\n",
    "        self.n_grapheme = n_grapheme\n",
    "        self.n_vowel = n_vowel\n",
    "        self.n_consonant = n_consonant\n",
    "        self.bce = nn.BCEWithLogitsLoss()\n",
    "\n",
    "    def forward(self, pred, true):\n",
    "        head = 0\n",
    "        tail = self.n_grapheme\n",
    "        grapheme_pred = pred[:, head:tail]\n",
    "        grapheme_true = true[:, head:tail]\n",
    "\n",
    "        head = tail\n",
    "        tail = head + self.n_vowel\n",
    "        vowel_pred = pred[:, head:tail]\n",
    "        vowel_true = true[:, head:tail]\n",
    "\n",
    "        head = tail\n",
    "        tail = head + self.n_consonant\n",
    "        consonant_pred = pred[:, head:tail]\n",
    "        consonant_true = true[:, head:tail]\n",
    "\n",
    "        return self.bce(grapheme_pred, grapheme_true) + \\\n",
    "            self.bce(vowel_pred, vowel_true) + \\\n",
    "            self.bce(consonant_pred, consonant_true)\n",
    "\n",
    "\n",
    "def get_loss(config: edict):\n",
    "    name = config.loss.name\n",
    "    params = config.loss.params\n",
    "    if name == \"bce\":\n",
    "        criterion = BengaliBCELoss(**params)\n",
    "    elif name == \"cross_entropy\":\n",
    "        criterion = BengaliCrossEntropyLoss(**params)  # type: ignore\n",
    "    else:\n",
    "        raise NotImplementedError\n",
    "    return criterion"
   ]
  },
  {
   "cell_type": "markdown",
   "metadata": {
    "colab_type": "text",
    "id": "W4aJX5V_KQ_t",
    "toc-hr-collapsed": true
   },
   "source": [
    "## Optimizer and Scheduler"
   ]
  },
  {
   "cell_type": "markdown",
   "metadata": {
    "colab_type": "text",
    "id": "thU1KR2NKQ_u"
   },
   "source": [
    "### Optimizer"
   ]
  },
  {
   "cell_type": "code",
   "execution_count": null,
   "metadata": {
    "colab": {},
    "colab_type": "code",
    "id": "fWo_pBvzKQ_u"
   },
   "outputs": [],
   "source": [
    "Optimizer = Union[Adam, SGD]\n",
    "\n",
    "\n",
    "def get_optimizer(model, config: edict) -> Optimizer:\n",
    "    name = config.optimizer.name\n",
    "    params = config.optimizer.params\n",
    "    if name == \"Adam\":\n",
    "        optimizer = Adam(model.parameters(), **params)\n",
    "    elif name == \"SGD\":\n",
    "        optimizer = Adam(model.parameters(), **params)\n",
    "    else:\n",
    "        raise NotImplementedError\n",
    "    return optimizer"
   ]
  },
  {
   "cell_type": "markdown",
   "metadata": {
    "colab_type": "text",
    "id": "FmA47o80KQ_z"
   },
   "source": [
    "### Scheduler"
   ]
  },
  {
   "cell_type": "code",
   "execution_count": null,
   "metadata": {
    "colab": {},
    "colab_type": "code",
    "id": "DA7gtPiyKQ_0"
   },
   "outputs": [],
   "source": [
    "Scheduler = Optional[\n",
    "    Union[ReduceLROnPlateau, CosineAnnealingLR, CosineAnnealingWarmRestarts]]\n",
    "\n",
    "\n",
    "def get_scheduler(optimizer, config: edict) -> Scheduler:\n",
    "    params = config.scheduler.params\n",
    "    name = config.scheduler.name\n",
    "    scheduler: Scheduler = None\n",
    "    if name == \"plateau\":\n",
    "        scheduler = ReduceLROnPlateau(optimizer, **params)\n",
    "    elif name == \"cosine\":\n",
    "        scheduler = CosineAnnealingLR(optimizer, **params)\n",
    "    elif name == \"cosine_warmup\":\n",
    "        scheduler = CosineAnnealingWarmRestarts(optimizer, **params)\n",
    "\n",
    "    return scheduler"
   ]
  },
  {
   "cell_type": "markdown",
   "metadata": {
    "colab_type": "text",
    "id": "YB5qDnQIKQ_2"
   },
   "source": [
    "## Callbacks"
   ]
  },
  {
   "cell_type": "code",
   "execution_count": null,
   "metadata": {
    "colab": {},
    "colab_type": "code",
    "id": "9IwyscXBKQ_3"
   },
   "outputs": [],
   "source": [
    "class AverageRecall(Callback):\n",
    "    def __init__(self,\n",
    "                 index: int,\n",
    "                 offset: int,\n",
    "                 n_classes: int,\n",
    "                 prefix: str,\n",
    "                 loss_type: str = \"bce\",\n",
    "                 output_key: str = \"logits\",\n",
    "                 target_key: str = \"targets\"):\n",
    "        self.index = index\n",
    "        self.offset = offset\n",
    "        self.n_classes = n_classes\n",
    "        self.prefix = prefix\n",
    "        self.loss_type = loss_type\n",
    "        self.output_key = output_key\n",
    "        self.target_key = target_key\n",
    "        self.recall = 0.0\n",
    "        super().__init__(CallbackOrder.Metric)\n",
    "\n",
    "    def on_loader_start(self, state: RunnerState):\n",
    "        self.prediction: List[int] = []\n",
    "        self.target: List[int] = []\n",
    "\n",
    "    def on_batch_end(self, state: RunnerState):\n",
    "        targ = state.input[self.target_key].detach()\n",
    "        out = state.output[self.output_key].detach()\n",
    "        head = self.offset\n",
    "        tail = self.offset + self.n_classes\n",
    "        if self.loss_type == \"bce\":\n",
    "            pred_np = torch.argmax(\n",
    "                torch.sigmoid(out[:, head:tail]), dim=1).cpu().numpy()\n",
    "            target_np = torch.argmax(targ[:, head:tail], dim=1).cpu().numpy()\n",
    "        else:\n",
    "            pred_np = torch.argmax(out[:, head:tail], dim=1).cpu().numpy()\n",
    "            target_np = targ[:, self.index].cpu().numpy()\n",
    "        self.prediction.extend(pred_np)\n",
    "        self.target.extend(target_np)\n",
    "        score = recall_score(\n",
    "            target_np, pred_np, average=\"macro\", zero_division=0)\n",
    "        state.metrics.add_batch_value(name=\"batch_\" + self.prefix, value=score)\n",
    "\n",
    "    def on_loader_end(self, state: RunnerState):\n",
    "        metric_name = self.prefix\n",
    "        y_true = np.asarray(self.target)\n",
    "        y_pred = np.asarray(self.prediction)\n",
    "\n",
    "        metric = recall_score(y_true, y_pred, average=\"macro\")\n",
    "        state.metrics.epoch_values[state.loader_name][metric_name] = float(\n",
    "            metric)\n",
    "        self.recall = metric\n",
    "\n",
    "\n",
    "class TotalAverageRecall(Callback):\n",
    "    def __init__(self,\n",
    "                 n_grapheme=168,\n",
    "                 n_vowel=11,\n",
    "                 n_consonant=7,\n",
    "                 loss_type: str = \"bce\",\n",
    "                 prefix: str = \"tar\",\n",
    "                 output_key: str = \"logits\",\n",
    "                 target_key: str = \"targets\"):\n",
    "        self.prefix = prefix\n",
    "        self.grapheme_callback = AverageRecall(\n",
    "            index=0,\n",
    "            offset=0,\n",
    "            n_classes=n_grapheme,\n",
    "            prefix=\"grapheme_recall\",\n",
    "            loss_type=loss_type,\n",
    "            output_key=output_key,\n",
    "            target_key=target_key)\n",
    "        self.vowel_callback = AverageRecall(\n",
    "            index=1,\n",
    "            offset=n_grapheme,\n",
    "            n_classes=n_vowel,\n",
    "            prefix=\"vowel_recall\",\n",
    "            loss_type=loss_type,\n",
    "            output_key=output_key,\n",
    "            target_key=target_key)\n",
    "        self.consonant_callback = AverageRecall(\n",
    "            index=2,\n",
    "            offset=n_grapheme + n_vowel,\n",
    "            n_classes=n_consonant,\n",
    "            prefix=\"consonant_recall\",\n",
    "            loss_type=loss_type,\n",
    "            output_key=output_key,\n",
    "            target_key=target_key)\n",
    "        super().__init__(CallbackOrder.Metric)\n",
    "\n",
    "    def on_loader_start(self, state):\n",
    "        self.grapheme_callback.on_loader_start(state)\n",
    "        self.vowel_callback.on_loader_start(state)\n",
    "        self.consonant_callback.on_loader_start(state)\n",
    "\n",
    "    def on_batch_end(self, state: RunnerState):\n",
    "        self.grapheme_callback.on_batch_end(state)\n",
    "        self.vowel_callback.on_batch_end(state)\n",
    "        self.consonant_callback.on_batch_end(state)\n",
    "\n",
    "    def on_loader_end(self, state: RunnerState):\n",
    "        self.grapheme_callback.on_loader_end(state)\n",
    "        self.vowel_callback.on_loader_end(state)\n",
    "        self.consonant_callback.on_loader_end(state)\n",
    "\n",
    "        grapheme_recall = self.grapheme_callback.recall\n",
    "        vowel_recall = self.vowel_callback.recall\n",
    "        consonant_recall = self.consonant_callback.recall\n",
    "        final_score = np.average(\n",
    "            [grapheme_recall, vowel_recall, consonant_recall],\n",
    "            weights=[2, 1, 1])\n",
    "        state.metrics.epoch_values[state.loader_name][self.\n",
    "                                                      prefix] = final_score\n",
    "\n",
    "\n",
    "\n",
    "class SaveWeightsCallback(Callback):\n",
    "    def __init__(self, to: Optional[Union[Path, str]] = None, name: str=\"\"):\n",
    "        if isinstance(to, str):\n",
    "            self.to = Path(to)\n",
    "        else:\n",
    "            self.to = to\n",
    "        self.name = name\n",
    "        super().__init__(CallbackOrder.External)\n",
    "\n",
    "    def on_epoch_end(self, state: RunnerState):\n",
    "        weights = state.model.state_dict()\n",
    "        logdir = state.logdir / \"checkpoints\"\n",
    "        logdir.mkdir(exist_ok=True, parents=True)\n",
    "        if self.name == \"\":\n",
    "            torch.save(weights, logdir / \"temp.pth\")\n",
    "        else:\n",
    "            torch.save(weights, logdir / f\"{self.name}.pth\")\n",
    "\n",
    "        if self.to is not None:\n",
    "            if self.name == \"\":\n",
    "                torch.save(weights, self.to / \"temp.pth\")\n",
    "            else:\n",
    "                torch.save(weights, self.to / f\"{self.name}.pth\")"
   ]
  },
  {
   "cell_type": "code",
   "execution_count": null,
   "metadata": {
    "colab": {},
    "colab_type": "code",
    "id": "kHvFfq-C3NGk"
   },
   "outputs": [],
   "source": [
    "def get_callbacks(config: edict):\n",
    "    callbacks = []\n",
    "    for callback in config.callbacks:\n",
    "        name = list(callback.keys())[0]\n",
    "        params = callback[name]\n",
    "        if globals().get(name) is not None:\n",
    "            if params is not None:\n",
    "                callbacks.append(globals().get(name)(**params))  # type: ignore\n",
    "            else:\n",
    "                callbacks.append(globals().get(name)())  # type: ignore\n",
    "    return callbacks"
   ]
  },
  {
   "cell_type": "markdown",
   "metadata": {
    "colab_type": "text",
    "id": "ChYS5rgoKQ_5"
   },
   "source": [
    "## Training"
   ]
  },
  {
   "cell_type": "code",
   "execution_count": 24,
   "metadata": {
    "colab": {
     "base_uri": "https://localhost:8080/",
     "height": 1000
    },
    "colab_type": "code",
    "id": "M-QhaJoMKQ_6",
    "outputId": "32107270-e1d0-4d64-a967-cd86f5521d6e"
   },
   "outputs": [
    {
     "name": "stdout",
     "output_type": "stream",
     "text": [
      "Fold: 0\n",
      "[2020-01-31 08:21:31,445] \n",
      "1/10 * Epoch 1 (train): _base/lr=0.0001 | _base/momentum=0.9000 | _timers/_fps=4134.0685 | _timers/batch_time=0.0933 | _timers/data_time=0.0758 | _timers/model_time=0.0175 | batch_consonant_recall=0.9016 | batch_grapheme_recall=0.6766 | batch_vowel_recall=0.9155 | consonant_recall=0.8841 | grapheme_recall=0.6505 | loss=1.3987 | tar=0.7755 | vowel_recall=0.9171\n",
      "1/10 * Epoch 1 (valid): _base/lr=0.0001 | _base/momentum=0.9000 | _timers/_fps=5098.4677 | _timers/batch_time=0.1923 | _timers/data_time=0.1790 | _timers/model_time=0.0133 | batch_consonant_recall=0.9397 | batch_grapheme_recall=0.8551 | batch_vowel_recall=0.9602 | consonant_recall=0.9372 | grapheme_recall=0.8897 | loss=0.5286 | tar=0.9195 | vowel_recall=0.9615\n",
      "[2020-01-31 08:21:31,445] \n",
      "1/10 * Epoch 1 (train): _base/lr=0.0001 | _base/momentum=0.9000 | _timers/_fps=4134.0685 | _timers/batch_time=0.0933 | _timers/data_time=0.0758 | _timers/model_time=0.0175 | batch_consonant_recall=0.9016 | batch_grapheme_recall=0.6766 | batch_vowel_recall=0.9155 | consonant_recall=0.8841 | grapheme_recall=0.6505 | loss=1.3987 | tar=0.7755 | vowel_recall=0.9171\n",
      "1/10 * Epoch 1 (valid): _base/lr=0.0001 | _base/momentum=0.9000 | _timers/_fps=5098.4677 | _timers/batch_time=0.1923 | _timers/data_time=0.1790 | _timers/model_time=0.0133 | batch_consonant_recall=0.9397 | batch_grapheme_recall=0.8551 | batch_vowel_recall=0.9602 | consonant_recall=0.9372 | grapheme_recall=0.8897 | loss=0.5286 | tar=0.9195 | vowel_recall=0.9615\n",
      "[2020-01-31 08:32:00,219] \n",
      "2/10 * Epoch 2 (train): _base/lr=9.755e-05 | _base/momentum=0.9000 | _timers/_fps=3961.1444 | _timers/batch_time=0.0975 | _timers/data_time=0.0799 | _timers/model_time=0.0175 | batch_consonant_recall=0.9597 | batch_grapheme_recall=0.8751 | batch_vowel_recall=0.9704 | consonant_recall=0.9557 | grapheme_recall=0.9008 | loss=0.4310 | tar=0.9321 | vowel_recall=0.9713\n",
      "2/10 * Epoch 2 (valid): _base/lr=9.755e-05 | _base/momentum=0.9000 | _timers/_fps=5469.8235 | _timers/batch_time=0.1876 | _timers/data_time=0.1751 | _timers/model_time=0.0124 | batch_consonant_recall=0.9664 | batch_grapheme_recall=0.8813 | batch_vowel_recall=0.9716 | consonant_recall=0.9646 | grapheme_recall=0.9105 | loss=0.3928 | tar=0.9401 | vowel_recall=0.9748\n",
      "[2020-01-31 08:32:00,219] \n",
      "2/10 * Epoch 2 (train): _base/lr=9.755e-05 | _base/momentum=0.9000 | _timers/_fps=3961.1444 | _timers/batch_time=0.0975 | _timers/data_time=0.0799 | _timers/model_time=0.0175 | batch_consonant_recall=0.9597 | batch_grapheme_recall=0.8751 | batch_vowel_recall=0.9704 | consonant_recall=0.9557 | grapheme_recall=0.9008 | loss=0.4310 | tar=0.9321 | vowel_recall=0.9713\n",
      "2/10 * Epoch 2 (valid): _base/lr=9.755e-05 | _base/momentum=0.9000 | _timers/_fps=5469.8235 | _timers/batch_time=0.1876 | _timers/data_time=0.1751 | _timers/model_time=0.0124 | batch_consonant_recall=0.9664 | batch_grapheme_recall=0.8813 | batch_vowel_recall=0.9716 | consonant_recall=0.9646 | grapheme_recall=0.9105 | loss=0.3928 | tar=0.9401 | vowel_recall=0.9748\n",
      "[2020-01-31 08:41:31,510] \n",
      "3/10 * Epoch 3 (train): _base/lr=9.045e-05 | _base/momentum=0.9000 | _timers/_fps=4757.8776 | _timers/batch_time=0.0491 | _timers/data_time=0.0287 | _timers/model_time=0.0203 | batch_consonant_recall=0.9697 | batch_grapheme_recall=0.9073 | batch_vowel_recall=0.9788 | consonant_recall=0.9688 | grapheme_recall=0.9299 | loss=0.3063 | tar=0.9519 | vowel_recall=0.9793\n",
      "3/10 * Epoch 3 (valid): _base/lr=9.045e-05 | _base/momentum=0.9000 | _timers/_fps=3216.7027 | _timers/batch_time=0.1633 | _timers/data_time=0.1493 | _timers/model_time=0.0139 | batch_consonant_recall=0.9740 | batch_grapheme_recall=0.9041 | batch_vowel_recall=0.9728 | consonant_recall=0.9765 | grapheme_recall=0.9292 | loss=0.3355 | tar=0.9525 | vowel_recall=0.9752\n",
      "[2020-01-31 08:41:31,510] \n",
      "3/10 * Epoch 3 (train): _base/lr=9.045e-05 | _base/momentum=0.9000 | _timers/_fps=4757.8776 | _timers/batch_time=0.0491 | _timers/data_time=0.0287 | _timers/model_time=0.0203 | batch_consonant_recall=0.9697 | batch_grapheme_recall=0.9073 | batch_vowel_recall=0.9788 | consonant_recall=0.9688 | grapheme_recall=0.9299 | loss=0.3063 | tar=0.9519 | vowel_recall=0.9793\n",
      "3/10 * Epoch 3 (valid): _base/lr=9.045e-05 | _base/momentum=0.9000 | _timers/_fps=3216.7027 | _timers/batch_time=0.1633 | _timers/data_time=0.1493 | _timers/model_time=0.0139 | batch_consonant_recall=0.9740 | batch_grapheme_recall=0.9041 | batch_vowel_recall=0.9728 | consonant_recall=0.9765 | grapheme_recall=0.9292 | loss=0.3355 | tar=0.9525 | vowel_recall=0.9752\n",
      "[2020-01-31 08:51:07,601] \n",
      "4/10 * Epoch 4 (train): _base/lr=7.939e-05 | _base/momentum=0.9000 | _timers/_fps=4485.7436 | _timers/batch_time=0.0549 | _timers/data_time=0.0342 | _timers/model_time=0.0206 | batch_consonant_recall=0.9761 | batch_grapheme_recall=0.9273 | batch_vowel_recall=0.9839 | consonant_recall=0.9754 | grapheme_recall=0.9475 | loss=0.2334 | tar=0.9636 | vowel_recall=0.9839\n",
      "4/10 * Epoch 4 (valid): _base/lr=7.939e-05 | _base/momentum=0.9000 | _timers/_fps=2944.7017 | _timers/batch_time=0.1661 | _timers/data_time=0.1527 | _timers/model_time=0.0134 | batch_consonant_recall=0.9765 | batch_grapheme_recall=0.9049 | batch_vowel_recall=0.9773 | consonant_recall=0.9785 | grapheme_recall=0.9336 | loss=0.3124 | tar=0.9561 | vowel_recall=0.9787\n",
      "[2020-01-31 08:51:07,601] \n",
      "4/10 * Epoch 4 (train): _base/lr=7.939e-05 | _base/momentum=0.9000 | _timers/_fps=4485.7436 | _timers/batch_time=0.0549 | _timers/data_time=0.0342 | _timers/model_time=0.0206 | batch_consonant_recall=0.9761 | batch_grapheme_recall=0.9273 | batch_vowel_recall=0.9839 | consonant_recall=0.9754 | grapheme_recall=0.9475 | loss=0.2334 | tar=0.9636 | vowel_recall=0.9839\n",
      "4/10 * Epoch 4 (valid): _base/lr=7.939e-05 | _base/momentum=0.9000 | _timers/_fps=2944.7017 | _timers/batch_time=0.1661 | _timers/data_time=0.1527 | _timers/model_time=0.0134 | batch_consonant_recall=0.9765 | batch_grapheme_recall=0.9049 | batch_vowel_recall=0.9773 | consonant_recall=0.9785 | grapheme_recall=0.9336 | loss=0.3124 | tar=0.9561 | vowel_recall=0.9787\n",
      "[2020-01-31 09:00:44,097] \n",
      "5/10 * Epoch 5 (train): _base/lr=6.545e-05 | _base/momentum=0.9000 | _timers/_fps=4473.3007 | _timers/batch_time=0.0615 | _timers/data_time=0.0413 | _timers/model_time=0.0201 | batch_consonant_recall=0.9824 | batch_grapheme_recall=0.9441 | batch_vowel_recall=0.9881 | consonant_recall=0.9819 | grapheme_recall=0.9605 | loss=0.1733 | tar=0.9728 | vowel_recall=0.9884\n",
      "5/10 * Epoch 5 (valid): _base/lr=6.545e-05 | _base/momentum=0.9000 | _timers/_fps=3654.4903 | _timers/batch_time=0.1648 | _timers/data_time=0.1506 | _timers/model_time=0.0142 | batch_consonant_recall=0.9753 | batch_grapheme_recall=0.9133 | batch_vowel_recall=0.9778 | consonant_recall=0.9714 | grapheme_recall=0.9362 | loss=0.2963 | tar=0.9561 | vowel_recall=0.9804\n",
      "[2020-01-31 09:00:44,097] \n",
      "5/10 * Epoch 5 (train): _base/lr=6.545e-05 | _base/momentum=0.9000 | _timers/_fps=4473.3007 | _timers/batch_time=0.0615 | _timers/data_time=0.0413 | _timers/model_time=0.0201 | batch_consonant_recall=0.9824 | batch_grapheme_recall=0.9441 | batch_vowel_recall=0.9881 | consonant_recall=0.9819 | grapheme_recall=0.9605 | loss=0.1733 | tar=0.9728 | vowel_recall=0.9884\n",
      "5/10 * Epoch 5 (valid): _base/lr=6.545e-05 | _base/momentum=0.9000 | _timers/_fps=3654.4903 | _timers/batch_time=0.1648 | _timers/data_time=0.1506 | _timers/model_time=0.0142 | batch_consonant_recall=0.9753 | batch_grapheme_recall=0.9133 | batch_vowel_recall=0.9778 | consonant_recall=0.9714 | grapheme_recall=0.9362 | loss=0.2963 | tar=0.9561 | vowel_recall=0.9804\n",
      "[2020-01-31 09:10:13,427] \n",
      "6/10 * Epoch 6 (train): _base/lr=5.000e-05 | _base/momentum=0.9000 | _timers/_fps=4576.0140 | _timers/batch_time=0.0515 | _timers/data_time=0.0307 | _timers/model_time=0.0207 | batch_consonant_recall=0.9862 | batch_grapheme_recall=0.9585 | batch_vowel_recall=0.9905 | consonant_recall=0.9857 | grapheme_recall=0.9704 | loss=0.1266 | tar=0.9795 | vowel_recall=0.9914\n",
      "6/10 * Epoch 6 (valid): _base/lr=5.000e-05 | _base/momentum=0.9000 | _timers/_fps=2657.2514 | _timers/batch_time=0.1634 | _timers/data_time=0.1504 | _timers/model_time=0.0130 | batch_consonant_recall=0.9738 | batch_grapheme_recall=0.9240 | batch_vowel_recall=0.9824 | consonant_recall=0.9718 | grapheme_recall=0.9473 | loss=0.2712 | tar=0.9627 | vowel_recall=0.9844\n",
      "[2020-01-31 09:10:13,427] \n",
      "6/10 * Epoch 6 (train): _base/lr=5.000e-05 | _base/momentum=0.9000 | _timers/_fps=4576.0140 | _timers/batch_time=0.0515 | _timers/data_time=0.0307 | _timers/model_time=0.0207 | batch_consonant_recall=0.9862 | batch_grapheme_recall=0.9585 | batch_vowel_recall=0.9905 | consonant_recall=0.9857 | grapheme_recall=0.9704 | loss=0.1266 | tar=0.9795 | vowel_recall=0.9914\n",
      "6/10 * Epoch 6 (valid): _base/lr=5.000e-05 | _base/momentum=0.9000 | _timers/_fps=2657.2514 | _timers/batch_time=0.1634 | _timers/data_time=0.1504 | _timers/model_time=0.0130 | batch_consonant_recall=0.9738 | batch_grapheme_recall=0.9240 | batch_vowel_recall=0.9824 | consonant_recall=0.9718 | grapheme_recall=0.9473 | loss=0.2712 | tar=0.9627 | vowel_recall=0.9844\n",
      "[2020-01-31 09:19:40,478] \n",
      "7/10 * Epoch 7 (train): _base/lr=3.455e-05 | _base/momentum=0.9000 | _timers/_fps=4419.0021 | _timers/batch_time=0.0497 | _timers/data_time=0.0276 | _timers/model_time=0.0221 | batch_consonant_recall=0.9907 | batch_grapheme_recall=0.9710 | batch_vowel_recall=0.9938 | consonant_recall=0.9893 | grapheme_recall=0.9806 | loss=0.0866 | tar=0.9862 | vowel_recall=0.9941\n",
      "7/10 * Epoch 7 (valid): _base/lr=3.455e-05 | _base/momentum=0.9000 | _timers/_fps=3377.4471 | _timers/batch_time=0.1635 | _timers/data_time=0.1495 | _timers/model_time=0.0140 | batch_consonant_recall=0.9786 | batch_grapheme_recall=0.9261 | batch_vowel_recall=0.9816 | consonant_recall=0.9806 | grapheme_recall=0.9519 | loss=0.2649 | tar=0.9666 | vowel_recall=0.9821\n",
      "[2020-01-31 09:19:40,478] \n",
      "7/10 * Epoch 7 (train): _base/lr=3.455e-05 | _base/momentum=0.9000 | _timers/_fps=4419.0021 | _timers/batch_time=0.0497 | _timers/data_time=0.0276 | _timers/model_time=0.0221 | batch_consonant_recall=0.9907 | batch_grapheme_recall=0.9710 | batch_vowel_recall=0.9938 | consonant_recall=0.9893 | grapheme_recall=0.9806 | loss=0.0866 | tar=0.9862 | vowel_recall=0.9941\n",
      "7/10 * Epoch 7 (valid): _base/lr=3.455e-05 | _base/momentum=0.9000 | _timers/_fps=3377.4471 | _timers/batch_time=0.1635 | _timers/data_time=0.1495 | _timers/model_time=0.0140 | batch_consonant_recall=0.9786 | batch_grapheme_recall=0.9261 | batch_vowel_recall=0.9816 | consonant_recall=0.9806 | grapheme_recall=0.9519 | loss=0.2649 | tar=0.9666 | vowel_recall=0.9821\n",
      "[2020-01-31 09:29:04,570] \n",
      "8/10 * Epoch 8 (train): _base/lr=2.061e-05 | _base/momentum=0.9000 | _timers/_fps=4626.9091 | _timers/batch_time=0.0484 | _timers/data_time=0.0269 | _timers/model_time=0.0214 | batch_consonant_recall=0.9940 | batch_grapheme_recall=0.9808 | batch_vowel_recall=0.9962 | consonant_recall=0.9941 | grapheme_recall=0.9870 | loss=0.0555 | tar=0.9911 | vowel_recall=0.9962\n",
      "8/10 * Epoch 8 (valid): _base/lr=2.061e-05 | _base/momentum=0.9000 | _timers/_fps=3347.5951 | _timers/batch_time=0.1613 | _timers/data_time=0.1478 | _timers/model_time=0.0135 | batch_consonant_recall=0.9799 | batch_grapheme_recall=0.9333 | batch_vowel_recall=0.9837 | consonant_recall=0.9828 | grapheme_recall=0.9538 | loss=0.2503 | tar=0.9687 | vowel_recall=0.9844\n",
      "[2020-01-31 09:29:04,570] \n",
      "8/10 * Epoch 8 (train): _base/lr=2.061e-05 | _base/momentum=0.9000 | _timers/_fps=4626.9091 | _timers/batch_time=0.0484 | _timers/data_time=0.0269 | _timers/model_time=0.0214 | batch_consonant_recall=0.9940 | batch_grapheme_recall=0.9808 | batch_vowel_recall=0.9962 | consonant_recall=0.9941 | grapheme_recall=0.9870 | loss=0.0555 | tar=0.9911 | vowel_recall=0.9962\n",
      "8/10 * Epoch 8 (valid): _base/lr=2.061e-05 | _base/momentum=0.9000 | _timers/_fps=3347.5951 | _timers/batch_time=0.1613 | _timers/data_time=0.1478 | _timers/model_time=0.0135 | batch_consonant_recall=0.9799 | batch_grapheme_recall=0.9333 | batch_vowel_recall=0.9837 | consonant_recall=0.9828 | grapheme_recall=0.9538 | loss=0.2503 | tar=0.9687 | vowel_recall=0.9844\n",
      "[2020-01-31 09:38:31,815] \n",
      "9/10 * Epoch 9 (train): _base/lr=9.549e-06 | _base/momentum=0.9000 | _timers/_fps=4629.1160 | _timers/batch_time=0.0537 | _timers/data_time=0.0326 | _timers/model_time=0.0211 | batch_consonant_recall=0.9960 | batch_grapheme_recall=0.9879 | batch_vowel_recall=0.9970 | consonant_recall=0.9961 | grapheme_recall=0.9915 | loss=0.0375 | tar=0.9941 | vowel_recall=0.9973\n",
      "9/10 * Epoch 9 (valid): _base/lr=9.549e-06 | _base/momentum=0.9000 | _timers/_fps=2478.4715 | _timers/batch_time=0.1618 | _timers/data_time=0.1485 | _timers/model_time=0.0133 | batch_consonant_recall=0.9814 | batch_grapheme_recall=0.9361 | batch_vowel_recall=0.9838 | consonant_recall=0.9803 | grapheme_recall=0.9545 | loss=0.2442 | tar=0.9686 | vowel_recall=0.9849\n",
      "[2020-01-31 09:38:31,815] \n",
      "9/10 * Epoch 9 (train): _base/lr=9.549e-06 | _base/momentum=0.9000 | _timers/_fps=4629.1160 | _timers/batch_time=0.0537 | _timers/data_time=0.0326 | _timers/model_time=0.0211 | batch_consonant_recall=0.9960 | batch_grapheme_recall=0.9879 | batch_vowel_recall=0.9970 | consonant_recall=0.9961 | grapheme_recall=0.9915 | loss=0.0375 | tar=0.9941 | vowel_recall=0.9973\n",
      "9/10 * Epoch 9 (valid): _base/lr=9.549e-06 | _base/momentum=0.9000 | _timers/_fps=2478.4715 | _timers/batch_time=0.1618 | _timers/data_time=0.1485 | _timers/model_time=0.0133 | batch_consonant_recall=0.9814 | batch_grapheme_recall=0.9361 | batch_vowel_recall=0.9838 | consonant_recall=0.9803 | grapheme_recall=0.9545 | loss=0.2442 | tar=0.9686 | vowel_recall=0.9849\n",
      "[2020-01-31 09:47:57,091] \n",
      "10/10 * Epoch 10 (train): _base/lr=2.447e-06 | _base/momentum=0.9000 | _timers/_fps=4690.0205 | _timers/batch_time=0.0491 | _timers/data_time=0.0284 | _timers/model_time=0.0206 | batch_consonant_recall=0.9974 | batch_grapheme_recall=0.9907 | batch_vowel_recall=0.9981 | consonant_recall=0.9970 | grapheme_recall=0.9935 | loss=0.0289 | tar=0.9955 | vowel_recall=0.9982\n",
      "10/10 * Epoch 10 (valid): _base/lr=2.447e-06 | _base/momentum=0.9000 | _timers/_fps=2889.7889 | _timers/batch_time=0.1592 | _timers/data_time=0.1459 | _timers/model_time=0.0133 | batch_consonant_recall=0.9827 | batch_grapheme_recall=0.9377 | batch_vowel_recall=0.9841 | consonant_recall=0.9819 | grapheme_recall=0.9563 | loss=0.2416 | tar=0.9700 | vowel_recall=0.9857\n",
      "[2020-01-31 09:47:57,091] \n",
      "10/10 * Epoch 10 (train): _base/lr=2.447e-06 | _base/momentum=0.9000 | _timers/_fps=4690.0205 | _timers/batch_time=0.0491 | _timers/data_time=0.0284 | _timers/model_time=0.0206 | batch_consonant_recall=0.9974 | batch_grapheme_recall=0.9907 | batch_vowel_recall=0.9981 | consonant_recall=0.9970 | grapheme_recall=0.9935 | loss=0.0289 | tar=0.9955 | vowel_recall=0.9982\n",
      "10/10 * Epoch 10 (valid): _base/lr=2.447e-06 | _base/momentum=0.9000 | _timers/_fps=2889.7889 | _timers/batch_time=0.1592 | _timers/data_time=0.1459 | _timers/model_time=0.0133 | batch_consonant_recall=0.9827 | batch_grapheme_recall=0.9377 | batch_vowel_recall=0.9841 | consonant_recall=0.9819 | grapheme_recall=0.9563 | loss=0.2416 | tar=0.9700 | vowel_recall=0.9857\n",
      "Top best models:\n",
      "output/fold0/checkpoints/train.10.pth\t0.9700\n"
     ]
    }
   ],
   "source": [
    "trn_idx, val_idx = splits[i]\n",
    "\n",
    "print(f\"Fold: {i}\")\n",
    "\n",
    "output_dir = output_base_dir / f\"fold{i}\"\n",
    "output_dir.mkdir(exist_ok=True, parents=True)\n",
    "\n",
    "trn_df = df.loc[trn_idx, :].reset_index(drop=True)\n",
    "val_df = df.loc[val_idx, :].reset_index(drop=True)\n",
    "data_loaders = {\n",
    "    phase: get_base_loader(\n",
    "        df,\n",
    "        train_images_path,\n",
    "        phase=phase,\n",
    "        size=(config.img_size, config.img_size),\n",
    "        batch_size=config.train.batch_size,\n",
    "        num_workers=config.num_workers,\n",
    "        transforms=transforms_dict[phase])\n",
    "    for phase, df in zip([\"train\", \"valid\"], [trn_df, val_df])\n",
    "}\n",
    "model = get_model(config)\n",
    "criterion = get_loss(config)\n",
    "optimizer = get_optimizer(model, config)\n",
    "scheduler = get_scheduler(optimizer, config)\n",
    "callbacks = get_callbacks(config)\n",
    "\n",
    "if config.mixup:\n",
    "    callbacks.append(MixupCallback(fields=[\n",
    "        \"images\",\n",
    "    ]))\n",
    "\n",
    "runner = SupervisedRunner(\n",
    "    device=ct.utils.get_device(),\n",
    "    input_key=\"images\",\n",
    "    input_target_key=\"targets\",\n",
    "    output_key=\"logits\")\n",
    "runner.train(\n",
    "    model=model,\n",
    "    criterion=criterion,\n",
    "    optimizer=optimizer,\n",
    "    loaders=data_loaders,\n",
    "    logdir=output_dir,\n",
    "    scheduler=scheduler,\n",
    "    num_epochs=config.train.num_epochs,\n",
    "    callbacks=callbacks,\n",
    "    main_metric=\"tar\",\n",
    "    state_kwargs={\n",
    "        \"batch_consistant_metrics\": False\n",
    "    },\n",
    "    minimize_metric=False,\n",
    "    monitoring_params=None,\n",
    "    verbose=False)"
   ]
  },
  {
   "cell_type": "markdown",
   "metadata": {
    "colab_type": "text",
    "id": "IhArTZXhDEdO"
   },
   "source": [
    "## Check performance"
   ]
  },
  {
   "cell_type": "code",
   "execution_count": null,
   "metadata": {
    "colab": {},
    "colab_type": "code",
    "id": "32PY32ziDEdP"
   },
   "outputs": [],
   "source": [
    "def load_model(config: edict, bin_path: Union[str, Path]):\n",
    "    # config.model.pretrained = None\n",
    "    model = get_model(config)\n",
    "    state_dict = torch.load(bin_path, map_location=get_device())\n",
    "    if \"model_state_dict\" in state_dict.keys():\n",
    "        model.load_state_dict(state_dict[\"model_state_dict\"])\n",
    "    else:\n",
    "        model.load_state_dict(state_dict)\n",
    "    return model"
   ]
  },
  {
   "cell_type": "code",
   "execution_count": null,
   "metadata": {
    "colab": {},
    "colab_type": "code",
    "id": "9_F9IDJdDEdS"
   },
   "outputs": [],
   "source": [
    "def macro_average_recall(prediction: np.ndarray, df: pd.DataFrame):\n",
    "    grapheme = recall_score(\n",
    "        df[\"grapheme_root\"].values, prediction[:, 0], average=\"macro\")\n",
    "    vowel = recall_score(\n",
    "        df[\"vowel_diacritic\"].values, prediction[:, 1], average=\"macro\")\n",
    "    consonant = recall_score(\n",
    "        df[\"consonant_diacritic\"].values, prediction[:, 2], average=\"macro\")\n",
    "    return np.average([grapheme, vowel, consonant], weights=[2, 1, 1])"
   ]
  },
  {
   "cell_type": "code",
   "execution_count": null,
   "metadata": {
    "colab": {},
    "colab_type": "code",
    "id": "XPVll_NsDEdV"
   },
   "outputs": [],
   "source": [
    "def inference_loop(model: nn.Module,\n",
    "                   loader: torchdata.DataLoader,\n",
    "                   cls_levels: dict,\n",
    "                   loss_fn: Optional[nn.Module] = None,\n",
    "                   requires_soft=False):\n",
    "    n_grapheme = cls_levels[\"grapheme\"]\n",
    "    n_vowel = cls_levels[\"vowel\"]\n",
    "    n_consonant = cls_levels[\"consonant\"]\n",
    "\n",
    "    dataset_length = len(loader.dataset)\n",
    "    prediction = np.zeros((dataset_length, 3), dtype=np.uint8)\n",
    "    if requires_soft:\n",
    "        soft_prediction = np.zeros(\n",
    "            (dataset_length, n_grapheme + n_vowel + n_consonant),\n",
    "            dtype=np.float32)\n",
    "\n",
    "    batch_size = loader.batch_size\n",
    "    device = get_device()\n",
    "\n",
    "    avg_loss = 0.\n",
    "    model.eval()\n",
    "\n",
    "    targets: Optional[torch.Tensor] = None\n",
    "\n",
    "    for i, batch in enumerate(progress_bar(loader, leave=False)):\n",
    "        with torch.no_grad():\n",
    "            if isinstance(batch, dict):\n",
    "                images = batch[\"images\"].to(device)\n",
    "                targets = batch[\"targets\"].to(device)\n",
    "            else:\n",
    "                images = batch.to(device)\n",
    "                targets = None\n",
    "            pred = model(images).detach()\n",
    "            if loss_fn is not None and targets is not None:\n",
    "                avg_loss += loss_fn(\n",
    "                    pred, batch[\"targets\"].to(device)).item() / len(loader)\n",
    "            head = 0\n",
    "            tail = n_grapheme\n",
    "            pred_grapheme = torch.argmax(\n",
    "                pred[:, head:tail], dim=1).cpu().numpy()\n",
    "\n",
    "            head = tail\n",
    "            tail = head + n_vowel\n",
    "            pred_vowel = torch.argmax(pred[:, head:tail], dim=1).cpu().numpy()\n",
    "\n",
    "            head = tail\n",
    "            tail = head + n_consonant\n",
    "            pred_consonant = torch.argmax(\n",
    "                pred[:, head:tail], dim=1).cpu().numpy()\n",
    "\n",
    "            prediction[i * batch_size:(i + 1) * batch_size, 0] = pred_grapheme\n",
    "            prediction[i * batch_size:(i + 1) * batch_size, 1] = pred_vowel\n",
    "            prediction[i * batch_size:(i + 1) * batch_size, 2] = pred_consonant\n",
    "\n",
    "            if requires_soft:\n",
    "                head = 0\n",
    "                tail = n_grapheme\n",
    "                soft_prediction[i * batch_size:(i + 1) *\n",
    "                                batch_size, head:tail] = F.softmax(\n",
    "                                    pred[:, head:tail], dim=1).cpu().numpy()\n",
    "\n",
    "                head = tail\n",
    "                tail = head + n_vowel\n",
    "                soft_prediction[i * batch_size:(i + 1) *\n",
    "                                batch_size, head:tail] = F.softmax(\n",
    "                                    pred[:, head:tail], dim=1).cpu().numpy()\n",
    "\n",
    "                head = tail\n",
    "                tail = head + n_consonant\n",
    "                soft_prediction[i * batch_size:(i + 1) *\n",
    "                                batch_size, head:tail] = F.softmax(\n",
    "                                    pred[:, head:tail], dim=1).cpu().numpy()\n",
    "\n",
    "    return_dict = {\"prediction\": prediction, \"loss\": avg_loss}\n",
    "    if requires_soft:\n",
    "        return_dict[\"soft_prediction\"] = soft_prediction\n",
    "\n",
    "    return return_dict"
   ]
  },
  {
   "cell_type": "code",
   "execution_count": 28,
   "metadata": {
    "colab": {
     "base_uri": "https://localhost:8080/",
     "height": 34
    },
    "colab_type": "code",
    "id": "hPKIgJnMDEdY",
    "outputId": "9bf0493d-0c27-45de-eefa-6dc37b6e36d5"
   },
   "outputs": [
    {
     "data": {
      "text/html": [],
      "text/plain": [
       "<IPython.core.display.HTML object>"
      ]
     },
     "metadata": {
      "tags": []
     },
     "output_type": "display_data"
    },
    {
     "name": "stdout",
     "output_type": "stream",
     "text": [
      "Score: 0.97414\n"
     ]
    }
   ],
   "source": [
    "checkpoint_path = \"output/fold0/checkpoints/best.pth\"\n",
    "model = load_model(config, checkpoint_path)\n",
    "model.to(get_device())\n",
    "loader = data_loaders[\"valid\"]\n",
    "\n",
    "prediction = inference_loop(\n",
    "    model,\n",
    "    loader,\n",
    "    cls_levels,\n",
    "    criterion,\n",
    "    requires_soft=False)\n",
    "score = macro_average_recall(prediction[\"prediction\"], val_df)\n",
    "print(f\"Score: {score:.5f}\")"
   ]
  },
  {
   "cell_type": "code",
   "execution_count": null,
   "metadata": {
    "colab": {},
    "colab_type": "code",
    "id": "BF64LRYqK1l6"
   },
   "outputs": [],
   "source": [
    "!cp output/fold0/checkpoints/best.pth /content/gdrive/My\\ Drive/kaggle-bengali/checkpoints/fold0/resnet34_10epoch_size224.pth"
   ]
  },
  {
   "cell_type": "code",
   "execution_count": null,
   "metadata": {
    "colab": {},
    "colab_type": "code",
    "id": "Tf7pT23OU1X1"
   },
   "outputs": [],
   "source": []
  }
 ],
 "metadata": {
  "accelerator": "GPU",
  "colab": {
   "include_colab_link": true,
   "name": "Resnet.ipynb",
   "provenance": [],
   "toc_visible": true
  },
  "kernelspec": {
   "display_name": "Python 3",
   "language": "python",
   "name": "python3"
  },
  "language_info": {
   "codemirror_mode": {
    "name": "ipython",
    "version": 3
   },
   "file_extension": ".py",
   "mimetype": "text/x-python",
   "name": "python",
   "nbconvert_exporter": "python",
   "pygments_lexer": "ipython3",
   "version": "3.6.6"
  }
 },
 "nbformat": 4,
 "nbformat_minor": 4
}
