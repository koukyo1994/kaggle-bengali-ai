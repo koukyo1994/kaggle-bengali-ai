{
  "nbformat": 4,
  "nbformat_minor": 0,
  "metadata": {
    "accelerator": "GPU",
    "colab": {
      "name": "Resnet.ipynb",
      "provenance": [],
      "toc_visible": true,
      "include_colab_link": true
    },
    "kernelspec": {
      "display_name": "Python 3",
      "language": "python",
      "name": "python3"
    },
    "language_info": {
      "codemirror_mode": {
        "name": "ipython",
        "version": 3
      },
      "file_extension": ".py",
      "mimetype": "text/x-python",
      "name": "python",
      "nbconvert_exporter": "python",
      "pygments_lexer": "ipython3",
      "version": "3.6.6"
    }
  },
  "cells": [
    {
      "cell_type": "markdown",
      "metadata": {
        "id": "view-in-github",
        "colab_type": "text"
      },
      "source": [
        "<a href=\"https://colab.research.google.com/github/koukyo1994/kaggle-bengali-ai/blob/master/notebook/Resnet.ipynb\" target=\"_parent\"><img src=\"https://colab.research.google.com/assets/colab-badge.svg\" alt=\"Open In Colab\"/></a>"
      ]
    },
    {
      "cell_type": "markdown",
      "metadata": {
        "colab_type": "text",
        "id": "H-LYW6ekKQ-x"
      },
      "source": [
        "## Dependencies"
      ]
    },
    {
      "cell_type": "code",
      "metadata": {
        "colab_type": "code",
        "id": "QyICnC_QKQ-0",
        "colab": {}
      },
      "source": [
        "%%sh\n",
        "pip install albumentations==0.4.3 catalyst==20.1.1 easydict==1.9.0 >> /dev/null\n",
        "pip install efficientnet-pytorch==0.6.1 PyYAML==5.3 >> /dev/null\n",
        "pip install pretrainedmodels==0.7.4 >> /dev/null"
      ],
      "execution_count": 0,
      "outputs": []
    },
    {
      "cell_type": "markdown",
      "metadata": {
        "colab_type": "text",
        "id": "b2m_PlwpKQ-5"
      },
      "source": [
        "## Integration with Google Drive"
      ]
    },
    {
      "cell_type": "code",
      "metadata": {
        "colab_type": "code",
        "id": "jsPLSeVuKQ-6",
        "outputId": "34672596-7ab0-4f13-a796-ec6ed171a32a",
        "colab": {
          "base_uri": "https://localhost:8080/",
          "height": 122
        }
      },
      "source": [
        "from google.colab import drive\n",
        "drive.mount(\"/content/gdrive\")"
      ],
      "execution_count": 2,
      "outputs": [
        {
          "output_type": "stream",
          "text": [
            "Go to this URL in a browser: https://accounts.google.com/o/oauth2/auth?client_id=947318989803-6bn6qk8qdgf4n4g3pfee6491hc0brc4i.apps.googleusercontent.com&redirect_uri=urn%3aietf%3awg%3aoauth%3a2.0%3aoob&response_type=code&scope=email%20https%3a%2f%2fwww.googleapis.com%2fauth%2fdocs.test%20https%3a%2f%2fwww.googleapis.com%2fauth%2fdrive%20https%3a%2f%2fwww.googleapis.com%2fauth%2fdrive.photos.readonly%20https%3a%2f%2fwww.googleapis.com%2fauth%2fpeopleapi.readonly\n",
            "\n",
            "Enter your authorization code:\n",
            "··········\n",
            "Mounted at /content/gdrive\n"
          ],
          "name": "stdout"
        }
      ]
    },
    {
      "cell_type": "code",
      "metadata": {
        "colab_type": "code",
        "id": "a3FN8jiWKQ--",
        "colab": {}
      },
      "source": [
        "%%sh\n",
        "mkdir input\n",
        "cp -r /content/gdrive/My\\ Drive/kaggle-bengali ./input/bengaliai-cv19\n",
        "unzip -qq -d input/bengaliai-cv19/ input/bengaliai-cv19/train_images.zip\n",
        "unzip -qq -d input/bengaliai-cv19/ input/bengaliai-cv19/test_images.zip"
      ],
      "execution_count": 0,
      "outputs": []
    },
    {
      "cell_type": "markdown",
      "metadata": {
        "colab_type": "text",
        "id": "24Iv5BnEKQ_B"
      },
      "source": [
        "## Libraries"
      ]
    },
    {
      "cell_type": "code",
      "metadata": {
        "colab_type": "code",
        "id": "qYrCK0t6KQ_C",
        "outputId": "02ef95fc-1711-4f31-e089-19226dfce0fa",
        "colab": {
          "base_uri": "https://localhost:8080/",
          "height": 34
        }
      },
      "source": [
        "import albumentations as A\n",
        "import catalyst as ct\n",
        "import cv2\n",
        "import numpy as np\n",
        "import pandas as pd\n",
        "import pretrainedmodels\n",
        "import torch\n",
        "import torch.nn as nn\n",
        "import torch.nn.functional as F\n",
        "import torch.utils.data as torchdata\n",
        "import torchvision.models as models\n",
        "import yaml\n",
        "\n",
        "from pathlib import Path\n",
        "from typing import Tuple, Dict, Union, Optional, List\n",
        "\n",
        "from catalyst.dl import SupervisedRunner\n",
        "from catalyst.dl.core import Callback, CallbackOrder, RunnerState\n",
        "from catalyst.dl.callbacks import MixupCallback\n",
        "from catalyst.utils import get_device\n",
        "from easydict import EasyDict as edict\n",
        "from efficientnet_pytorch import EfficientNet\n",
        "from fastprogress import progress_bar\n",
        "from skimage.transform import AffineTransform, warp\n",
        "from sklearn.metrics import recall_score, confusion_matrix\n",
        "from sklearn.model_selection import KFold, train_test_split\n",
        "from torch.nn.parameter import Parameter\n",
        "from torch.optim import Adam, SGD\n",
        "from torch.optim.lr_scheduler import (ReduceLROnPlateau, \n",
        "                                      CosineAnnealingLR,\n",
        "                                      CosineAnnealingWarmRestarts)"
      ],
      "execution_count": 4,
      "outputs": [
        {
          "output_type": "stream",
          "text": [
            "alchemy not available, to install alchemy, run `pip install alchemy-catalyst`.\n"
          ],
          "name": "stderr"
        }
      ]
    },
    {
      "cell_type": "markdown",
      "metadata": {
        "colab_type": "text",
        "id": "tszhN7oGKQ_H"
      },
      "source": [
        "## Settings"
      ]
    },
    {
      "cell_type": "code",
      "metadata": {
        "colab_type": "code",
        "id": "dqfUxJd6KQ_I",
        "colab": {}
      },
      "source": [
        "i = 0\n",
        "trial = \"resnet34_fifth\""
      ],
      "execution_count": 0,
      "outputs": []
    },
    {
      "cell_type": "markdown",
      "metadata": {
        "colab_type": "text",
        "id": "dXUZcRAGKQ_L"
      },
      "source": [
        "## Config"
      ]
    },
    {
      "cell_type": "code",
      "metadata": {
        "colab_type": "code",
        "id": "S16TliO4KQ_M",
        "colab": {}
      },
      "source": [
        "conf_string = '''\n",
        "dataset:\n",
        "  train:\n",
        "    affine: True\n",
        "    morphology: False\n",
        "  val:\n",
        "    affine: False\n",
        "    morphology: False\n",
        "  test:\n",
        "    affine: False\n",
        "    morphology: False\n",
        "\n",
        "data:\n",
        "  train_df_path: input/bengaliai-cv19/train.csv\n",
        "  train_images_path: input/bengaliai-cv19/train_images\n",
        "  test_images_path: input/bengaliai-cv19/test_images\n",
        "  sample_submission_path: input/bengaliai-cv19/sample_submission.csv\n",
        "\n",
        "model:\n",
        "  model_name: resnet34\n",
        "  pretrained: True\n",
        "  num_classes: 186\n",
        "  head: scse\n",
        "  in_channels: 3\n",
        "\n",
        "train:\n",
        "  batch_size: 128\n",
        "  num_epochs: 30\n",
        "\n",
        "test:\n",
        "  batch_size: 128\n",
        "\n",
        "loss:\n",
        "  name: cross_entropy\n",
        "  params:\n",
        "    n_grapheme: 168\n",
        "    n_vowel: 11\n",
        "    n_consonant: 7\n",
        "\n",
        "optimizer:\n",
        "  name: Adam\n",
        "  params:\n",
        "    lr: 0.0001\n",
        "\n",
        "scheduler:\n",
        "  name: cosine\n",
        "  params:\n",
        "    T_max: 10\n",
        "\n",
        "transforms:\n",
        "  train:\n",
        "    Noise: False\n",
        "    Contrast: False\n",
        "    Rotate: True\n",
        "    RandomScale: True\n",
        "    Cutout:\n",
        "      num_holes: 0\n",
        "  val:\n",
        "    Noise: False\n",
        "    Contrast: False\n",
        "    Rotate: False\n",
        "    RandomScale: False\n",
        "    Cutout:\n",
        "      num_holes: 0\n",
        "  test:\n",
        "    Noise: False\n",
        "    Contrast: False\n",
        "    Rotate: False\n",
        "    RandomScale: False\n",
        "    Cutout:\n",
        "      num_holes: 0\n",
        "\n",
        "val:\n",
        "  name: kfold\n",
        "  params:\n",
        "    random_state: 42\n",
        "    n_splits: 5\n",
        "\n",
        "callbacks:\n",
        "  - AverageRecall:\n",
        "      index: 0\n",
        "      offset: 0\n",
        "      n_classes: 168\n",
        "      prefix: grapheme_recall\n",
        "      loss_type: cross_entroy\n",
        "  - AverageRecall:\n",
        "      index: 1\n",
        "      offset: 168\n",
        "      n_classes: 11\n",
        "      prefix: vowel_recall\n",
        "      loss_type: cross_entropy\n",
        "  - AverageRecall:\n",
        "      index: 2\n",
        "      offset: 179\n",
        "      n_classes: 7\n",
        "      prefix: consonant_recall\n",
        "      loss_type: cross_entropy\n",
        "  - TotalAverageRecall:\n",
        "      loss_type: cross_entropy\n",
        "  - SaveWeightsCallback:\n",
        "      to: /content/gdrive/My Drive/kaggle-bengali/checkpoints\n",
        "\n",
        "log_dir: log/\n",
        "num_workers: 2\n",
        "seed: 1213\n",
        "img_size: 224\n",
        "mixup: False\n",
        "'''"
      ],
      "execution_count": 0,
      "outputs": []
    },
    {
      "cell_type": "code",
      "metadata": {
        "colab_type": "code",
        "id": "piePmxjjKQ_P",
        "colab": {}
      },
      "source": [
        "def _get_default():\n",
        "    cfg = edict()\n",
        "\n",
        "    # dataset\n",
        "    cfg.dataset = edict()\n",
        "    cfg.dataset.train = edict()\n",
        "    cfg.dataset.val = edict()\n",
        "    cfg.dataset.test = edict()\n",
        "    cfg.dataset.train.affine = False\n",
        "    cfg.dataset.train.morphology = False\n",
        "    cfg.dataset.val.affine = False\n",
        "    cfg.dataset.val.morphology = False\n",
        "    cfg.dataset.test.affine = False\n",
        "    cfg.dataset.test.morphology = False\n",
        "\n",
        "    # dataset\n",
        "    cfg.data = edict()\n",
        "\n",
        "    # model\n",
        "    cfg.model = edict()\n",
        "    cfg.model.model_name = \"resnet18\"\n",
        "    cfg.model.num_classes = 186\n",
        "    cfg.model.pretrained = True\n",
        "    cfg.model.head = \"linear\"\n",
        "    cfg.model.in_channels = 3\n",
        "\n",
        "    # train\n",
        "    cfg.train = edict()\n",
        "\n",
        "    # test\n",
        "    cfg.test = edict()\n",
        "\n",
        "    # loss\n",
        "    cfg.loss = edict()\n",
        "    cfg.loss.params = edict()\n",
        "\n",
        "    # optimizer\n",
        "    cfg.optimizer = edict()\n",
        "    cfg.optimizer.params = edict()\n",
        "\n",
        "    # scheduler\n",
        "    cfg.scheduler = edict()\n",
        "    cfg.scheduler.params = edict()\n",
        "\n",
        "    # transforms:\n",
        "    cfg.transforms = edict()\n",
        "    cfg.transforms.train = edict()\n",
        "    cfg.transforms.train.HorizontalFlip = False\n",
        "    cfg.transforms.train.VerticalFlip = False\n",
        "    cfg.transforms.train.Noise = False\n",
        "    cfg.transforms.train.Contrast = False\n",
        "    cfg.transforms.train.Rotate = False\n",
        "    cfg.transforms.train.RandomScale = False\n",
        "    cfg.transforms.train.Cutout = edict()\n",
        "    cfg.transforms.train.Cutout.num_holes = 0\n",
        "    cfg.transforms.val = edict()\n",
        "    cfg.transforms.val.HorizontalFlip = False\n",
        "    cfg.transforms.val.VerticalFlip = False\n",
        "    cfg.transforms.val.Noise = False\n",
        "    cfg.transforms.val.Contrast = False\n",
        "    cfg.transforms.val.Rotate = False\n",
        "    cfg.transforms.val.RandomScale = False\n",
        "    cfg.transforms.val.Cutout = edict()\n",
        "    cfg.transforms.val.Cutout.num_holes = 0\n",
        "    cfg.transforms.test = edict()\n",
        "    cfg.transforms.test.HorizontalFlip = False\n",
        "    cfg.transforms.test.VerticalFlip = False\n",
        "    cfg.transforms.test.Noise = False\n",
        "    cfg.transforms.test.Contrast = False\n",
        "    cfg.transforms.test.Rotate = False\n",
        "    cfg.transforms.test.RandomScale = False\n",
        "    cfg.transforms.test.Cutout = edict()\n",
        "    cfg.transforms.test.Cutout.num_holes = 0\n",
        "    cfg.transforms.mean = [0.485, 0.456, 0.406]\n",
        "    cfg.transforms.std = [0.229, 0.224, 0.225]\n",
        "\n",
        "    # val\n",
        "    cfg.val = edict()\n",
        "    cfg.val.params = edict()\n",
        "\n",
        "    cfg.callbacks = []\n",
        "\n",
        "    return cfg\n",
        "\n",
        "\n",
        "def _merge_config(src: edict, dst: edict):\n",
        "    if not isinstance(src, edict):\n",
        "        return\n",
        "    for k, v in src.items():\n",
        "        if isinstance(v, edict):\n",
        "            _merge_config(src[k], dst[k])\n",
        "        else:\n",
        "            dst[k] = v"
      ],
      "execution_count": 0,
      "outputs": []
    },
    {
      "cell_type": "code",
      "metadata": {
        "colab_type": "code",
        "id": "DOq2Hol4KQ_S",
        "colab": {}
      },
      "source": [
        "cfg = edict(yaml.load(conf_string, Loader=yaml.SafeLoader))\n",
        "config = _get_default()\n",
        "_merge_config(cfg, config)"
      ],
      "execution_count": 0,
      "outputs": []
    },
    {
      "cell_type": "markdown",
      "metadata": {
        "colab_type": "text",
        "id": "iinSUuVEKQ_V"
      },
      "source": [
        "## Environmental settings"
      ]
    },
    {
      "cell_type": "code",
      "metadata": {
        "colab_type": "code",
        "id": "Mo5V5VT5KQ_W",
        "outputId": "6eb4cf7c-c283-4c33-873a-3eeb716c4ff5",
        "colab": {
          "base_uri": "https://localhost:8080/",
          "height": 63
        }
      },
      "source": [
        "ct.utils.set_global_seed(config.seed)\n",
        "ct.utils.prepare_cudnn(deterministic=True)"
      ],
      "execution_count": 9,
      "outputs": [
        {
          "output_type": "display_data",
          "data": {
            "text/html": [
              "<p style=\"color: red;\">\n",
              "The default version of TensorFlow in Colab will soon switch to TensorFlow 2.x.<br>\n",
              "We recommend you <a href=\"https://www.tensorflow.org/guide/migrate\" target=\"_blank\">upgrade</a> now \n",
              "or ensure your notebook will continue to use TensorFlow 1.x via the <code>%tensorflow_version 1.x</code> magic:\n",
              "<a href=\"https://colab.research.google.com/notebooks/tensorflow_version.ipynb\" target=\"_blank\">more info</a>.</p>\n"
            ],
            "text/plain": [
              "<IPython.core.display.HTML object>"
            ]
          },
          "metadata": {
            "tags": []
          }
        }
      ]
    },
    {
      "cell_type": "code",
      "metadata": {
        "colab_type": "code",
        "id": "EHv73-KuKQ_Y",
        "colab": {}
      },
      "source": [
        "output_base_dir = Path(\"output\")\n",
        "output_base_dir.mkdir(exist_ok=True, parents=True)\n",
        "\n",
        "train_images_path = Path(config.data.train_images_path)"
      ],
      "execution_count": 0,
      "outputs": []
    },
    {
      "cell_type": "markdown",
      "metadata": {
        "colab_type": "text",
        "id": "nowCCU9GKQ_b",
        "toc-hr-collapsed": true
      },
      "source": [
        "## Data and utilities preparation"
      ]
    },
    {
      "cell_type": "markdown",
      "metadata": {
        "colab_type": "text",
        "id": "hAy9mKC1KQ_c"
      },
      "source": [
        "### validation utils"
      ]
    },
    {
      "cell_type": "code",
      "metadata": {
        "colab_type": "code",
        "id": "38wcJQJEKQ_c",
        "colab": {}
      },
      "source": [
        "def no_fold(df: pd.DataFrame,\n",
        "            config: edict) -> List[Tuple[np.ndarray, np.ndarray]]:\n",
        "    params = config.val.params\n",
        "    idx = np.arange(len(df))\n",
        "    trn_idx, val_idx = train_test_split(idx, **params)\n",
        "    return [(trn_idx, val_idx)]\n",
        "\n",
        "\n",
        "def kfold(df: pd.DataFrame,\n",
        "          config: edict) -> List[Tuple[np.ndarray, np.ndarray]]:\n",
        "    params = config.val.params\n",
        "    kf = KFold(shuffle=True, **params)\n",
        "    splits = list(kf.split(df))\n",
        "    return splits\n",
        "\n",
        "\n",
        "def get_validation(df: pd.DataFrame,\n",
        "                   config: edict) -> List[Tuple[np.ndarray, np.ndarray]]:\n",
        "    name: str = config.val.name\n",
        "\n",
        "    func = globals().get(name)\n",
        "    if func is None:\n",
        "        raise NotImplementedError\n",
        "\n",
        "    return func(df, config)"
      ],
      "execution_count": 0,
      "outputs": []
    },
    {
      "cell_type": "markdown",
      "metadata": {
        "colab_type": "text",
        "id": "xE5iD2HAKQ_f"
      },
      "source": [
        "### transforms"
      ]
    },
    {
      "cell_type": "code",
      "metadata": {
        "colab_type": "code",
        "id": "qvCvJ5ScKQ_f",
        "colab": {}
      },
      "source": [
        "def get_transforms(config: edict, phase: str = \"train\"):\n",
        "    assert phase in [\"train\", \"valid\", \"test\"]\n",
        "    if phase == \"train\":\n",
        "        cfg = config.transforms.train\n",
        "    elif phase == \"valid\":\n",
        "        cfg = config.transforms.val\n",
        "    elif phase == \"test\":\n",
        "        cfg = config.transforms.test\n",
        "    list_transforms = []\n",
        "    if cfg.HorizontalFlip:\n",
        "        list_transforms.append(A.HorizontalFrip())\n",
        "    if cfg.VerticalFlip:\n",
        "        list_transforms.append(A.VerticalFlip())\n",
        "    if cfg.Rotate:\n",
        "        list_transforms.append(A.Rotate(limit=15))\n",
        "    if cfg.RandomScale:\n",
        "        list_transforms.append(A.RandomScale())\n",
        "    if cfg.Noise:\n",
        "        list_transforms.append(\n",
        "            A.OneOf(\n",
        "                [A.GaussNoise(), A.IAAAdditiveGaussianNoise()], p=0.5))\n",
        "    if cfg.Contrast:\n",
        "        list_transforms.append(\n",
        "            A.OneOf(\n",
        "                [A.RandomContrast(0.5),\n",
        "                 A.RandomGamma(),\n",
        "                 A.RandomBrightness()],\n",
        "                p=0.5))\n",
        "    if cfg.Cutout.num_holes > 0:\n",
        "        list_transforms.append(A.Cutout(**config.Cutout))\n",
        "\n",
        "    list_transforms.append(\n",
        "        A.Normalize(\n",
        "            mean=config.transforms.mean,\n",
        "            std=config.transforms.std,\n",
        "            p=1,\n",
        "            always_apply=True))\n",
        "\n",
        "    return A.Compose(list_transforms, p=1.0)"
      ],
      "execution_count": 0,
      "outputs": []
    },
    {
      "cell_type": "markdown",
      "metadata": {
        "colab_type": "text",
        "id": "5mQCOAtuLtV3"
      },
      "source": [
        "### Data Loading"
      ]
    },
    {
      "cell_type": "code",
      "metadata": {
        "colab_type": "code",
        "id": "GdTnGd0aLu-8",
        "colab": {}
      },
      "source": [
        "df = pd.read_csv(config.data.train_df_path)\n",
        "splits = get_validation(df, config)\n",
        "\n",
        "transforms_dict = {\n",
        "    phase: get_transforms(config, phase)\n",
        "    for phase in [\"train\", \"valid\"]\n",
        "}\n",
        "\n",
        "cls_levels = {\n",
        "    \"grapheme\": df.grapheme_root.nunique(),\n",
        "    \"vowel\": df.vowel_diacritic.nunique(),\n",
        "    \"consonant\": df.consonant_diacritic.nunique()\n",
        "}"
      ],
      "execution_count": 0,
      "outputs": []
    },
    {
      "cell_type": "markdown",
      "metadata": {
        "colab_type": "text",
        "id": "k3X2245OKQ_j"
      },
      "source": [
        "## Dataset and DataLoader"
      ]
    },
    {
      "cell_type": "code",
      "metadata": {
        "colab_type": "code",
        "id": "Hj6MHrqXKQ_j",
        "colab": {}
      },
      "source": [
        "class BaseDataset(torchdata.Dataset):\n",
        "    def __init__(self, image_dir: Path, df: pd.DataFrame, transforms,\n",
        "                 size: Tuple[int, int]):\n",
        "        self.df = df\n",
        "        self.image_dir = image_dir\n",
        "        self.transforms = transforms\n",
        "        self.size = size\n",
        "\n",
        "    def __len__(self):\n",
        "        return len(self.df)\n",
        "\n",
        "    def __getitem__(self, idx):\n",
        "        image_id = self.df.loc[idx, \"image_id\"]\n",
        "        image_path = self.image_dir / f\"{image_id}.png\"\n",
        "\n",
        "        image = cv2.imread(str(image_path))\n",
        "        longer_side = image.shape[1]\n",
        "        if image.ndim == 2:\n",
        "            new_image = np.ones(\n",
        "                (longer_side, longer_side), dtype=np.uint8) * 255\n",
        "        else:\n",
        "            new_image = np.ones(\n",
        "                (longer_side, longer_side, 3), dtype=np.uint8) * 255\n",
        "        offset = np.random.randint(0, longer_side - image.shape[0])\n",
        "        new_image[offset:offset + image.shape[0], :] = image\n",
        "\n",
        "        if self.transforms is not None:\n",
        "            image = self.transforms(image=new_image)[\"image\"]\n",
        "        image = cv2.resize(image, self.size)\n",
        "        if image.shape[2] == 3:\n",
        "            image = np.moveaxis(image, -1, 0)\n",
        "        grapheme = self.df.loc[idx, \"grapheme_root\"]\n",
        "        vowel = self.df.loc[idx, \"vowel_diacritic\"]\n",
        "        consonant = self.df.loc[idx, \"consonant_diacritic\"]\n",
        "        label = np.zeros(3, dtype=int)\n",
        "        label[0] = grapheme\n",
        "        label[1] = vowel\n",
        "        label[2] = consonant\n",
        "        return {\"images\": image, \"targets\": label}\n",
        "    \n",
        "    \n",
        "def get_base_loader(df: pd.DataFrame,\n",
        "                    image_dir: Path,\n",
        "                    phase: str = \"train\",\n",
        "                    size: Tuple[int, int] = (128, 128),\n",
        "                    batch_size=256,\n",
        "                    num_workers=2,\n",
        "                    transforms=None):\n",
        "    assert phase in [\"train\", \"valid\"]\n",
        "    if phase == \"train\":\n",
        "        is_shuffle = True\n",
        "        drop_last = True\n",
        "    else:\n",
        "        is_shuffle = False\n",
        "        drop_last = False\n",
        "\n",
        "    dataset = BaseDataset(  # type: ignore\n",
        "        image_dir, df, transforms, size)\n",
        "    return torchdata.DataLoader(\n",
        "        dataset,\n",
        "        batch_size=batch_size,\n",
        "        shuffle=is_shuffle,\n",
        "        num_workers=num_workers,\n",
        "        pin_memory=True,\n",
        "        drop_last=drop_last)"
      ],
      "execution_count": 0,
      "outputs": []
    },
    {
      "cell_type": "markdown",
      "metadata": {
        "colab_type": "text",
        "id": "yc6F3Pu5KQ_m",
        "toc-hr-collapsed": true
      },
      "source": [
        "## Model and Loss"
      ]
    },
    {
      "cell_type": "markdown",
      "metadata": {
        "colab_type": "text",
        "id": "PjBhyu98KQ_n"
      },
      "source": [
        "### Model"
      ]
    },
    {
      "cell_type": "code",
      "metadata": {
        "colab_type": "code",
        "id": "wABhZZ9LKQ_o",
        "colab": {}
      },
      "source": [
        "def gem(x: torch.Tensor, p=3, eps=1e-6):\n",
        "    return F.avg_pool2d(x.clamp(min=eps).pow(p),\n",
        "                        (x.size(-2), x.size(-1))).pow(1. / p)\n",
        "\n",
        "\n",
        "def mish(input):\n",
        "    '''\n",
        "    Applies the mish function element-wise:\n",
        "    mish(x) = x * tanh(softplus(x)) = x * tanh(ln(1 + exp(x)))\n",
        "    See additional documentation for mish class.\n",
        "    '''\n",
        "    return input * torch.tanh(F.softplus(input))\n",
        "\n",
        "\n",
        "class Mish(nn.Module):\n",
        "    '''\n",
        "    Applies the mish function element-wise:\n",
        "    mish(x) = x * tanh(softplus(x)) = x * tanh(ln(1 + exp(x)))\n",
        "    Shape:\n",
        "        - Input: (N, *) where * means, any number of additional\n",
        "          dimensions\n",
        "        - Output: (N, *), same shape as the input\n",
        "    Examples:\n",
        "        >>> m = Mish()\n",
        "        >>> input = torch.randn(2)\n",
        "        >>> output = m(input)\n",
        "    '''\n",
        "\n",
        "    def __init__(self):\n",
        "        '''\n",
        "        Init method.\n",
        "        '''\n",
        "        super().__init__()\n",
        "\n",
        "    def forward(self, input):\n",
        "        '''\n",
        "        Forward pass of the function.\n",
        "        '''\n",
        "        return mish(input)\n",
        "\n",
        "\n",
        "class GeM(nn.Module):\n",
        "    def __init__(self, p=3, eps=1e-6):\n",
        "        super(GeM, self).__init__()\n",
        "        self.p = Parameter(torch.ones(1) * p)\n",
        "        self.eps = eps\n",
        "\n",
        "    def forward(self, x):\n",
        "        return gem(x, p=self.p, eps=self.eps).squeeze(-1).squeeze(-1)\n",
        "\n",
        "    def __repr__(self):\n",
        "        return self.__class__.__name__ + '(' + 'p=' + '{:.4f}'.format(\n",
        "            self.p.data.tolist()[0]) + ', ' + 'eps=' + str(self.eps) + ')'\n",
        "\n",
        "\n",
        "class SpatialAttention2d(nn.Module):\n",
        "    def __init__(self, channel):\n",
        "        super(SpatialAttention2d, self).__init__()\n",
        "        self.squeeze = nn.Conv2d(channel, 1, kernel_size=1, bias=False)\n",
        "        self.sigmoid = nn.Sigmoid()\n",
        "\n",
        "    def forward(self, x):\n",
        "        z = self.squeeze(x)\n",
        "        z = self.sigmoid(z)\n",
        "        return x * z\n",
        "\n",
        "\n",
        "class GAB(nn.Module):\n",
        "    def __init__(self, input_dim, reduction=4):\n",
        "        super(GAB, self).__init__()\n",
        "        self.global_avgpool = nn.AdaptiveAvgPool2d(1)\n",
        "        self.conv1 = nn.Conv2d(\n",
        "            input_dim, input_dim // reduction, kernel_size=1, stride=1)\n",
        "        self.conv2 = nn.Conv2d(\n",
        "            input_dim // reduction, input_dim, kernel_size=1, stride=1)\n",
        "        self.relu = nn.ReLU(inplace=True)\n",
        "        self.sigmoid = nn.Sigmoid()\n",
        "\n",
        "    def forward(self, x):\n",
        "        z = self.global_avgpool(x)\n",
        "        z = self.relu(self.conv1(z))\n",
        "        z = self.sigmoid(self.conv2(z))\n",
        "        return x * z\n",
        "\n",
        "\n",
        "class SCse(nn.Module):\n",
        "    def __init__(self, dim):\n",
        "        super(SCse, self).__init__()\n",
        "        self.satt = SpatialAttention2d(dim)\n",
        "        self.catt = GAB(dim)\n",
        "\n",
        "    def forward(self, x):\n",
        "        return self.satt(x) + self.catt(x)\n",
        "\n",
        "\n",
        "class Resnet(nn.Module):\n",
        "    def __init__(self,\n",
        "                 model_name: str,\n",
        "                 num_classes: int,\n",
        "                 pretrained=False,\n",
        "                 head=\"linear\",\n",
        "                 in_channels=3):\n",
        "        super().__init__()\n",
        "        self.num_classes = num_classes\n",
        "        self.base = getattr(models, model_name)(pretrained=pretrained)\n",
        "        self.head = head\n",
        "        assert in_channels in [1, 3]\n",
        "        assert head in [\"linear\", \"custom\", \"scse\"]\n",
        "        if in_channels == 1:\n",
        "            if pretrained:\n",
        "                weight = self.base.conv1.weight\n",
        "                self.base.conv1 = nn.Conv2d(\n",
        "                    1, 64, kernel_size=7, stride=2, padding=3, bias=False)\n",
        "                self.base.conv1.weight = nn.Parameter(\n",
        "                    data=torch.mean(weight, dim=1, keepdim=True),\n",
        "                    requires_grad=True)\n",
        "            else:\n",
        "                self.base.conv1 = nn.Conv2d(\n",
        "                    1, 64, kernel_size=7, stride=2, padding=3, bias=False)\n",
        "        if head == \"linear\":\n",
        "            n_in_features = self.base.fc.in_features\n",
        "            self.base.fc = nn.Linear(n_in_features, self.num_classes)\n",
        "        elif head == \"custom\":\n",
        "            n_in_features = self.base.fc.in_features\n",
        "            arch = list(self.base.children())\n",
        "            for _ in range(2):\n",
        "                arch.pop()\n",
        "            self.base = nn.Sequential(*arch)\n",
        "            self.grapheme_head = nn.Sequential(\n",
        "                Mish(), nn.Conv2d(n_in_features, 512, kernel_size=3),\n",
        "                nn.BatchNorm2d(512), GeM(), nn.Linear(512, 168))\n",
        "            self.vowel_head = nn.Sequential(\n",
        "                Mish(), nn.Conv2d(n_in_features, 512, kernel_size=3),\n",
        "                nn.BatchNorm2d(512), GeM(), nn.Linear(512, 11))\n",
        "            self.consonant_head = nn.Sequential(\n",
        "                Mish(), nn.Conv2d(n_in_features, 512, kernel_size=3),\n",
        "                nn.BatchNorm2d(512), GeM(), nn.Linear(512, 7))\n",
        "        elif head == \"scse\":\n",
        "            n_in_features = self.base.fc.in_features\n",
        "            arch = list(self.base.children())\n",
        "            for _ in range(2):\n",
        "                arch.pop()\n",
        "            self.base = nn.Sequential(*arch)\n",
        "            self.grapheme_head = nn.Sequential(\n",
        "                SCse(n_in_features), Mish(), nn.BatchNorm2d(512), GeM(),\n",
        "                nn.Dropout(0.3), nn.Linear(512, 168))\n",
        "            self.vowel_head = nn.Sequential(\n",
        "                SCse(n_in_features), Mish(), nn.BatchNorm2d(512), GeM(),\n",
        "                nn.Dropout(0.3), nn.Linear(512, 11))\n",
        "            self.consonant_head = nn.Sequential(\n",
        "                SCse(n_in_features), Mish(), nn.BatchNorm2d(512), GeM(),\n",
        "                nn.Dropout(0.3), nn.Linear(512, 7))\n",
        "        else:\n",
        "            raise NotImplementedError\n",
        "\n",
        "    def forward(self, x):\n",
        "        if self.head == \"linear\":\n",
        "            return self.base(x)\n",
        "        elif self.head == \"custom\":\n",
        "            x = self.base(x)\n",
        "            grapheme = self.grapheme_head(x)\n",
        "            vowel = self.vowel_head(x)\n",
        "            consonant = self.consonant_head(x)\n",
        "            return torch.cat([grapheme, vowel, consonant], dim=1)\n",
        "        elif self.head == \"scse\":\n",
        "            x = self.base(x)\n",
        "            grapheme = self.grapheme_head(x)\n",
        "            vowel = self.vowel_head(x)\n",
        "            consonant = self.consonant_head(x)\n",
        "            return torch.cat([grapheme, vowel, consonant], dim=1)\n",
        "        else:\n",
        "            raise NotImplementedError\n",
        "\n",
        "\n",
        "def get_model(config: edict):\n",
        "    params = config.model\n",
        "    if \"resnet\" in params.model_name:\n",
        "        return Resnet(**params)\n",
        "    else:\n",
        "        raise NotImplementedError"
      ],
      "execution_count": 0,
      "outputs": []
    },
    {
      "cell_type": "markdown",
      "metadata": {
        "colab_type": "text",
        "id": "-IPNqFE5KQ_q"
      },
      "source": [
        "### Loss"
      ]
    },
    {
      "cell_type": "code",
      "metadata": {
        "colab_type": "code",
        "id": "lXKZUtQdKQ_r",
        "colab": {}
      },
      "source": [
        "class BengaliCrossEntropyLoss(nn.Module):\n",
        "    def __init__(self, n_grapheme: int, n_vowel: int, n_consonant: int):\n",
        "        super().__init__()\n",
        "        self.n_grapheme = n_grapheme\n",
        "        self.n_vowel = n_vowel\n",
        "        self.n_consonant = n_consonant\n",
        "        self.cross_entropy = nn.CrossEntropyLoss()\n",
        "\n",
        "    def forward(self, pred, true):\n",
        "        head = 0\n",
        "        tail = self.n_grapheme\n",
        "        grapheme_pred = pred[:, head:tail]\n",
        "        grapheme_true = true[:, 0]\n",
        "\n",
        "        head = tail\n",
        "        tail = head + self.n_vowel\n",
        "        vowel_pred = pred[:, head:tail]\n",
        "        vowel_true = true[:, 1]\n",
        "\n",
        "        head = tail\n",
        "        tail = head + self.n_consonant\n",
        "        consonant_pred = pred[:, head:tail]\n",
        "        consonant_true = true[:, 2]\n",
        "\n",
        "        return self.cross_entropy(grapheme_pred, grapheme_true) + \\\n",
        "            self.cross_entropy(vowel_pred, vowel_true) + \\\n",
        "            self.cross_entropy(consonant_pred, consonant_true)\n",
        "\n",
        "\n",
        "class BengaliBCELoss(nn.Module):\n",
        "    def __init__(self, n_grapheme: int, n_vowel: int, n_consonant: int):\n",
        "        super().__init__()\n",
        "        self.n_grapheme = n_grapheme\n",
        "        self.n_vowel = n_vowel\n",
        "        self.n_consonant = n_consonant\n",
        "        self.bce = nn.BCEWithLogitsLoss()\n",
        "\n",
        "    def forward(self, pred, true):\n",
        "        head = 0\n",
        "        tail = self.n_grapheme\n",
        "        grapheme_pred = pred[:, head:tail]\n",
        "        grapheme_true = true[:, head:tail]\n",
        "\n",
        "        head = tail\n",
        "        tail = head + self.n_vowel\n",
        "        vowel_pred = pred[:, head:tail]\n",
        "        vowel_true = true[:, head:tail]\n",
        "\n",
        "        head = tail\n",
        "        tail = head + self.n_consonant\n",
        "        consonant_pred = pred[:, head:tail]\n",
        "        consonant_true = true[:, head:tail]\n",
        "\n",
        "        return self.bce(grapheme_pred, grapheme_true) + \\\n",
        "            self.bce(vowel_pred, vowel_true) + \\\n",
        "            self.bce(consonant_pred, consonant_true)\n",
        "\n",
        "\n",
        "def get_loss(config: edict):\n",
        "    name = config.loss.name\n",
        "    params = config.loss.params\n",
        "    if name == \"bce\":\n",
        "        criterion = BengaliBCELoss(**params)\n",
        "    elif name == \"cross_entropy\":\n",
        "        criterion = BengaliCrossEntropyLoss(**params)  # type: ignore\n",
        "    else:\n",
        "        raise NotImplementedError\n",
        "    return criterion"
      ],
      "execution_count": 0,
      "outputs": []
    },
    {
      "cell_type": "markdown",
      "metadata": {
        "colab_type": "text",
        "id": "W4aJX5V_KQ_t",
        "toc-hr-collapsed": true
      },
      "source": [
        "## Optimizer and Scheduler"
      ]
    },
    {
      "cell_type": "markdown",
      "metadata": {
        "colab_type": "text",
        "id": "thU1KR2NKQ_u"
      },
      "source": [
        "### Optimizer"
      ]
    },
    {
      "cell_type": "code",
      "metadata": {
        "colab_type": "code",
        "id": "fWo_pBvzKQ_u",
        "colab": {}
      },
      "source": [
        "Optimizer = Union[Adam, SGD]\n",
        "\n",
        "\n",
        "def get_optimizer(model, config: edict) -> Optimizer:\n",
        "    name = config.optimizer.name\n",
        "    params = config.optimizer.params\n",
        "    if name == \"Adam\":\n",
        "        optimizer = Adam(model.parameters(), **params)\n",
        "    elif name == \"SGD\":\n",
        "        optimizer = Adam(model.parameters(), **params)\n",
        "    else:\n",
        "        raise NotImplementedError\n",
        "    return optimizer"
      ],
      "execution_count": 0,
      "outputs": []
    },
    {
      "cell_type": "markdown",
      "metadata": {
        "colab_type": "text",
        "id": "FmA47o80KQ_z"
      },
      "source": [
        "### Scheduler"
      ]
    },
    {
      "cell_type": "code",
      "metadata": {
        "colab_type": "code",
        "id": "DA7gtPiyKQ_0",
        "colab": {}
      },
      "source": [
        "Scheduler = Optional[\n",
        "    Union[ReduceLROnPlateau, CosineAnnealingLR, CosineAnnealingWarmRestarts]]\n",
        "\n",
        "\n",
        "def get_scheduler(optimizer, config: edict) -> Scheduler:\n",
        "    params = config.scheduler.params\n",
        "    name = config.scheduler.name\n",
        "    scheduler: Scheduler = None\n",
        "    if name == \"plateau\":\n",
        "        scheduler = ReduceLROnPlateau(optimizer, **params)\n",
        "    elif name == \"cosine\":\n",
        "        scheduler = CosineAnnealingLR(optimizer, **params)\n",
        "    elif name == \"cosine_warmup\":\n",
        "        scheduler = CosineAnnealingWarmRestarts(optimizer, **params)\n",
        "\n",
        "    return scheduler"
      ],
      "execution_count": 0,
      "outputs": []
    },
    {
      "cell_type": "markdown",
      "metadata": {
        "colab_type": "text",
        "id": "YB5qDnQIKQ_2"
      },
      "source": [
        "## Callbacks"
      ]
    },
    {
      "cell_type": "code",
      "metadata": {
        "colab_type": "code",
        "id": "9IwyscXBKQ_3",
        "colab": {}
      },
      "source": [
        "class AverageRecall(Callback):\n",
        "    def __init__(self,\n",
        "                 index: int,\n",
        "                 offset: int,\n",
        "                 n_classes: int,\n",
        "                 prefix: str,\n",
        "                 loss_type: str = \"bce\",\n",
        "                 output_key: str = \"logits\",\n",
        "                 target_key: str = \"targets\"):\n",
        "        self.index = index\n",
        "        self.offset = offset\n",
        "        self.n_classes = n_classes\n",
        "        self.prefix = prefix\n",
        "        self.loss_type = loss_type\n",
        "        self.output_key = output_key\n",
        "        self.target_key = target_key\n",
        "        self.recall = 0.0\n",
        "        super().__init__(CallbackOrder.Metric)\n",
        "\n",
        "    def on_loader_start(self, state: RunnerState):\n",
        "        self.prediction: List[int] = []\n",
        "        self.target: List[int] = []\n",
        "\n",
        "    def on_batch_end(self, state: RunnerState):\n",
        "        targ = state.input[self.target_key].detach()\n",
        "        out = state.output[self.output_key].detach()\n",
        "        head = self.offset\n",
        "        tail = self.offset + self.n_classes\n",
        "        if self.loss_type == \"bce\":\n",
        "            pred_np = torch.argmax(\n",
        "                torch.sigmoid(out[:, head:tail]), dim=1).cpu().numpy()\n",
        "            target_np = torch.argmax(targ[:, head:tail], dim=1).cpu().numpy()\n",
        "        else:\n",
        "            pred_np = torch.argmax(out[:, head:tail], dim=1).cpu().numpy()\n",
        "            target_np = targ[:, self.index].cpu().numpy()\n",
        "        self.prediction.extend(pred_np)\n",
        "        self.target.extend(target_np)\n",
        "        score = recall_score(\n",
        "            target_np, pred_np, average=\"macro\", zero_division=0)\n",
        "        state.metrics.add_batch_value(name=\"batch_\" + self.prefix, value=score)\n",
        "\n",
        "    def on_loader_end(self, state: RunnerState):\n",
        "        metric_name = self.prefix\n",
        "        y_true = np.asarray(self.target)\n",
        "        y_pred = np.asarray(self.prediction)\n",
        "\n",
        "        metric = recall_score(y_true, y_pred, average=\"macro\")\n",
        "        state.metrics.epoch_values[state.loader_name][metric_name] = float(\n",
        "            metric)\n",
        "        self.recall = metric\n",
        "\n",
        "\n",
        "class TotalAverageRecall(Callback):\n",
        "    def __init__(self,\n",
        "                 n_grapheme=168,\n",
        "                 n_vowel=11,\n",
        "                 n_consonant=7,\n",
        "                 loss_type: str = \"bce\",\n",
        "                 prefix: str = \"tar\",\n",
        "                 output_key: str = \"logits\",\n",
        "                 target_key: str = \"targets\"):\n",
        "        self.prefix = prefix\n",
        "        self.grapheme_callback = AverageRecall(\n",
        "            index=0,\n",
        "            offset=0,\n",
        "            n_classes=n_grapheme,\n",
        "            prefix=\"grapheme_recall\",\n",
        "            loss_type=loss_type,\n",
        "            output_key=output_key,\n",
        "            target_key=target_key)\n",
        "        self.vowel_callback = AverageRecall(\n",
        "            index=1,\n",
        "            offset=n_grapheme,\n",
        "            n_classes=n_vowel,\n",
        "            prefix=\"vowel_recall\",\n",
        "            loss_type=loss_type,\n",
        "            output_key=output_key,\n",
        "            target_key=target_key)\n",
        "        self.consonant_callback = AverageRecall(\n",
        "            index=2,\n",
        "            offset=n_grapheme + n_vowel,\n",
        "            n_classes=n_consonant,\n",
        "            prefix=\"consonant_recall\",\n",
        "            loss_type=loss_type,\n",
        "            output_key=output_key,\n",
        "            target_key=target_key)\n",
        "        super().__init__(CallbackOrder.Metric)\n",
        "\n",
        "    def on_loader_start(self, state):\n",
        "        self.grapheme_callback.on_loader_start(state)\n",
        "        self.vowel_callback.on_loader_start(state)\n",
        "        self.consonant_callback.on_loader_start(state)\n",
        "\n",
        "    def on_batch_end(self, state: RunnerState):\n",
        "        self.grapheme_callback.on_batch_end(state)\n",
        "        self.vowel_callback.on_batch_end(state)\n",
        "        self.consonant_callback.on_batch_end(state)\n",
        "\n",
        "    def on_loader_end(self, state: RunnerState):\n",
        "        self.grapheme_callback.on_loader_end(state)\n",
        "        self.vowel_callback.on_loader_end(state)\n",
        "        self.consonant_callback.on_loader_end(state)\n",
        "\n",
        "        grapheme_recall = self.grapheme_callback.recall\n",
        "        vowel_recall = self.vowel_callback.recall\n",
        "        consonant_recall = self.consonant_callback.recall\n",
        "        final_score = np.average(\n",
        "            [grapheme_recall, vowel_recall, consonant_recall],\n",
        "            weights=[2, 1, 1])\n",
        "        state.metrics.epoch_values[state.loader_name][self.\n",
        "                                                      prefix] = final_score\n",
        "\n",
        "\n",
        "\n",
        "class SaveWeightsCallback(Callback):\n",
        "    def __init__(self, to: Optional[Union[Path, str]] = None, name: str=\"\"):\n",
        "        if isinstance(to, str):\n",
        "            self.to = Path(to)\n",
        "        else:\n",
        "            self.to = to\n",
        "        self.name = name\n",
        "        super().__init__(CallbackOrder.External)\n",
        "\n",
        "    def on_epoch_end(self, state: RunnerState):\n",
        "        weights = state.model.state_dict()\n",
        "        logdir = state.logdir / \"checkpoints\"\n",
        "        logdir.mkdir(exist_ok=True, parents=True)\n",
        "        if self.name == \"\":\n",
        "            torch.save(weights, logdir / \"temp.pth\")\n",
        "        else:\n",
        "            torch.save(weights, logdir / f\"{self.name}.pth\")\n",
        "\n",
        "        if self.to is not None:\n",
        "            if self.name == \"\":\n",
        "                torch.save(weights, self.to / \"temp.pth\")\n",
        "            else:\n",
        "                torch.save(weights, self.to / f\"{self.name}.pth\")"
      ],
      "execution_count": 0,
      "outputs": []
    },
    {
      "cell_type": "code",
      "metadata": {
        "colab_type": "code",
        "id": "kHvFfq-C3NGk",
        "colab": {}
      },
      "source": [
        "def get_callbacks(config: edict):\n",
        "    callbacks = []\n",
        "    for callback in config.callbacks:\n",
        "        name = list(callback.keys())[0]\n",
        "        params = callback[name]\n",
        "        if globals().get(name) is not None:\n",
        "            if params is not None:\n",
        "                callbacks.append(globals().get(name)(**params))  # type: ignore\n",
        "            else:\n",
        "                callbacks.append(globals().get(name)())  # type: ignore\n",
        "    return callbacks"
      ],
      "execution_count": 0,
      "outputs": []
    },
    {
      "cell_type": "markdown",
      "metadata": {
        "colab_type": "text",
        "id": "ChYS5rgoKQ_5"
      },
      "source": [
        "## Training"
      ]
    },
    {
      "cell_type": "code",
      "metadata": {
        "colab_type": "code",
        "id": "M-QhaJoMKQ_6",
        "outputId": "53816eba-92f4-4d69-a158-a05dde836917",
        "colab": {
          "base_uri": "https://localhost:8080/",
          "height": 598
        }
      },
      "source": [
        "trn_idx, val_idx = splits[i]\n",
        "\n",
        "print(f\"Fold: {i}\")\n",
        "\n",
        "output_dir = output_base_dir / f\"fold{i}\"\n",
        "output_dir.mkdir(exist_ok=True, parents=True)\n",
        "\n",
        "trn_df = df.loc[trn_idx, :].reset_index(drop=True)\n",
        "val_df = df.loc[val_idx, :].reset_index(drop=True)\n",
        "data_loaders = {\n",
        "    phase: get_base_loader(\n",
        "        df,\n",
        "        train_images_path,\n",
        "        phase=phase,\n",
        "        size=(config.img_size, config.img_size),\n",
        "        batch_size=config.train.batch_size,\n",
        "        num_workers=config.num_workers,\n",
        "        transforms=transforms_dict[phase])\n",
        "    for phase, df in zip([\"train\", \"valid\"], [trn_df, val_df])\n",
        "}\n",
        "model = get_model(config)\n",
        "criterion = get_loss(config)\n",
        "optimizer = get_optimizer(model, config)\n",
        "scheduler = get_scheduler(optimizer, config)\n",
        "callbacks = get_callbacks(config)\n",
        "\n",
        "if config.mixup:\n",
        "    callbacks.append(MixupCallback(fields=[\n",
        "        \"images\",\n",
        "    ]))\n",
        "\n",
        "runner = SupervisedRunner(\n",
        "    device=ct.utils.get_device(),\n",
        "    input_key=\"images\",\n",
        "    input_target_key=\"targets\",\n",
        "    output_key=\"logits\")\n",
        "runner.train(\n",
        "    model=model,\n",
        "    criterion=criterion,\n",
        "    optimizer=optimizer,\n",
        "    loaders=data_loaders,\n",
        "    logdir=output_dir,\n",
        "    scheduler=scheduler,\n",
        "    num_epochs=config.train.num_epochs,\n",
        "    callbacks=callbacks,\n",
        "    main_metric=\"tar\",\n",
        "    state_kwargs={\n",
        "        \"batch_consistant_metrics\": False\n",
        "    },\n",
        "    minimize_metric=False,\n",
        "    monitoring_params=None,\n",
        "    verbose=False)"
      ],
      "execution_count": 29,
      "outputs": [
        {
          "output_type": "stream",
          "text": [
            "Fold: 0\n",
            "[2020-01-31 16:06:48,600] \n",
            "1/10 * Epoch 1 (train): _base/lr=0.0001 | _base/momentum=0.9000 | _timers/_fps=2722.1580 | _timers/batch_time=0.0957 | _timers/data_time=0.0699 | _timers/model_time=0.0257 | batch_consonant_recall=0.8412 | batch_grapheme_recall=0.4864 | batch_vowel_recall=0.8557 | consonant_recall=0.8111 | grapheme_recall=0.4701 | loss=2.3044 | tar=0.6517 | vowel_recall=0.8556\n",
            "1/10 * Epoch 1 (valid): _base/lr=0.0001 | _base/momentum=0.9000 | _timers/_fps=2919.2208 | _timers/batch_time=0.1522 | _timers/data_time=0.1356 | _timers/model_time=0.0166 | batch_consonant_recall=0.9251 | batch_grapheme_recall=0.7710 | batch_vowel_recall=0.9184 | consonant_recall=0.9228 | grapheme_recall=0.8153 | loss=0.8036 | tar=0.8677 | vowel_recall=0.9174\n",
            "[2020-01-31 16:14:19,800] \n",
            "2/10 * Epoch 2 (train): _base/lr=9.755e-05 | _base/momentum=0.9000 | _timers/_fps=2831.1919 | _timers/batch_time=0.0909 | _timers/data_time=0.0661 | _timers/model_time=0.0247 | batch_consonant_recall=0.9421 | batch_grapheme_recall=0.7948 | batch_vowel_recall=0.9527 | consonant_recall=0.9364 | grapheme_recall=0.8346 | loss=0.6870 | tar=0.8897 | vowel_recall=0.9531\n",
            "2/10 * Epoch 2 (valid): _base/lr=9.755e-05 | _base/momentum=0.9000 | _timers/_fps=3020.8944 | _timers/batch_time=0.1499 | _timers/data_time=0.1339 | _timers/model_time=0.0159 | batch_consonant_recall=0.9575 | batch_grapheme_recall=0.8290 | batch_vowel_recall=0.9596 | consonant_recall=0.9568 | grapheme_recall=0.8606 | loss=0.5637 | tar=0.9103 | vowel_recall=0.9632\n",
            "[2020-01-31 16:21:45,344] \n",
            "3/10 * Epoch 3 (train): _base/lr=9.045e-05 | _base/momentum=0.9000 | _timers/_fps=2807.0509 | _timers/batch_time=0.0878 | _timers/data_time=0.0622 | _timers/model_time=0.0256 | batch_consonant_recall=0.9570 | batch_grapheme_recall=0.8496 | batch_vowel_recall=0.9663 | consonant_recall=0.9555 | grapheme_recall=0.8854 | loss=0.4848 | tar=0.9234 | vowel_recall=0.9674\n",
            "3/10 * Epoch 3 (valid): _base/lr=9.045e-05 | _base/momentum=0.9000 | _timers/_fps=2715.1607 | _timers/batch_time=0.1480 | _timers/data_time=0.1313 | _timers/model_time=0.0166 | batch_consonant_recall=0.9624 | batch_grapheme_recall=0.8640 | batch_vowel_recall=0.9635 | consonant_recall=0.9646 | grapheme_recall=0.8957 | loss=0.4574 | tar=0.9300 | vowel_recall=0.9641\n",
            "[2020-01-31 16:29:08,589] \n",
            "4/10 * Epoch 4 (train): _base/lr=7.939e-05 | _base/momentum=0.9000 | _timers/_fps=2815.5822 | _timers/batch_time=0.0858 | _timers/data_time=0.0606 | _timers/model_time=0.0252 | batch_consonant_recall=0.9652 | batch_grapheme_recall=0.8811 | batch_vowel_recall=0.9736 | consonant_recall=0.9653 | grapheme_recall=0.9127 | loss=0.3754 | tar=0.9411 | vowel_recall=0.9738\n",
            "4/10 * Epoch 4 (valid): _base/lr=7.939e-05 | _base/momentum=0.9000 | _timers/_fps=2889.9839 | _timers/batch_time=0.1483 | _timers/data_time=0.1313 | _timers/model_time=0.0169 | batch_consonant_recall=0.9680 | batch_grapheme_recall=0.8764 | batch_vowel_recall=0.9674 | consonant_recall=0.9656 | grapheme_recall=0.9053 | loss=0.4145 | tar=0.9360 | vowel_recall=0.9679\n",
            "[2020-01-31 16:36:29,149] \n",
            "5/10 * Epoch 5 (train): _base/lr=6.545e-05 | _base/momentum=0.9000 | _timers/_fps=2923.6659 | _timers/batch_time=0.0842 | _timers/data_time=0.0591 | _timers/model_time=0.0250 | batch_consonant_recall=0.9735 | batch_grapheme_recall=0.9042 | batch_vowel_recall=0.9792 | consonant_recall=0.9716 | grapheme_recall=0.9301 | loss=0.2963 | tar=0.9529 | vowel_recall=0.9799\n",
            "5/10 * Epoch 5 (valid): _base/lr=6.545e-05 | _base/momentum=0.9000 | _timers/_fps=2819.4941 | _timers/batch_time=0.1447 | _timers/data_time=0.1284 | _timers/model_time=0.0162 | batch_consonant_recall=0.9678 | batch_grapheme_recall=0.8863 | batch_vowel_recall=0.9738 | consonant_recall=0.9636 | grapheme_recall=0.9188 | loss=0.3727 | tar=0.9442 | vowel_recall=0.9755\n",
            "[2020-01-31 16:43:46,471] \n",
            "6/10 * Epoch 6 (train): _base/lr=5.000e-05 | _base/momentum=0.9000 | _timers/_fps=2893.8811 | _timers/batch_time=0.0824 | _timers/data_time=0.0569 | _timers/model_time=0.0255 | batch_consonant_recall=0.9789 | batch_grapheme_recall=0.9250 | batch_vowel_recall=0.9840 | consonant_recall=0.9774 | grapheme_recall=0.9467 | loss=0.2260 | tar=0.9638 | vowel_recall=0.9843\n",
            "6/10 * Epoch 6 (valid): _base/lr=5.000e-05 | _base/momentum=0.9000 | _timers/_fps=3319.0608 | _timers/batch_time=0.1447 | _timers/data_time=0.1284 | _timers/model_time=0.0162 | batch_consonant_recall=0.9737 | batch_grapheme_recall=0.8995 | batch_vowel_recall=0.9722 | consonant_recall=0.9724 | grapheme_recall=0.9263 | loss=0.3501 | tar=0.9501 | vowel_recall=0.9757\n",
            "[2020-01-31 16:51:03,885] \n",
            "7/10 * Epoch 7 (train): _base/lr=3.455e-05 | _base/momentum=0.9000 | _timers/_fps=2909.8192 | _timers/batch_time=0.0820 | _timers/data_time=0.0569 | _timers/model_time=0.0250 | batch_consonant_recall=0.9842 | batch_grapheme_recall=0.9415 | batch_vowel_recall=0.9875 | consonant_recall=0.9837 | grapheme_recall=0.9591 | loss=0.1731 | tar=0.9724 | vowel_recall=0.9880\n",
            "7/10 * Epoch 7 (valid): _base/lr=3.455e-05 | _base/momentum=0.9000 | _timers/_fps=2200.7693 | _timers/batch_time=0.1422 | _timers/data_time=0.1261 | _timers/model_time=0.0160 | batch_consonant_recall=0.9726 | batch_grapheme_recall=0.9034 | batch_vowel_recall=0.9765 | consonant_recall=0.9728 | grapheme_recall=0.9323 | loss=0.3361 | tar=0.9540 | vowel_recall=0.9788\n",
            "[2020-01-31 16:58:30,757] \n",
            "8/10 * Epoch 8 (train): _base/lr=2.061e-05 | _base/momentum=0.9000 | _timers/_fps=2701.0470 | _timers/batch_time=0.0885 | _timers/data_time=0.0626 | _timers/model_time=0.0258 | batch_consonant_recall=0.9876 | batch_grapheme_recall=0.9547 | batch_vowel_recall=0.9916 | consonant_recall=0.9873 | grapheme_recall=0.9683 | loss=0.1294 | tar=0.9788 | vowel_recall=0.9913\n",
            "8/10 * Epoch 8 (valid): _base/lr=2.061e-05 | _base/momentum=0.9000 | _timers/_fps=3041.5543 | _timers/batch_time=0.1480 | _timers/data_time=0.1317 | _timers/model_time=0.0163 | batch_consonant_recall=0.9739 | batch_grapheme_recall=0.9102 | batch_vowel_recall=0.9806 | consonant_recall=0.9740 | grapheme_recall=0.9365 | loss=0.3181 | tar=0.9572 | vowel_recall=0.9819\n",
            "[2020-01-31 17:05:54,923] \n",
            "9/10 * Epoch 9 (train): _base/lr=9.549e-06 | _base/momentum=0.9000 | _timers/_fps=2851.7966 | _timers/batch_time=0.0870 | _timers/data_time=0.0614 | _timers/model_time=0.0255 | batch_consonant_recall=0.9900 | batch_grapheme_recall=0.9654 | batch_vowel_recall=0.9925 | consonant_recall=0.9899 | grapheme_recall=0.9762 | loss=0.0991 | tar=0.9838 | vowel_recall=0.9931\n",
            "9/10 * Epoch 9 (valid): _base/lr=9.549e-06 | _base/momentum=0.9000 | _timers/_fps=2947.8965 | _timers/batch_time=0.1470 | _timers/data_time=0.1302 | _timers/model_time=0.0168 | batch_consonant_recall=0.9766 | batch_grapheme_recall=0.9154 | batch_vowel_recall=0.9778 | consonant_recall=0.9767 | grapheme_recall=0.9406 | loss=0.3123 | tar=0.9595 | vowel_recall=0.9800\n",
            "[2020-01-31 17:13:18,410] \n",
            "10/10 * Epoch 10 (train): _base/lr=2.447e-06 | _base/momentum=0.9000 | _timers/_fps=2792.3716 | _timers/batch_time=0.0864 | _timers/data_time=0.0610 | _timers/model_time=0.0253 | batch_consonant_recall=0.9917 | batch_grapheme_recall=0.9696 | batch_vowel_recall=0.9939 | consonant_recall=0.9914 | grapheme_recall=0.9786 | loss=0.0856 | tar=0.9856 | vowel_recall=0.9939\n",
            "10/10 * Epoch 10 (valid): _base/lr=2.447e-06 | _base/momentum=0.9000 | _timers/_fps=2946.2490 | _timers/batch_time=0.1465 | _timers/data_time=0.1298 | _timers/model_time=0.0166 | batch_consonant_recall=0.9791 | batch_grapheme_recall=0.9164 | batch_vowel_recall=0.9801 | consonant_recall=0.9800 | grapheme_recall=0.9416 | loss=0.3054 | tar=0.9614 | vowel_recall=0.9823\n",
            "Top best models:\n",
            "output/fold0/checkpoints/train.10.pth\t0.9614\n"
          ],
          "name": "stdout"
        }
      ]
    },
    {
      "cell_type": "markdown",
      "metadata": {
        "colab_type": "text",
        "id": "IhArTZXhDEdO"
      },
      "source": [
        "## Check performance"
      ]
    },
    {
      "cell_type": "code",
      "metadata": {
        "colab_type": "code",
        "id": "32PY32ziDEdP",
        "colab": {}
      },
      "source": [
        "def load_model(config: edict, bin_path: Union[str, Path]):\n",
        "    # config.model.pretrained = None\n",
        "    model = get_model(config)\n",
        "    state_dict = torch.load(bin_path, map_location=get_device())\n",
        "    if \"model_state_dict\" in state_dict.keys():\n",
        "        model.load_state_dict(state_dict[\"model_state_dict\"])\n",
        "    else:\n",
        "        model.load_state_dict(state_dict)\n",
        "    return model"
      ],
      "execution_count": 0,
      "outputs": []
    },
    {
      "cell_type": "code",
      "metadata": {
        "colab_type": "code",
        "id": "9_F9IDJdDEdS",
        "colab": {}
      },
      "source": [
        "def macro_average_recall(prediction: np.ndarray, df: pd.DataFrame):\n",
        "    grapheme = recall_score(\n",
        "        df[\"grapheme_root\"].values, prediction[:, 0], average=\"macro\")\n",
        "    vowel = recall_score(\n",
        "        df[\"vowel_diacritic\"].values, prediction[:, 1], average=\"macro\")\n",
        "    consonant = recall_score(\n",
        "        df[\"consonant_diacritic\"].values, prediction[:, 2], average=\"macro\")\n",
        "    return np.average([grapheme, vowel, consonant], weights=[2, 1, 1])"
      ],
      "execution_count": 0,
      "outputs": []
    },
    {
      "cell_type": "code",
      "metadata": {
        "colab_type": "code",
        "id": "XPVll_NsDEdV",
        "colab": {}
      },
      "source": [
        "def inference_loop(model: nn.Module,\n",
        "                   loader: torchdata.DataLoader,\n",
        "                   cls_levels: dict,\n",
        "                   loss_fn: Optional[nn.Module] = None,\n",
        "                   requires_soft=False):\n",
        "    n_grapheme = cls_levels[\"grapheme\"]\n",
        "    n_vowel = cls_levels[\"vowel\"]\n",
        "    n_consonant = cls_levels[\"consonant\"]\n",
        "\n",
        "    dataset_length = len(loader.dataset)\n",
        "    prediction = np.zeros((dataset_length, 3), dtype=np.uint8)\n",
        "    if requires_soft:\n",
        "        soft_prediction = np.zeros(\n",
        "            (dataset_length, n_grapheme + n_vowel + n_consonant),\n",
        "            dtype=np.float32)\n",
        "\n",
        "    batch_size = loader.batch_size\n",
        "    device = get_device()\n",
        "\n",
        "    avg_loss = 0.\n",
        "    model.eval()\n",
        "\n",
        "    targets: Optional[torch.Tensor] = None\n",
        "\n",
        "    for i, batch in enumerate(progress_bar(loader, leave=False)):\n",
        "        with torch.no_grad():\n",
        "            if isinstance(batch, dict):\n",
        "                images = batch[\"images\"].to(device)\n",
        "                targets = batch[\"targets\"].to(device)\n",
        "            else:\n",
        "                images = batch.to(device)\n",
        "                targets = None\n",
        "            pred = model(images).detach()\n",
        "            if loss_fn is not None and targets is not None:\n",
        "                avg_loss += loss_fn(\n",
        "                    pred, batch[\"targets\"].to(device)).item() / len(loader)\n",
        "            head = 0\n",
        "            tail = n_grapheme\n",
        "            pred_grapheme = torch.argmax(\n",
        "                pred[:, head:tail], dim=1).cpu().numpy()\n",
        "\n",
        "            head = tail\n",
        "            tail = head + n_vowel\n",
        "            pred_vowel = torch.argmax(pred[:, head:tail], dim=1).cpu().numpy()\n",
        "\n",
        "            head = tail\n",
        "            tail = head + n_consonant\n",
        "            pred_consonant = torch.argmax(\n",
        "                pred[:, head:tail], dim=1).cpu().numpy()\n",
        "\n",
        "            prediction[i * batch_size:(i + 1) * batch_size, 0] = pred_grapheme\n",
        "            prediction[i * batch_size:(i + 1) * batch_size, 1] = pred_vowel\n",
        "            prediction[i * batch_size:(i + 1) * batch_size, 2] = pred_consonant\n",
        "\n",
        "            if requires_soft:\n",
        "                head = 0\n",
        "                tail = n_grapheme\n",
        "                soft_prediction[i * batch_size:(i + 1) *\n",
        "                                batch_size, head:tail] = F.softmax(\n",
        "                                    pred[:, head:tail], dim=1).cpu().numpy()\n",
        "\n",
        "                head = tail\n",
        "                tail = head + n_vowel\n",
        "                soft_prediction[i * batch_size:(i + 1) *\n",
        "                                batch_size, head:tail] = F.softmax(\n",
        "                                    pred[:, head:tail], dim=1).cpu().numpy()\n",
        "\n",
        "                head = tail\n",
        "                tail = head + n_consonant\n",
        "                soft_prediction[i * batch_size:(i + 1) *\n",
        "                                batch_size, head:tail] = F.softmax(\n",
        "                                    pred[:, head:tail], dim=1).cpu().numpy()\n",
        "\n",
        "    return_dict = {\"prediction\": prediction, \"loss\": avg_loss}\n",
        "    if requires_soft:\n",
        "        return_dict[\"soft_prediction\"] = soft_prediction\n",
        "\n",
        "    return return_dict"
      ],
      "execution_count": 0,
      "outputs": []
    },
    {
      "cell_type": "code",
      "metadata": {
        "colab_type": "code",
        "id": "hPKIgJnMDEdY",
        "outputId": "02facde3-f1cc-4088-ed46-89beb85710fd",
        "colab": {
          "base_uri": "https://localhost:8080/",
          "height": 34
        }
      },
      "source": [
        "checkpoint_path = \"output/fold0/checkpoints/best.pth\"\n",
        "model = load_model(config, checkpoint_path)\n",
        "model.to(get_device())\n",
        "loader = data_loaders[\"valid\"]\n",
        "\n",
        "prediction = inference_loop(\n",
        "    model,\n",
        "    loader,\n",
        "    cls_levels,\n",
        "    criterion,\n",
        "    requires_soft=False)\n",
        "score = macro_average_recall(prediction[\"prediction\"], val_df)\n",
        "print(f\"Score: {score:.5f}\")"
      ],
      "execution_count": 33,
      "outputs": [
        {
          "output_type": "display_data",
          "data": {
            "text/html": [
              ""
            ],
            "text/plain": [
              "<IPython.core.display.HTML object>"
            ]
          },
          "metadata": {
            "tags": []
          }
        },
        {
          "output_type": "stream",
          "text": [
            "Score: 0.96138\n"
          ],
          "name": "stdout"
        }
      ]
    },
    {
      "cell_type": "code",
      "metadata": {
        "colab_type": "code",
        "id": "BF64LRYqK1l6",
        "colab": {}
      },
      "source": [
        "!cp output/fold0/checkpoints/best.pth /content/gdrive/My\\ Drive/kaggle-bengali/checkpoints/fold0/resnet34_10epoch_size128_scse.pth"
      ],
      "execution_count": 0,
      "outputs": []
    },
    {
      "cell_type": "code",
      "metadata": {
        "colab_type": "code",
        "id": "Tf7pT23OU1X1",
        "colab": {}
      },
      "source": [
        ""
      ],
      "execution_count": 0,
      "outputs": []
    }
  ]
}