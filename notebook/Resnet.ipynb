{
  "nbformat": 4,
  "nbformat_minor": 0,
  "metadata": {
    "accelerator": "GPU",
    "colab": {
      "name": "Resnet.ipynb",
      "provenance": [],
      "toc_visible": true,
      "include_colab_link": true
    },
    "kernelspec": {
      "display_name": "Python 3",
      "language": "python",
      "name": "python3"
    },
    "language_info": {
      "codemirror_mode": {
        "name": "ipython",
        "version": 3
      },
      "file_extension": ".py",
      "mimetype": "text/x-python",
      "name": "python",
      "nbconvert_exporter": "python",
      "pygments_lexer": "ipython3",
      "version": "3.6.6"
    }
  },
  "cells": [
    {
      "cell_type": "markdown",
      "metadata": {
        "id": "view-in-github",
        "colab_type": "text"
      },
      "source": [
        "<a href=\"https://colab.research.google.com/github/koukyo1994/kaggle-bengali-ai/blob/master/notebook/Resnet.ipynb\" target=\"_parent\"><img src=\"https://colab.research.google.com/assets/colab-badge.svg\" alt=\"Open In Colab\"/></a>"
      ]
    },
    {
      "cell_type": "markdown",
      "metadata": {
        "colab_type": "text",
        "id": "H-LYW6ekKQ-x"
      },
      "source": [
        "## Dependencies"
      ]
    },
    {
      "cell_type": "code",
      "metadata": {
        "colab_type": "code",
        "id": "QyICnC_QKQ-0",
        "colab": {}
      },
      "source": [
        "%%sh\n",
        "pip install albumentations==0.4.3 catalyst==20.1.1 easydict==1.9.0 >> /dev/null\n",
        "pip install efficientnet-pytorch==0.6.1 PyYAML==5.3 >> /dev/null\n",
        "pip install pretrainedmodels==0.7.4 >> /dev/null"
      ],
      "execution_count": 0,
      "outputs": []
    },
    {
      "cell_type": "markdown",
      "metadata": {
        "colab_type": "text",
        "id": "b2m_PlwpKQ-5"
      },
      "source": [
        "## Integration with Google Drive"
      ]
    },
    {
      "cell_type": "code",
      "metadata": {
        "colab_type": "code",
        "id": "jsPLSeVuKQ-6",
        "outputId": "34672596-7ab0-4f13-a796-ec6ed171a32a",
        "colab": {
          "base_uri": "https://localhost:8080/",
          "height": 122
        }
      },
      "source": [
        "from google.colab import drive\n",
        "drive.mount(\"/content/gdrive\")"
      ],
      "execution_count": 2,
      "outputs": [
        {
          "output_type": "stream",
          "text": [
            "Go to this URL in a browser: https://accounts.google.com/o/oauth2/auth?client_id=947318989803-6bn6qk8qdgf4n4g3pfee6491hc0brc4i.apps.googleusercontent.com&redirect_uri=urn%3aietf%3awg%3aoauth%3a2.0%3aoob&response_type=code&scope=email%20https%3a%2f%2fwww.googleapis.com%2fauth%2fdocs.test%20https%3a%2f%2fwww.googleapis.com%2fauth%2fdrive%20https%3a%2f%2fwww.googleapis.com%2fauth%2fdrive.photos.readonly%20https%3a%2f%2fwww.googleapis.com%2fauth%2fpeopleapi.readonly\n",
            "\n",
            "Enter your authorization code:\n",
            "··········\n",
            "Mounted at /content/gdrive\n"
          ],
          "name": "stdout"
        }
      ]
    },
    {
      "cell_type": "code",
      "metadata": {
        "colab_type": "code",
        "id": "a3FN8jiWKQ--",
        "colab": {}
      },
      "source": [
        "%%sh\n",
        "mkdir input\n",
        "cp -r /content/gdrive/My\\ Drive/kaggle-bengali ./input/bengaliai-cv19\n",
        "unzip -qq -d input/bengaliai-cv19/ input/bengaliai-cv19/train_images.zip\n",
        "unzip -qq -d input/bengaliai-cv19/ input/bengaliai-cv19/test_images.zip"
      ],
      "execution_count": 0,
      "outputs": []
    },
    {
      "cell_type": "markdown",
      "metadata": {
        "colab_type": "text",
        "id": "24Iv5BnEKQ_B"
      },
      "source": [
        "## Libraries"
      ]
    },
    {
      "cell_type": "code",
      "metadata": {
        "colab_type": "code",
        "id": "qYrCK0t6KQ_C",
        "outputId": "02ef95fc-1711-4f31-e089-19226dfce0fa",
        "colab": {
          "base_uri": "https://localhost:8080/",
          "height": 34
        }
      },
      "source": [
        "import albumentations as A\n",
        "import catalyst as ct\n",
        "import cv2\n",
        "import numpy as np\n",
        "import pandas as pd\n",
        "import pretrainedmodels\n",
        "import torch\n",
        "import torch.nn as nn\n",
        "import torch.nn.functional as F\n",
        "import torch.utils.data as torchdata\n",
        "import torchvision.models as models\n",
        "import yaml\n",
        "\n",
        "from pathlib import Path\n",
        "from typing import Tuple, Dict, Union, Optional, List\n",
        "\n",
        "from catalyst.dl import SupervisedRunner\n",
        "from catalyst.dl.core import Callback, CallbackOrder, RunnerState\n",
        "from catalyst.dl.callbacks import MixupCallback\n",
        "from catalyst.utils import get_device\n",
        "from easydict import EasyDict as edict\n",
        "from efficientnet_pytorch import EfficientNet\n",
        "from fastprogress import progress_bar\n",
        "from skimage.transform import AffineTransform, warp\n",
        "from sklearn.metrics import recall_score, confusion_matrix\n",
        "from sklearn.model_selection import KFold, train_test_split\n",
        "from torch.nn.parameter import Parameter\n",
        "from torch.optim import Adam, SGD\n",
        "from torch.optim.lr_scheduler import (ReduceLROnPlateau, \n",
        "                                      CosineAnnealingLR,\n",
        "                                      CosineAnnealingWarmRestarts)"
      ],
      "execution_count": 4,
      "outputs": [
        {
          "output_type": "stream",
          "text": [
            "alchemy not available, to install alchemy, run `pip install alchemy-catalyst`.\n"
          ],
          "name": "stderr"
        }
      ]
    },
    {
      "cell_type": "markdown",
      "metadata": {
        "colab_type": "text",
        "id": "tszhN7oGKQ_H"
      },
      "source": [
        "## Settings"
      ]
    },
    {
      "cell_type": "code",
      "metadata": {
        "colab_type": "code",
        "id": "dqfUxJd6KQ_I",
        "colab": {}
      },
      "source": [
        "i = 0\n",
        "trial = \"resnet34_fifth\""
      ],
      "execution_count": 0,
      "outputs": []
    },
    {
      "cell_type": "markdown",
      "metadata": {
        "colab_type": "text",
        "id": "dXUZcRAGKQ_L"
      },
      "source": [
        "## Config"
      ]
    },
    {
      "cell_type": "code",
      "metadata": {
        "colab_type": "code",
        "id": "S16TliO4KQ_M",
        "colab": {}
      },
      "source": [
        "conf_string = '''\n",
        "dataset:\n",
        "  train:\n",
        "    affine: True\n",
        "    morphology: False\n",
        "  val:\n",
        "    affine: False\n",
        "    morphology: False\n",
        "  test:\n",
        "    affine: False\n",
        "    morphology: False\n",
        "\n",
        "data:\n",
        "  train_df_path: input/bengaliai-cv19/train.csv\n",
        "  train_images_path: input/bengaliai-cv19/train_images\n",
        "  test_images_path: input/bengaliai-cv19/test_images\n",
        "  sample_submission_path: input/bengaliai-cv19/sample_submission.csv\n",
        "\n",
        "model:\n",
        "  model_name: resnet34\n",
        "  pretrained: True\n",
        "  num_classes: 186\n",
        "  head: scse\n",
        "  in_channels: 3\n",
        "\n",
        "train:\n",
        "  batch_size: 128\n",
        "  num_epochs: 30\n",
        "\n",
        "test:\n",
        "  batch_size: 128\n",
        "\n",
        "loss:\n",
        "  name: cross_entropy\n",
        "  params:\n",
        "    n_grapheme: 168\n",
        "    n_vowel: 11\n",
        "    n_consonant: 7\n",
        "\n",
        "optimizer:\n",
        "  name: Adam\n",
        "  params:\n",
        "    lr: 0.0001\n",
        "\n",
        "scheduler:\n",
        "  name: cosine\n",
        "  params:\n",
        "    T_max: 10\n",
        "\n",
        "transforms:\n",
        "  train:\n",
        "    Noise: False\n",
        "    Contrast: False\n",
        "    Rotate: True\n",
        "    RandomScale: True\n",
        "    Cutout:\n",
        "      num_holes: 0\n",
        "  val:\n",
        "    Noise: False\n",
        "    Contrast: False\n",
        "    Rotate: False\n",
        "    RandomScale: False\n",
        "    Cutout:\n",
        "      num_holes: 0\n",
        "  test:\n",
        "    Noise: False\n",
        "    Contrast: False\n",
        "    Rotate: False\n",
        "    RandomScale: False\n",
        "    Cutout:\n",
        "      num_holes: 0\n",
        "\n",
        "val:\n",
        "  name: kfold\n",
        "  params:\n",
        "    random_state: 42\n",
        "    n_splits: 5\n",
        "\n",
        "callbacks:\n",
        "  - AverageRecall:\n",
        "      index: 0\n",
        "      offset: 0\n",
        "      n_classes: 168\n",
        "      prefix: grapheme_recall\n",
        "      loss_type: cross_entroy\n",
        "  - AverageRecall:\n",
        "      index: 1\n",
        "      offset: 168\n",
        "      n_classes: 11\n",
        "      prefix: vowel_recall\n",
        "      loss_type: cross_entropy\n",
        "  - AverageRecall:\n",
        "      index: 2\n",
        "      offset: 179\n",
        "      n_classes: 7\n",
        "      prefix: consonant_recall\n",
        "      loss_type: cross_entropy\n",
        "  - TotalAverageRecall:\n",
        "      loss_type: cross_entropy\n",
        "  - SaveWeightsCallback:\n",
        "      to: /content/gdrive/My Drive/kaggle-bengali/checkpoints\n",
        "\n",
        "log_dir: log/\n",
        "num_workers: 2\n",
        "seed: 1213\n",
        "img_size: 224\n",
        "mixup: False\n",
        "'''"
      ],
      "execution_count": 0,
      "outputs": []
    },
    {
      "cell_type": "code",
      "metadata": {
        "colab_type": "code",
        "id": "piePmxjjKQ_P",
        "colab": {}
      },
      "source": [
        "def _get_default():\n",
        "    cfg = edict()\n",
        "\n",
        "    # dataset\n",
        "    cfg.dataset = edict()\n",
        "    cfg.dataset.train = edict()\n",
        "    cfg.dataset.val = edict()\n",
        "    cfg.dataset.test = edict()\n",
        "    cfg.dataset.train.affine = False\n",
        "    cfg.dataset.train.morphology = False\n",
        "    cfg.dataset.val.affine = False\n",
        "    cfg.dataset.val.morphology = False\n",
        "    cfg.dataset.test.affine = False\n",
        "    cfg.dataset.test.morphology = False\n",
        "\n",
        "    # dataset\n",
        "    cfg.data = edict()\n",
        "\n",
        "    # model\n",
        "    cfg.model = edict()\n",
        "    cfg.model.model_name = \"resnet18\"\n",
        "    cfg.model.num_classes = 186\n",
        "    cfg.model.pretrained = True\n",
        "    cfg.model.head = \"linear\"\n",
        "    cfg.model.in_channels = 3\n",
        "\n",
        "    # train\n",
        "    cfg.train = edict()\n",
        "\n",
        "    # test\n",
        "    cfg.test = edict()\n",
        "\n",
        "    # loss\n",
        "    cfg.loss = edict()\n",
        "    cfg.loss.params = edict()\n",
        "\n",
        "    # optimizer\n",
        "    cfg.optimizer = edict()\n",
        "    cfg.optimizer.params = edict()\n",
        "\n",
        "    # scheduler\n",
        "    cfg.scheduler = edict()\n",
        "    cfg.scheduler.params = edict()\n",
        "\n",
        "    # transforms:\n",
        "    cfg.transforms = edict()\n",
        "    cfg.transforms.train = edict()\n",
        "    cfg.transforms.train.HorizontalFlip = False\n",
        "    cfg.transforms.train.VerticalFlip = False\n",
        "    cfg.transforms.train.Noise = False\n",
        "    cfg.transforms.train.Contrast = False\n",
        "    cfg.transforms.train.Rotate = False\n",
        "    cfg.transforms.train.RandomScale = False\n",
        "    cfg.transforms.train.Cutout = edict()\n",
        "    cfg.transforms.train.Cutout.num_holes = 0\n",
        "    cfg.transforms.val = edict()\n",
        "    cfg.transforms.val.HorizontalFlip = False\n",
        "    cfg.transforms.val.VerticalFlip = False\n",
        "    cfg.transforms.val.Noise = False\n",
        "    cfg.transforms.val.Contrast = False\n",
        "    cfg.transforms.val.Rotate = False\n",
        "    cfg.transforms.val.RandomScale = False\n",
        "    cfg.transforms.val.Cutout = edict()\n",
        "    cfg.transforms.val.Cutout.num_holes = 0\n",
        "    cfg.transforms.test = edict()\n",
        "    cfg.transforms.test.HorizontalFlip = False\n",
        "    cfg.transforms.test.VerticalFlip = False\n",
        "    cfg.transforms.test.Noise = False\n",
        "    cfg.transforms.test.Contrast = False\n",
        "    cfg.transforms.test.Rotate = False\n",
        "    cfg.transforms.test.RandomScale = False\n",
        "    cfg.transforms.test.Cutout = edict()\n",
        "    cfg.transforms.test.Cutout.num_holes = 0\n",
        "    cfg.transforms.mean = [0.485, 0.456, 0.406]\n",
        "    cfg.transforms.std = [0.229, 0.224, 0.225]\n",
        "\n",
        "    # val\n",
        "    cfg.val = edict()\n",
        "    cfg.val.params = edict()\n",
        "\n",
        "    cfg.callbacks = []\n",
        "\n",
        "    return cfg\n",
        "\n",
        "\n",
        "def _merge_config(src: edict, dst: edict):\n",
        "    if not isinstance(src, edict):\n",
        "        return\n",
        "    for k, v in src.items():\n",
        "        if isinstance(v, edict):\n",
        "            _merge_config(src[k], dst[k])\n",
        "        else:\n",
        "            dst[k] = v"
      ],
      "execution_count": 0,
      "outputs": []
    },
    {
      "cell_type": "code",
      "metadata": {
        "colab_type": "code",
        "id": "DOq2Hol4KQ_S",
        "colab": {}
      },
      "source": [
        "cfg = edict(yaml.load(conf_string, Loader=yaml.SafeLoader))\n",
        "config = _get_default()\n",
        "_merge_config(cfg, config)"
      ],
      "execution_count": 0,
      "outputs": []
    },
    {
      "cell_type": "markdown",
      "metadata": {
        "colab_type": "text",
        "id": "iinSUuVEKQ_V"
      },
      "source": [
        "## Environmental settings"
      ]
    },
    {
      "cell_type": "code",
      "metadata": {
        "colab_type": "code",
        "id": "Mo5V5VT5KQ_W",
        "outputId": "6eb4cf7c-c283-4c33-873a-3eeb716c4ff5",
        "colab": {
          "base_uri": "https://localhost:8080/",
          "height": 63
        }
      },
      "source": [
        "ct.utils.set_global_seed(config.seed)\n",
        "ct.utils.prepare_cudnn(deterministic=True)"
      ],
      "execution_count": 9,
      "outputs": [
        {
          "output_type": "display_data",
          "data": {
            "text/html": [
              "<p style=\"color: red;\">\n",
              "The default version of TensorFlow in Colab will soon switch to TensorFlow 2.x.<br>\n",
              "We recommend you <a href=\"https://www.tensorflow.org/guide/migrate\" target=\"_blank\">upgrade</a> now \n",
              "or ensure your notebook will continue to use TensorFlow 1.x via the <code>%tensorflow_version 1.x</code> magic:\n",
              "<a href=\"https://colab.research.google.com/notebooks/tensorflow_version.ipynb\" target=\"_blank\">more info</a>.</p>\n"
            ],
            "text/plain": [
              "<IPython.core.display.HTML object>"
            ]
          },
          "metadata": {
            "tags": []
          }
        }
      ]
    },
    {
      "cell_type": "code",
      "metadata": {
        "colab_type": "code",
        "id": "EHv73-KuKQ_Y",
        "colab": {}
      },
      "source": [
        "output_base_dir = Path(\"output\")\n",
        "output_base_dir.mkdir(exist_ok=True, parents=True)\n",
        "\n",
        "train_images_path = Path(config.data.train_images_path)"
      ],
      "execution_count": 0,
      "outputs": []
    },
    {
      "cell_type": "markdown",
      "metadata": {
        "colab_type": "text",
        "id": "nowCCU9GKQ_b",
        "toc-hr-collapsed": true
      },
      "source": [
        "## Data and utilities preparation"
      ]
    },
    {
      "cell_type": "markdown",
      "metadata": {
        "colab_type": "text",
        "id": "hAy9mKC1KQ_c"
      },
      "source": [
        "### validation utils"
      ]
    },
    {
      "cell_type": "code",
      "metadata": {
        "colab_type": "code",
        "id": "38wcJQJEKQ_c",
        "colab": {}
      },
      "source": [
        "def no_fold(df: pd.DataFrame,\n",
        "            config: edict) -> List[Tuple[np.ndarray, np.ndarray]]:\n",
        "    params = config.val.params\n",
        "    idx = np.arange(len(df))\n",
        "    trn_idx, val_idx = train_test_split(idx, **params)\n",
        "    return [(trn_idx, val_idx)]\n",
        "\n",
        "\n",
        "def kfold(df: pd.DataFrame,\n",
        "          config: edict) -> List[Tuple[np.ndarray, np.ndarray]]:\n",
        "    params = config.val.params\n",
        "    kf = KFold(shuffle=True, **params)\n",
        "    splits = list(kf.split(df))\n",
        "    return splits\n",
        "\n",
        "\n",
        "def get_validation(df: pd.DataFrame,\n",
        "                   config: edict) -> List[Tuple[np.ndarray, np.ndarray]]:\n",
        "    name: str = config.val.name\n",
        "\n",
        "    func = globals().get(name)\n",
        "    if func is None:\n",
        "        raise NotImplementedError\n",
        "\n",
        "    return func(df, config)"
      ],
      "execution_count": 0,
      "outputs": []
    },
    {
      "cell_type": "markdown",
      "metadata": {
        "colab_type": "text",
        "id": "xE5iD2HAKQ_f"
      },
      "source": [
        "### transforms"
      ]
    },
    {
      "cell_type": "code",
      "metadata": {
        "colab_type": "code",
        "id": "qvCvJ5ScKQ_f",
        "colab": {}
      },
      "source": [
        "def get_transforms(config: edict, phase: str = \"train\"):\n",
        "    assert phase in [\"train\", \"valid\", \"test\"]\n",
        "    if phase == \"train\":\n",
        "        cfg = config.transforms.train\n",
        "    elif phase == \"valid\":\n",
        "        cfg = config.transforms.val\n",
        "    elif phase == \"test\":\n",
        "        cfg = config.transforms.test\n",
        "    list_transforms = []\n",
        "    if cfg.HorizontalFlip:\n",
        "        list_transforms.append(A.HorizontalFrip())\n",
        "    if cfg.VerticalFlip:\n",
        "        list_transforms.append(A.VerticalFlip())\n",
        "    if cfg.Rotate:\n",
        "        list_transforms.append(A.Rotate(limit=15))\n",
        "    if cfg.RandomScale:\n",
        "        list_transforms.append(A.RandomScale())\n",
        "    if cfg.Noise:\n",
        "        list_transforms.append(\n",
        "            A.OneOf(\n",
        "                [A.GaussNoise(), A.IAAAdditiveGaussianNoise()], p=0.5))\n",
        "    if cfg.Contrast:\n",
        "        list_transforms.append(\n",
        "            A.OneOf(\n",
        "                [A.RandomContrast(0.5),\n",
        "                 A.RandomGamma(),\n",
        "                 A.RandomBrightness()],\n",
        "                p=0.5))\n",
        "    if cfg.Cutout.num_holes > 0:\n",
        "        list_transforms.append(A.Cutout(**config.Cutout))\n",
        "\n",
        "    list_transforms.append(\n",
        "        A.Normalize(\n",
        "            mean=config.transforms.mean,\n",
        "            std=config.transforms.std,\n",
        "            p=1,\n",
        "            always_apply=True))\n",
        "\n",
        "    return A.Compose(list_transforms, p=1.0)"
      ],
      "execution_count": 0,
      "outputs": []
    },
    {
      "cell_type": "markdown",
      "metadata": {
        "colab_type": "text",
        "id": "5mQCOAtuLtV3"
      },
      "source": [
        "### Data Loading"
      ]
    },
    {
      "cell_type": "code",
      "metadata": {
        "colab_type": "code",
        "id": "GdTnGd0aLu-8",
        "colab": {}
      },
      "source": [
        "df = pd.read_csv(config.data.train_df_path)\n",
        "splits = get_validation(df, config)\n",
        "\n",
        "transforms_dict = {\n",
        "    phase: get_transforms(config, phase)\n",
        "    for phase in [\"train\", \"valid\"]\n",
        "}\n",
        "\n",
        "cls_levels = {\n",
        "    \"grapheme\": df.grapheme_root.nunique(),\n",
        "    \"vowel\": df.vowel_diacritic.nunique(),\n",
        "    \"consonant\": df.consonant_diacritic.nunique()\n",
        "}"
      ],
      "execution_count": 0,
      "outputs": []
    },
    {
      "cell_type": "markdown",
      "metadata": {
        "colab_type": "text",
        "id": "k3X2245OKQ_j"
      },
      "source": [
        "## Dataset and DataLoader"
      ]
    },
    {
      "cell_type": "code",
      "metadata": {
        "colab_type": "code",
        "id": "Hj6MHrqXKQ_j",
        "colab": {}
      },
      "source": [
        "class BaseDataset(torchdata.Dataset):\n",
        "    def __init__(self, image_dir: Path, df: pd.DataFrame, transforms,\n",
        "                 size: Tuple[int, int]):\n",
        "        self.df = df\n",
        "        self.image_dir = image_dir\n",
        "        self.transforms = transforms\n",
        "        self.size = size\n",
        "\n",
        "    def __len__(self):\n",
        "        return len(self.df)\n",
        "\n",
        "    def __getitem__(self, idx):\n",
        "        image_id = self.df.loc[idx, \"image_id\"]\n",
        "        image_path = self.image_dir / f\"{image_id}.png\"\n",
        "\n",
        "        image = cv2.imread(str(image_path))\n",
        "        longer_side = image.shape[1]\n",
        "        if image.ndim == 2:\n",
        "            new_image = np.ones(\n",
        "                (longer_side, longer_side), dtype=np.uint8) * 255\n",
        "        else:\n",
        "            new_image = np.ones(\n",
        "                (longer_side, longer_side, 3), dtype=np.uint8) * 255\n",
        "        offset = np.random.randint(0, longer_side - image.shape[0])\n",
        "        new_image[offset:offset + image.shape[0], :] = image\n",
        "\n",
        "        if self.transforms is not None:\n",
        "            image = self.transforms(image=new_image)[\"image\"]\n",
        "        image = cv2.resize(image, self.size)\n",
        "        if image.shape[2] == 3:\n",
        "            image = np.moveaxis(image, -1, 0)\n",
        "        grapheme = self.df.loc[idx, \"grapheme_root\"]\n",
        "        vowel = self.df.loc[idx, \"vowel_diacritic\"]\n",
        "        consonant = self.df.loc[idx, \"consonant_diacritic\"]\n",
        "        label = np.zeros(3, dtype=int)\n",
        "        label[0] = grapheme\n",
        "        label[1] = vowel\n",
        "        label[2] = consonant\n",
        "        return {\"images\": image, \"targets\": label}\n",
        "    \n",
        "    \n",
        "def get_base_loader(df: pd.DataFrame,\n",
        "                    image_dir: Path,\n",
        "                    phase: str = \"train\",\n",
        "                    size: Tuple[int, int] = (128, 128),\n",
        "                    batch_size=256,\n",
        "                    num_workers=2,\n",
        "                    transforms=None):\n",
        "    assert phase in [\"train\", \"valid\"]\n",
        "    if phase == \"train\":\n",
        "        is_shuffle = True\n",
        "        drop_last = True\n",
        "    else:\n",
        "        is_shuffle = False\n",
        "        drop_last = False\n",
        "\n",
        "    dataset = BaseDataset(  # type: ignore\n",
        "        image_dir, df, transforms, size)\n",
        "    return torchdata.DataLoader(\n",
        "        dataset,\n",
        "        batch_size=batch_size,\n",
        "        shuffle=is_shuffle,\n",
        "        num_workers=num_workers,\n",
        "        pin_memory=True,\n",
        "        drop_last=drop_last)"
      ],
      "execution_count": 0,
      "outputs": []
    },
    {
      "cell_type": "markdown",
      "metadata": {
        "colab_type": "text",
        "id": "yc6F3Pu5KQ_m",
        "toc-hr-collapsed": true
      },
      "source": [
        "## Model and Loss"
      ]
    },
    {
      "cell_type": "markdown",
      "metadata": {
        "colab_type": "text",
        "id": "PjBhyu98KQ_n"
      },
      "source": [
        "### Model"
      ]
    },
    {
      "cell_type": "code",
      "metadata": {
        "colab_type": "code",
        "id": "wABhZZ9LKQ_o",
        "colab": {}
      },
      "source": [
        "def gem(x: torch.Tensor, p=3, eps=1e-6):\n",
        "    return F.avg_pool2d(x.clamp(min=eps).pow(p),\n",
        "                        (x.size(-2), x.size(-1))).pow(1. / p)\n",
        "\n",
        "\n",
        "def mish(input):\n",
        "    '''\n",
        "    Applies the mish function element-wise:\n",
        "    mish(x) = x * tanh(softplus(x)) = x * tanh(ln(1 + exp(x)))\n",
        "    See additional documentation for mish class.\n",
        "    '''\n",
        "    return input * torch.tanh(F.softplus(input))\n",
        "\n",
        "\n",
        "class Mish(nn.Module):\n",
        "    '''\n",
        "    Applies the mish function element-wise:\n",
        "    mish(x) = x * tanh(softplus(x)) = x * tanh(ln(1 + exp(x)))\n",
        "    Shape:\n",
        "        - Input: (N, *) where * means, any number of additional\n",
        "          dimensions\n",
        "        - Output: (N, *), same shape as the input\n",
        "    Examples:\n",
        "        >>> m = Mish()\n",
        "        >>> input = torch.randn(2)\n",
        "        >>> output = m(input)\n",
        "    '''\n",
        "\n",
        "    def __init__(self):\n",
        "        '''\n",
        "        Init method.\n",
        "        '''\n",
        "        super().__init__()\n",
        "\n",
        "    def forward(self, input):\n",
        "        '''\n",
        "        Forward pass of the function.\n",
        "        '''\n",
        "        return mish(input)\n",
        "\n",
        "\n",
        "class GeM(nn.Module):\n",
        "    def __init__(self, p=3, eps=1e-6):\n",
        "        super(GeM, self).__init__()\n",
        "        self.p = Parameter(torch.ones(1) * p)\n",
        "        self.eps = eps\n",
        "\n",
        "    def forward(self, x):\n",
        "        return gem(x, p=self.p, eps=self.eps).squeeze(-1).squeeze(-1)\n",
        "\n",
        "    def __repr__(self):\n",
        "        return self.__class__.__name__ + '(' + 'p=' + '{:.4f}'.format(\n",
        "            self.p.data.tolist()[0]) + ', ' + 'eps=' + str(self.eps) + ')'\n",
        "\n",
        "\n",
        "class SpatialAttention2d(nn.Module):\n",
        "    def __init__(self, channel):\n",
        "        super(SpatialAttention2d, self).__init__()\n",
        "        self.squeeze = nn.Conv2d(channel, 1, kernel_size=1, bias=False)\n",
        "        self.sigmoid = nn.Sigmoid()\n",
        "\n",
        "    def forward(self, x):\n",
        "        z = self.squeeze(x)\n",
        "        z = self.sigmoid(z)\n",
        "        return x * z\n",
        "\n",
        "\n",
        "class GAB(nn.Module):\n",
        "    def __init__(self, input_dim, reduction=4):\n",
        "        super(GAB, self).__init__()\n",
        "        self.global_avgpool = nn.AdaptiveAvgPool2d(1)\n",
        "        self.conv1 = nn.Conv2d(\n",
        "            input_dim, input_dim // reduction, kernel_size=1, stride=1)\n",
        "        self.conv2 = nn.Conv2d(\n",
        "            input_dim // reduction, input_dim, kernel_size=1, stride=1)\n",
        "        self.relu = nn.ReLU(inplace=True)\n",
        "        self.sigmoid = nn.Sigmoid()\n",
        "\n",
        "    def forward(self, x):\n",
        "        z = self.global_avgpool(x)\n",
        "        z = self.relu(self.conv1(z))\n",
        "        z = self.sigmoid(self.conv2(z))\n",
        "        return x * z\n",
        "\n",
        "\n",
        "class SCse(nn.Module):\n",
        "    def __init__(self, dim):\n",
        "        super(SCse, self).__init__()\n",
        "        self.satt = SpatialAttention2d(dim)\n",
        "        self.catt = GAB(dim)\n",
        "\n",
        "    def forward(self, x):\n",
        "        return self.satt(x) + self.catt(x)\n",
        "\n",
        "\n",
        "class Resnet(nn.Module):\n",
        "    def __init__(self,\n",
        "                 model_name: str,\n",
        "                 num_classes: int,\n",
        "                 pretrained=False,\n",
        "                 head=\"linear\",\n",
        "                 in_channels=3):\n",
        "        super().__init__()\n",
        "        self.num_classes = num_classes\n",
        "        self.base = getattr(models, model_name)(pretrained=pretrained)\n",
        "        self.head = head\n",
        "        assert in_channels in [1, 3]\n",
        "        assert head in [\"linear\", \"custom\", \"scse\"]\n",
        "        if in_channels == 1:\n",
        "            if pretrained:\n",
        "                weight = self.base.conv1.weight\n",
        "                self.base.conv1 = nn.Conv2d(\n",
        "                    1, 64, kernel_size=7, stride=2, padding=3, bias=False)\n",
        "                self.base.conv1.weight = nn.Parameter(\n",
        "                    data=torch.mean(weight, dim=1, keepdim=True),\n",
        "                    requires_grad=True)\n",
        "            else:\n",
        "                self.base.conv1 = nn.Conv2d(\n",
        "                    1, 64, kernel_size=7, stride=2, padding=3, bias=False)\n",
        "        if head == \"linear\":\n",
        "            n_in_features = self.base.fc.in_features\n",
        "            self.base.fc = nn.Linear(n_in_features, self.num_classes)\n",
        "        elif head == \"custom\":\n",
        "            n_in_features = self.base.fc.in_features\n",
        "            arch = list(self.base.children())\n",
        "            for _ in range(2):\n",
        "                arch.pop()\n",
        "            self.base = nn.Sequential(*arch)\n",
        "            self.grapheme_head = nn.Sequential(\n",
        "                Mish(), nn.Conv2d(n_in_features, 512, kernel_size=3),\n",
        "                nn.BatchNorm2d(512), GeM(), nn.Linear(512, 168))\n",
        "            self.vowel_head = nn.Sequential(\n",
        "                Mish(), nn.Conv2d(n_in_features, 512, kernel_size=3),\n",
        "                nn.BatchNorm2d(512), GeM(), nn.Linear(512, 11))\n",
        "            self.consonant_head = nn.Sequential(\n",
        "                Mish(), nn.Conv2d(n_in_features, 512, kernel_size=3),\n",
        "                nn.BatchNorm2d(512), GeM(), nn.Linear(512, 7))\n",
        "        elif head == \"scse\":\n",
        "            n_in_features = self.base.fc.in_features\n",
        "            arch = list(self.base.children())\n",
        "            for _ in range(2):\n",
        "                arch.pop()\n",
        "            self.base = nn.Sequential(*arch)\n",
        "            self.grapheme_head = nn.Sequential(\n",
        "                SCse(n_in_features), Mish(), nn.BatchNorm2d(512), GeM(),\n",
        "                nn.Dropout(0.3), nn.Linear(512, 168))\n",
        "            self.vowel_head = nn.Sequential(\n",
        "                SCse(n_in_features), Mish(), nn.BatchNorm2d(512), GeM(),\n",
        "                nn.Dropout(0.3), nn.Linear(512, 11))\n",
        "            self.consonant_head = nn.Sequential(\n",
        "                SCse(n_in_features), Mish(), nn.BatchNorm2d(512), GeM(),\n",
        "                nn.Dropout(0.3), nn.Linear(512, 7))\n",
        "        else:\n",
        "            raise NotImplementedError\n",
        "\n",
        "    def forward(self, x):\n",
        "        if self.head == \"linear\":\n",
        "            return self.base(x)\n",
        "        elif self.head == \"custom\":\n",
        "            x = self.base(x)\n",
        "            grapheme = self.grapheme_head(x)\n",
        "            vowel = self.vowel_head(x)\n",
        "            consonant = self.consonant_head(x)\n",
        "            return torch.cat([grapheme, vowel, consonant], dim=1)\n",
        "        elif self.head == \"scse\":\n",
        "            x = self.base(x)\n",
        "            grapheme = self.grapheme_head(x)\n",
        "            vowel = self.vowel_head(x)\n",
        "            consonant = self.consonant_head(x)\n",
        "            return torch.cat([grapheme, vowel, consonant], dim=1)\n",
        "        else:\n",
        "            raise NotImplementedError\n",
        "\n",
        "\n",
        "def get_model(config: edict):\n",
        "    params = config.model\n",
        "    if \"resnet\" in params.model_name:\n",
        "        return Resnet(**params)\n",
        "    else:\n",
        "        raise NotImplementedError"
      ],
      "execution_count": 0,
      "outputs": []
    },
    {
      "cell_type": "markdown",
      "metadata": {
        "colab_type": "text",
        "id": "-IPNqFE5KQ_q"
      },
      "source": [
        "### Loss"
      ]
    },
    {
      "cell_type": "code",
      "metadata": {
        "colab_type": "code",
        "id": "lXKZUtQdKQ_r",
        "colab": {}
      },
      "source": [
        "class BengaliCrossEntropyLoss(nn.Module):\n",
        "    def __init__(self, n_grapheme: int, n_vowel: int, n_consonant: int):\n",
        "        super().__init__()\n",
        "        self.n_grapheme = n_grapheme\n",
        "        self.n_vowel = n_vowel\n",
        "        self.n_consonant = n_consonant\n",
        "        self.cross_entropy = nn.CrossEntropyLoss()\n",
        "\n",
        "    def forward(self, pred, true):\n",
        "        head = 0\n",
        "        tail = self.n_grapheme\n",
        "        grapheme_pred = pred[:, head:tail]\n",
        "        grapheme_true = true[:, 0]\n",
        "\n",
        "        head = tail\n",
        "        tail = head + self.n_vowel\n",
        "        vowel_pred = pred[:, head:tail]\n",
        "        vowel_true = true[:, 1]\n",
        "\n",
        "        head = tail\n",
        "        tail = head + self.n_consonant\n",
        "        consonant_pred = pred[:, head:tail]\n",
        "        consonant_true = true[:, 2]\n",
        "\n",
        "        return self.cross_entropy(grapheme_pred, grapheme_true) + \\\n",
        "            self.cross_entropy(vowel_pred, vowel_true) + \\\n",
        "            self.cross_entropy(consonant_pred, consonant_true)\n",
        "\n",
        "\n",
        "class BengaliBCELoss(nn.Module):\n",
        "    def __init__(self, n_grapheme: int, n_vowel: int, n_consonant: int):\n",
        "        super().__init__()\n",
        "        self.n_grapheme = n_grapheme\n",
        "        self.n_vowel = n_vowel\n",
        "        self.n_consonant = n_consonant\n",
        "        self.bce = nn.BCEWithLogitsLoss()\n",
        "\n",
        "    def forward(self, pred, true):\n",
        "        head = 0\n",
        "        tail = self.n_grapheme\n",
        "        grapheme_pred = pred[:, head:tail]\n",
        "        grapheme_true = true[:, head:tail]\n",
        "\n",
        "        head = tail\n",
        "        tail = head + self.n_vowel\n",
        "        vowel_pred = pred[:, head:tail]\n",
        "        vowel_true = true[:, head:tail]\n",
        "\n",
        "        head = tail\n",
        "        tail = head + self.n_consonant\n",
        "        consonant_pred = pred[:, head:tail]\n",
        "        consonant_true = true[:, head:tail]\n",
        "\n",
        "        return self.bce(grapheme_pred, grapheme_true) + \\\n",
        "            self.bce(vowel_pred, vowel_true) + \\\n",
        "            self.bce(consonant_pred, consonant_true)\n",
        "\n",
        "\n",
        "def get_loss(config: edict):\n",
        "    name = config.loss.name\n",
        "    params = config.loss.params\n",
        "    if name == \"bce\":\n",
        "        criterion = BengaliBCELoss(**params)\n",
        "    elif name == \"cross_entropy\":\n",
        "        criterion = BengaliCrossEntropyLoss(**params)  # type: ignore\n",
        "    else:\n",
        "        raise NotImplementedError\n",
        "    return criterion"
      ],
      "execution_count": 0,
      "outputs": []
    },
    {
      "cell_type": "markdown",
      "metadata": {
        "colab_type": "text",
        "id": "W4aJX5V_KQ_t",
        "toc-hr-collapsed": true
      },
      "source": [
        "## Optimizer and Scheduler"
      ]
    },
    {
      "cell_type": "markdown",
      "metadata": {
        "colab_type": "text",
        "id": "thU1KR2NKQ_u"
      },
      "source": [
        "### Optimizer"
      ]
    },
    {
      "cell_type": "code",
      "metadata": {
        "colab_type": "code",
        "id": "fWo_pBvzKQ_u",
        "colab": {}
      },
      "source": [
        "Optimizer = Union[Adam, SGD]\n",
        "\n",
        "\n",
        "def get_optimizer(model, config: edict) -> Optimizer:\n",
        "    name = config.optimizer.name\n",
        "    params = config.optimizer.params\n",
        "    if name == \"Adam\":\n",
        "        optimizer = Adam(model.parameters(), **params)\n",
        "    elif name == \"SGD\":\n",
        "        optimizer = Adam(model.parameters(), **params)\n",
        "    else:\n",
        "        raise NotImplementedError\n",
        "    return optimizer"
      ],
      "execution_count": 0,
      "outputs": []
    },
    {
      "cell_type": "markdown",
      "metadata": {
        "colab_type": "text",
        "id": "FmA47o80KQ_z"
      },
      "source": [
        "### Scheduler"
      ]
    },
    {
      "cell_type": "code",
      "metadata": {
        "colab_type": "code",
        "id": "DA7gtPiyKQ_0",
        "colab": {}
      },
      "source": [
        "Scheduler = Optional[\n",
        "    Union[ReduceLROnPlateau, CosineAnnealingLR, CosineAnnealingWarmRestarts]]\n",
        "\n",
        "\n",
        "def get_scheduler(optimizer, config: edict) -> Scheduler:\n",
        "    params = config.scheduler.params\n",
        "    name = config.scheduler.name\n",
        "    scheduler: Scheduler = None\n",
        "    if name == \"plateau\":\n",
        "        scheduler = ReduceLROnPlateau(optimizer, **params)\n",
        "    elif name == \"cosine\":\n",
        "        scheduler = CosineAnnealingLR(optimizer, **params)\n",
        "    elif name == \"cosine_warmup\":\n",
        "        scheduler = CosineAnnealingWarmRestarts(optimizer, **params)\n",
        "\n",
        "    return scheduler"
      ],
      "execution_count": 0,
      "outputs": []
    },
    {
      "cell_type": "markdown",
      "metadata": {
        "colab_type": "text",
        "id": "YB5qDnQIKQ_2"
      },
      "source": [
        "## Callbacks"
      ]
    },
    {
      "cell_type": "code",
      "metadata": {
        "colab_type": "code",
        "id": "9IwyscXBKQ_3",
        "colab": {}
      },
      "source": [
        "class AverageRecall(Callback):\n",
        "    def __init__(self,\n",
        "                 index: int,\n",
        "                 offset: int,\n",
        "                 n_classes: int,\n",
        "                 prefix: str,\n",
        "                 loss_type: str = \"bce\",\n",
        "                 output_key: str = \"logits\",\n",
        "                 target_key: str = \"targets\"):\n",
        "        self.index = index\n",
        "        self.offset = offset\n",
        "        self.n_classes = n_classes\n",
        "        self.prefix = prefix\n",
        "        self.loss_type = loss_type\n",
        "        self.output_key = output_key\n",
        "        self.target_key = target_key\n",
        "        self.recall = 0.0\n",
        "        super().__init__(CallbackOrder.Metric)\n",
        "\n",
        "    def on_loader_start(self, state: RunnerState):\n",
        "        self.prediction: List[int] = []\n",
        "        self.target: List[int] = []\n",
        "\n",
        "    def on_batch_end(self, state: RunnerState):\n",
        "        targ = state.input[self.target_key].detach()\n",
        "        out = state.output[self.output_key].detach()\n",
        "        head = self.offset\n",
        "        tail = self.offset + self.n_classes\n",
        "        if self.loss_type == \"bce\":\n",
        "            pred_np = torch.argmax(\n",
        "                torch.sigmoid(out[:, head:tail]), dim=1).cpu().numpy()\n",
        "            target_np = torch.argmax(targ[:, head:tail], dim=1).cpu().numpy()\n",
        "        else:\n",
        "            pred_np = torch.argmax(out[:, head:tail], dim=1).cpu().numpy()\n",
        "            target_np = targ[:, self.index].cpu().numpy()\n",
        "        self.prediction.extend(pred_np)\n",
        "        self.target.extend(target_np)\n",
        "        score = recall_score(\n",
        "            target_np, pred_np, average=\"macro\", zero_division=0)\n",
        "        state.metrics.add_batch_value(name=\"batch_\" + self.prefix, value=score)\n",
        "\n",
        "    def on_loader_end(self, state: RunnerState):\n",
        "        metric_name = self.prefix\n",
        "        y_true = np.asarray(self.target)\n",
        "        y_pred = np.asarray(self.prediction)\n",
        "\n",
        "        metric = recall_score(y_true, y_pred, average=\"macro\")\n",
        "        state.metrics.epoch_values[state.loader_name][metric_name] = float(\n",
        "            metric)\n",
        "        self.recall = metric\n",
        "\n",
        "\n",
        "class TotalAverageRecall(Callback):\n",
        "    def __init__(self,\n",
        "                 n_grapheme=168,\n",
        "                 n_vowel=11,\n",
        "                 n_consonant=7,\n",
        "                 loss_type: str = \"bce\",\n",
        "                 prefix: str = \"tar\",\n",
        "                 output_key: str = \"logits\",\n",
        "                 target_key: str = \"targets\"):\n",
        "        self.prefix = prefix\n",
        "        self.grapheme_callback = AverageRecall(\n",
        "            index=0,\n",
        "            offset=0,\n",
        "            n_classes=n_grapheme,\n",
        "            prefix=\"grapheme_recall\",\n",
        "            loss_type=loss_type,\n",
        "            output_key=output_key,\n",
        "            target_key=target_key)\n",
        "        self.vowel_callback = AverageRecall(\n",
        "            index=1,\n",
        "            offset=n_grapheme,\n",
        "            n_classes=n_vowel,\n",
        "            prefix=\"vowel_recall\",\n",
        "            loss_type=loss_type,\n",
        "            output_key=output_key,\n",
        "            target_key=target_key)\n",
        "        self.consonant_callback = AverageRecall(\n",
        "            index=2,\n",
        "            offset=n_grapheme + n_vowel,\n",
        "            n_classes=n_consonant,\n",
        "            prefix=\"consonant_recall\",\n",
        "            loss_type=loss_type,\n",
        "            output_key=output_key,\n",
        "            target_key=target_key)\n",
        "        super().__init__(CallbackOrder.Metric)\n",
        "\n",
        "    def on_loader_start(self, state):\n",
        "        self.grapheme_callback.on_loader_start(state)\n",
        "        self.vowel_callback.on_loader_start(state)\n",
        "        self.consonant_callback.on_loader_start(state)\n",
        "\n",
        "    def on_batch_end(self, state: RunnerState):\n",
        "        self.grapheme_callback.on_batch_end(state)\n",
        "        self.vowel_callback.on_batch_end(state)\n",
        "        self.consonant_callback.on_batch_end(state)\n",
        "\n",
        "    def on_loader_end(self, state: RunnerState):\n",
        "        self.grapheme_callback.on_loader_end(state)\n",
        "        self.vowel_callback.on_loader_end(state)\n",
        "        self.consonant_callback.on_loader_end(state)\n",
        "\n",
        "        grapheme_recall = self.grapheme_callback.recall\n",
        "        vowel_recall = self.vowel_callback.recall\n",
        "        consonant_recall = self.consonant_callback.recall\n",
        "        final_score = np.average(\n",
        "            [grapheme_recall, vowel_recall, consonant_recall],\n",
        "            weights=[2, 1, 1])\n",
        "        state.metrics.epoch_values[state.loader_name][self.\n",
        "                                                      prefix] = final_score\n",
        "\n",
        "\n",
        "\n",
        "class SaveWeightsCallback(Callback):\n",
        "    def __init__(self, to: Optional[Union[Path, str]] = None, name: str=\"\"):\n",
        "        if isinstance(to, str):\n",
        "            self.to = Path(to)\n",
        "        else:\n",
        "            self.to = to\n",
        "        self.name = name\n",
        "        super().__init__(CallbackOrder.External)\n",
        "\n",
        "    def on_epoch_end(self, state: RunnerState):\n",
        "        weights = state.model.state_dict()\n",
        "        logdir = state.logdir / \"checkpoints\"\n",
        "        logdir.mkdir(exist_ok=True, parents=True)\n",
        "        if self.name == \"\":\n",
        "            torch.save(weights, logdir / \"temp.pth\")\n",
        "        else:\n",
        "            torch.save(weights, logdir / f\"{self.name}.pth\")\n",
        "\n",
        "        if self.to is not None:\n",
        "            if self.name == \"\":\n",
        "                torch.save(weights, self.to / \"temp.pth\")\n",
        "            else:\n",
        "                torch.save(weights, self.to / f\"{self.name}.pth\")"
      ],
      "execution_count": 0,
      "outputs": []
    },
    {
      "cell_type": "code",
      "metadata": {
        "colab_type": "code",
        "id": "kHvFfq-C3NGk",
        "colab": {}
      },
      "source": [
        "def get_callbacks(config: edict):\n",
        "    callbacks = []\n",
        "    for callback in config.callbacks:\n",
        "        name = list(callback.keys())[0]\n",
        "        params = callback[name]\n",
        "        if globals().get(name) is not None:\n",
        "            if params is not None:\n",
        "                callbacks.append(globals().get(name)(**params))  # type: ignore\n",
        "            else:\n",
        "                callbacks.append(globals().get(name)())  # type: ignore\n",
        "    return callbacks"
      ],
      "execution_count": 0,
      "outputs": []
    },
    {
      "cell_type": "markdown",
      "metadata": {
        "colab_type": "text",
        "id": "ChYS5rgoKQ_5"
      },
      "source": [
        "## Training"
      ]
    },
    {
      "cell_type": "code",
      "metadata": {
        "colab_type": "code",
        "id": "M-QhaJoMKQ_6",
        "outputId": "27ce23c0-5e5f-47fd-bf4f-331ba103f856",
        "colab": {
          "base_uri": "https://localhost:8080/",
          "height": 1000
        }
      },
      "source": [
        "trn_idx, val_idx = splits[i]\n",
        "\n",
        "print(f\"Fold: {i}\")\n",
        "\n",
        "output_dir = output_base_dir / f\"fold{i}\"\n",
        "output_dir.mkdir(exist_ok=True, parents=True)\n",
        "\n",
        "trn_df = df.loc[trn_idx, :].reset_index(drop=True)\n",
        "val_df = df.loc[val_idx, :].reset_index(drop=True)\n",
        "data_loaders = {\n",
        "    phase: get_base_loader(\n",
        "        df,\n",
        "        train_images_path,\n",
        "        phase=phase,\n",
        "        size=(config.img_size, config.img_size),\n",
        "        batch_size=config.train.batch_size,\n",
        "        num_workers=config.num_workers,\n",
        "        transforms=transforms_dict[phase])\n",
        "    for phase, df in zip([\"train\", \"valid\"], [trn_df, val_df])\n",
        "}\n",
        "model = get_model(config)\n",
        "criterion = get_loss(config)\n",
        "optimizer = get_optimizer(model, config)\n",
        "scheduler = get_scheduler(optimizer, config)\n",
        "callbacks = get_callbacks(config)\n",
        "\n",
        "if config.mixup:\n",
        "    callbacks.append(MixupCallback(fields=[\n",
        "        \"images\",\n",
        "    ]))\n",
        "\n",
        "runner = SupervisedRunner(\n",
        "    device=ct.utils.get_device(),\n",
        "    input_key=\"images\",\n",
        "    input_target_key=\"targets\",\n",
        "    output_key=\"logits\")\n",
        "runner.train(\n",
        "    model=model,\n",
        "    criterion=criterion,\n",
        "    optimizer=optimizer,\n",
        "    loaders=data_loaders,\n",
        "    logdir=output_dir,\n",
        "    scheduler=scheduler,\n",
        "    num_epochs=config.train.num_epochs,\n",
        "    callbacks=callbacks,\n",
        "    main_metric=\"tar\",\n",
        "    state_kwargs={\n",
        "        \"batch_consistant_metrics\": False\n",
        "    },\n",
        "    minimize_metric=False,\n",
        "    monitoring_params=None,\n",
        "    verbose=False)"
      ],
      "execution_count": 0,
      "outputs": [
        {
          "output_type": "stream",
          "text": [
            "Fold: 0\n",
            "[2020-01-31 17:33:43,854] \n",
            "1/30 * Epoch 1 (train): _base/lr=0.0001 | _base/momentum=0.9000 | _timers/_fps=7601.7046 | _timers/batch_time=0.0188 | _timers/data_time=0.0022 | _timers/model_time=0.0166 | batch_consonant_recall=0.8738 | batch_grapheme_recall=0.6102 | batch_vowel_recall=0.8944 | consonant_recall=0.8454 | grapheme_recall=0.5952 | loss=1.7159 | tar=0.7327 | vowel_recall=0.8950\n",
            "1/30 * Epoch 1 (valid): _base/lr=0.0001 | _base/momentum=0.9000 | _timers/_fps=3292.4438 | _timers/batch_time=0.1218 | _timers/data_time=0.1012 | _timers/model_time=0.0206 | batch_consonant_recall=0.9419 | batch_grapheme_recall=0.8508 | batch_vowel_recall=0.9529 | consonant_recall=0.9473 | grapheme_recall=0.8803 | loss=0.5171 | tar=0.9157 | vowel_recall=0.9551\n",
            "[2020-01-31 17:49:11,152] \n",
            "2/30 * Epoch 2 (train): _base/lr=9.755e-05 | _base/momentum=0.9000 | _timers/_fps=7534.9825 | _timers/batch_time=0.0180 | _timers/data_time=0.0021 | _timers/model_time=0.0158 | batch_consonant_recall=0.9531 | batch_grapheme_recall=0.8584 | batch_vowel_recall=0.9656 | consonant_recall=0.9467 | grapheme_recall=0.8862 | loss=0.4859 | tar=0.9213 | vowel_recall=0.9662\n",
            "2/30 * Epoch 2 (valid): _base/lr=9.755e-05 | _base/momentum=0.9000 | _timers/_fps=3183.0665 | _timers/batch_time=0.1281 | _timers/data_time=0.1088 | _timers/model_time=0.0193 | batch_consonant_recall=0.9647 | batch_grapheme_recall=0.8820 | batch_vowel_recall=0.9697 | consonant_recall=0.9640 | grapheme_recall=0.9125 | loss=0.4049 | tar=0.9403 | vowel_recall=0.9722\n",
            "[2020-01-31 18:04:35,745] \n",
            "3/30 * Epoch 3 (train): _base/lr=9.045e-05 | _base/momentum=0.9000 | _timers/_fps=7535.0262 | _timers/batch_time=0.0179 | _timers/data_time=0.0019 | _timers/model_time=0.0159 | batch_consonant_recall=0.9656 | batch_grapheme_recall=0.8963 | batch_vowel_recall=0.9743 | consonant_recall=0.9619 | grapheme_recall=0.9216 | loss=0.3500 | tar=0.9451 | vowel_recall=0.9752\n",
            "3/30 * Epoch 3 (valid): _base/lr=9.045e-05 | _base/momentum=0.9000 | _timers/_fps=3161.0813 | _timers/batch_time=0.1219 | _timers/data_time=0.1047 | _timers/model_time=0.0171 | batch_consonant_recall=0.9584 | batch_grapheme_recall=0.8943 | batch_vowel_recall=0.9714 | consonant_recall=0.9621 | grapheme_recall=0.9229 | loss=0.3700 | tar=0.9453 | vowel_recall=0.9731\n",
            "[2020-01-31 18:19:41,389] \n",
            "4/30 * Epoch 4 (train): _base/lr=7.939e-05 | _base/momentum=0.9000 | _timers/_fps=7607.5745 | _timers/batch_time=0.0177 | _timers/data_time=0.0019 | _timers/model_time=0.0158 | batch_consonant_recall=0.9726 | batch_grapheme_recall=0.9166 | batch_vowel_recall=0.9801 | consonant_recall=0.9709 | grapheme_recall=0.9399 | loss=0.2718 | tar=0.9577 | vowel_recall=0.9801\n",
            "4/30 * Epoch 4 (valid): _base/lr=7.939e-05 | _base/momentum=0.9000 | _timers/_fps=3136.0441 | _timers/batch_time=0.1245 | _timers/data_time=0.1069 | _timers/model_time=0.0175 | batch_consonant_recall=0.9725 | batch_grapheme_recall=0.9098 | batch_vowel_recall=0.9736 | consonant_recall=0.9702 | grapheme_recall=0.9341 | loss=0.3164 | tar=0.9536 | vowel_recall=0.9761\n",
            "[2020-01-31 18:34:50,823] \n",
            "5/30 * Epoch 5 (train): _base/lr=6.545e-05 | _base/momentum=0.9000 | _timers/_fps=7615.9564 | _timers/batch_time=0.0177 | _timers/data_time=0.0018 | _timers/model_time=0.0158 | batch_consonant_recall=0.9792 | batch_grapheme_recall=0.9348 | batch_vowel_recall=0.9844 | consonant_recall=0.9765 | grapheme_recall=0.9520 | loss=0.2094 | tar=0.9663 | vowel_recall=0.9848\n",
            "5/30 * Epoch 5 (valid): _base/lr=6.545e-05 | _base/momentum=0.9000 | _timers/_fps=3289.2937 | _timers/batch_time=0.1247 | _timers/data_time=0.1072 | _timers/model_time=0.0175 | batch_consonant_recall=0.9760 | batch_grapheme_recall=0.9114 | batch_vowel_recall=0.9768 | consonant_recall=0.9761 | grapheme_recall=0.9349 | loss=0.3037 | tar=0.9563 | vowel_recall=0.9795\n",
            "[2020-01-31 18:49:57,123] \n",
            "6/30 * Epoch 6 (train): _base/lr=5.000e-05 | _base/momentum=0.9000 | _timers/_fps=7564.8883 | _timers/batch_time=0.0178 | _timers/data_time=0.0019 | _timers/model_time=0.0158 | batch_consonant_recall=0.9844 | batch_grapheme_recall=0.9486 | batch_vowel_recall=0.9883 | consonant_recall=0.9838 | grapheme_recall=0.9639 | loss=0.1597 | tar=0.9751 | vowel_recall=0.9888\n",
            "6/30 * Epoch 6 (valid): _base/lr=5.000e-05 | _base/momentum=0.9000 | _timers/_fps=3218.7706 | _timers/batch_time=0.1245 | _timers/data_time=0.1065 | _timers/model_time=0.0180 | batch_consonant_recall=0.9781 | batch_grapheme_recall=0.9213 | batch_vowel_recall=0.9798 | consonant_recall=0.9799 | grapheme_recall=0.9427 | loss=0.2817 | tar=0.9617 | vowel_recall=0.9816\n",
            "[2020-01-31 19:05:08,751] \n",
            "7/30 * Epoch 7 (train): _base/lr=3.455e-05 | _base/momentum=0.9000 | _timers/_fps=7583.6363 | _timers/batch_time=0.0178 | _timers/data_time=0.0020 | _timers/model_time=0.0158 | batch_consonant_recall=0.9868 | batch_grapheme_recall=0.9638 | batch_vowel_recall=0.9916 | consonant_recall=0.9850 | grapheme_recall=0.9751 | loss=0.1134 | tar=0.9817 | vowel_recall=0.9918\n",
            "7/30 * Epoch 7 (valid): _base/lr=3.455e-05 | _base/momentum=0.9000 | _timers/_fps=3155.2896 | _timers/batch_time=0.1283 | _timers/data_time=0.1103 | _timers/model_time=0.0180 | batch_consonant_recall=0.9749 | batch_grapheme_recall=0.9256 | batch_vowel_recall=0.9814 | consonant_recall=0.9740 | grapheme_recall=0.9484 | loss=0.2786 | tar=0.9634 | vowel_recall=0.9829\n",
            "[2020-01-31 19:20:26,120] \n",
            "8/30 * Epoch 8 (train): _base/lr=2.061e-05 | _base/momentum=0.9000 | _timers/_fps=7550.2501 | _timers/batch_time=0.0179 | _timers/data_time=0.0019 | _timers/model_time=0.0159 | batch_consonant_recall=0.9902 | batch_grapheme_recall=0.9730 | batch_vowel_recall=0.9941 | consonant_recall=0.9900 | grapheme_recall=0.9816 | loss=0.0830 | tar=0.9868 | vowel_recall=0.9942\n",
            "8/30 * Epoch 8 (valid): _base/lr=2.061e-05 | _base/momentum=0.9000 | _timers/_fps=2963.7139 | _timers/batch_time=0.1283 | _timers/data_time=0.1102 | _timers/model_time=0.0179 | batch_consonant_recall=0.9806 | batch_grapheme_recall=0.9323 | batch_vowel_recall=0.9827 | consonant_recall=0.9806 | grapheme_recall=0.9516 | loss=0.2681 | tar=0.9670 | vowel_recall=0.9844\n",
            "[2020-01-31 19:35:54,362] \n",
            "9/30 * Epoch 9 (train): _base/lr=9.549e-06 | _base/momentum=0.9000 | _timers/_fps=7543.9413 | _timers/batch_time=0.0178 | _timers/data_time=0.0020 | _timers/model_time=0.0158 | batch_consonant_recall=0.9926 | batch_grapheme_recall=0.9812 | batch_vowel_recall=0.9952 | consonant_recall=0.9924 | grapheme_recall=0.9872 | loss=0.0600 | tar=0.9906 | vowel_recall=0.9954\n",
            "9/30 * Epoch 9 (valid): _base/lr=9.549e-06 | _base/momentum=0.9000 | _timers/_fps=2822.9166 | _timers/batch_time=0.1238 | _timers/data_time=0.1052 | _timers/model_time=0.0186 | batch_consonant_recall=0.9789 | batch_grapheme_recall=0.9333 | batch_vowel_recall=0.9830 | consonant_recall=0.9791 | grapheme_recall=0.9516 | loss=0.2672 | tar=0.9667 | vowel_recall=0.9847\n",
            "[2020-01-31 19:51:17,581] \n",
            "10/30 * Epoch 10 (train): _base/lr=2.447e-06 | _base/momentum=0.9000 | _timers/_fps=7541.3277 | _timers/batch_time=0.0179 | _timers/data_time=0.0021 | _timers/model_time=0.0158 | batch_consonant_recall=0.9941 | batch_grapheme_recall=0.9836 | batch_vowel_recall=0.9962 | consonant_recall=0.9928 | grapheme_recall=0.9885 | loss=0.0489 | tar=0.9916 | vowel_recall=0.9964\n",
            "10/30 * Epoch 10 (valid): _base/lr=2.447e-06 | _base/momentum=0.9000 | _timers/_fps=3073.3196 | _timers/batch_time=0.1192 | _timers/data_time=0.1008 | _timers/model_time=0.0184 | batch_consonant_recall=0.9811 | batch_grapheme_recall=0.9357 | batch_vowel_recall=0.9834 | consonant_recall=0.9813 | grapheme_recall=0.9540 | loss=0.2651 | tar=0.9685 | vowel_recall=0.9846\n",
            "[2020-01-31 20:06:41,901] \n",
            "11/30 * Epoch 11 (train): _base/lr=0.000e+00 | _base/momentum=0.9000 | _timers/_fps=7522.0639 | _timers/batch_time=0.0179 | _timers/data_time=0.0020 | _timers/model_time=0.0158 | batch_consonant_recall=0.9945 | batch_grapheme_recall=0.9855 | batch_vowel_recall=0.9965 | consonant_recall=0.9935 | grapheme_recall=0.9899 | loss=0.0450 | tar=0.9925 | vowel_recall=0.9967\n",
            "11/30 * Epoch 11 (valid): _base/lr=0.000e+00 | _base/momentum=0.9000 | _timers/_fps=3198.0012 | _timers/batch_time=0.1219 | _timers/data_time=0.1030 | _timers/model_time=0.0188 | batch_consonant_recall=0.9803 | batch_grapheme_recall=0.9350 | batch_vowel_recall=0.9829 | consonant_recall=0.9800 | grapheme_recall=0.9535 | loss=0.2635 | tar=0.9678 | vowel_recall=0.9843\n",
            "[2020-01-31 20:22:07,617] \n",
            "12/30 * Epoch 12 (train): _base/lr=2.447e-06 | _base/momentum=0.9000 | _timers/_fps=7502.2853 | _timers/batch_time=0.0180 | _timers/data_time=0.0021 | _timers/model_time=0.0158 | batch_consonant_recall=0.9938 | batch_grapheme_recall=0.9852 | batch_vowel_recall=0.9963 | consonant_recall=0.9933 | grapheme_recall=0.9900 | loss=0.0456 | tar=0.9924 | vowel_recall=0.9963\n",
            "12/30 * Epoch 12 (valid): _base/lr=2.447e-06 | _base/momentum=0.9000 | _timers/_fps=3419.5578 | _timers/batch_time=0.1248 | _timers/data_time=0.1062 | _timers/model_time=0.0186 | batch_consonant_recall=0.9808 | batch_grapheme_recall=0.9360 | batch_vowel_recall=0.9838 | consonant_recall=0.9804 | grapheme_recall=0.9550 | loss=0.2644 | tar=0.9688 | vowel_recall=0.9847\n",
            "[2020-01-31 20:37:30,695] \n",
            "13/30 * Epoch 13 (train): _base/lr=9.549e-06 | _base/momentum=0.9000 | _timers/_fps=7523.8662 | _timers/batch_time=0.0179 | _timers/data_time=0.0020 | _timers/model_time=0.0158 | batch_consonant_recall=0.9935 | batch_grapheme_recall=0.9850 | batch_vowel_recall=0.9962 | consonant_recall=0.9936 | grapheme_recall=0.9891 | loss=0.0476 | tar=0.9920 | vowel_recall=0.9963\n",
            "13/30 * Epoch 13 (valid): _base/lr=9.549e-06 | _base/momentum=0.9000 | _timers/_fps=3080.4455 | _timers/batch_time=0.1222 | _timers/data_time=0.1037 | _timers/model_time=0.0184 | batch_consonant_recall=0.9796 | batch_grapheme_recall=0.9336 | batch_vowel_recall=0.9836 | consonant_recall=0.9788 | grapheme_recall=0.9539 | loss=0.2780 | tar=0.9678 | vowel_recall=0.9845\n",
            "[2020-01-31 20:52:55,862] \n",
            "14/30 * Epoch 14 (train): _base/lr=2.061e-05 | _base/momentum=0.9000 | _timers/_fps=7503.9784 | _timers/batch_time=0.0180 | _timers/data_time=0.0020 | _timers/model_time=0.0159 | batch_consonant_recall=0.9933 | batch_grapheme_recall=0.9807 | batch_vowel_recall=0.9950 | consonant_recall=0.9928 | grapheme_recall=0.9865 | loss=0.0585 | tar=0.9903 | vowel_recall=0.9953\n",
            "14/30 * Epoch 14 (valid): _base/lr=2.061e-05 | _base/momentum=0.9000 | _timers/_fps=3223.5462 | _timers/batch_time=0.1275 | _timers/data_time=0.1091 | _timers/model_time=0.0183 | batch_consonant_recall=0.9808 | batch_grapheme_recall=0.9309 | batch_vowel_recall=0.9817 | consonant_recall=0.9793 | grapheme_recall=0.9523 | loss=0.2918 | tar=0.9668 | vowel_recall=0.9834\n",
            "[2020-01-31 21:08:20,855] \n",
            "15/30 * Epoch 15 (train): _base/lr=3.455e-05 | _base/momentum=0.9000 | _timers/_fps=7511.5599 | _timers/batch_time=0.0180 | _timers/data_time=0.0021 | _timers/model_time=0.0159 | batch_consonant_recall=0.9902 | batch_grapheme_recall=0.9744 | batch_vowel_recall=0.9939 | consonant_recall=0.9893 | grapheme_recall=0.9821 | loss=0.0755 | tar=0.9868 | vowel_recall=0.9939\n",
            "15/30 * Epoch 15 (valid): _base/lr=3.455e-05 | _base/momentum=0.9000 | _timers/_fps=3314.1306 | _timers/batch_time=0.1248 | _timers/data_time=0.1068 | _timers/model_time=0.0180 | batch_consonant_recall=0.9789 | batch_grapheme_recall=0.9275 | batch_vowel_recall=0.9814 | consonant_recall=0.9783 | grapheme_recall=0.9502 | loss=0.2998 | tar=0.9653 | vowel_recall=0.9827\n",
            "[2020-01-31 21:23:43,913] \n",
            "16/30 * Epoch 16 (train): _base/lr=5.000e-05 | _base/momentum=0.9000 | _timers/_fps=7520.8047 | _timers/batch_time=0.0179 | _timers/data_time=0.0019 | _timers/model_time=0.0159 | batch_consonant_recall=0.9880 | batch_grapheme_recall=0.9677 | batch_vowel_recall=0.9920 | consonant_recall=0.9868 | grapheme_recall=0.9777 | loss=0.0948 | tar=0.9837 | vowel_recall=0.9926\n",
            "16/30 * Epoch 16 (valid): _base/lr=5.000e-05 | _base/momentum=0.9000 | _timers/_fps=2768.0114 | _timers/batch_time=0.1261 | _timers/data_time=0.1085 | _timers/model_time=0.0176 | batch_consonant_recall=0.9700 | batch_grapheme_recall=0.9227 | batch_vowel_recall=0.9808 | consonant_recall=0.9737 | grapheme_recall=0.9424 | loss=0.3184 | tar=0.9604 | vowel_recall=0.9830\n",
            "[2020-01-31 21:39:02,441] \n",
            "17/30 * Epoch 17 (train): _base/lr=6.545e-05 | _base/momentum=0.9000 | _timers/_fps=7538.6034 | _timers/batch_time=0.0179 | _timers/data_time=0.0020 | _timers/model_time=0.0158 | batch_consonant_recall=0.9878 | batch_grapheme_recall=0.9617 | batch_vowel_recall=0.9905 | consonant_recall=0.9866 | grapheme_recall=0.9731 | loss=0.1132 | tar=0.9808 | vowel_recall=0.9906\n",
            "17/30 * Epoch 17 (valid): _base/lr=6.545e-05 | _base/momentum=0.9000 | _timers/_fps=3343.3483 | _timers/batch_time=0.1221 | _timers/data_time=0.1041 | _timers/model_time=0.0180 | batch_consonant_recall=0.9781 | batch_grapheme_recall=0.9175 | batch_vowel_recall=0.9800 | consonant_recall=0.9783 | grapheme_recall=0.9404 | loss=0.3309 | tar=0.9605 | vowel_recall=0.9828\n",
            "[2020-01-31 21:54:28,925] \n",
            "18/30 * Epoch 18 (train): _base/lr=7.939e-05 | _base/momentum=0.9000 | _timers/_fps=7507.0963 | _timers/batch_time=0.0179 | _timers/data_time=0.0018 | _timers/model_time=0.0160 | batch_consonant_recall=0.9855 | batch_grapheme_recall=0.9593 | batch_vowel_recall=0.9907 | consonant_recall=0.9838 | grapheme_recall=0.9717 | loss=0.1225 | tar=0.9795 | vowel_recall=0.9907\n",
            "18/30 * Epoch 18 (valid): _base/lr=7.939e-05 | _base/momentum=0.9000 | _timers/_fps=3083.6736 | _timers/batch_time=0.1357 | _timers/data_time=0.1176 | _timers/model_time=0.0181 | batch_consonant_recall=0.9710 | batch_grapheme_recall=0.9205 | batch_vowel_recall=0.9793 | consonant_recall=0.9759 | grapheme_recall=0.9438 | loss=0.3151 | tar=0.9610 | vowel_recall=0.9805\n",
            "[2020-01-31 22:09:56,969] \n",
            "19/30 * Epoch 19 (train): _base/lr=9.045e-05 | _base/momentum=0.9000 | _timers/_fps=7298.5976 | _timers/batch_time=0.0185 | _timers/data_time=0.0021 | _timers/model_time=0.0163 | batch_consonant_recall=0.9847 | batch_grapheme_recall=0.9585 | batch_vowel_recall=0.9896 | consonant_recall=0.9848 | grapheme_recall=0.9707 | loss=0.1273 | tar=0.9790 | vowel_recall=0.9900\n",
            "19/30 * Epoch 19 (valid): _base/lr=9.045e-05 | _base/momentum=0.9000 | _timers/_fps=3207.6823 | _timers/batch_time=0.1337 | _timers/data_time=0.1151 | _timers/model_time=0.0185 | batch_consonant_recall=0.9740 | batch_grapheme_recall=0.9153 | batch_vowel_recall=0.9757 | consonant_recall=0.9735 | grapheme_recall=0.9431 | loss=0.3335 | tar=0.9593 | vowel_recall=0.9778\n",
            "[2020-01-31 22:25:24,391] \n",
            "20/30 * Epoch 20 (train): _base/lr=9.755e-05 | _base/momentum=0.9000 | _timers/_fps=7362.5202 | _timers/batch_time=0.0182 | _timers/data_time=0.0018 | _timers/model_time=0.0163 | batch_consonant_recall=0.9834 | batch_grapheme_recall=0.9565 | batch_vowel_recall=0.9889 | consonant_recall=0.9833 | grapheme_recall=0.9692 | loss=0.1336 | tar=0.9778 | vowel_recall=0.9895\n",
            "20/30 * Epoch 20 (valid): _base/lr=9.755e-05 | _base/momentum=0.9000 | _timers/_fps=2916.4253 | _timers/batch_time=0.1334 | _timers/data_time=0.1151 | _timers/model_time=0.0182 | batch_consonant_recall=0.9709 | batch_grapheme_recall=0.9182 | batch_vowel_recall=0.9800 | consonant_recall=0.9730 | grapheme_recall=0.9442 | loss=0.3152 | tar=0.9611 | vowel_recall=0.9828\n",
            "[2020-01-31 22:40:48,765] \n",
            "21/30 * Epoch 21 (train): _base/lr=0.0001 | _base/momentum=0.9000 | _timers/_fps=7364.8696 | _timers/batch_time=0.0183 | _timers/data_time=0.0020 | _timers/model_time=0.0163 | batch_consonant_recall=0.9872 | batch_grapheme_recall=0.9611 | batch_vowel_recall=0.9908 | consonant_recall=0.9851 | grapheme_recall=0.9729 | loss=0.1147 | tar=0.9805 | vowel_recall=0.9911\n",
            "21/30 * Epoch 21 (valid): _base/lr=0.0001 | _base/momentum=0.9000 | _timers/_fps=3390.5039 | _timers/batch_time=0.1349 | _timers/data_time=0.1164 | _timers/model_time=0.0184 | batch_consonant_recall=0.9716 | batch_grapheme_recall=0.9195 | batch_vowel_recall=0.9787 | consonant_recall=0.9695 | grapheme_recall=0.9429 | loss=0.3207 | tar=0.9588 | vowel_recall=0.9800\n",
            "[2020-01-31 22:56:13,072] \n",
            "22/30 * Epoch 22 (train): _base/lr=9.755e-05 | _base/momentum=0.9000 | _timers/_fps=7317.2518 | _timers/batch_time=0.0184 | _timers/data_time=0.0020 | _timers/model_time=0.0163 | batch_consonant_recall=0.9873 | batch_grapheme_recall=0.9657 | batch_vowel_recall=0.9909 | consonant_recall=0.9872 | grapheme_recall=0.9763 | loss=0.1072 | tar=0.9828 | vowel_recall=0.9912\n",
            "22/30 * Epoch 22 (valid): _base/lr=9.755e-05 | _base/momentum=0.9000 | _timers/_fps=2957.9923 | _timers/batch_time=0.1350 | _timers/data_time=0.1161 | _timers/model_time=0.0188 | batch_consonant_recall=0.9726 | batch_grapheme_recall=0.9160 | batch_vowel_recall=0.9812 | consonant_recall=0.9688 | grapheme_recall=0.9423 | loss=0.3248 | tar=0.9590 | vowel_recall=0.9827\n",
            "[2020-01-31 23:11:36,844] \n",
            "23/30 * Epoch 23 (train): _base/lr=9.045e-05 | _base/momentum=0.9000 | _timers/_fps=7349.5249 | _timers/batch_time=0.0183 | _timers/data_time=0.0020 | _timers/model_time=0.0163 | batch_consonant_recall=0.9897 | batch_grapheme_recall=0.9695 | batch_vowel_recall=0.9924 | consonant_recall=0.9894 | grapheme_recall=0.9784 | loss=0.0898 | tar=0.9846 | vowel_recall=0.9922\n",
            "23/30 * Epoch 23 (valid): _base/lr=9.045e-05 | _base/momentum=0.9000 | _timers/_fps=3462.0310 | _timers/batch_time=0.1322 | _timers/data_time=0.1137 | _timers/model_time=0.0185 | batch_consonant_recall=0.9757 | batch_grapheme_recall=0.9235 | batch_vowel_recall=0.9799 | consonant_recall=0.9762 | grapheme_recall=0.9480 | loss=0.3182 | tar=0.9636 | vowel_recall=0.9822\n",
            "[2020-01-31 23:26:59,426] \n",
            "24/30 * Epoch 24 (train): _base/lr=7.939e-05 | _base/momentum=0.9000 | _timers/_fps=7390.2656 | _timers/batch_time=0.0182 | _timers/data_time=0.0019 | _timers/model_time=0.0162 | batch_consonant_recall=0.9914 | batch_grapheme_recall=0.9761 | batch_vowel_recall=0.9948 | consonant_recall=0.9906 | grapheme_recall=0.9839 | loss=0.0693 | tar=0.9883 | vowel_recall=0.9949\n",
            "24/30 * Epoch 24 (valid): _base/lr=7.939e-05 | _base/momentum=0.9000 | _timers/_fps=2999.9448 | _timers/batch_time=0.1262 | _timers/data_time=0.1087 | _timers/model_time=0.0174 | batch_consonant_recall=0.9720 | batch_grapheme_recall=0.9221 | batch_vowel_recall=0.9814 | consonant_recall=0.9731 | grapheme_recall=0.9450 | loss=0.3250 | tar=0.9614 | vowel_recall=0.9826\n",
            "[2020-01-31 23:42:21,753] \n",
            "25/30 * Epoch 25 (train): _base/lr=6.545e-05 | _base/momentum=0.9000 | _timers/_fps=7456.4564 | _timers/batch_time=0.0181 | _timers/data_time=0.0019 | _timers/model_time=0.0161 | batch_consonant_recall=0.9938 | batch_grapheme_recall=0.9810 | batch_vowel_recall=0.9960 | consonant_recall=0.9939 | grapheme_recall=0.9872 | loss=0.0554 | tar=0.9910 | vowel_recall=0.9956\n",
            "25/30 * Epoch 25 (valid): _base/lr=6.545e-05 | _base/momentum=0.9000 | _timers/_fps=3028.4379 | _timers/batch_time=0.1287 | _timers/data_time=0.1105 | _timers/model_time=0.0181 | batch_consonant_recall=0.9769 | batch_grapheme_recall=0.9287 | batch_vowel_recall=0.9825 | consonant_recall=0.9767 | grapheme_recall=0.9508 | loss=0.3171 | tar=0.9655 | vowel_recall=0.9835\n",
            "[2020-01-31 23:57:44,677] \n",
            "26/30 * Epoch 26 (train): _base/lr=5.000e-05 | _base/momentum=0.9000 | _timers/_fps=7472.5331 | _timers/batch_time=0.0180 | _timers/data_time=0.0019 | _timers/model_time=0.0160 | batch_consonant_recall=0.9958 | batch_grapheme_recall=0.9874 | batch_vowel_recall=0.9971 | consonant_recall=0.9956 | grapheme_recall=0.9915 | loss=0.0364 | tar=0.9940 | vowel_recall=0.9973\n",
            "26/30 * Epoch 26 (valid): _base/lr=5.000e-05 | _base/momentum=0.9000 | _timers/_fps=2997.9703 | _timers/batch_time=0.1271 | _timers/data_time=0.1090 | _timers/model_time=0.0181 | batch_consonant_recall=0.9803 | batch_grapheme_recall=0.9362 | batch_vowel_recall=0.9821 | consonant_recall=0.9803 | grapheme_recall=0.9543 | loss=0.2977 | tar=0.9682 | vowel_recall=0.9840\n",
            "[2020-02-01 00:13:09,637] \n",
            "27/30 * Epoch 27 (train): _base/lr=3.455e-05 | _base/momentum=0.9000 | _timers/_fps=7460.8535 | _timers/batch_time=0.0181 | _timers/data_time=0.0020 | _timers/model_time=0.0160 | batch_consonant_recall=0.9973 | batch_grapheme_recall=0.9930 | batch_vowel_recall=0.9980 | consonant_recall=0.9972 | grapheme_recall=0.9952 | loss=0.0215 | tar=0.9965 | vowel_recall=0.9982\n",
            "27/30 * Epoch 27 (valid): _base/lr=3.455e-05 | _base/momentum=0.9000 | _timers/_fps=3123.0346 | _timers/batch_time=0.1318 | _timers/data_time=0.1138 | _timers/model_time=0.0180 | batch_consonant_recall=0.9785 | batch_grapheme_recall=0.9378 | batch_vowel_recall=0.9827 | consonant_recall=0.9803 | grapheme_recall=0.9561 | loss=0.3132 | tar=0.9690 | vowel_recall=0.9838\n",
            "[2020-02-01 00:28:35,199] \n",
            "28/30 * Epoch 28 (train): _base/lr=2.061e-05 | _base/momentum=0.9000 | _timers/_fps=7395.7395 | _timers/batch_time=0.0182 | _timers/data_time=0.0019 | _timers/model_time=0.0162 | batch_consonant_recall=0.9983 | batch_grapheme_recall=0.9949 | batch_vowel_recall=0.9990 | consonant_recall=0.9986 | grapheme_recall=0.9967 | loss=0.0149 | tar=0.9977 | vowel_recall=0.9989\n",
            "28/30 * Epoch 28 (valid): _base/lr=2.061e-05 | _base/momentum=0.9000 | _timers/_fps=2991.3119 | _timers/batch_time=0.1321 | _timers/data_time=0.1140 | _timers/model_time=0.0181 | batch_consonant_recall=0.9815 | batch_grapheme_recall=0.9410 | batch_vowel_recall=0.9850 | consonant_recall=0.9817 | grapheme_recall=0.9590 | loss=0.3007 | tar=0.9715 | vowel_recall=0.9862\n"
          ],
          "name": "stdout"
        }
      ]
    },
    {
      "cell_type": "markdown",
      "metadata": {
        "colab_type": "text",
        "id": "IhArTZXhDEdO"
      },
      "source": [
        "## Check performance"
      ]
    },
    {
      "cell_type": "code",
      "metadata": {
        "colab_type": "code",
        "id": "32PY32ziDEdP",
        "colab": {}
      },
      "source": [
        "def load_model(config: edict, bin_path: Union[str, Path]):\n",
        "    # config.model.pretrained = None\n",
        "    model = get_model(config)\n",
        "    state_dict = torch.load(bin_path, map_location=get_device())\n",
        "    if \"model_state_dict\" in state_dict.keys():\n",
        "        model.load_state_dict(state_dict[\"model_state_dict\"])\n",
        "    else:\n",
        "        model.load_state_dict(state_dict)\n",
        "    return model"
      ],
      "execution_count": 0,
      "outputs": []
    },
    {
      "cell_type": "code",
      "metadata": {
        "colab_type": "code",
        "id": "9_F9IDJdDEdS",
        "colab": {}
      },
      "source": [
        "def macro_average_recall(prediction: np.ndarray, df: pd.DataFrame):\n",
        "    grapheme = recall_score(\n",
        "        df[\"grapheme_root\"].values, prediction[:, 0], average=\"macro\")\n",
        "    vowel = recall_score(\n",
        "        df[\"vowel_diacritic\"].values, prediction[:, 1], average=\"macro\")\n",
        "    consonant = recall_score(\n",
        "        df[\"consonant_diacritic\"].values, prediction[:, 2], average=\"macro\")\n",
        "    return np.average([grapheme, vowel, consonant], weights=[2, 1, 1])"
      ],
      "execution_count": 0,
      "outputs": []
    },
    {
      "cell_type": "code",
      "metadata": {
        "colab_type": "code",
        "id": "XPVll_NsDEdV",
        "colab": {}
      },
      "source": [
        "def inference_loop(model: nn.Module,\n",
        "                   loader: torchdata.DataLoader,\n",
        "                   cls_levels: dict,\n",
        "                   loss_fn: Optional[nn.Module] = None,\n",
        "                   requires_soft=False):\n",
        "    n_grapheme = cls_levels[\"grapheme\"]\n",
        "    n_vowel = cls_levels[\"vowel\"]\n",
        "    n_consonant = cls_levels[\"consonant\"]\n",
        "\n",
        "    dataset_length = len(loader.dataset)\n",
        "    prediction = np.zeros((dataset_length, 3), dtype=np.uint8)\n",
        "    if requires_soft:\n",
        "        soft_prediction = np.zeros(\n",
        "            (dataset_length, n_grapheme + n_vowel + n_consonant),\n",
        "            dtype=np.float32)\n",
        "\n",
        "    batch_size = loader.batch_size\n",
        "    device = get_device()\n",
        "\n",
        "    avg_loss = 0.\n",
        "    model.eval()\n",
        "\n",
        "    targets: Optional[torch.Tensor] = None\n",
        "\n",
        "    for i, batch in enumerate(progress_bar(loader, leave=False)):\n",
        "        with torch.no_grad():\n",
        "            if isinstance(batch, dict):\n",
        "                images = batch[\"images\"].to(device)\n",
        "                targets = batch[\"targets\"].to(device)\n",
        "            else:\n",
        "                images = batch.to(device)\n",
        "                targets = None\n",
        "            pred = model(images).detach()\n",
        "            if loss_fn is not None and targets is not None:\n",
        "                avg_loss += loss_fn(\n",
        "                    pred, batch[\"targets\"].to(device)).item() / len(loader)\n",
        "            head = 0\n",
        "            tail = n_grapheme\n",
        "            pred_grapheme = torch.argmax(\n",
        "                pred[:, head:tail], dim=1).cpu().numpy()\n",
        "\n",
        "            head = tail\n",
        "            tail = head + n_vowel\n",
        "            pred_vowel = torch.argmax(pred[:, head:tail], dim=1).cpu().numpy()\n",
        "\n",
        "            head = tail\n",
        "            tail = head + n_consonant\n",
        "            pred_consonant = torch.argmax(\n",
        "                pred[:, head:tail], dim=1).cpu().numpy()\n",
        "\n",
        "            prediction[i * batch_size:(i + 1) * batch_size, 0] = pred_grapheme\n",
        "            prediction[i * batch_size:(i + 1) * batch_size, 1] = pred_vowel\n",
        "            prediction[i * batch_size:(i + 1) * batch_size, 2] = pred_consonant\n",
        "\n",
        "            if requires_soft:\n",
        "                head = 0\n",
        "                tail = n_grapheme\n",
        "                soft_prediction[i * batch_size:(i + 1) *\n",
        "                                batch_size, head:tail] = F.softmax(\n",
        "                                    pred[:, head:tail], dim=1).cpu().numpy()\n",
        "\n",
        "                head = tail\n",
        "                tail = head + n_vowel\n",
        "                soft_prediction[i * batch_size:(i + 1) *\n",
        "                                batch_size, head:tail] = F.softmax(\n",
        "                                    pred[:, head:tail], dim=1).cpu().numpy()\n",
        "\n",
        "                head = tail\n",
        "                tail = head + n_consonant\n",
        "                soft_prediction[i * batch_size:(i + 1) *\n",
        "                                batch_size, head:tail] = F.softmax(\n",
        "                                    pred[:, head:tail], dim=1).cpu().numpy()\n",
        "\n",
        "    return_dict = {\"prediction\": prediction, \"loss\": avg_loss}\n",
        "    if requires_soft:\n",
        "        return_dict[\"soft_prediction\"] = soft_prediction\n",
        "\n",
        "    return return_dict"
      ],
      "execution_count": 0,
      "outputs": []
    },
    {
      "cell_type": "code",
      "metadata": {
        "colab_type": "code",
        "id": "hPKIgJnMDEdY",
        "outputId": "02facde3-f1cc-4088-ed46-89beb85710fd",
        "colab": {
          "base_uri": "https://localhost:8080/",
          "height": 34
        }
      },
      "source": [
        "checkpoint_path = \"output/fold0/checkpoints/best.pth\"\n",
        "model = load_model(config, checkpoint_path)\n",
        "model.to(get_device())\n",
        "loader = data_loaders[\"valid\"]\n",
        "\n",
        "prediction = inference_loop(\n",
        "    model,\n",
        "    loader,\n",
        "    cls_levels,\n",
        "    criterion,\n",
        "    requires_soft=False)\n",
        "score = macro_average_recall(prediction[\"prediction\"], val_df)\n",
        "print(f\"Score: {score:.5f}\")"
      ],
      "execution_count": 33,
      "outputs": [
        {
          "output_type": "display_data",
          "data": {
            "text/html": [
              ""
            ],
            "text/plain": [
              "<IPython.core.display.HTML object>"
            ]
          },
          "metadata": {
            "tags": []
          }
        },
        {
          "output_type": "stream",
          "text": [
            "Score: 0.96138\n"
          ],
          "name": "stdout"
        }
      ]
    },
    {
      "cell_type": "code",
      "metadata": {
        "colab_type": "code",
        "id": "BF64LRYqK1l6",
        "colab": {}
      },
      "source": [
        "!cp output/fold0/checkpoints/best.pth /content/gdrive/My\\ Drive/kaggle-bengali/checkpoints/fold0/resnet34_30epoch_size224_scse.pth"
      ],
      "execution_count": 0,
      "outputs": []
    },
    {
      "cell_type": "code",
      "metadata": {
        "id": "I4bj3ShvnBZD",
        "colab_type": "code",
        "colab": {}
      },
      "source": [
        ""
      ],
      "execution_count": 0,
      "outputs": []
    }
  ]
}