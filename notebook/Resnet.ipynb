{
 "cells": [
  {
   "cell_type": "markdown",
   "metadata": {
    "colab_type": "text",
    "id": "view-in-github"
   },
   "source": [
    "<a href=\"https://colab.research.google.com/github/koukyo1994/kaggle-bengali-ai/blob/master/notebook/Resnet.ipynb\" target=\"_parent\"><img src=\"https://colab.research.google.com/assets/colab-badge.svg\" alt=\"Open In Colab\"/></a>"
   ]
  },
  {
   "cell_type": "markdown",
   "metadata": {
    "colab_type": "text",
    "id": "H-LYW6ekKQ-x"
   },
   "source": [
    "## Dependencies"
   ]
  },
  {
   "cell_type": "code",
   "execution_count": null,
   "metadata": {
    "colab": {},
    "colab_type": "code",
    "id": "QyICnC_QKQ-0"
   },
   "outputs": [],
   "source": [
    "%%sh\n",
    "pip install albumentations==0.4.3 catalyst==20.1.1 easydict==1.9.0 >> /dev/null\n",
    "pip install efficientnet-pytorch==0.6.1 PyYAML==5.3 >> /dev/null\n",
    "pip install pretrainedmodels==0.7.4 >> /dev/null"
   ]
  },
  {
   "cell_type": "markdown",
   "metadata": {
    "colab_type": "text",
    "id": "b2m_PlwpKQ-5"
   },
   "source": [
    "## Integration with Google Drive"
   ]
  },
  {
   "cell_type": "code",
   "execution_count": 2,
   "metadata": {
    "colab": {
     "base_uri": "https://localhost:8080/",
     "height": 122
    },
    "colab_type": "code",
    "id": "jsPLSeVuKQ-6",
    "outputId": "f4f39a2d-0079-46eb-ea2c-121a31a5eafe"
   },
   "outputs": [
    {
     "name": "stdout",
     "output_type": "stream",
     "text": [
      "Go to this URL in a browser: https://accounts.google.com/o/oauth2/auth?client_id=947318989803-6bn6qk8qdgf4n4g3pfee6491hc0brc4i.apps.googleusercontent.com&redirect_uri=urn%3aietf%3awg%3aoauth%3a2.0%3aoob&response_type=code&scope=email%20https%3a%2f%2fwww.googleapis.com%2fauth%2fdocs.test%20https%3a%2f%2fwww.googleapis.com%2fauth%2fdrive%20https%3a%2f%2fwww.googleapis.com%2fauth%2fdrive.photos.readonly%20https%3a%2f%2fwww.googleapis.com%2fauth%2fpeopleapi.readonly\n",
      "\n",
      "Enter your authorization code:\n",
      "··········\n",
      "Mounted at /content/gdrive\n"
     ]
    }
   ],
   "source": [
    "from google.colab import drive\n",
    "drive.mount(\"/content/gdrive\")"
   ]
  },
  {
   "cell_type": "code",
   "execution_count": null,
   "metadata": {
    "colab": {},
    "colab_type": "code",
    "id": "a3FN8jiWKQ--"
   },
   "outputs": [],
   "source": [
    "%%sh\n",
    "mkdir input\n",
    "cp -r /content/gdrive/My\\ Drive/kaggle-bengali ./input/bengaliai-cv19\n",
    "unzip -qq -d input/bengaliai-cv19/ input/bengaliai-cv19/train_images.zip\n",
    "unzip -qq -d input/bengaliai-cv19/ input/bengaliai-cv19/test_images.zip"
   ]
  },
  {
   "cell_type": "markdown",
   "metadata": {
    "colab_type": "text",
    "id": "24Iv5BnEKQ_B"
   },
   "source": [
    "## Libraries"
   ]
  },
  {
   "cell_type": "code",
   "execution_count": 3,
   "metadata": {
    "colab": {
     "base_uri": "https://localhost:8080/",
     "height": 34
    },
    "colab_type": "code",
    "id": "qYrCK0t6KQ_C",
    "outputId": "1f87e390-dc84-4df9-f3b2-c0e718e0f296"
   },
   "outputs": [
    {
     "name": "stderr",
     "output_type": "stream",
     "text": [
      "alchemy not available, to install alchemy, run `pip install alchemy-catalyst`.\n"
     ]
    }
   ],
   "source": [
    "import albumentations as A\n",
    "import catalyst as ct\n",
    "import cv2\n",
    "import numpy as np\n",
    "import pandas as pd\n",
    "import pretrainedmodels\n",
    "import torch\n",
    "import torch.nn as nn\n",
    "import torch.nn.functional as F\n",
    "import torch.utils.data as torchdata\n",
    "import torchvision.models as models\n",
    "import yaml\n",
    "\n",
    "from pathlib import Path\n",
    "from typing import Tuple, Dict, Union, Optional, List\n",
    "\n",
    "from catalyst.dl import SupervisedRunner\n",
    "from catalyst.dl.core import Callback, CallbackOrder, RunnerState\n",
    "from catalyst.dl.callbacks import MixupCallback\n",
    "from easydict import EasyDict as edict\n",
    "from efficientnet_pytorch import EfficientNet\n",
    "from skimage.transform import AffineTransform, warp\n",
    "from sklearn.metrics import recall_score\n",
    "from sklearn.model_selection import KFold, train_test_split\n",
    "from torch.nn.parameter import Parameter\n",
    "from torch.optim import Adam, SGD\n",
    "from torch.optim.lr_scheduler import (ReduceLROnPlateau, \n",
    "                                      CosineAnnealingLR,\n",
    "                                      CosineAnnealingWarmRestarts)"
   ]
  },
  {
   "cell_type": "markdown",
   "metadata": {
    "colab_type": "text",
    "id": "tszhN7oGKQ_H"
   },
   "source": [
    "## Settings"
   ]
  },
  {
   "cell_type": "code",
   "execution_count": null,
   "metadata": {
    "colab": {},
    "colab_type": "code",
    "id": "dqfUxJd6KQ_I"
   },
   "outputs": [],
   "source": [
    "i = 0\n",
    "trial = \"resnet34_second\""
   ]
  },
  {
   "cell_type": "markdown",
   "metadata": {
    "colab_type": "text",
    "id": "dXUZcRAGKQ_L"
   },
   "source": [
    "## Config"
   ]
  },
  {
   "cell_type": "code",
   "execution_count": null,
   "metadata": {
    "colab": {},
    "colab_type": "code",
    "id": "S16TliO4KQ_M"
   },
   "outputs": [],
   "source": [
    "conf_string = '''\n",
    "dataset:\n",
    "  train:\n",
    "    affine: True\n",
    "    morphology: False\n",
    "  val:\n",
    "    affine: False\n",
    "    morphology: False\n",
    "  test:\n",
    "    affine: False\n",
    "    morphology: False\n",
    "\n",
    "data:\n",
    "  train_df_path: input/bengaliai-cv19/train.csv\n",
    "  train_images_path: input/bengaliai-cv19/train_images\n",
    "  test_images_path: input/bengaliai-cv19/test_images\n",
    "  sample_submission_path: input/bengaliai-cv19/sample_submission.csv\n",
    "\n",
    "model:\n",
    "  model_name: resnet18\n",
    "  pretrained: True\n",
    "  num_classes: 186\n",
    "  head: custom\n",
    "  in_channels: 3\n",
    "\n",
    "train:\n",
    "  batch_size: 128\n",
    "  num_epochs: 30\n",
    "\n",
    "test:\n",
    "  batch_size: 128\n",
    "\n",
    "loss:\n",
    "  name: cross_entropy\n",
    "  params:\n",
    "    n_grapheme: 168\n",
    "    n_vowel: 11\n",
    "    n_consonant: 7\n",
    "\n",
    "optimizer:\n",
    "  name: Adam\n",
    "  params:\n",
    "    lr: 0.001\n",
    "\n",
    "scheduler:\n",
    "  name: cosine\n",
    "  params:\n",
    "    T_max: 10\n",
    "\n",
    "transforms:\n",
    "  train:\n",
    "    Noise: False\n",
    "    Contrast: False\n",
    "    Rotate: True\n",
    "    RandomScale: True\n",
    "    Cutout:\n",
    "      num_holes: 0\n",
    "  val:\n",
    "    Noise: False\n",
    "    Contrast: False\n",
    "    Rotate: False\n",
    "    RandomScale: False\n",
    "    Cutout:\n",
    "      num_holes: 0\n",
    "  test:\n",
    "    Noise: False\n",
    "    Contrast: False\n",
    "    Rotate: False\n",
    "    RandomScale: False\n",
    "    Cutout:\n",
    "      num_holes: 0\n",
    "\n",
    "val:\n",
    "  name: kfold\n",
    "  params:\n",
    "    random_state: 42\n",
    "    n_splits: 5\n",
    "\n",
    "callbacks:\n",
    "  - AverageRecall:\n",
    "      index: 0\n",
    "      offset: 0\n",
    "      n_classes: 168\n",
    "      prefix: grapheme_recall\n",
    "      loss_type: cross_entroy\n",
    "  - AverageRecall:\n",
    "      index: 1\n",
    "      offset: 168\n",
    "      n_classes: 11\n",
    "      prefix: vowel_recall\n",
    "      loss_type: cross_entropy\n",
    "  - AverageRecall:\n",
    "      index: 2\n",
    "      offset: 179\n",
    "      n_classes: 7\n",
    "      prefix: consonant_recall\n",
    "      loss_type: cross_entropy\n",
    "  - TotalAverageRecall:\n",
    "      loss_type: cross_entropy\n",
    "  - SaveWeightsCallback:\n",
    "      to: /content/gdrive/My\\ Drive/kaggle-bengali/checkpoints\n",
    "\n",
    "log_dir: log/\n",
    "num_workers: 2\n",
    "seed: 1213\n",
    "img_size: 128\n",
    "mixup: False\n",
    "'''"
   ]
  },
  {
   "cell_type": "code",
   "execution_count": null,
   "metadata": {
    "colab": {},
    "colab_type": "code",
    "id": "piePmxjjKQ_P"
   },
   "outputs": [],
   "source": [
    "def _get_default():\n",
    "    cfg = edict()\n",
    "\n",
    "    # dataset\n",
    "    cfg.dataset = edict()\n",
    "    cfg.dataset.train = edict()\n",
    "    cfg.dataset.val = edict()\n",
    "    cfg.dataset.test = edict()\n",
    "    cfg.dataset.train.affine = False\n",
    "    cfg.dataset.train.morphology = False\n",
    "    cfg.dataset.val.affine = False\n",
    "    cfg.dataset.val.morphology = False\n",
    "    cfg.dataset.test.affine = False\n",
    "    cfg.dataset.test.morphology = False\n",
    "\n",
    "    # dataset\n",
    "    cfg.data = edict()\n",
    "\n",
    "    # model\n",
    "    cfg.model = edict()\n",
    "    cfg.model.model_name = \"resnet18\"\n",
    "    cfg.model.num_classes = 186\n",
    "    cfg.model.pretrained = True\n",
    "    cfg.model.head = \"linear\"\n",
    "    cfg.model.in_channels = 3\n",
    "\n",
    "    # train\n",
    "    cfg.train = edict()\n",
    "\n",
    "    # test\n",
    "    cfg.test = edict()\n",
    "\n",
    "    # loss\n",
    "    cfg.loss = edict()\n",
    "    cfg.loss.params = edict()\n",
    "\n",
    "    # optimizer\n",
    "    cfg.optimizer = edict()\n",
    "    cfg.optimizer.params = edict()\n",
    "\n",
    "    # scheduler\n",
    "    cfg.scheduler = edict()\n",
    "    cfg.scheduler.params = edict()\n",
    "\n",
    "    # transforms:\n",
    "    cfg.transforms = edict()\n",
    "    cfg.transforms.train = edict()\n",
    "    cfg.transforms.train.HorizontalFlip = False\n",
    "    cfg.transforms.train.VerticalFlip = False\n",
    "    cfg.transforms.train.Noise = False\n",
    "    cfg.transforms.train.Contrast = False\n",
    "    cfg.transforms.train.Rotate = False\n",
    "    cfg.transforms.train.RandomScale = False\n",
    "    cfg.transforms.train.Cutout = edict()\n",
    "    cfg.transforms.train.Cutout.num_holes = 0\n",
    "    cfg.transforms.val = edict()\n",
    "    cfg.transforms.val.HorizontalFlip = False\n",
    "    cfg.transforms.val.VerticalFlip = False\n",
    "    cfg.transforms.val.Noise = False\n",
    "    cfg.transforms.val.Contrast = False\n",
    "    cfg.transforms.val.Rotate = False\n",
    "    cfg.transforms.val.RandomScale = False\n",
    "    cfg.transforms.val.Cutout = edict()\n",
    "    cfg.transforms.val.Cutout.num_holes = 0\n",
    "    cfg.transforms.test = edict()\n",
    "    cfg.transforms.test.HorizontalFlip = False\n",
    "    cfg.transforms.test.VerticalFlip = False\n",
    "    cfg.transforms.test.Noise = False\n",
    "    cfg.transforms.test.Contrast = False\n",
    "    cfg.transforms.test.Rotate = False\n",
    "    cfg.transforms.test.RandomScale = False\n",
    "    cfg.transforms.test.Cutout = edict()\n",
    "    cfg.transforms.test.Cutout.num_holes = 0\n",
    "    cfg.transforms.mean = [0.485, 0.456, 0.406]\n",
    "    cfg.transforms.std = [0.229, 0.224, 0.225]\n",
    "\n",
    "    # val\n",
    "    cfg.val = edict()\n",
    "    cfg.val.params = edict()\n",
    "\n",
    "    cfg.callbacks = []\n",
    "\n",
    "    return cfg\n",
    "\n",
    "\n",
    "def _merge_config(src: edict, dst: edict):\n",
    "    if not isinstance(src, edict):\n",
    "        return\n",
    "    for k, v in src.items():\n",
    "        if isinstance(v, edict):\n",
    "            _merge_config(src[k], dst[k])\n",
    "        else:\n",
    "            dst[k] = v"
   ]
  },
  {
   "cell_type": "code",
   "execution_count": null,
   "metadata": {
    "colab": {},
    "colab_type": "code",
    "id": "DOq2Hol4KQ_S"
   },
   "outputs": [],
   "source": [
    "cfg = edict(yaml.load(conf_string, Loader=yaml.SafeLoader))\n",
    "config = _get_default()\n",
    "_merge_config(cfg, config)"
   ]
  },
  {
   "cell_type": "markdown",
   "metadata": {
    "colab_type": "text",
    "id": "iinSUuVEKQ_V"
   },
   "source": [
    "## Environmental settings"
   ]
  },
  {
   "cell_type": "code",
   "execution_count": 9,
   "metadata": {
    "colab": {
     "base_uri": "https://localhost:8080/",
     "height": 63
    },
    "colab_type": "code",
    "id": "Mo5V5VT5KQ_W",
    "outputId": "69c99e8c-d2c4-47b8-8d35-e104003a2ff0"
   },
   "outputs": [
    {
     "data": {
      "text/html": [
       "<p style=\"color: red;\">\n",
       "The default version of TensorFlow in Colab will soon switch to TensorFlow 2.x.<br>\n",
       "We recommend you <a href=\"https://www.tensorflow.org/guide/migrate\" target=\"_blank\">upgrade</a> now \n",
       "or ensure your notebook will continue to use TensorFlow 1.x via the <code>%tensorflow_version 1.x</code> magic:\n",
       "<a href=\"https://colab.research.google.com/notebooks/tensorflow_version.ipynb\" target=\"_blank\">more info</a>.</p>\n"
      ],
      "text/plain": [
       "<IPython.core.display.HTML object>"
      ]
     },
     "metadata": {
      "tags": []
     },
     "output_type": "display_data"
    }
   ],
   "source": [
    "ct.utils.set_global_seed(config.seed)\n",
    "ct.utils.prepare_cudnn(deterministic=True)"
   ]
  },
  {
   "cell_type": "code",
   "execution_count": null,
   "metadata": {
    "colab": {},
    "colab_type": "code",
    "id": "EHv73-KuKQ_Y"
   },
   "outputs": [],
   "source": [
    "output_base_dir = Path(\"output\")\n",
    "output_base_dir.mkdir(exist_ok=True, parents=True)\n",
    "\n",
    "train_images_path = Path(config.data.train_images_path)"
   ]
  },
  {
   "cell_type": "markdown",
   "metadata": {
    "colab_type": "text",
    "id": "nowCCU9GKQ_b"
   },
   "source": [
    "## Data and utilities preparation"
   ]
  },
  {
   "cell_type": "markdown",
   "metadata": {
    "colab_type": "text",
    "id": "hAy9mKC1KQ_c"
   },
   "source": [
    "### validation utils"
   ]
  },
  {
   "cell_type": "code",
   "execution_count": null,
   "metadata": {
    "colab": {},
    "colab_type": "code",
    "id": "38wcJQJEKQ_c"
   },
   "outputs": [],
   "source": [
    "def no_fold(df: pd.DataFrame,\n",
    "            config: edict) -> List[Tuple[np.ndarray, np.ndarray]]:\n",
    "    params = config.val.params\n",
    "    idx = np.arange(len(df))\n",
    "    trn_idx, val_idx = train_test_split(idx, **params)\n",
    "    return [(trn_idx, val_idx)]\n",
    "\n",
    "\n",
    "def kfold(df: pd.DataFrame,\n",
    "          config: edict) -> List[Tuple[np.ndarray, np.ndarray]]:\n",
    "    params = config.val.params\n",
    "    kf = KFold(shuffle=True, **params)\n",
    "    splits = list(kf.split(df))\n",
    "    return splits\n",
    "\n",
    "\n",
    "def get_validation(df: pd.DataFrame,\n",
    "                   config: edict) -> List[Tuple[np.ndarray, np.ndarray]]:\n",
    "    name: str = config.val.name\n",
    "\n",
    "    func = globals().get(name)\n",
    "    if func is None:\n",
    "        raise NotImplementedError\n",
    "\n",
    "    return func(df, config)"
   ]
  },
  {
   "cell_type": "markdown",
   "metadata": {
    "colab_type": "text",
    "id": "xE5iD2HAKQ_f"
   },
   "source": [
    "### transforms"
   ]
  },
  {
   "cell_type": "code",
   "execution_count": null,
   "metadata": {
    "colab": {},
    "colab_type": "code",
    "id": "qvCvJ5ScKQ_f"
   },
   "outputs": [],
   "source": [
    "def get_transforms(config: edict, phase: str = \"train\"):\n",
    "    assert phase in [\"train\", \"valid\", \"test\"]\n",
    "    if phase == \"train\":\n",
    "        cfg = config.transforms.train\n",
    "    elif phase == \"valid\":\n",
    "        cfg = config.transforms.val\n",
    "    elif phase == \"test\":\n",
    "        cfg = config.transforms.test\n",
    "    list_transforms = []\n",
    "    if cfg.HorizontalFlip:\n",
    "        list_transforms.append(A.HorizontalFrip())\n",
    "    if cfg.VerticalFlip:\n",
    "        list_transforms.append(A.VerticalFlip())\n",
    "    if cfg.Rotate:\n",
    "        list_transforms.append(A.Rotate(limit=15))\n",
    "    if cfg.RandomScale:\n",
    "        list_transforms.append(A.RandomScale())\n",
    "    if cfg.Noise:\n",
    "        list_transforms.append(\n",
    "            A.OneOf(\n",
    "                [A.GaussNoise(), A.IAAAdditiveGaussianNoise()], p=0.5))\n",
    "    if cfg.Contrast:\n",
    "        list_transforms.append(\n",
    "            A.OneOf(\n",
    "                [A.RandomContrast(0.5),\n",
    "                 A.RandomGamma(),\n",
    "                 A.RandomBrightness()],\n",
    "                p=0.5))\n",
    "    if cfg.Cutout.num_holes > 0:\n",
    "        list_transforms.append(A.Cutout(**config.Cutout))\n",
    "\n",
    "    list_transforms.append(\n",
    "        A.Normalize(\n",
    "            mean=config.transforms.mean, std=config.transforms.std, p=1))\n",
    "\n",
    "    return A.Compose(list_transforms, p=1.0)"
   ]
  },
  {
   "cell_type": "markdown",
   "metadata": {
    "colab_type": "text",
    "id": "5mQCOAtuLtV3"
   },
   "source": [
    "### Data Loading"
   ]
  },
  {
   "cell_type": "code",
   "execution_count": null,
   "metadata": {
    "colab": {},
    "colab_type": "code",
    "id": "GdTnGd0aLu-8"
   },
   "outputs": [],
   "source": [
    "df = pd.read_csv(config.data.train_df_path)\n",
    "splits = get_validation(df, config)\n",
    "\n",
    "transforms_dict = {\n",
    "    phase: get_transforms(config, phase)\n",
    "    for phase in [\"train\", \"valid\"]\n",
    "}\n",
    "\n",
    "cls_levels = {\n",
    "    \"grapheme\": df.grapheme_root.nunique(),\n",
    "    \"vowel\": df.vowel_diacritic.nunique(),\n",
    "    \"consonant\": df.consonant_diacritic.nunique()\n",
    "}"
   ]
  },
  {
   "cell_type": "markdown",
   "metadata": {
    "colab_type": "text",
    "id": "k3X2245OKQ_j"
   },
   "source": [
    "## Dataset and DataLoader"
   ]
  },
  {
   "cell_type": "code",
   "execution_count": null,
   "metadata": {
    "colab": {},
    "colab_type": "code",
    "id": "Hj6MHrqXKQ_j"
   },
   "outputs": [],
   "source": [
    "class BaseDataset(torchdata.Dataset):\n",
    "    def __init__(self, image_dir: Path, df: pd.DataFrame, transforms,\n",
    "                 size: Tuple[int, int]):\n",
    "        self.df = df\n",
    "        self.image_dir = image_dir\n",
    "        self.transforms = transforms\n",
    "        self.size = size\n",
    "\n",
    "    def __len__(self):\n",
    "        return len(self.df)\n",
    "\n",
    "    def __getitem__(self, idx):\n",
    "        image_id = self.df.loc[idx, \"image_id\"]\n",
    "        image_path = self.image_dir / f\"{image_id}.png\"\n",
    "\n",
    "        image = cv2.imread(str(image_path))\n",
    "        # image = crop_resize(image[:, :, 0], self.size)\n",
    "        # image = np.moveaxis(np.stack([image, image, image]), 0, -1)\n",
    "        if self.transforms is not None:\n",
    "            image = self.transforms(image=image)[\"image\"]\n",
    "        image = cv2.resize(image, self.size)\n",
    "        if image.shape[2] == 3:\n",
    "            image = np.moveaxis(image, -1, 0)\n",
    "        grapheme = self.df.loc[idx, \"grapheme_root\"]\n",
    "        vowel = self.df.loc[idx, \"vowel_diacritic\"]\n",
    "        consonant = self.df.loc[idx, \"consonant_diacritic\"]\n",
    "        label = np.zeros(3, dtype=int)\n",
    "        label[0] = grapheme\n",
    "        label[1] = vowel\n",
    "        label[2] = consonant\n",
    "        return {\"images\": image, \"targets\": label}\n",
    "    \n",
    "    \n",
    "def get_base_loader(df: pd.DataFrame,\n",
    "                    image_dir: Path,\n",
    "                    phase: str = \"train\",\n",
    "                    size: Tuple[int, int] = (128, 128),\n",
    "                    batch_size=256,\n",
    "                    num_workers=2,\n",
    "                    transforms=None):\n",
    "    assert phase in [\"train\", \"valid\"]\n",
    "    if phase == \"train\":\n",
    "        is_shuffle = True\n",
    "        drop_last = True\n",
    "    else:\n",
    "        is_shuffle = False\n",
    "        drop_last = False\n",
    "\n",
    "    dataset = BaseDataset(  # type: ignore\n",
    "        image_dir, df, transforms, size)\n",
    "    return torchdata.DataLoader(\n",
    "        dataset,\n",
    "        batch_size=batch_size,\n",
    "        shuffle=is_shuffle,\n",
    "        num_workers=num_workers,\n",
    "        pin_memory=True,\n",
    "        drop_last=drop_last)"
   ]
  },
  {
   "cell_type": "markdown",
   "metadata": {
    "colab_type": "text",
    "id": "yc6F3Pu5KQ_m"
   },
   "source": [
    "## Model and Loss"
   ]
  },
  {
   "cell_type": "markdown",
   "metadata": {
    "colab_type": "text",
    "id": "PjBhyu98KQ_n"
   },
   "source": [
    "### Model"
   ]
  },
  {
   "cell_type": "code",
   "execution_count": null,
   "metadata": {
    "colab": {},
    "colab_type": "code",
    "id": "wABhZZ9LKQ_o"
   },
   "outputs": [],
   "source": [
    "def gem(x: torch.Tensor, p=3, eps=1e-6):\n",
    "    return F.avg_pool2d(x.clamp(min=eps).pow(p),\n",
    "                        (x.size(-2), x.size(-1))).pow(1. / p)\n",
    "\n",
    "\n",
    "def mish(input):\n",
    "    '''\n",
    "    Applies the mish function element-wise:\n",
    "    mish(x) = x * tanh(softplus(x)) = x * tanh(ln(1 + exp(x)))\n",
    "    See additional documentation for mish class.\n",
    "    '''\n",
    "    return input * torch.tanh(F.softplus(input))\n",
    "\n",
    "\n",
    "class Mish(nn.Module):\n",
    "    '''\n",
    "    Applies the mish function element-wise:\n",
    "    mish(x) = x * tanh(softplus(x)) = x * tanh(ln(1 + exp(x)))\n",
    "    Shape:\n",
    "        - Input: (N, *) where * means, any number of additional\n",
    "          dimensions\n",
    "        - Output: (N, *), same shape as the input\n",
    "    Examples:\n",
    "        >>> m = Mish()\n",
    "        >>> input = torch.randn(2)\n",
    "        >>> output = m(input)\n",
    "    '''\n",
    "\n",
    "    def __init__(self):\n",
    "        '''\n",
    "        Init method.\n",
    "        '''\n",
    "        super().__init__()\n",
    "\n",
    "    def forward(self, input):\n",
    "        '''\n",
    "        Forward pass of the function.\n",
    "        '''\n",
    "        return mish(input)\n",
    "\n",
    "\n",
    "class GeM(nn.Module):\n",
    "    def __init__(self, p=3, eps=1e-6):\n",
    "        super(GeM, self).__init__()\n",
    "        self.p = Parameter(torch.ones(1) * p)\n",
    "        self.eps = eps\n",
    "\n",
    "    def forward(self, x):\n",
    "        return gem(x, p=self.p, eps=self.eps).squeeze(-1).squeeze(-1)\n",
    "\n",
    "    def __repr__(self):\n",
    "        return self.__class__.__name__ + '(' + 'p=' + '{:.4f}'.format(\n",
    "            self.p.data.tolist()[0]) + ', ' + 'eps=' + str(self.eps) + ')'\n",
    "\n",
    "\n",
    "class Resnet(nn.Module):\n",
    "    def __init__(self,\n",
    "                 model_name: str,\n",
    "                 num_classes: int,\n",
    "                 pretrained=False,\n",
    "                 head=\"linear\",\n",
    "                 in_channels=3):\n",
    "        super().__init__()\n",
    "        self.num_classes = num_classes\n",
    "        self.base = getattr(models, model_name)(pretrained=pretrained)\n",
    "        self.head = head\n",
    "        assert in_channels in [1, 3]\n",
    "        assert head in [\"linear\", \"custom\"]\n",
    "        if in_channels == 1:\n",
    "            if pretrained:\n",
    "                weight = self.base.conv1.weight\n",
    "                self.base.conv1 = nn.Conv2d(\n",
    "                    1, 64, kernel_size=7, stride=2, padding=3, bias=False)\n",
    "                self.base.conv1.weight = nn.Parameter(\n",
    "                    data=torch.mean(weight, dim=1, keepdim=True),\n",
    "                    requires_grad=True)\n",
    "            else:\n",
    "                self.base.conv1 = nn.Conv2d(\n",
    "                    1, 64, kernel_size=7, stride=2, padding=3, bias=False)\n",
    "        if head == \"linear\":\n",
    "            n_in_features = self.base.fc.in_features\n",
    "            self.base.fc = nn.Linear(n_in_features, self.num_classes)\n",
    "        elif head == \"custom\":\n",
    "            n_in_features = self.base.fc.in_features\n",
    "            arch = list(self.base.children())\n",
    "            for _ in range(2):\n",
    "                arch.pop()\n",
    "            self.base = nn.Sequential(*arch)\n",
    "            self.grapheme_head = nn.Sequential(\n",
    "                Mish(), nn.Conv2d(n_in_features, 512, kernel_size=3),\n",
    "                nn.BatchNorm2d(512), GeM(), nn.Linear(512, 168))\n",
    "            self.vowel_head = nn.Sequential(\n",
    "                Mish(), nn.Conv2d(n_in_features, 512, kernel_size=3),\n",
    "                nn.BatchNorm2d(512), GeM(), nn.Linear(512, 11))\n",
    "            self.consonant_head = nn.Sequential(\n",
    "                Mish(), nn.Conv2d(n_in_features, 512, kernel_size=3),\n",
    "                nn.BatchNorm2d(512), GeM(), nn.Linear(512, 7))\n",
    "        else:\n",
    "            raise NotImplementedError\n",
    "\n",
    "    def forward(self, x):\n",
    "        if self.head == \"linear\":\n",
    "            return self.base(x)\n",
    "        elif self.head == \"custom\":\n",
    "            x = self.base(x)\n",
    "            grapheme = self.grapheme_head(x)\n",
    "            vowel = self.vowel_head(x)\n",
    "            consonant = self.consonant_head(x)\n",
    "            return torch.cat([grapheme, vowel, consonant], dim=1)\n",
    "        else:\n",
    "            raise NotImplementedError\n",
    "\n",
    "\n",
    "def get_model(config: edict):\n",
    "    params = config.model\n",
    "    if \"resnet\" in params.model_name:\n",
    "        return Resnet(**params)\n",
    "    else:\n",
    "        raise NotImplementedError"
   ]
  },
  {
   "cell_type": "markdown",
   "metadata": {
    "colab_type": "text",
    "id": "-IPNqFE5KQ_q"
   },
   "source": [
    "### Loss"
   ]
  },
  {
   "cell_type": "code",
   "execution_count": null,
   "metadata": {
    "colab": {},
    "colab_type": "code",
    "id": "lXKZUtQdKQ_r"
   },
   "outputs": [],
   "source": [
    "class BengaliCrossEntropyLoss(nn.Module):\n",
    "    def __init__(self, n_grapheme: int, n_vowel: int, n_consonant: int):\n",
    "        super().__init__()\n",
    "        self.n_grapheme = n_grapheme\n",
    "        self.n_vowel = n_vowel\n",
    "        self.n_consonant = n_consonant\n",
    "        self.cross_entropy = nn.CrossEntropyLoss()\n",
    "\n",
    "    def forward(self, pred, true):\n",
    "        head = 0\n",
    "        tail = self.n_grapheme\n",
    "        grapheme_pred = pred[:, head:tail]\n",
    "        grapheme_true = true[:, 0]\n",
    "\n",
    "        head = tail\n",
    "        tail = head + self.n_vowel\n",
    "        vowel_pred = pred[:, head:tail]\n",
    "        vowel_true = true[:, 1]\n",
    "\n",
    "        head = tail\n",
    "        tail = head + self.n_consonant\n",
    "        consonant_pred = pred[:, head:tail]\n",
    "        consonant_true = true[:, 2]\n",
    "\n",
    "        return self.cross_entropy(grapheme_pred, grapheme_true) + \\\n",
    "            self.cross_entropy(vowel_pred, vowel_true) + \\\n",
    "            self.cross_entropy(consonant_pred, consonant_true)\n",
    "\n",
    "\n",
    "class BengaliBCELoss(nn.Module):\n",
    "    def __init__(self, n_grapheme: int, n_vowel: int, n_consonant: int):\n",
    "        super().__init__()\n",
    "        self.n_grapheme = n_grapheme\n",
    "        self.n_vowel = n_vowel\n",
    "        self.n_consonant = n_consonant\n",
    "        self.bce = nn.BCEWithLogitsLoss()\n",
    "\n",
    "    def forward(self, pred, true):\n",
    "        head = 0\n",
    "        tail = self.n_grapheme\n",
    "        grapheme_pred = pred[:, head:tail]\n",
    "        grapheme_true = true[:, head:tail]\n",
    "\n",
    "        head = tail\n",
    "        tail = head + self.n_vowel\n",
    "        vowel_pred = pred[:, head:tail]\n",
    "        vowel_true = true[:, head:tail]\n",
    "\n",
    "        head = tail\n",
    "        tail = head + self.n_consonant\n",
    "        consonant_pred = pred[:, head:tail]\n",
    "        consonant_true = true[:, head:tail]\n",
    "\n",
    "        return self.bce(grapheme_pred, grapheme_true) + \\\n",
    "            self.bce(vowel_pred, vowel_true) + \\\n",
    "            self.bce(consonant_pred, consonant_true)\n",
    "\n",
    "\n",
    "def get_loss(config: edict):\n",
    "    name = config.loss.name\n",
    "    params = config.loss.params\n",
    "    if name == \"bce\":\n",
    "        criterion = BengaliBCELoss(**params)\n",
    "    elif name == \"cross_entropy\":\n",
    "        criterion = BengaliCrossEntropyLoss(**params)  # type: ignore\n",
    "    else:\n",
    "        raise NotImplementedError\n",
    "    return criterion"
   ]
  },
  {
   "cell_type": "markdown",
   "metadata": {
    "colab_type": "text",
    "id": "W4aJX5V_KQ_t"
   },
   "source": [
    "## Optimizer and Scheduler"
   ]
  },
  {
   "cell_type": "markdown",
   "metadata": {
    "colab_type": "text",
    "id": "thU1KR2NKQ_u"
   },
   "source": [
    "### Optimizer"
   ]
  },
  {
   "cell_type": "code",
   "execution_count": null,
   "metadata": {
    "colab": {},
    "colab_type": "code",
    "id": "fWo_pBvzKQ_u"
   },
   "outputs": [],
   "source": [
    "Optimizer = Union[Adam, SGD]\n",
    "\n",
    "\n",
    "def get_optimizer(model, config: edict) -> Optimizer:\n",
    "    name = config.optimizer.name\n",
    "    params = config.optimizer.params\n",
    "    if name == \"Adam\":\n",
    "        optimizer = Adam(model.parameters(), **params)\n",
    "    elif name == \"SGD\":\n",
    "        optimizer = Adam(model.parameters(), **params)\n",
    "    else:\n",
    "        raise NotImplementedError\n",
    "    return optimizer"
   ]
  },
  {
   "cell_type": "markdown",
   "metadata": {
    "colab_type": "text",
    "id": "FmA47o80KQ_z"
   },
   "source": [
    "### Scheduler"
   ]
  },
  {
   "cell_type": "code",
   "execution_count": null,
   "metadata": {
    "colab": {},
    "colab_type": "code",
    "id": "DA7gtPiyKQ_0"
   },
   "outputs": [],
   "source": [
    "Scheduler = Optional[\n",
    "    Union[ReduceLROnPlateau, CosineAnnealingLR, CosineAnnealingWarmRestarts]]\n",
    "\n",
    "\n",
    "def get_scheduler(optimizer, config: edict) -> Scheduler:\n",
    "    params = config.scheduler.params\n",
    "    name = config.scheduler.name\n",
    "    scheduler: Scheduler = None\n",
    "    if name == \"plateau\":\n",
    "        scheduler = ReduceLROnPlateau(optimizer, **params)\n",
    "    elif name == \"cosine\":\n",
    "        scheduler = CosineAnnealingLR(optimizer, **params)\n",
    "    elif name == \"cosine_warmup\":\n",
    "        scheduler = CosineAnnealingWarmRestarts(optimizer, **params)\n",
    "\n",
    "    return scheduler"
   ]
  },
  {
   "cell_type": "markdown",
   "metadata": {
    "colab_type": "text",
    "id": "YB5qDnQIKQ_2"
   },
   "source": [
    "## Callbacks"
   ]
  },
  {
   "cell_type": "code",
   "execution_count": null,
   "metadata": {
    "colab": {},
    "colab_type": "code",
    "id": "9IwyscXBKQ_3"
   },
   "outputs": [],
   "source": [
    "class AverageRecall(Callback):\n",
    "    def __init__(self,\n",
    "                 index: int,\n",
    "                 offset: int,\n",
    "                 n_classes: int,\n",
    "                 prefix: str,\n",
    "                 loss_type: str = \"bce\",\n",
    "                 output_key: str = \"logits\",\n",
    "                 target_key: str = \"targets\"):\n",
    "        self.index = index\n",
    "        self.offset = offset\n",
    "        self.n_classes = n_classes\n",
    "        self.prefix = prefix\n",
    "        self.loss_type = loss_type\n",
    "        self.output_key = output_key\n",
    "        self.target_key = target_key\n",
    "        self.recall = 0.0\n",
    "        super().__init__(CallbackOrder.Metric)\n",
    "\n",
    "    def on_epoch_start(self, state: RunnerState):\n",
    "        self.x = torch.arange(0, self.n_classes)\n",
    "        self.cm = torch.zeros((self.n_classes, self.n_classes))\n",
    "\n",
    "    def on_batch_end(self, state: RunnerState):\n",
    "        targ = state.input[self.target_key].detach()\n",
    "        out = state.output[self.output_key].detach()\n",
    "        head = self.offset\n",
    "        tail = self.offset + self.n_classes\n",
    "        if self.loss_type == \"bce\":\n",
    "            pred = torch.argmax(torch.sigmoid(out[:, head:tail]), dim=1).cpu()\n",
    "            pred_np = pred.numpy()\n",
    "            target = torch.argmax(targ[:, head:tail], dim=1).cpu()\n",
    "            target_np = target.numpy()\n",
    "        else:\n",
    "            pred = torch.argmax(out[:, head:tail], dim=1).cpu()\n",
    "            pred_np = pred.numpy()\n",
    "            target = targ[:, self.index].cpu()\n",
    "            target_np = target.numpy()\n",
    "        cm = ((pred == self.x[:, None]) & (target == self.x[:, None, None])) \\\n",
    "            .sum(dim=2, dtype=torch.float32)\n",
    "        self.cm += cm\n",
    "        score = recall_score(\n",
    "            target_np, pred_np, average=\"macro\", zero_division=0)\n",
    "        state.metrics.add_batch_value(name=\"batch_\" + self.prefix, value=score)\n",
    "        if (state.step / state.batch_size + 1.0) > state.loader_len:\n",
    "            recall = self._recall()\n",
    "            state.metrics.add_batch_value(name=self.prefix, value=recall)\n",
    "            self.recall = recall\n",
    "\n",
    "    def _recall(self):\n",
    "        rec = torch.diag(self.cm) / (self.cm.sum(dim=1) + 1e-9).numpy().values\n",
    "        return rec.mean().numpy()\n",
    "\n",
    "\n",
    "class TotalAverageRecall(Callback):\n",
    "    def __init__(self,\n",
    "                 n_grapheme=168,\n",
    "                 n_vowel=11,\n",
    "                 n_consonant=7,\n",
    "                 loss_type: str = \"bce\",\n",
    "                 prefix: str = \"tar\",\n",
    "                 output_key: str = \"logits\",\n",
    "                 target_key: str = \"targets\"):\n",
    "        self.prefix = prefix\n",
    "        self.grapheme_callback = AverageRecall(\n",
    "            index=0,\n",
    "            offset=0,\n",
    "            n_classes=n_grapheme,\n",
    "            prefix=\"grapheme_recall\",\n",
    "            loss_type=loss_type,\n",
    "            output_key=output_key,\n",
    "            target_key=target_key)\n",
    "        self.vowel_callback = AverageRecall(\n",
    "            index=1,\n",
    "            offset=n_grapheme,\n",
    "            n_classes=n_vowel,\n",
    "            prefix=\"vowel_recall\",\n",
    "            loss_type=loss_type,\n",
    "            output_key=output_key,\n",
    "            target_key=target_key)\n",
    "        self.consonant_callback = AverageRecall(\n",
    "            index=2,\n",
    "            offset=n_grapheme + n_vowel,\n",
    "            n_classes=n_consonant,\n",
    "            prefix=\"consonant_recall\",\n",
    "            loss_type=loss_type,\n",
    "            output_key=output_key,\n",
    "            target_key=target_key)\n",
    "        super().__init__(CallbackOrder.Metric)\n",
    "\n",
    "    def on_epoch_start(self, state):\n",
    "        self.grapheme_callback.on_epoch_start(state)\n",
    "        self.vowel_callback.on_epoch_start(state)\n",
    "        self.consonant_callback.on_epoch_start(state)\n",
    "\n",
    "    def on_batch_end(self, state: RunnerState):\n",
    "        self.grapheme_callback.on_batch_end(state)\n",
    "        self.vowel_callback.on_batch_end(state)\n",
    "        self.consonant_callback.on_batch_end(state)\n",
    "        if (state.step / state.batch_size + 1.0) > state.loader_len:\n",
    "            grapheme_recall = self.grapheme_callback.recall\n",
    "            vowel_recall = self.vowel_callback.recall\n",
    "            consonant_recall = self.consonant_callback.recall\n",
    "            final_score = np.average(\n",
    "                [grapheme_recall, vowel_recall, consonant_recall],\n",
    "                weights=[2, 1, 1])\n",
    "            state.metrics.add_batch_value(name=self.prefix, value=final_score)\n",
    "\n",
    "\n",
    "class SaveWeightsCallback(Callback):\n",
    "    def __init__(self, to: Optional[Path] = None, name: str=\"\"):\n",
    "        self.to = to\n",
    "        self.name = name\n",
    "        super().__init__(CallbackOrder.External)\n",
    "\n",
    "    def on_epoch_end(self, state: RunnerState):\n",
    "        weights = state.model.state_dict()\n",
    "        logdir = state.logdir / \"checkpoints\"\n",
    "        logdir.mkdir(exist_ok=True, parents=True)\n",
    "        if self.name == \"\":\n",
    "            torch.save(weights, logdir / \"temp.pth\")\n",
    "        else:\n",
    "            torch.save(weights, logdir / f\"{self.name}.pth\")\n",
    "\n",
    "        if self.to is not None:\n",
    "            if self.name == \"\":\n",
    "                torch.save(weights, self.to / \"temp.pth\")\n",
    "            else:\n",
    "                torch.save(weights, self.to / f\"{self.name}.pth\")"
   ]
  },
  {
   "cell_type": "code",
   "execution_count": null,
   "metadata": {
    "colab": {},
    "colab_type": "code",
    "id": "kHvFfq-C3NGk"
   },
   "outputs": [],
   "source": [
    "def get_callbacks(config: edict):\n",
    "    callbacks = []\n",
    "    for callback in config.callbacks:\n",
    "        name = list(callback.keys())[0]\n",
    "        params = callback[name]\n",
    "        if globals().get(name) is not None:\n",
    "            if params is not None:\n",
    "                callbacks.append(globals().get(name)(**params))  # type: ignore\n",
    "            else:\n",
    "                callbacks.append(globals().get(name)())  # type: ignore\n",
    "    return callbacks"
   ]
  },
  {
   "cell_type": "markdown",
   "metadata": {
    "colab_type": "text",
    "id": "ChYS5rgoKQ_5"
   },
   "source": [
    "## Training"
   ]
  },
  {
   "cell_type": "code",
   "execution_count": 21,
   "metadata": {
    "colab": {
     "base_uri": "https://localhost:8080/",
     "height": 358
    },
    "colab_type": "code",
    "id": "M-QhaJoMKQ_6",
    "outputId": "a90a7cc9-51d0-4502-fd7a-b3dafaf607f8"
   },
   "outputs": [
    {
     "name": "stdout",
     "output_type": "stream",
     "text": [
      "Fold: 0\n"
     ]
    },
    {
     "ename": "AssertionError",
     "evalue": "ignored",
     "output_type": "error",
     "traceback": [
      "\u001b[0;31m---------------------------------------------------------------------------\u001b[0m",
      "\u001b[0;31mAssertionError\u001b[0m                            Traceback (most recent call last)",
      "\u001b[0;32m<ipython-input-21-851dcb24a455>\u001b[0m in \u001b[0;36m<module>\u001b[0;34m()\u001b[0m\n\u001b[1;32m     50\u001b[0m     \u001b[0mminimize_metric\u001b[0m\u001b[0;34m=\u001b[0m\u001b[0;32mFalse\u001b[0m\u001b[0;34m,\u001b[0m\u001b[0;34m\u001b[0m\u001b[0;34m\u001b[0m\u001b[0m\n\u001b[1;32m     51\u001b[0m     \u001b[0mmonitoring_params\u001b[0m\u001b[0;34m=\u001b[0m\u001b[0;32mNone\u001b[0m\u001b[0;34m,\u001b[0m\u001b[0;34m\u001b[0m\u001b[0;34m\u001b[0m\u001b[0m\n\u001b[0;32m---> 52\u001b[0;31m     verbose=False)\n\u001b[0m",
      "\u001b[0;32m/usr/local/lib/python3.6/dist-packages/catalyst/dl/runner/supervised.py\u001b[0m in \u001b[0;36mtrain\u001b[0;34m(self, model, criterion, optimizer, loaders, logdir, callbacks, scheduler, resume, num_epochs, valid_loader, main_metric, minimize_metric, verbose, state_kwargs, checkpoint_data, fp16, monitoring_params, check)\u001b[0m\n\u001b[1;32m    203\u001b[0m             \u001b[0mmonitoring_params\u001b[0m\u001b[0;34m=\u001b[0m\u001b[0mmonitoring_params\u001b[0m\u001b[0;34m\u001b[0m\u001b[0;34m\u001b[0m\u001b[0m\n\u001b[1;32m    204\u001b[0m         )\n\u001b[0;32m--> 205\u001b[0;31m         \u001b[0mself\u001b[0m\u001b[0;34m.\u001b[0m\u001b[0mrun_experiment\u001b[0m\u001b[0;34m(\u001b[0m\u001b[0mexperiment\u001b[0m\u001b[0;34m,\u001b[0m \u001b[0mcheck\u001b[0m\u001b[0;34m=\u001b[0m\u001b[0mcheck\u001b[0m\u001b[0;34m)\u001b[0m\u001b[0;34m\u001b[0m\u001b[0;34m\u001b[0m\u001b[0m\n\u001b[0m\u001b[1;32m    206\u001b[0m \u001b[0;34m\u001b[0m\u001b[0m\n\u001b[1;32m    207\u001b[0m     def infer(\n",
      "\u001b[0;32m/usr/local/lib/python3.6/dist-packages/catalyst/dl/core/runner.py\u001b[0m in \u001b[0;36mrun_experiment\u001b[0;34m(self, experiment, check)\u001b[0m\n\u001b[1;32m    355\u001b[0m             \u001b[0;32melse\u001b[0m\u001b[0;34m:\u001b[0m\u001b[0;34m\u001b[0m\u001b[0;34m\u001b[0m\u001b[0m\n\u001b[1;32m    356\u001b[0m                 \u001b[0mself\u001b[0m\u001b[0;34m.\u001b[0m\u001b[0mstate\u001b[0m\u001b[0;34m.\u001b[0m\u001b[0mexception\u001b[0m \u001b[0;34m=\u001b[0m \u001b[0mex\u001b[0m\u001b[0;34m\u001b[0m\u001b[0;34m\u001b[0m\u001b[0m\n\u001b[0;32m--> 357\u001b[0;31m                 \u001b[0mself\u001b[0m\u001b[0;34m.\u001b[0m\u001b[0m_run_event\u001b[0m\u001b[0;34m(\u001b[0m\u001b[0;34m\"exception\"\u001b[0m\u001b[0;34m,\u001b[0m \u001b[0mmoment\u001b[0m\u001b[0;34m=\u001b[0m\u001b[0;32mNone\u001b[0m\u001b[0;34m)\u001b[0m\u001b[0;34m\u001b[0m\u001b[0;34m\u001b[0m\u001b[0m\n\u001b[0m\u001b[1;32m    358\u001b[0m \u001b[0;34m\u001b[0m\u001b[0m\n\u001b[1;32m    359\u001b[0m         \u001b[0;32mreturn\u001b[0m \u001b[0mself\u001b[0m\u001b[0;34m\u001b[0m\u001b[0;34m\u001b[0m\u001b[0m\n",
      "\u001b[0;32m/usr/local/lib/python3.6/dist-packages/catalyst/dl/core/runner.py\u001b[0m in \u001b[0;36m_run_event\u001b[0;34m(self, event, moment)\u001b[0m\n\u001b[1;32m    121\u001b[0m                 \u001b[0;34m(\u001b[0m\u001b[0mmoment\u001b[0m \u001b[0;34m==\u001b[0m \u001b[0;34m\"end\"\u001b[0m \u001b[0;32mor\u001b[0m \u001b[0mmoment\u001b[0m \u001b[0;32mis\u001b[0m \u001b[0;32mNone\u001b[0m\u001b[0;34m)\u001b[0m\u001b[0;34m:\u001b[0m  \u001b[0;31m# for on_exception case\u001b[0m\u001b[0;34m\u001b[0m\u001b[0;34m\u001b[0m\u001b[0m\n\u001b[1;32m    122\u001b[0m             \u001b[0;32mfor\u001b[0m \u001b[0mlogger\u001b[0m \u001b[0;32min\u001b[0m \u001b[0mself\u001b[0m\u001b[0;34m.\u001b[0m\u001b[0mloggers\u001b[0m\u001b[0;34m.\u001b[0m\u001b[0mvalues\u001b[0m\u001b[0;34m(\u001b[0m\u001b[0;34m)\u001b[0m\u001b[0;34m:\u001b[0m\u001b[0;34m\u001b[0m\u001b[0;34m\u001b[0m\u001b[0m\n\u001b[0;32m--> 123\u001b[0;31m                 \u001b[0mgetattr\u001b[0m\u001b[0;34m(\u001b[0m\u001b[0mlogger\u001b[0m\u001b[0;34m,\u001b[0m \u001b[0mfn_name\u001b[0m\u001b[0;34m)\u001b[0m\u001b[0;34m(\u001b[0m\u001b[0mself\u001b[0m\u001b[0;34m.\u001b[0m\u001b[0mstate\u001b[0m\u001b[0;34m)\u001b[0m\u001b[0;34m\u001b[0m\u001b[0;34m\u001b[0m\u001b[0m\n\u001b[0m\u001b[1;32m    124\u001b[0m \u001b[0;34m\u001b[0m\u001b[0m\n\u001b[1;32m    125\u001b[0m         \u001b[0;32mif\u001b[0m \u001b[0mself\u001b[0m\u001b[0;34m.\u001b[0m\u001b[0mstate\u001b[0m \u001b[0;32mis\u001b[0m \u001b[0;32mnot\u001b[0m \u001b[0;32mNone\u001b[0m\u001b[0;34m:\u001b[0m\u001b[0;34m\u001b[0m\u001b[0;34m\u001b[0m\u001b[0m\n",
      "\u001b[0;32m/usr/local/lib/python3.6/dist-packages/catalyst/dl/callbacks/misc.py\u001b[0m in \u001b[0;36mon_exception\u001b[0;34m(self, state)\u001b[0m\n\u001b[1;32m    153\u001b[0m \u001b[0;34m\u001b[0m\u001b[0m\n\u001b[1;32m    154\u001b[0m         \u001b[0;32mif\u001b[0m \u001b[0mstate\u001b[0m\u001b[0;34m.\u001b[0m\u001b[0mneed_reraise_exception\u001b[0m\u001b[0;34m:\u001b[0m\u001b[0;34m\u001b[0m\u001b[0;34m\u001b[0m\u001b[0m\n\u001b[0;32m--> 155\u001b[0;31m             \u001b[0;32mraise\u001b[0m \u001b[0mexception\u001b[0m\u001b[0;34m\u001b[0m\u001b[0;34m\u001b[0m\u001b[0m\n\u001b[0m\u001b[1;32m    156\u001b[0m \u001b[0;34m\u001b[0m\u001b[0m\n\u001b[1;32m    157\u001b[0m \u001b[0;34m\u001b[0m\u001b[0m\n",
      "\u001b[0;32m/usr/local/lib/python3.6/dist-packages/catalyst/dl/core/runner.py\u001b[0m in \u001b[0;36mrun_experiment\u001b[0;34m(self, experiment, check)\u001b[0m\n\u001b[1;32m    347\u001b[0m         \u001b[0;32mtry\u001b[0m\u001b[0;34m:\u001b[0m\u001b[0;34m\u001b[0m\u001b[0;34m\u001b[0m\u001b[0m\n\u001b[1;32m    348\u001b[0m             \u001b[0;32mfor\u001b[0m \u001b[0mstage\u001b[0m \u001b[0;32min\u001b[0m \u001b[0mself\u001b[0m\u001b[0;34m.\u001b[0m\u001b[0mexperiment\u001b[0m\u001b[0;34m.\u001b[0m\u001b[0mstages\u001b[0m\u001b[0;34m:\u001b[0m\u001b[0;34m\u001b[0m\u001b[0;34m\u001b[0m\u001b[0m\n\u001b[0;32m--> 349\u001b[0;31m                 \u001b[0mself\u001b[0m\u001b[0;34m.\u001b[0m\u001b[0m_run_stage\u001b[0m\u001b[0;34m(\u001b[0m\u001b[0mstage\u001b[0m\u001b[0;34m)\u001b[0m\u001b[0;34m\u001b[0m\u001b[0;34m\u001b[0m\u001b[0m\n\u001b[0m\u001b[1;32m    350\u001b[0m         \u001b[0;32mexcept\u001b[0m \u001b[0;34m(\u001b[0m\u001b[0mException\u001b[0m\u001b[0;34m,\u001b[0m \u001b[0mKeyboardInterrupt\u001b[0m\u001b[0;34m)\u001b[0m \u001b[0;32mas\u001b[0m \u001b[0mex\u001b[0m\u001b[0;34m:\u001b[0m\u001b[0;34m\u001b[0m\u001b[0;34m\u001b[0m\u001b[0m\n\u001b[1;32m    351\u001b[0m             \u001b[0;31m# if an exception had been raised\u001b[0m\u001b[0;34m\u001b[0m\u001b[0;34m\u001b[0m\u001b[0;34m\u001b[0m\u001b[0m\n",
      "\u001b[0;32m/usr/local/lib/python3.6/dist-packages/catalyst/dl/core/runner.py\u001b[0m in \u001b[0;36m_run_stage\u001b[0;34m(self, stage)\u001b[0m\n\u001b[1;32m    318\u001b[0m             \u001b[0mself\u001b[0m\u001b[0;34m.\u001b[0m\u001b[0m_run_event\u001b[0m\u001b[0;34m(\u001b[0m\u001b[0;34m\"epoch\"\u001b[0m\u001b[0;34m,\u001b[0m \u001b[0mmoment\u001b[0m\u001b[0;34m=\u001b[0m\u001b[0;34m\"start\"\u001b[0m\u001b[0;34m)\u001b[0m\u001b[0;34m\u001b[0m\u001b[0;34m\u001b[0m\u001b[0m\n\u001b[1;32m    319\u001b[0m             \u001b[0mself\u001b[0m\u001b[0;34m.\u001b[0m\u001b[0m_run_epoch\u001b[0m\u001b[0;34m(\u001b[0m\u001b[0mloaders\u001b[0m\u001b[0;34m)\u001b[0m\u001b[0;34m\u001b[0m\u001b[0;34m\u001b[0m\u001b[0m\n\u001b[0;32m--> 320\u001b[0;31m             \u001b[0mself\u001b[0m\u001b[0;34m.\u001b[0m\u001b[0m_run_event\u001b[0m\u001b[0;34m(\u001b[0m\u001b[0;34m\"epoch\"\u001b[0m\u001b[0;34m,\u001b[0m \u001b[0mmoment\u001b[0m\u001b[0;34m=\u001b[0m\u001b[0;34m\"end\"\u001b[0m\u001b[0;34m)\u001b[0m\u001b[0;34m\u001b[0m\u001b[0;34m\u001b[0m\u001b[0m\n\u001b[0m\u001b[1;32m    321\u001b[0m \u001b[0;34m\u001b[0m\u001b[0m\n\u001b[1;32m    322\u001b[0m             \u001b[0;32mif\u001b[0m \u001b[0mself\u001b[0m\u001b[0;34m.\u001b[0m\u001b[0m_check_run\u001b[0m \u001b[0;32mand\u001b[0m \u001b[0mself\u001b[0m\u001b[0;34m.\u001b[0m\u001b[0mstate\u001b[0m\u001b[0;34m.\u001b[0m\u001b[0mepoch\u001b[0m \u001b[0;34m>=\u001b[0m \u001b[0;36m3\u001b[0m\u001b[0;34m:\u001b[0m\u001b[0;34m\u001b[0m\u001b[0;34m\u001b[0m\u001b[0m\n",
      "\u001b[0;32m/usr/local/lib/python3.6/dist-packages/catalyst/dl/core/runner.py\u001b[0m in \u001b[0;36m_run_event\u001b[0;34m(self, event, moment)\u001b[0m\n\u001b[1;32m    106\u001b[0m         \u001b[0;31m# before callbacks\u001b[0m\u001b[0;34m\u001b[0m\u001b[0;34m\u001b[0m\u001b[0;34m\u001b[0m\u001b[0m\n\u001b[1;32m    107\u001b[0m         \u001b[0;32mif\u001b[0m \u001b[0mself\u001b[0m\u001b[0;34m.\u001b[0m\u001b[0mstate\u001b[0m \u001b[0;32mis\u001b[0m \u001b[0;32mnot\u001b[0m \u001b[0;32mNone\u001b[0m\u001b[0;34m:\u001b[0m\u001b[0;34m\u001b[0m\u001b[0;34m\u001b[0m\u001b[0m\n\u001b[0;32m--> 108\u001b[0;31m             \u001b[0mgetattr\u001b[0m\u001b[0;34m(\u001b[0m\u001b[0mself\u001b[0m\u001b[0;34m.\u001b[0m\u001b[0mstate\u001b[0m\u001b[0;34m,\u001b[0m \u001b[0;34mf\"{fn_name}_pre\"\u001b[0m\u001b[0;34m)\u001b[0m\u001b[0;34m(\u001b[0m\u001b[0;34m)\u001b[0m\u001b[0;34m\u001b[0m\u001b[0;34m\u001b[0m\u001b[0m\n\u001b[0m\u001b[1;32m    109\u001b[0m \u001b[0;34m\u001b[0m\u001b[0m\n\u001b[1;32m    110\u001b[0m         \u001b[0;32mif\u001b[0m \u001b[0mself\u001b[0m\u001b[0;34m.\u001b[0m\u001b[0mloggers\u001b[0m \u001b[0;32mis\u001b[0m \u001b[0;32mnot\u001b[0m \u001b[0;32mNone\u001b[0m \u001b[0;32mand\u001b[0m \u001b[0mmoment\u001b[0m \u001b[0;34m==\u001b[0m \u001b[0;34m\"start\"\u001b[0m\u001b[0;34m:\u001b[0m\u001b[0;34m\u001b[0m\u001b[0;34m\u001b[0m\u001b[0m\n",
      "\u001b[0;32m/usr/local/lib/python3.6/dist-packages/catalyst/dl/core/state.py\u001b[0m in \u001b[0;36mon_epoch_end_pre\u001b[0;34m(self)\u001b[0m\n\u001b[1;32m    146\u001b[0m     \u001b[0;32mdef\u001b[0m \u001b[0mon_epoch_end_pre\u001b[0m\u001b[0;34m(\u001b[0m\u001b[0mself\u001b[0m\u001b[0;34m)\u001b[0m\u001b[0;34m:\u001b[0m\u001b[0;34m\u001b[0m\u001b[0;34m\u001b[0m\u001b[0m\n\u001b[1;32m    147\u001b[0m         \u001b[0;32mif\u001b[0m \u001b[0;32mnot\u001b[0m \u001b[0mself\u001b[0m\u001b[0;34m.\u001b[0m\u001b[0mstage\u001b[0m\u001b[0;34m.\u001b[0m\u001b[0mstartswith\u001b[0m\u001b[0;34m(\u001b[0m\u001b[0;34m\"infer\"\u001b[0m\u001b[0;34m)\u001b[0m\u001b[0;34m:\u001b[0m\u001b[0;34m\u001b[0m\u001b[0;34m\u001b[0m\u001b[0m\n\u001b[0;32m--> 148\u001b[0;31m             \u001b[0mself\u001b[0m\u001b[0;34m.\u001b[0m\u001b[0mmetrics\u001b[0m\u001b[0;34m.\u001b[0m\u001b[0mend_epoch_train\u001b[0m\u001b[0;34m(\u001b[0m\u001b[0;34m)\u001b[0m\u001b[0;34m\u001b[0m\u001b[0;34m\u001b[0m\u001b[0m\n\u001b[0m\u001b[1;32m    149\u001b[0m \u001b[0;34m\u001b[0m\u001b[0m\n\u001b[1;32m    150\u001b[0m     \u001b[0;32mdef\u001b[0m \u001b[0mon_epoch_end_post\u001b[0m\u001b[0;34m(\u001b[0m\u001b[0mself\u001b[0m\u001b[0;34m)\u001b[0m\u001b[0;34m:\u001b[0m\u001b[0;34m\u001b[0m\u001b[0;34m\u001b[0m\u001b[0m\n",
      "\u001b[0;32m/usr/local/lib/python3.6/dist-packages/catalyst/dl/core/metric_manager.py\u001b[0m in \u001b[0;36mend_epoch_train\u001b[0;34m(self)\u001b[0m\n\u001b[1;32m     91\u001b[0m             \u001b[0;34mf\"{self._valid_loader} is not available by the epoch end\"\u001b[0m\u001b[0;34m\u001b[0m\u001b[0;34m\u001b[0m\u001b[0m\n\u001b[1;32m     92\u001b[0m         \u001b[0;32massert\u001b[0m \u001b[0mself\u001b[0m\u001b[0;34m.\u001b[0m\u001b[0m_main_metric\u001b[0m \u001b[0;32min\u001b[0m \u001b[0mself\u001b[0m\u001b[0;34m.\u001b[0m\u001b[0mepoch_values\u001b[0m\u001b[0;34m[\u001b[0m\u001b[0mself\u001b[0m\u001b[0;34m.\u001b[0m\u001b[0m_valid_loader\u001b[0m\u001b[0;34m]\u001b[0m\u001b[0;34m,\u001b[0m\u001b[0;31m \u001b[0m\u001b[0;31m\\\u001b[0m\u001b[0;34m\u001b[0m\u001b[0;34m\u001b[0m\u001b[0m\n\u001b[0;32m---> 93\u001b[0;31m             \u001b[0;34mf\"{self._main_metric} value is not available by the epoch end\"\u001b[0m\u001b[0;34m\u001b[0m\u001b[0;34m\u001b[0m\u001b[0m\n\u001b[0m\u001b[1;32m     94\u001b[0m \u001b[0;34m\u001b[0m\u001b[0m\n\u001b[1;32m     95\u001b[0m         \u001b[0mself\u001b[0m\u001b[0;34m.\u001b[0m\u001b[0mvalid_values\u001b[0m \u001b[0;34m=\u001b[0m \u001b[0mself\u001b[0m\u001b[0;34m.\u001b[0m\u001b[0mepoch_values\u001b[0m\u001b[0;34m[\u001b[0m\u001b[0mself\u001b[0m\u001b[0;34m.\u001b[0m\u001b[0m_valid_loader\u001b[0m\u001b[0;34m]\u001b[0m\u001b[0;34m\u001b[0m\u001b[0;34m\u001b[0m\u001b[0m\n",
      "\u001b[0;31mAssertionError\u001b[0m: tar value is not available by the epoch end"
     ]
    }
   ],
   "source": [
    "trn_idx, val_idx = splits[i]\n",
    "\n",
    "print(f\"Fold: {i}\")\n",
    "\n",
    "output_dir = output_base_dir / f\"fold{i}\"\n",
    "output_dir.mkdir(exist_ok=True, parents=True)\n",
    "\n",
    "trn_df = df.loc[trn_idx, :].reset_index(drop=True)\n",
    "val_df = df.loc[val_idx, :].reset_index(drop=True)\n",
    "data_loaders = {\n",
    "    phase: get_base_loader(\n",
    "        df,\n",
    "        train_images_path,\n",
    "        phase=phase,\n",
    "        size=(config.img_size, config.img_size),\n",
    "        batch_size=config.train.batch_size,\n",
    "        num_workers=config.num_workers,\n",
    "        transforms=transforms_dict[phase])\n",
    "    for phase, df in zip([\"train\", \"valid\"], [trn_df, val_df])\n",
    "}\n",
    "model = get_model(config)\n",
    "criterion = get_loss(config)\n",
    "optimizer = get_optimizer(model, config)\n",
    "scheduler = get_scheduler(optimizer, config)\n",
    "callbacks = get_callbacks(config)\n",
    "\n",
    "if config.mixup:\n",
    "    callbacks.append(MixupCallback(fields=[\n",
    "        \"images\",\n",
    "    ]))\n",
    "\n",
    "runner = SupervisedRunner(\n",
    "    device=ct.utils.get_device(),\n",
    "    input_key=\"images\",\n",
    "    input_target_key=\"targets\",\n",
    "    output_key=\"logits\")\n",
    "runner.train(\n",
    "    model=model,\n",
    "    criterion=criterion,\n",
    "    optimizer=optimizer,\n",
    "    loaders=data_loaders,\n",
    "    logdir=output_dir,\n",
    "    scheduler=scheduler,\n",
    "    num_epochs=config.train.num_epochs,\n",
    "    callbacks=callbacks,\n",
    "    main_metric=\"tar\",\n",
    "    state_kwargs={\n",
    "        \"batch_consistant_metrics\": False\n",
    "    },\n",
    "    minimize_metric=False,\n",
    "    monitoring_params=None,\n",
    "    verbose=False)"
   ]
  },
  {
   "cell_type": "code",
   "execution_count": null,
   "metadata": {
    "colab": {},
    "colab_type": "code",
    "id": "BF64LRYqK1l6"
   },
   "outputs": [],
   "source": [
    "!cp output/fold0/checkpoints/best.pth /content/gdrive/My\\ Drive/kaggle-bengali/checkpoints/resnet34_best.pth"
   ]
  },
  {
   "cell_type": "code",
   "execution_count": null,
   "metadata": {
    "colab": {},
    "colab_type": "code",
    "id": "hzBTewn-L5eS"
   },
   "outputs": [],
   "source": []
  }
 ],
 "metadata": {
  "accelerator": "GPU",
  "colab": {
   "include_colab_link": true,
   "name": "Resnet.ipynb",
   "provenance": [],
   "toc_visible": true
  },
  "kernelspec": {
   "display_name": "Python 3",
   "language": "python",
   "name": "python3"
  },
  "language_info": {
   "codemirror_mode": {
    "name": "ipython",
    "version": 3
   },
   "file_extension": ".py",
   "mimetype": "text/x-python",
   "name": "python",
   "nbconvert_exporter": "python",
   "pygments_lexer": "ipython3",
   "version": "3.6.6"
  }
 },
 "nbformat": 4,
 "nbformat_minor": 4
}
